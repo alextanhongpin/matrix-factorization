{
 "cells": [
  {
   "cell_type": "markdown",
   "id": "8caa3a86-0f54-434b-8a90-6c15e3fe9fb5",
   "metadata": {},
   "source": [
    "# Matrix Factorization with Bias\n",
    "\n",
    "Similar to 09_matrix_factorization.py, but with user and item bias (TODO: Add reference on why this bias is needed).\n",
    "\n",
    "## Reference:\n",
    "- https://github.com/GabrielSandoval/matrix_factorization/blob/master/lib/mf.py\n",
    "- https://d2l.ai/chapter_recommender-systems/mf.html\n",
    "- https://medium.com/@maxbrenner-ai/matrix-factorization-for-collaborative-filtering-linear-to-non-linear-models-in-python-5cf54363a03c"
   ]
  },
  {
   "cell_type": "code",
   "execution_count": 1,
   "id": "c0480c0a-5cc7-492b-a0f5-f49c2760306e",
   "metadata": {
    "execution": {
     "iopub.execute_input": "2024-01-28T16:10:26.338968Z",
     "iopub.status.busy": "2024-01-28T16:10:26.336572Z",
     "iopub.status.idle": "2024-01-28T16:10:27.527418Z",
     "shell.execute_reply": "2024-01-28T16:10:27.526319Z",
     "shell.execute_reply.started": "2024-01-28T16:10:26.338901Z"
    },
    "tags": []
   },
   "outputs": [],
   "source": [
    "import matplotlib.pyplot as plt\n",
    "import numpy as np"
   ]
  },
  {
   "cell_type": "code",
   "execution_count": 2,
   "id": "b7338268-639f-49d8-82dc-b1021358506f",
   "metadata": {
    "execution": {
     "iopub.execute_input": "2024-01-28T16:10:27.529548Z",
     "iopub.status.busy": "2024-01-28T16:10:27.528755Z",
     "iopub.status.idle": "2024-01-28T16:10:27.655581Z",
     "shell.execute_reply": "2024-01-28T16:10:27.649259Z",
     "shell.execute_reply.started": "2024-01-28T16:10:27.529506Z"
    },
    "tags": []
   },
   "outputs": [
    {
     "name": "stdout",
     "output_type": "stream",
     "text": [
      "Iteration 0 Loss 16.323813467839333\n",
      "Iteration 100 Loss 0.2256325909365729\n",
      "Iteration 200 Loss 0.006351976203438983\n",
      "Iteration 300 Loss 0.0009863730760844933\n",
      "Iteration 400 Loss 0.0008500977701662314\n"
     ]
    }
   ],
   "source": [
    "import numpy as np\n",
    "\n",
    "# Assume we have some ratings matrix R\n",
    "R = np.array(\n",
    "    [[5, 3, 0, 1], [4, 0, 0, 1], [1, 1, 0, 5], [1, 0, 0, 4], [0, 1, 5, 4]],\n",
    "    dtype=np.float32,\n",
    ")\n",
    "\n",
    "# Initialize user and item embedding matrices\n",
    "num_users, num_items = R.shape\n",
    "embedding_dim = 10\n",
    "U = np.random.normal(size=(num_users, embedding_dim))\n",
    "V = np.random.normal(size=(num_items, embedding_dim))\n",
    "\n",
    "# Initialize user and item bias vectors\n",
    "user_bias = np.zeros(num_users)\n",
    "item_bias = np.zeros(num_items)\n",
    "\n",
    "# Initialize global bias\n",
    "global_bias = 0.0\n",
    "\n",
    "# Define the learning rate and regularization strength\n",
    "lr = 0.01\n",
    "reg_strength = 1e-5\n",
    "losses = []\n",
    "\n",
    "# Define the loss function\n",
    "def mse_loss(U, V, user_bias, item_bias, global_bias, R):\n",
    "    prediction = U @ V.T + user_bias[:, None] + item_bias[None, :] + global_bias\n",
    "    mask = R > 0\n",
    "    num_ratings = np.sum(mask)\n",
    "    loss = np.sum((R - prediction) ** 2 * mask) / num_ratings\n",
    "    # Add regularization\n",
    "    loss += reg_strength * (\n",
    "        np.sum(U ** 2)\n",
    "        + np.sum(V ** 2)\n",
    "        + np.sum(user_bias ** 2)\n",
    "        + np.sum(item_bias ** 2)\n",
    "        + global_bias ** 2\n",
    "    )\n",
    "    return loss\n",
    "\n",
    "\n",
    "# Run the optimization\n",
    "for i in range(500):\n",
    "    R_hat = U @ V.T + user_bias[:, None] + item_bias[None, :] + global_bias\n",
    "    mask = R > 0\n",
    "    num_ratings = np.sum(mask)\n",
    "    error = (R - R_hat) * mask\n",
    "\n",
    "    # Compute gradients\n",
    "    grad_U = -2 * error @ V / num_ratings + 2 * reg_strength * U\n",
    "    grad_V = -2 * error.T @ U / num_ratings + 2 * reg_strength * V\n",
    "    grad_user_bias = (\n",
    "        -2 * np.sum(error, axis=1) / num_ratings + 2 * reg_strength * user_bias\n",
    "    )\n",
    "    grad_item_bias = (\n",
    "        -2 * np.sum(error, axis=0) / num_ratings + 2 * reg_strength * item_bias\n",
    "    )\n",
    "    grad_global_bias = -2 * np.sum(error) / num_ratings + 2 * reg_strength * global_bias\n",
    "\n",
    "    # Update parameters\n",
    "    U -= lr * grad_U\n",
    "    V -= lr * grad_V\n",
    "    user_bias -= lr * grad_user_bias\n",
    "    item_bias -= lr * grad_item_bias\n",
    "    global_bias -= lr * grad_global_bias\n",
    "\n",
    "    loss = mse_loss(U, V, user_bias, item_bias, global_bias, R)\n",
    "    if i % 100 == 0:\n",
    "        print(\"Iteration\", i, \"Loss\", loss)\n",
    "    losses.append(loss)"
   ]
  },
  {
   "cell_type": "code",
   "execution_count": 3,
   "id": "c501f398-e26e-4630-a127-e0cad86e7daf",
   "metadata": {
    "execution": {
     "iopub.execute_input": "2024-01-28T16:10:27.680805Z",
     "iopub.status.busy": "2024-01-28T16:10:27.660367Z",
     "iopub.status.idle": "2024-01-28T16:10:27.956721Z",
     "shell.execute_reply": "2024-01-28T16:10:27.955938Z",
     "shell.execute_reply.started": "2024-01-28T16:10:27.680764Z"
    },
    "tags": []
   },
   "outputs": [
    {
     "data": {
      "text/plain": [
       "[<matplotlib.lines.Line2D at 0x119474cd0>]"
      ]
     },
     "execution_count": 3,
     "metadata": {},
     "output_type": "execute_result"
    },
    {
     "data": {
      "image/png": "[encoded data removed]",
      "text/plain": [
       "<Figure size 640x480 with 1 Axes>"
      ]
     },
     "metadata": {},
     "output_type": "display_data"
    }
   ],
   "source": [
    "plt.plot(losses)"
   ]
  },
  {
   "cell_type": "code",
   "execution_count": 4,
   "id": "304e610f-4cc2-4afd-8202-00e84f558216",
   "metadata": {
    "execution": {
     "iopub.execute_input": "2024-01-28T16:10:27.958478Z",
     "iopub.status.busy": "2024-01-28T16:10:27.957959Z",
     "iopub.status.idle": "2024-01-28T16:10:28.016091Z",
     "shell.execute_reply": "2024-01-28T16:10:27.997586Z",
     "shell.execute_reply.started": "2024-01-28T16:10:27.958454Z"
    },
    "tags": []
   },
   "outputs": [
    {
     "name": "stdout",
     "output_type": "stream",
     "text": [
      "Original ratings:\n",
      "[[5. 3. 0. 1.]\n",
      " [4. 0. 0. 1.]\n",
      " [1. 1. 0. 5.]\n",
      " [1. 0. 0. 4.]\n",
      " [0. 1. 5. 4.]]\n"
     ]
    }
   ],
   "source": [
    "print(\"Original ratings:\")\n",
    "print(R)"
   ]
  },
  {
   "cell_type": "markdown",
   "id": "ca0cdb3e-0290-450c-aecb-7c58ce9adc46",
   "metadata": {},
   "source": [
    "### Reconstructed Ratings"
   ]
  },
  {
   "cell_type": "code",
   "execution_count": 5,
   "id": "9af3b788-a9ec-4d90-a88e-bb2f48a7cc44",
   "metadata": {
    "execution": {
     "iopub.execute_input": "2024-01-28T16:10:28.025622Z",
     "iopub.status.busy": "2024-01-28T16:10:28.023400Z",
     "iopub.status.idle": "2024-01-28T16:10:28.087103Z",
     "shell.execute_reply": "2024-01-28T16:10:28.084629Z",
     "shell.execute_reply.started": "2024-01-28T16:10:28.025567Z"
    },
    "tags": []
   },
   "outputs": [
    {
     "name": "stdout",
     "output_type": "stream",
     "text": [
      "Reconstructed ratings:\n",
      "[[ 5.00239928  2.99849835  1.64959632  1.00543805]\n",
      " [ 3.99931197  1.94541103  1.90650901  1.00235074]\n",
      " [ 0.99722481  1.00332388 -2.96557814  5.00026359]\n",
      " [ 0.99549645 -1.98840448  1.59269349  3.99853522]\n",
      " [ 5.51346806  0.99956713  5.00066511  3.99650684]]\n"
     ]
    }
   ],
   "source": [
    "print(\"Reconstructed ratings:\")\n",
    "R_hat = (\n",
    "    np.round(U @ V.T, 2)\n",
    "    + user_bias[:, np.newaxis]\n",
    "    + item_bias[np.newaxis, :]\n",
    "    + global_bias\n",
    ")\n",
    "print(R_hat)"
   ]
  },
  {
   "cell_type": "markdown",
   "id": "2a50dc98-c5a4-457c-8558-2d327d726cfd",
   "metadata": {},
   "source": [
    "### Output"
   ]
  },
  {
   "cell_type": "code",
   "execution_count": 6,
   "id": "97e104f5-e799-4294-b687-6ded014c47b3",
   "metadata": {
    "execution": {
     "iopub.execute_input": "2024-01-28T16:10:28.090386Z",
     "iopub.status.busy": "2024-01-28T16:10:28.089660Z",
     "iopub.status.idle": "2024-01-28T16:10:28.165638Z",
     "shell.execute_reply": "2024-01-28T16:10:28.159918Z",
     "shell.execute_reply.started": "2024-01-28T16:10:28.090313Z"
    },
    "tags": []
   },
   "outputs": [
    {
     "data": {
      "text/plain": [
       "array([[5. , 3. , 1.6, 1. ],\n",
       "       [4. , 1.9, 1.9, 1. ],\n",
       "       [1. , 1. , 0. , 5. ],\n",
       "       [1. , 0. , 1.6, 4. ],\n",
       "       [5.5, 1. , 5. , 4. ]], dtype=float32)"
      ]
     },
     "execution_count": 6,
     "metadata": {},
     "output_type": "execute_result"
    }
   ],
   "source": [
    "# If the replace does not work, check if the data type for R matches R_hat, which is float.\n",
    "# If the data type of the matrix to replace does not match, it will silently failed.\n",
    "mask = R == 0\n",
    "R[mask] = R_hat[mask]\n",
    "np.maximum(np.round(R, 1), 0)"
   ]
  },
  {
   "cell_type": "markdown",
   "id": "385ad942-360f-415b-a992-56dc9eeb0691",
   "metadata": {
    "execution": {
     "iopub.execute_input": "2024-01-28T10:06:01.995232Z",
     "iopub.status.busy": "2024-01-28T10:06:01.993201Z",
     "iopub.status.idle": "2024-01-28T10:06:02.023249Z",
     "shell.execute_reply": "2024-01-28T10:06:02.021036Z",
     "shell.execute_reply.started": "2024-01-28T10:06:01.995179Z"
    },
    "tags": []
   },
   "source": [
    "## Using Keras"
   ]
  },
  {
   "cell_type": "markdown",
   "id": "d2c39e5d-52ca-48ef-9947-8b53f57c3f87",
   "metadata": {},
   "source": [
    "The `tf.reduce_sum` function is used in the loss function to sum up all the individual squared differences between the actual ratings and the predicted ratings.\n",
    "\n",
    "In the context of matrix factorization, the goal is to find the user and item embeddings that minimize the total (or sum of) squared differences between the actual and predicted ratings. This is known as the Mean Squared Error (MSE) loss, and it's a common choice for regression problems.\n",
    "\n",
    "The `tf.reduce_sum` function is used instead of `tf.reduce_mean` because we're only considering non-zero entries in the ratings matrix (i.e., the user-item pairs where a rating is available). The number of such entries is not fixed (it depends on the sparsity of the ratings matrix), so it's simpler to sum up all the squared differences and let the optimizer find the minimum of this sum.\n",
    "\n",
    "If you were to use `tf.reduce_mean`, you would need to divide by the number of non-zero entries, which would add an extra step to the computation. The optimizer would still be able to find the minimum of the mean loss, but the loss values reported during training would be smaller by a factor equal to the number of non-zero entries."
   ]
  },
  {
   "cell_type": "code",
   "execution_count": 7,
   "id": "299e59bf-60dd-4939-bbd6-56bde9605079",
   "metadata": {
    "execution": {
     "iopub.execute_input": "2024-01-28T16:10:28.173057Z",
     "iopub.status.busy": "2024-01-28T16:10:28.172446Z",
     "iopub.status.idle": "2024-01-28T16:10:41.389703Z",
     "shell.execute_reply": "2024-01-28T16:10:41.388675Z",
     "shell.execute_reply.started": "2024-01-28T16:10:28.173003Z"
    },
    "tags": []
   },
   "outputs": [
    {
     "name": "stderr",
     "output_type": "stream",
     "text": [
      "2024-01-29 00:10:30.236418: I tensorflow/core/platform/cpu_feature_guard.cc:182] This TensorFlow binary is optimized to use available CPU instructions in performance-critical operations.\n",
      "To enable the following instructions: AVX2 FMA, in other operations, rebuild TensorFlow with the appropriate compiler flags.\n"
     ]
    },
    {
     "name": "stdout",
     "output_type": "stream",
     "text": [
      "0 38.623\n",
      "100 0.22831184\n",
      "200 0.014539467\n",
      "300 0.00089419173\n",
      "400 5.4037977e-05\n"
     ]
    }
   ],
   "source": [
    "import tensorflow as tf\n",
    "\n",
    "R = tf.constant(\n",
    "    [[5, 3, 0, 1], [4, 0, 0, 1], [1, 1, 0, 5], [1, 0, 0, 4], [0, 1, 5, 4]],\n",
    "    dtype=tf.float32,\n",
    ")\n",
    "n_user, n_item = R.shape\n",
    "K = min(R.shape) - 2\n",
    "\n",
    "\n",
    "U = tf.Variable(tf.random.normal([n_user, K], stddev=0.1))\n",
    "V = tf.Variable(tf.random.normal([n_item, K], stddev=0.1))\n",
    "\n",
    "N = n_user * n_item\n",
    "\n",
    "\n",
    "b = tf.Variable(tf.math.reduce_mean(R[tf.math.not_equal(R, 0)]), name=\"global_bias\")\n",
    "b_u = tf.Variable(tf.zeros(n_user), name=\"user_bias\")\n",
    "b_i = tf.Variable(tf.zeros(n_item), name=\"item_bias\")\n",
    "\n",
    "T = 500  # Epochs\n",
    "alpha = 0.01  # learning rate\n",
    "beta = 1e-5\n",
    "\n",
    "trainable_weights = [U, V, b, b_u, b_i]\n",
    "optimizer = tf.keras.optimizers.SGD(learning_rate=alpha, weight_decay=beta)\n",
    "losses = []\n",
    "\n",
    "# Define the loss function\n",
    "def mse_loss(U, V, b, b_u, b_i, R):\n",
    "    R_hat = tf.matmul(U, V, transpose_b=True) + b_u[:, None] + b_i[None, :] + b\n",
    "\n",
    "    # non_zero_mask = tf.math.not_equal(tf.reshape(R, [-1]), 0)\n",
    "    # indices = tf.where(non_zero_mask)\n",
    "    # loss = tf.keras.metrics.mean_squared_error(\n",
    "    #     tf.gather(tf.reshape(R, [-1]), indices),\n",
    "    #     tf.gather(tf.reshape(R_hat, [-1]), indices),\n",
    "    # )\n",
    "    # return loss\n",
    "    # num_ratings = tf.reduce_sum(tf.cast(non_zero_mask, tf.float32))\n",
    "    # loss = tf.reduce_sum(tf.square(R - R_hat) * tf.cast(non_zero_mask, tf.float32))\n",
    "    # return tf.divide(loss, num_ratings)\n",
    "    # We are not using the mean.\n",
    "    # This changes the scale of the loss values and the gradients, but doesn't fundamentally change the optimization problem.\n",
    "    non_zero_mask = tf.math.not_equal(R, 0)\n",
    "    loss = tf.reduce_sum(tf.square(R - R_hat) * tf.cast(non_zero_mask, tf.float32))\n",
    "    return loss\n",
    "\n",
    "\n",
    "for t in range(T):\n",
    "    with tf.GradientTape() as tape:\n",
    "        # We rely on automatic differentiation to calculate the gradient loss.\n",
    "        loss = mse_loss(U, V, b, b_u, b_i, R)\n",
    "    grads = tape.gradient(loss, trainable_weights)\n",
    "    optimizer.apply_gradients(zip(grads, trainable_weights))\n",
    "    losses.append(tf.reduce_mean(loss).numpy())\n",
    "\n",
    "    if t % 100 == 0:\n",
    "        print(t, tf.reduce_mean(loss).numpy())"
   ]
  },
  {
   "cell_type": "code",
   "execution_count": 8,
   "id": "0c91bbef-4c42-46dc-b7ec-e99bf6b67b84",
   "metadata": {
    "execution": {
     "iopub.execute_input": "2024-01-28T16:10:41.391740Z",
     "iopub.status.busy": "2024-01-28T16:10:41.391149Z",
     "iopub.status.idle": "2024-01-28T16:10:41.617668Z",
     "shell.execute_reply": "2024-01-28T16:10:41.616136Z",
     "shell.execute_reply.started": "2024-01-28T16:10:41.391711Z"
    },
    "tags": []
   },
   "outputs": [
    {
     "data": {
      "text/plain": [
       "[<matplotlib.lines.Line2D at 0x131dc3a60>]"
      ]
     },
     "execution_count": 8,
     "metadata": {},
     "output_type": "execute_result"
    },
    {
     "data": {
      "image/png": "[encoded data removed]",
      "text/plain": [
       "<Figure size 640x480 with 1 Axes>"
      ]
     },
     "metadata": {},
     "output_type": "display_data"
    }
   ],
   "source": [
    "plt.plot(losses)"
   ]
  },
  {
   "cell_type": "code",
   "execution_count": 9,
   "id": "efe7ebfc-029e-4bc1-ae00-1869ac7fae47",
   "metadata": {
    "execution": {
     "iopub.execute_input": "2024-01-28T16:10:41.620669Z",
     "iopub.status.busy": "2024-01-28T16:10:41.620053Z",
     "iopub.status.idle": "2024-01-28T16:10:41.672036Z",
     "shell.execute_reply": "2024-01-28T16:10:41.653510Z",
     "shell.execute_reply.started": "2024-01-28T16:10:41.620626Z"
    },
    "tags": []
   },
   "outputs": [],
   "source": [
    "R_hat = (tf.matmul(U, V, transpose_b=True) + b_u[:, None] + b_i[None, :] + b).numpy()\n",
    "R = R.numpy()"
   ]
  },
  {
   "cell_type": "code",
   "execution_count": 10,
   "id": "dc1b0cc6-6bcb-4ddc-aac3-8f0967d23c3b",
   "metadata": {
    "execution": {
     "iopub.execute_input": "2024-01-28T16:10:41.675978Z",
     "iopub.status.busy": "2024-01-28T16:10:41.675160Z",
     "iopub.status.idle": "2024-01-28T16:10:41.736294Z",
     "shell.execute_reply": "2024-01-28T16:10:41.734737Z",
     "shell.execute_reply.started": "2024-01-28T16:10:41.675886Z"
    },
    "tags": []
   },
   "outputs": [
    {
     "data": {
      "text/plain": [
       "array([[5., 3., 0., 1.],\n",
       "       [4., 0., 0., 1.],\n",
       "       [1., 1., 0., 5.],\n",
       "       [1., 0., 0., 4.],\n",
       "       [0., 1., 5., 4.]], dtype=float32)"
      ]
     },
     "execution_count": 10,
     "metadata": {},
     "output_type": "execute_result"
    }
   ],
   "source": [
    "R"
   ]
  },
  {
   "cell_type": "markdown",
   "id": "e678fb06-34e4-4c31-9228-8b84303fef0d",
   "metadata": {},
   "source": [
    "### Reconstructed Ratings"
   ]
  },
  {
   "cell_type": "code",
   "execution_count": 11,
   "id": "83e005b2-5713-46cb-bdff-7b6b0a4fa677",
   "metadata": {
    "execution": {
     "iopub.execute_input": "2024-01-28T16:10:41.763573Z",
     "iopub.status.busy": "2024-01-28T16:10:41.741144Z",
     "iopub.status.idle": "2024-01-28T16:10:41.778519Z",
     "shell.execute_reply": "2024-01-28T16:10:41.777366Z",
     "shell.execute_reply.started": "2024-01-28T16:10:41.763506Z"
    },
    "tags": []
   },
   "outputs": [
    {
     "data": {
      "text/plain": [
       "array([[5.  , 3.  , 4.49, 1.  ],\n",
       "       [4.  , 2.25, 4.12, 1.  ],\n",
       "       [1.  , 1.  , 5.5 , 5.  ],\n",
       "       [1.  , 0.74, 4.87, 4.  ],\n",
       "       [1.34, 1.  , 5.  , 4.  ]], dtype=float32)"
      ]
     },
     "execution_count": 11,
     "metadata": {},
     "output_type": "execute_result"
    }
   ],
   "source": [
    "np.round(R_hat, 2)"
   ]
  },
  {
   "cell_type": "code",
   "execution_count": 12,
   "id": "c2f3d8fa-326f-49a7-b901-f6c323649645",
   "metadata": {
    "execution": {
     "iopub.execute_input": "2024-01-28T16:10:41.802159Z",
     "iopub.status.busy": "2024-01-28T16:10:41.801704Z",
     "iopub.status.idle": "2024-01-28T16:10:41.826888Z",
     "shell.execute_reply": "2024-01-28T16:10:41.808809Z",
     "shell.execute_reply.started": "2024-01-28T16:10:41.802130Z"
    },
    "tags": []
   },
   "outputs": [
    {
     "data": {
      "text/plain": [
       "array([[5. , 3. , 4.5, 1. ],\n",
       "       [4. , 2.2, 4.1, 1. ],\n",
       "       [1. , 1. , 5.5, 5. ],\n",
       "       [1. , 0.7, 4.9, 4. ],\n",
       "       [1.3, 1. , 5. , 4. ]], dtype=float32)"
      ]
     },
     "execution_count": 12,
     "metadata": {},
     "output_type": "execute_result"
    }
   ],
   "source": [
    "mask = R == 0\n",
    "R[mask] = R_hat[mask]\n",
    "np.round(R, 1)"
   ]
  },
  {
   "cell_type": "markdown",
   "id": "210ce03d-1bd5-41ca-8f71-866795949663",
   "metadata": {
    "execution": {
     "iopub.execute_input": "2024-01-28T14:51:21.110213Z",
     "iopub.status.busy": "2024-01-28T14:51:21.109585Z",
     "iopub.status.idle": "2024-01-28T14:51:21.118852Z",
     "shell.execute_reply": "2024-01-28T14:51:21.116140Z",
     "shell.execute_reply.started": "2024-01-28T14:51:21.110158Z"
    },
    "tags": []
   },
   "source": [
    "### Output"
   ]
  },
  {
   "cell_type": "code",
   "execution_count": 13,
   "id": "73d3991c-398d-40fd-949e-5ae96449ce85",
   "metadata": {
    "execution": {
     "iopub.execute_input": "2024-01-28T16:10:41.828683Z",
     "iopub.status.busy": "2024-01-28T16:10:41.828313Z",
     "iopub.status.idle": "2024-01-28T16:10:41.883561Z",
     "shell.execute_reply": "2024-01-28T16:10:41.877181Z",
     "shell.execute_reply.started": "2024-01-28T16:10:41.828653Z"
    },
    "tags": []
   },
   "outputs": [
    {
     "data": {
      "text/plain": [
       "array([[5. , 3. , 4.5, 1. ],\n",
       "       [4. , 2.2, 4.1, 1. ],\n",
       "       [1. , 1. , 5. , 5. ],\n",
       "       [1. , 0.7, 4.9, 4. ],\n",
       "       [1.3, 1. , 5. , 4. ]], dtype=float32)"
      ]
     },
     "execution_count": 13,
     "metadata": {},
     "output_type": "execute_result"
    }
   ],
   "source": [
    "# We still have issue with negative values, and some values goes beyond 5.\n",
    "np.round(np.clip(R, 0, 5), 1)"
   ]
  },
  {
   "cell_type": "markdown",
   "id": "94f3dd15-228b-405a-b690-928eb0f67740",
   "metadata": {},
   "source": [
    "## Keras, skipping ratings"
   ]
  },
  {
   "cell_type": "code",
   "execution_count": 24,
   "id": "410b7b5e-601e-45bf-8a9d-dedfe78c5e2b",
   "metadata": {
    "execution": {
     "iopub.execute_input": "2024-01-28T18:30:56.198601Z",
     "iopub.status.busy": "2024-01-28T18:30:56.194232Z",
     "iopub.status.idle": "2024-01-28T18:31:19.093055Z",
     "shell.execute_reply": "2024-01-28T18:31:19.090933Z",
     "shell.execute_reply.started": "2024-01-28T18:30:56.198522Z"
    },
    "tags": []
   },
   "outputs": [
    {
     "name": "stdout",
     "output_type": "stream",
     "text": [
      "Epoch 0 Loss 5.8303\n",
      "Epoch 100 Loss 0.57287717\n",
      "Epoch 200 Loss 0.07655014\n",
      "Epoch 300 Loss 0.01130125\n",
      "Epoch 400 Loss 0.0012711467\n",
      "Epoch 500 Loss 9.371199e-05\n",
      "Epoch 600 Loss 4.510623e-06\n",
      "Epoch 700 Loss 1.3974034e-07\n",
      "Epoch 800 Loss 2.71969e-09\n",
      "Epoch 900 Loss 3.421919e-11\n"
     ]
    }
   ],
   "source": [
    "import numpy as np\n",
    "import tensorflow as tf\n",
    "\n",
    "# Assume we have some ratings matrix R\n",
    "R = np.array(\n",
    "    [[5, 3, 0, 1], [4, 0, 0, 1], [1, 1, 0, 5], [1, 0, 0, 4], [0, 1, 5, 4]],\n",
    "    dtype=np.float32,\n",
    ")\n",
    "\n",
    "# Get the number of users and items\n",
    "num_users, num_items = R.shape\n",
    "\n",
    "# Get the indices of non-zero entries\n",
    "user_ids, item_ids = np.nonzero(R)\n",
    "\n",
    "# Get the corresponding ratings\n",
    "ratings = R[user_ids, item_ids]\n",
    "\n",
    "# Define the embedding dimension\n",
    "embedding_dim = 2\n",
    "\n",
    "# Initialize user and item embedding matrices\n",
    "U = tf.Variable(tf.random.normal((num_users, embedding_dim)))\n",
    "V = tf.Variable(tf.random.normal((num_items, embedding_dim)))\n",
    "\n",
    "# Initialize user and item bias vectors\n",
    "user_bias = tf.Variable(tf.zeros(num_users))\n",
    "item_bias = tf.Variable(tf.zeros(num_items))\n",
    "\n",
    "# Initialize global bias\n",
    "global_bias = tf.Variable(np.mean(ratings))\n",
    "\n",
    "# Define the learning rate\n",
    "lr = 0.01\n",
    "\n",
    "# Define the number of epochs\n",
    "epochs = 1000\n",
    "\n",
    "# Define the optimizer\n",
    "optimizer = tf.optimizers.Adam(lr)\n",
    "losses = []\n",
    "# Run the optimization\n",
    "for epoch in range(epochs):\n",
    "    with tf.GradientTape() as tape:\n",
    "        # Compute the dot product between the user and item embeddings\n",
    "        prediction = tf.reduce_sum(\n",
    "            tf.gather(U, user_ids) * tf.gather(V, item_ids), axis=1\n",
    "        )\n",
    "\n",
    "        # Add the biases to the prediction\n",
    "        prediction += (\n",
    "            global_bias\n",
    "            + tf.gather(user_bias, user_ids)\n",
    "            + tf.gather(item_bias, item_ids)\n",
    "        )\n",
    "\n",
    "        # Compute the mean squared error loss\n",
    "        loss = tf.reduce_mean((ratings - prediction) ** 2)\n",
    "\n",
    "    # Compute the gradients\n",
    "    grads = tape.gradient(loss, [U, V, user_bias, item_bias, global_bias])\n",
    "\n",
    "    # Apply the gradients\n",
    "    optimizer.apply_gradients(zip(grads, [U, V, user_bias, item_bias, global_bias]))\n",
    "    if epoch % 100 == 0:\n",
    "        print(\"Epoch\", epoch, \"Loss\", loss.numpy())\n",
    "    losses.append(loss.numpy())"
   ]
  },
  {
   "cell_type": "code",
   "execution_count": 28,
   "id": "cbe0ab6c-cc9f-48ba-b628-c9eb22ffe5f3",
   "metadata": {
    "execution": {
     "iopub.execute_input": "2024-01-28T18:32:28.200275Z",
     "iopub.status.busy": "2024-01-28T18:32:28.199494Z",
     "iopub.status.idle": "2024-01-28T18:32:28.769341Z",
     "shell.execute_reply": "2024-01-28T18:32:28.762640Z",
     "shell.execute_reply.started": "2024-01-28T18:32:28.200228Z"
    },
    "tags": []
   },
   "outputs": [
    {
     "data": {
      "text/plain": [
       "[<matplotlib.lines.Line2D at 0x132529c30>]"
      ]
     },
     "execution_count": 28,
     "metadata": {},
     "output_type": "execute_result"
    },
    {
     "data": {
      "image/png": "[encoded data removed]",
      "text/plain": [
       "<Figure size 640x480 with 1 Axes>"
      ]
     },
     "metadata": {},
     "output_type": "display_data"
    }
   ],
   "source": [
    "plt.plot(losses)"
   ]
  },
  {
   "cell_type": "markdown",
   "id": "a6d94f79-8715-43b0-8424-0e538b6b383b",
   "metadata": {},
   "source": [
    "### Reconstructed Ratings"
   ]
  },
  {
   "cell_type": "code",
   "execution_count": 27,
   "id": "04eb3274-7d0b-4ff9-9f63-25cc43b1a7ac",
   "metadata": {
    "execution": {
     "iopub.execute_input": "2024-01-28T18:32:26.649079Z",
     "iopub.status.busy": "2024-01-28T18:32:26.647202Z",
     "iopub.status.idle": "2024-01-28T18:32:26.702012Z",
     "shell.execute_reply": "2024-01-28T18:32:26.699439Z",
     "shell.execute_reply.started": "2024-01-28T18:32:26.649033Z"
    },
    "tags": []
   },
   "outputs": [
    {
     "data": {
      "text/plain": [
       "array([[ 5.  ,  3.  , 10.94,  1.  ],\n",
       "       [ 4.  ,  0.8 ,  2.8 ,  1.  ],\n",
       "       [ 1.  ,  1.  ,  3.81,  5.  ],\n",
       "       [ 1.  ,  0.8 ,  4.42,  4.  ],\n",
       "       [ 1.17,  1.  ,  5.  ,  4.  ]], dtype=float32)"
      ]
     },
     "execution_count": 27,
     "metadata": {},
     "output_type": "execute_result"
    }
   ],
   "source": [
    "R_hat = (\n",
    "    U.numpy() @ V.numpy().T\n",
    "    + global_bias.numpy()\n",
    "    + user_bias.numpy()[:, None]\n",
    "    + item_bias.numpy()[None, :]\n",
    ")\n",
    "np.round(R_hat, 2)"
   ]
  },
  {
   "cell_type": "markdown",
   "id": "f52e19a1-229e-440c-87f3-20608fa7ba84",
   "metadata": {},
   "source": [
    "## SGD"
   ]
  },
  {
   "cell_type": "code",
   "execution_count": 19,
   "id": "614df52e-b217-4af6-a544-9102bc6db176",
   "metadata": {
    "execution": {
     "iopub.execute_input": "2024-01-28T18:27:22.908789Z",
     "iopub.status.busy": "2024-01-28T18:27:22.908137Z",
     "iopub.status.idle": "2024-01-28T18:27:23.185163Z",
     "shell.execute_reply": "2024-01-28T18:27:23.184043Z",
     "shell.execute_reply.started": "2024-01-28T18:27:22.908753Z"
    },
    "tags": []
   },
   "outputs": [
    {
     "name": "stdout",
     "output_type": "stream",
     "text": [
      "Epoch 0 MSE Loss 11.055856844140681\n",
      "Epoch 100 MSE Loss 7.211217237842506\n",
      "Epoch 200 MSE Loss 7.284660059576622\n",
      "Epoch 300 MSE Loss 7.34311554218882\n",
      "Epoch 400 MSE Loss 7.367909683912813\n"
     ]
    }
   ],
   "source": [
    "import numpy as np\n",
    "\n",
    "# Assume we have some ratings matrix R\n",
    "R = np.array(\n",
    "    [[5, 3, 0, 1], [4, 0, 0, 1], [1, 1, 0, 5], [1, 0, 0, 4], [0, 1, 5, 4]],\n",
    "    dtype=np.float32,\n",
    ")\n",
    "\n",
    "# Initialize user and item embedding matrices\n",
    "num_users, num_items = R.shape\n",
    "embedding_dim = 2\n",
    "U = np.random.normal(size=(num_users, embedding_dim))\n",
    "V = np.random.normal(size=(num_items, embedding_dim))\n",
    "\n",
    "# Initialize user and item bias vectors\n",
    "user_bias = np.zeros(num_users)\n",
    "item_bias = np.zeros(num_items)\n",
    "\n",
    "# Initialize global bias\n",
    "global_bias = np.mean(R[R > 0])\n",
    "\n",
    "# Define the learning rate\n",
    "lr = 0.01\n",
    "\n",
    "# Define the number of epochs\n",
    "epochs = 500\n",
    "losses = []\n",
    "# Run the optimization\n",
    "for epoch in range(epochs):\n",
    "    for i in range(num_users):\n",
    "        for j in range(num_items):\n",
    "            if R[i, j] > 0:  # only consider non-zero entries\n",
    "                error = R[i, j] - (\n",
    "                    global_bias + np.dot(U[i, :], V[j, :]) + user_bias[i] + item_bias[j]\n",
    "                )\n",
    "                U[i, :] += lr * error * V[j, :]\n",
    "                V[j, :] += lr * error * U[i, :]\n",
    "                user_bias[i] += lr * error\n",
    "                item_bias[j] += lr * error\n",
    "\n",
    "    mse_loss = np.sum(\n",
    "        (R - (global_bias + np.dot(U, V.T) + user_bias[:, None] + item_bias[None, :]))\n",
    "        ** 2\n",
    "    ) / np.sum(R > 0)\n",
    "    if epoch % 100 == 0:\n",
    "        print(\"Epoch\", epoch, \"MSE Loss\", mse_loss)\n",
    "    losses.append(mse_loss)"
   ]
  },
  {
   "cell_type": "code",
   "execution_count": 21,
   "id": "3594d43e-0623-4e9f-812d-34aba477623a",
   "metadata": {
    "execution": {
     "iopub.execute_input": "2024-01-28T18:27:26.367247Z",
     "iopub.status.busy": "2024-01-28T18:27:26.366233Z",
     "iopub.status.idle": "2024-01-28T18:27:26.732714Z",
     "shell.execute_reply": "2024-01-28T18:27:26.731410Z",
     "shell.execute_reply.started": "2024-01-28T18:27:26.367190Z"
    },
    "tags": []
   },
   "outputs": [
    {
     "data": {
      "text/plain": [
       "[<matplotlib.lines.Line2D at 0x13240d0c0>]"
      ]
     },
     "execution_count": 21,
     "metadata": {},
     "output_type": "execute_result"
    },
    {
     "data": {
      "image/png": "[encoded data removed]",
      "text/plain": [
       "<Figure size 640x480 with 1 Axes>"
      ]
     },
     "metadata": {},
     "output_type": "display_data"
    }
   ],
   "source": [
    "plt.plot(losses)"
   ]
  },
  {
   "cell_type": "markdown",
   "id": "ece7cb1f-7529-46c7-93a7-7e91de05813a",
   "metadata": {},
   "source": [
    "### Reconstructed Ratings"
   ]
  },
  {
   "cell_type": "code",
   "execution_count": 23,
   "id": "a08ca5e1-0e8f-46e2-816d-17ffeeef0113",
   "metadata": {
    "execution": {
     "iopub.execute_input": "2024-01-28T18:28:54.260317Z",
     "iopub.status.busy": "2024-01-28T18:28:54.257838Z",
     "iopub.status.idle": "2024-01-28T18:28:54.280217Z",
     "shell.execute_reply": "2024-01-28T18:28:54.278522Z",
     "shell.execute_reply.started": "2024-01-28T18:28:54.260273Z"
    },
    "tags": []
   },
   "outputs": [
    {
     "data": {
      "text/plain": [
       "array([[5.  , 3.  , 5.11, 1.  ],\n",
       "       [4.  , 2.33, 3.9 , 1.  ],\n",
       "       [1.  , 1.  , 6.68, 5.  ],\n",
       "       [1.  , 1.18, 1.24, 4.  ],\n",
       "       [1.22, 1.01, 5.  , 4.  ]])"
      ]
     },
     "execution_count": 23,
     "metadata": {},
     "output_type": "execute_result"
    }
   ],
   "source": [
    "np.round(global_bias + np.dot(U, V.T) + user_bias[:, None] + item_bias[None, :], 2)"
   ]
  },
  {
   "cell_type": "code",
   "execution_count": null,
   "id": "4fbe82ee-0590-421b-b8f0-33ecceea02b9",
   "metadata": {},
   "outputs": [],
   "source": []
  }
 ],
 "metadata": {
  "kernelspec": {
   "display_name": "Python 3 (ipykernel)",
   "language": "python",
   "name": "python3"
  },
  "language_info": {
   "codemirror_mode": {
    "name": "ipython",
    "version": 3
   },
   "file_extension": ".py",
   "mimetype": "text/x-python",
   "name": "python",
   "nbconvert_exporter": "python",
   "pygments_lexer": "ipython3",
   "version": "3.10.13"
  },
  "widgets": {
   "application/vnd.jupyter.widget-state+json": {
    "state": {},
    "version_major": 2,
    "version_minor": 0
   }
  }
 },
 "nbformat": 4,
 "nbformat_minor": 5
}
