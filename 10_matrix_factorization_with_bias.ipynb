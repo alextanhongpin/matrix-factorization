{
 "cells": [
  {
   "cell_type": "markdown",
   "id": "8caa3a86-0f54-434b-8a90-6c15e3fe9fb5",
   "metadata": {},
   "source": [
    "# Matrix Factorization with Bias\n",
    "\n",
    "Similar to 09_matrix_factorization.py, but with user and item bias (TODO: Add reference on why this bias is needed).\n",
    "\n",
    "## Reference:\n",
    "- https://github.com/GabrielSandoval/matrix_factorization/blob/master/lib/mf.py\n",
    "- https://d2l.ai/chapter_recommender-systems/mf.html\n",
    "- https://medium.com/@maxbrenner-ai/matrix-factorization-for-collaborative-filtering-linear-to-non-linear-models-in-python-5cf54363a03c\n",
    "- https://github.com/NicolasHug/Surprise/blob/master/surprise/prediction_algorithms/matrix_factorization.pyx\n",
    "- https://everdark.github.io/k9/notebooks/ml/matrix_factorization/matrix_factorization.nb.html#3_neural_netork_representation"
   ]
  },
  {
   "cell_type": "markdown",
   "id": "08b1865c-2528-49fb-813b-327aaa464c91",
   "metadata": {},
   "source": [
    "Consider the following matrix of ratings. The rows are the users, while the columns are the items, and the values are the rating 1-5.\n",
    "In the first row, we see that user rated 5 for the item.\n",
    "\n",
    "The average rating for this matrix is 2.8 stars (after rounding)."
   ]
  },
  {
   "cell_type": "code",
   "execution_count": 27,
   "id": "51c662e1-b798-4516-bcde-c2fbc5cfa704",
   "metadata": {
    "execution": {
     "iopub.execute_input": "2024-01-31T15:03:51.877408Z",
     "iopub.status.busy": "2024-01-31T15:03:51.857503Z",
     "iopub.status.idle": "2024-01-31T15:03:52.578257Z",
     "shell.execute_reply": "2024-01-31T15:03:52.574715Z",
     "shell.execute_reply.started": "2024-01-31T15:03:51.876605Z"
    },
    "tags": []
   },
   "outputs": [
    {
     "data": {
      "text/plain": [
       "2.8"
      ]
     },
     "execution_count": 27,
     "metadata": {},
     "output_type": "execute_result"
    }
   ],
   "source": [
    "import numpy as np\n",
    "\n",
    "ratings = np.array(\n",
    "    [[5, 3, 0, 1], [4, 0, 0, 1], [1, 1, 0, 5], [1, 0, 0, 4], [0, 1, 5, 4]], dtype=float\n",
    ")\n",
    "avg_rating = np.mean(ratings[ratings.nonzero()])\n",
    "np.round(avg_rating, 1)"
   ]
  },
  {
   "cell_type": "markdown",
   "id": "3d351991-8c8e-4e96-827e-4deb15d332d2",
   "metadata": {},
   "source": [
    "We want to learn the bias of the user and the items. In the context of movie recommendation, the user bias can be a user that is picky about a user, and hence gives a lower rating (-0.5) than usual. However, the movie seems to have a of fans giving high rating (1.7).\n",
    "\n",
    "The final rating after taking into consideration the initial average rating, the user bias and the item bias is:\n",
    "\n",
    "```\n",
    "final_rating = 2.8 - 0.5 + 1.7\n",
    "             = 4.0\n",
    "```\n"
   ]
  },
  {
   "cell_type": "markdown",
   "id": "d017b776-a5db-4c24-950f-08ff999431ce",
   "metadata": {},
   "source": [
    "## Baseline Model\n",
    "\n",
    "In the baseline model, we cover only the user and item biases."
   ]
  },
  {
   "cell_type": "code",
   "execution_count": 28,
   "id": "960143b2-8d79-45ea-a001-9f04206a7c6a",
   "metadata": {
    "execution": {
     "iopub.execute_input": "2024-01-31T15:03:52.740750Z",
     "iopub.status.busy": "2024-01-31T15:03:52.740199Z",
     "iopub.status.idle": "2024-01-31T15:03:52.752066Z",
     "shell.execute_reply": "2024-01-31T15:03:52.750833Z",
     "shell.execute_reply.started": "2024-01-31T15:03:52.740697Z"
    },
    "tags": []
   },
   "outputs": [],
   "source": [
    "import matplotlib.pyplot as plt\n",
    "import numpy as np"
   ]
  },
  {
   "cell_type": "code",
   "execution_count": 45,
   "id": "c0480c0a-5cc7-492b-a0f5-f49c2760306e",
   "metadata": {
    "execution": {
     "iopub.execute_input": "2024-01-31T15:09:34.191435Z",
     "iopub.status.busy": "2024-01-31T15:09:34.190061Z",
     "iopub.status.idle": "2024-01-31T15:09:34.315319Z",
     "shell.execute_reply": "2024-01-31T15:09:34.313648Z",
     "shell.execute_reply.started": "2024-01-31T15:09:34.191392Z"
    },
    "tags": []
   },
   "outputs": [],
   "source": [
    "# Assume we have some ratings matrix R\n",
    "R = np.array(\n",
    "    [[5, 3, 0, 1], [4, 0, 0, 1], [1, 1, 0, 5], [1, 0, 0, 4], [0, 1, 5, 4]],\n",
    "    dtype=np.float32,\n",
    ")\n",
    "\n",
    "# Initialize user and item embedding matrices\n",
    "num_users, num_items = R.shape\n",
    "\n",
    "# Initialize user and item bias vectors\n",
    "user_bias = np.zeros(num_users)\n",
    "item_bias = np.zeros(num_items)\n",
    "\n",
    "# Initialize average rating.\n",
    "avg_rating = R[R.nonzero()].mean()\n",
    "\n",
    "# Define the learning rate and regularization strength\n",
    "lr = 0.01\n",
    "reg_strength = 1e-5\n",
    "losses = []\n",
    "mask = R > 0\n",
    "known_ratings = np.sum(mask)\n",
    "tol = 1e-3\n",
    "\n",
    "# Define the loss function\n",
    "def sse_loss(avg_rating, user_bias, item_bias):\n",
    "    R_hat = avg_rating + user_bias[:, None] + item_bias[None, :]\n",
    "\n",
    "    loss = np.sum(np.square(R - R_hat)[mask]) / known_ratings + reg_strength * (\n",
    "        np.sum(np.square(user_bias)) + np.sum(np.square(item_bias))\n",
    "    )\n",
    "    return loss\n",
    "\n",
    "\n",
    "T = 500\n",
    "# Run the optimization\n",
    "for t in range(T):\n",
    "    for u, i in zip(*R.nonzero()):\n",
    "        b_u = user_bias[u]\n",
    "        b_i = item_bias[i]\n",
    "        R_hat = avg_rating + b_u + b_i\n",
    "        err = R[u, i] - R_hat\n",
    "\n",
    "        # Update parameters\n",
    "        user_bias[u] += lr * (err - reg_strength * b_u)\n",
    "        item_bias[i] += lr * (err - reg_strength * b_i)\n",
    "    loss = sse_loss(avg_rating, user_bias, item_bias)\n",
    "    losses.append(loss)\n",
    "    if loss < tol:\n",
    "        print(f\"Terminating after {t} iterations, loss={loss}\")\n",
    "        break"
   ]
  },
  {
   "cell_type": "code",
   "execution_count": 46,
   "id": "3a5bc00c-abbc-4c5f-86e3-51a08513267d",
   "metadata": {
    "execution": {
     "iopub.execute_input": "2024-01-31T15:09:34.584545Z",
     "iopub.status.busy": "2024-01-31T15:09:34.583343Z",
     "iopub.status.idle": "2024-01-31T15:09:34.862853Z",
     "shell.execute_reply": "2024-01-31T15:09:34.861726Z",
     "shell.execute_reply.started": "2024-01-31T15:09:34.584494Z"
    },
    "tags": []
   },
   "outputs": [
    {
     "data": {
      "text/plain": [
       "[<matplotlib.lines.Line2D at 0x12722a560>]"
      ]
     },
     "execution_count": 46,
     "metadata": {},
     "output_type": "execute_result"
    },
    {
     "data": {
      "image/png": "[encoded data removed]",
      "text/plain": [
       "<Figure size 640x480 with 1 Axes>"
      ]
     },
     "metadata": {},
     "output_type": "display_data"
    }
   ],
   "source": [
    "plt.plot(losses)"
   ]
  },
  {
   "cell_type": "code",
   "execution_count": 47,
   "id": "91c0a333-4b88-4223-89e5-91d0ce4be015",
   "metadata": {
    "execution": {
     "iopub.execute_input": "2024-01-31T15:09:34.965858Z",
     "iopub.status.busy": "2024-01-31T15:09:34.965456Z",
     "iopub.status.idle": "2024-01-31T15:09:34.973796Z",
     "shell.execute_reply": "2024-01-31T15:09:34.971911Z",
     "shell.execute_reply.started": "2024-01-31T15:09:34.965830Z"
    },
    "tags": []
   },
   "outputs": [
    {
     "name": "stdout",
     "output_type": "stream",
     "text": [
      "Original ratings:\n",
      "[[5. 3. 0. 1.]\n",
      " [4. 0. 0. 1.]\n",
      " [1. 1. 0. 5.]\n",
      " [1. 0. 0. 4.]\n",
      " [0. 1. 5. 4.]]\n"
     ]
    }
   ],
   "source": [
    "print(\"Original ratings:\")\n",
    "print(R)"
   ]
  },
  {
   "cell_type": "markdown",
   "id": "080878c4-e545-42ac-97f9-a5051410cab5",
   "metadata": {},
   "source": [
    "### Reconstructed Ratings"
   ]
  },
  {
   "cell_type": "code",
   "execution_count": 48,
   "id": "ab88e638-0338-4b3e-909d-9b0ddff33772",
   "metadata": {
    "execution": {
     "iopub.execute_input": "2024-01-31T15:09:35.857059Z",
     "iopub.status.busy": "2024-01-31T15:09:35.856223Z",
     "iopub.status.idle": "2024-01-31T15:09:35.878344Z",
     "shell.execute_reply": "2024-01-31T15:09:35.870623Z",
     "shell.execute_reply.started": "2024-01-31T15:09:35.857016Z"
    },
    "tags": []
   },
   "outputs": [
    {
     "name": "stdout",
     "output_type": "stream",
     "text": [
      "Reconstructed ratings:\n",
      "[[3.39 1.96 5.23 3.6 ]\n",
      " [2.39 0.96 4.23 2.59]\n",
      " [2.76 1.32 4.59 2.96]\n",
      " [2.4  0.97 4.24 2.61]\n",
      " [3.14 1.7  4.98 3.34]]\n"
     ]
    }
   ],
   "source": [
    "print(\"Reconstructed ratings:\")\n",
    "R_hat = avg_rating + user_bias[:, None] + item_bias[None, :]\n",
    "print(np.round(R_hat, 2))"
   ]
  },
  {
   "cell_type": "code",
   "execution_count": 49,
   "id": "f5caec58-d8ac-45d8-b3b9-fff00642e2ef",
   "metadata": {
    "execution": {
     "iopub.execute_input": "2024-01-31T15:09:36.271736Z",
     "iopub.status.busy": "2024-01-31T15:09:36.271298Z",
     "iopub.status.idle": "2024-01-31T15:09:36.283439Z",
     "shell.execute_reply": "2024-01-31T15:09:36.281848Z",
     "shell.execute_reply.started": "2024-01-31T15:09:36.271703Z"
    },
    "tags": []
   },
   "outputs": [
    {
     "data": {
      "text/plain": [
       "2.133126894011934"
      ]
     },
     "execution_count": 49,
     "metadata": {},
     "output_type": "execute_result"
    }
   ],
   "source": [
    "sse_loss(avg_rating, user_bias, item_bias)"
   ]
  },
  {
   "cell_type": "markdown",
   "id": "499e56e7-68a8-44c8-95f3-f48c78fed32c",
   "metadata": {},
   "source": [
    "## SVD\n",
    "\n",
    "See formula here:\n",
    "\n",
    "https://github.com/recommenders-team/recommenders/blob/main/examples/02_model_collaborative_filtering/surprise_svd_deep_dive.ipynb"
   ]
  },
  {
   "cell_type": "code",
   "execution_count": 58,
   "id": "b7338268-639f-49d8-82dc-b1021358506f",
   "metadata": {
    "execution": {
     "iopub.execute_input": "2024-01-31T15:11:36.530500Z",
     "iopub.status.busy": "2024-01-31T15:11:36.529758Z",
     "iopub.status.idle": "2024-01-31T15:11:36.728697Z",
     "shell.execute_reply": "2024-01-31T15:11:36.725958Z",
     "shell.execute_reply.started": "2024-01-31T15:11:36.530449Z"
    },
    "tags": []
   },
   "outputs": [
    {
     "name": "stdout",
     "output_type": "stream",
     "text": [
      "Terminating after 52 iterations, loss=0.0009628049799044417\n"
     ]
    }
   ],
   "source": [
    "# Assume we have some ratings matrix R\n",
    "R = np.array(\n",
    "    [[5, 3, 0, 1], [4, 0, 0, 1], [1, 1, 0, 5], [1, 0, 0, 4], [0, 1, 5, 4]],\n",
    "    dtype=np.float32,\n",
    ")\n",
    "\n",
    "# Initialize user and item embedding matrices\n",
    "num_users, num_items = R.shape\n",
    "embedding_dim = 10\n",
    "U = np.random.normal(size=(num_users, embedding_dim))\n",
    "V = np.random.normal(size=(num_items, embedding_dim))\n",
    "non_zero_mask = R > 0\n",
    "known_ratings = np.sum(non_zero_mask)\n",
    "\n",
    "# Initialize user and item bias vectors\n",
    "user_bias = np.zeros(num_users)\n",
    "item_bias = np.zeros(num_items)\n",
    "\n",
    "# Initialize average rating.\n",
    "avg_rating = R[R.nonzero()].mean()\n",
    "\n",
    "# Define the learning rate and regularization strength\n",
    "lr = 0.01\n",
    "reg_strength = 1e-5\n",
    "tol = 1e-3\n",
    "losses = []\n",
    "\n",
    "mask = R > 0\n",
    "# We take into considerating the known ratings only when calculating errors.\n",
    "known_ratings = np.sum(mask)\n",
    "\n",
    "# Define the loss function\n",
    "def sse_loss(U, V, user_bias, item_bias, avg_rating, R):\n",
    "    R_hat = U @ V.T + user_bias[:, None] + item_bias[None, :] + avg_rating\n",
    "\n",
    "    # Squared sum error (SSE) of known ratings.\n",
    "    loss = np.sum(np.square((R - R_hat)[non_zero_mask])) / known_ratings\n",
    "    # Add regularization\n",
    "    loss += reg_strength * (\n",
    "        np.sum(U ** 2)\n",
    "        + np.sum(V ** 2)\n",
    "        + np.sum(user_bias ** 2)\n",
    "        + np.sum(item_bias ** 2)\n",
    "    )\n",
    "    return loss\n",
    "\n",
    "\n",
    "# Run the optimization\n",
    "for t in range(500):\n",
    "    for u, i in zip(*R.nonzero()):\n",
    "        b_u = user_bias[u]\n",
    "        b_i = item_bias[i]\n",
    "        R_hat = U[u] @ V[i].T + b_u + b_i + avg_rating\n",
    "        err = R[u, i] - R_hat\n",
    "\n",
    "        # Compute gradients\n",
    "        grad_U = err * V[i] - reg_strength * U[u]\n",
    "        grad_V = err * U[u] - reg_strength * V[i]\n",
    "        grad_user_bias = err - reg_strength * b_u\n",
    "        grad_item_bias = err - reg_strength * b_i\n",
    "\n",
    "        # Update parameters\n",
    "        U[u] += lr * grad_U\n",
    "        V[i] += lr * grad_V\n",
    "        user_bias[u] += lr * grad_user_bias\n",
    "        item_bias[i] += lr * grad_item_bias\n",
    "\n",
    "    loss = sse_loss(U, V, user_bias, item_bias, avg_rating, R)\n",
    "    if i % 100 == 0:\n",
    "        print(\"Iteration\", i, \"Loss\", loss)\n",
    "    losses.append(loss)\n",
    "    if loss < tol:\n",
    "        print(f\"Terminating after {t} iterations, loss={loss}\")\n",
    "        break"
   ]
  },
  {
   "cell_type": "code",
   "execution_count": 59,
   "id": "c501f398-e26e-4630-a127-e0cad86e7daf",
   "metadata": {
    "execution": {
     "iopub.execute_input": "2024-01-31T15:11:38.114952Z",
     "iopub.status.busy": "2024-01-31T15:11:38.112397Z",
     "iopub.status.idle": "2024-01-31T15:11:38.405348Z",
     "shell.execute_reply": "2024-01-31T15:11:38.404536Z",
     "shell.execute_reply.started": "2024-01-31T15:11:38.114511Z"
    },
    "tags": []
   },
   "outputs": [
    {
     "data": {
      "text/plain": [
       "[<matplotlib.lines.Line2D at 0x1277b3670>]"
      ]
     },
     "execution_count": 59,
     "metadata": {},
     "output_type": "execute_result"
    },
    {
     "data": {
      "image/png": "[encoded data removed]",
      "text/plain": [
       "<Figure size 640x480 with 1 Axes>"
      ]
     },
     "metadata": {},
     "output_type": "display_data"
    }
   ],
   "source": [
    "plt.plot(losses)"
   ]
  },
  {
   "cell_type": "code",
   "execution_count": 60,
   "id": "304e610f-4cc2-4afd-8202-00e84f558216",
   "metadata": {
    "execution": {
     "iopub.execute_input": "2024-01-31T15:11:38.869672Z",
     "iopub.status.busy": "2024-01-31T15:11:38.869203Z",
     "iopub.status.idle": "2024-01-31T15:11:38.883196Z",
     "shell.execute_reply": "2024-01-31T15:11:38.881334Z",
     "shell.execute_reply.started": "2024-01-31T15:11:38.869638Z"
    },
    "tags": []
   },
   "outputs": [
    {
     "name": "stdout",
     "output_type": "stream",
     "text": [
      "Original ratings:\n",
      "[[5. 3. 0. 1.]\n",
      " [4. 0. 0. 1.]\n",
      " [1. 1. 0. 5.]\n",
      " [1. 0. 0. 4.]\n",
      " [0. 1. 5. 4.]]\n"
     ]
    }
   ],
   "source": [
    "print(\"Original ratings:\")\n",
    "print(R)"
   ]
  },
  {
   "cell_type": "markdown",
   "id": "ca0cdb3e-0290-450c-aecb-7c58ce9adc46",
   "metadata": {},
   "source": [
    "### Reconstructed Ratings"
   ]
  },
  {
   "cell_type": "code",
   "execution_count": 61,
   "id": "9af3b788-a9ec-4d90-a88e-bb2f48a7cc44",
   "metadata": {
    "execution": {
     "iopub.execute_input": "2024-01-31T15:11:40.439662Z",
     "iopub.status.busy": "2024-01-31T15:11:40.439205Z",
     "iopub.status.idle": "2024-01-31T15:11:40.455122Z",
     "shell.execute_reply": "2024-01-31T15:11:40.450356Z",
     "shell.execute_reply.started": "2024-01-31T15:11:40.439628Z"
    },
    "tags": []
   },
   "outputs": [
    {
     "name": "stdout",
     "output_type": "stream",
     "text": [
      "Reconstructed ratings:\n",
      "[[5.01 2.99 1.95 0.97]\n",
      " [3.99 1.34 4.02 1.04]\n",
      " [1.01 0.99 5.47 4.97]\n",
      " [1.   2.46 4.04 4.01]\n",
      " [5.   1.   5.   4.  ]]\n"
     ]
    }
   ],
   "source": [
    "print(\"Reconstructed ratings:\")\n",
    "R_hat = U @ V.T + user_bias[:, None] + item_bias[None, :] + avg_rating\n",
    "print(np.round(R_hat, 2))"
   ]
  },
  {
   "cell_type": "code",
   "execution_count": 62,
   "id": "43242662-d787-47fb-82da-f54633c24650",
   "metadata": {
    "execution": {
     "iopub.execute_input": "2024-01-31T15:11:44.498394Z",
     "iopub.status.busy": "2024-01-31T15:11:44.497523Z",
     "iopub.status.idle": "2024-01-31T15:11:44.523840Z",
     "shell.execute_reply": "2024-01-31T15:11:44.521926Z",
     "shell.execute_reply.started": "2024-01-31T15:11:44.498347Z"
    },
    "tags": []
   },
   "outputs": [
    {
     "data": {
      "text/plain": [
       "0.0009628049799044417"
      ]
     },
     "execution_count": 62,
     "metadata": {},
     "output_type": "execute_result"
    }
   ],
   "source": [
    "sse_loss(U, V, user_bias, item_bias, avg_rating, R)"
   ]
  },
  {
   "cell_type": "markdown",
   "id": "2a50dc98-c5a4-457c-8558-2d327d726cfd",
   "metadata": {},
   "source": [
    "### Output"
   ]
  },
  {
   "cell_type": "code",
   "execution_count": 64,
   "id": "97e104f5-e799-4294-b687-6ded014c47b3",
   "metadata": {
    "execution": {
     "iopub.execute_input": "2024-01-31T15:12:02.268078Z",
     "iopub.status.busy": "2024-01-31T15:12:02.266955Z",
     "iopub.status.idle": "2024-01-31T15:12:02.377679Z",
     "shell.execute_reply": "2024-01-31T15:12:02.375260Z",
     "shell.execute_reply.started": "2024-01-31T15:12:02.267979Z"
    },
    "tags": []
   },
   "outputs": [
    {
     "data": {
      "text/plain": [
       "array([[5. , 3. , 2. , 1. ],\n",
       "       [4. , 1.3, 4. , 1. ],\n",
       "       [1. , 1. , 5. , 5. ],\n",
       "       [1. , 2.5, 4. , 4. ],\n",
       "       [5. , 1. , 5. , 4. ]], dtype=float32)"
      ]
     },
     "execution_count": 64,
     "metadata": {},
     "output_type": "execute_result"
    }
   ],
   "source": [
    "# If the replace does not work, check if the data type for R matches R_hat, which is float.\n",
    "# If the data type of the matrix to replace does not match, it will silently failed.\n",
    "mask = R == 0\n",
    "R[mask] = R_hat[mask]\n",
    "np.round(np.clip(R, 0, 5), 1)"
   ]
  },
  {
   "cell_type": "code",
   "execution_count": 23,
   "id": "04eb3274-7d0b-4ff9-9f63-25cc43b1a7ac",
   "metadata": {
    "execution": {
     "iopub.execute_input": "2024-01-29T20:25:33.187492Z",
     "iopub.status.busy": "2024-01-29T20:25:33.185302Z",
     "iopub.status.idle": "2024-01-29T20:25:33.279503Z",
     "shell.execute_reply": "2024-01-29T20:25:33.270085Z",
     "shell.execute_reply.started": "2024-01-29T20:25:33.187436Z"
    },
    "tags": []
   },
   "outputs": [
    {
     "data": {
      "text/plain": [
       "array([[ 5.  ,  3.  ,  2.09,  1.  ],\n",
       "       [ 4.  , -7.36,  6.09,  1.  ],\n",
       "       [ 1.  ,  1.  ,  4.27,  5.  ],\n",
       "       [ 1.  ,  1.59,  3.13,  4.  ],\n",
       "       [ 3.89,  1.  ,  5.  ,  4.  ]], dtype=float32)"
      ]
     },
     "execution_count": 23,
     "metadata": {},
     "output_type": "execute_result"
    }
   ],
   "source": [
    "R_hat = (\n",
    "    U.numpy() @ V.numpy().T\n",
    "    + avg_rating.numpy()\n",
    "    + user_bias.numpy()[:, None]\n",
    "    + item_bias.numpy()[None, :]\n",
    ")\n",
    "np.round(R_hat, 2)"
   ]
  },
  {
   "cell_type": "code",
   "execution_count": null,
   "id": "e4528928-6e5c-49b5-ad73-b1f08342a7b4",
   "metadata": {},
   "outputs": [],
   "source": []
  }
 ],
 "metadata": {
  "kernelspec": {
   "display_name": "Python 3 (ipykernel)",
   "language": "python",
   "name": "python3"
  },
  "language_info": {
   "codemirror_mode": {
    "name": "ipython",
    "version": 3
   },
   "file_extension": ".py",
   "mimetype": "text/x-python",
   "name": "python",
   "nbconvert_exporter": "python",
   "pygments_lexer": "ipython3",
   "version": "3.10.13"
  },
  "widgets": {
   "application/vnd.jupyter.widget-state+json": {
    "state": {},
    "version_major": 2,
    "version_minor": 0
   }
  }
 },
 "nbformat": 4,
 "nbformat_minor": 5
}
