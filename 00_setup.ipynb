{
 "cells": [
  {
   "cell_type": "code",
   "execution_count": 2,
   "id": "e9c9c2fd-dedd-49e9-9584-7932429e2e13",
   "metadata": {
    "execution": {
     "iopub.execute_input": "2024-01-25T17:01:20.646912Z",
     "iopub.status.busy": "2024-01-25T17:01:20.645851Z",
     "iopub.status.idle": "2024-01-25T17:01:20.848537Z",
     "shell.execute_reply": "2024-01-25T17:01:20.845513Z",
     "shell.execute_reply.started": "2024-01-25T17:01:20.646863Z"
    },
    "tags": []
   },
   "outputs": [
    {
     "name": "stdout",
     "output_type": "stream",
     "text": [
      "/Users/alextanhongpin/Documents/python/matrix-factorization/.venv/bin/python\n"
     ]
    }
   ],
   "source": [
    "# Kernel for Jupyter Notebook\n",
    "\n",
    "import sys\n",
    "\n",
    "!echo {sys.executable}\n",
    "# The output should be local to your directory.\n",
    "# /Users/alextanhongpin/Documents/python/matrix-factorization/.venv/bin/python\n"
   ]
  },
  {
   "cell_type": "code",
   "execution_count": null,
   "id": "8500988e-6399-4da7-9105-b39d4ab3d5e1",
   "metadata": {},
   "outputs": [],
   "source": [
    "# Otherwise, re-run this and restart the jupyter server until you got the correct path.\n",
    "!poetry run python -m pip install ipykernel\n",
    "!poetry run python -m ipykernel install --user"
   ]
  }
 ],
 "metadata": {
  "kernelspec": {
   "display_name": "Python 3 (ipykernel)",
   "language": "python",
   "name": "python3"
  },
  "language_info": {
   "codemirror_mode": {
    "name": "ipython",
    "version": 3
   },
   "file_extension": ".py",
   "mimetype": "text/x-python",
   "name": "python",
   "nbconvert_exporter": "python",
   "pygments_lexer": "ipython3",
   "version": "3.10.13"
  },
  "widgets": {
   "application/vnd.jupyter.widget-state+json": {
    "state": {},
    "version_major": 2,
    "version_minor": 0
   }
  }
 },
 "nbformat": 4,
 "nbformat_minor": 5
}
