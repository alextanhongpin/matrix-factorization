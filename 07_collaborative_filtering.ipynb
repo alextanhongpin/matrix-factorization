{
 "cells": [
  {
   "cell_type": "markdown",
   "id": "a5191254-e66c-4d61-81a6-3d30b90678c7",
   "metadata": {},
   "source": [
    "# Collaborative Filtering\n",
    "\n",
    "In collaborative filtering, we observe similar users or items when making predictions on the **ratings**.\n"
   ]
  },
  {
   "cell_type": "code",
   "execution_count": 1,
   "id": "691c5c31-95f5-49eb-8994-185025f1bc4a",
   "metadata": {
    "execution": {
     "iopub.execute_input": "2024-01-29T18:14:31.571264Z",
     "iopub.status.busy": "2024-01-29T18:14:31.558506Z",
     "iopub.status.idle": "2024-01-29T18:14:32.611542Z",
     "shell.execute_reply": "2024-01-29T18:14:32.607939Z",
     "shell.execute_reply.started": "2024-01-29T18:14:31.571214Z"
    },
    "tags": []
   },
   "outputs": [
    {
     "name": "stderr",
     "output_type": "stream",
     "text": [
      "/var/folders/7m/74_ct3hx33d878n626w1wxyc0000gn/T/ipykernel_70647/1662815981.py:2: DeprecationWarning: \n",
      "Pyarrow will become a required dependency of pandas in the next major release of pandas (pandas 3.0),\n",
      "(to allow more performant data types, such as the Arrow string type, and better interoperability with other libraries)\n",
      "but was not found to be installed on your system.\n",
      "If this would cause problems for you,\n",
      "please provide us feedback at https://github.com/pandas-dev/pandas/issues/54466\n",
      "        \n",
      "  import pandas as pd\n"
     ]
    }
   ],
   "source": [
    "import numpy as np\n",
    "import pandas as pd"
   ]
  },
  {
   "cell_type": "markdown",
   "id": "479bd700-ff5e-4875-9ef1-79759ec4f8a9",
   "metadata": {},
   "source": [
    "## Preparing Dataset\n",
    "\n",
    "Below we have a rating matrix. The rows are users, and the columns are movie genre.  We want to predict the rating of `anime` genre for `user b`. The unknown ratings are filled with `np.nan`."
   ]
  },
  {
   "cell_type": "code",
   "execution_count": 2,
   "id": "9ca99e47-03d7-40df-b18a-f741887a7f1b",
   "metadata": {
    "execution": {
     "iopub.execute_input": "2024-01-29T18:14:32.613855Z",
     "iopub.status.busy": "2024-01-29T18:14:32.613137Z",
     "iopub.status.idle": "2024-01-29T18:14:32.654336Z",
     "shell.execute_reply": "2024-01-29T18:14:32.652428Z",
     "shell.execute_reply.started": "2024-01-29T18:14:32.613825Z"
    },
    "tags": []
   },
   "outputs": [
    {
     "data": {
      "text/html": [
       "<div>\n",
       "<style scoped>\n",
       "    .dataframe tbody tr th:only-of-type {\n",
       "        vertical-align: middle;\n",
       "    }\n",
       "\n",
       "    .dataframe tbody tr th {\n",
       "        vertical-align: top;\n",
       "    }\n",
       "\n",
       "    .dataframe thead th {\n",
       "        text-align: right;\n",
       "    }\n",
       "</style>\n",
       "<table border=\"1\" class=\"dataframe\">\n",
       "  <thead>\n",
       "    <tr style=\"text-align: right;\">\n",
       "      <th></th>\n",
       "      <th>Lady in the Water</th>\n",
       "      <th>Snakes on a Plane</th>\n",
       "      <th>Just My Luck</th>\n",
       "      <th>Superman Returns</th>\n",
       "      <th>You, Me and Dupree</th>\n",
       "      <th>The Night Listener</th>\n",
       "    </tr>\n",
       "  </thead>\n",
       "  <tbody>\n",
       "    <tr>\n",
       "      <th>Lisa Rose</th>\n",
       "      <td>2.5</td>\n",
       "      <td>3.5</td>\n",
       "      <td>3.0</td>\n",
       "      <td>3.5</td>\n",
       "      <td>2.5</td>\n",
       "      <td>3.0</td>\n",
       "    </tr>\n",
       "    <tr>\n",
       "      <th>Gene Seymour</th>\n",
       "      <td>3.0</td>\n",
       "      <td>3.5</td>\n",
       "      <td>1.5</td>\n",
       "      <td>5.0</td>\n",
       "      <td>3.5</td>\n",
       "      <td>3.0</td>\n",
       "    </tr>\n",
       "    <tr>\n",
       "      <th>Michael Phillips</th>\n",
       "      <td>2.5</td>\n",
       "      <td>3.0</td>\n",
       "      <td>NaN</td>\n",
       "      <td>3.5</td>\n",
       "      <td>NaN</td>\n",
       "      <td>4.0</td>\n",
       "    </tr>\n",
       "    <tr>\n",
       "      <th>Claudia Puig</th>\n",
       "      <td>NaN</td>\n",
       "      <td>3.5</td>\n",
       "      <td>3.0</td>\n",
       "      <td>4.0</td>\n",
       "      <td>2.5</td>\n",
       "      <td>4.5</td>\n",
       "    </tr>\n",
       "    <tr>\n",
       "      <th>Mick LaSalle</th>\n",
       "      <td>3.0</td>\n",
       "      <td>4.0</td>\n",
       "      <td>2.0</td>\n",
       "      <td>3.0</td>\n",
       "      <td>2.0</td>\n",
       "      <td>3.0</td>\n",
       "    </tr>\n",
       "    <tr>\n",
       "      <th>Jack Matthews</th>\n",
       "      <td>3.0</td>\n",
       "      <td>4.0</td>\n",
       "      <td>NaN</td>\n",
       "      <td>5.0</td>\n",
       "      <td>3.5</td>\n",
       "      <td>3.0</td>\n",
       "    </tr>\n",
       "    <tr>\n",
       "      <th>Toby</th>\n",
       "      <td>NaN</td>\n",
       "      <td>4.5</td>\n",
       "      <td>NaN</td>\n",
       "      <td>4.0</td>\n",
       "      <td>1.0</td>\n",
       "      <td>NaN</td>\n",
       "    </tr>\n",
       "  </tbody>\n",
       "</table>\n",
       "</div>"
      ],
      "text/plain": [
       "                  Lady in the Water  Snakes on a Plane  Just My Luck  \\\n",
       "Lisa Rose                       2.5                3.5           3.0   \n",
       "Gene Seymour                    3.0                3.5           1.5   \n",
       "Michael Phillips                2.5                3.0           NaN   \n",
       "Claudia Puig                    NaN                3.5           3.0   \n",
       "Mick LaSalle                    3.0                4.0           2.0   \n",
       "Jack Matthews                   3.0                4.0           NaN   \n",
       "Toby                            NaN                4.5           NaN   \n",
       "\n",
       "                  Superman Returns  You, Me and Dupree  The Night Listener  \n",
       "Lisa Rose                      3.5                 2.5                 3.0  \n",
       "Gene Seymour                   5.0                 3.5                 3.0  \n",
       "Michael Phillips               3.5                 NaN                 4.0  \n",
       "Claudia Puig                   4.0                 2.5                 4.5  \n",
       "Mick LaSalle                   3.0                 2.0                 3.0  \n",
       "Jack Matthews                  5.0                 3.5                 3.0  \n",
       "Toby                           4.0                 1.0                 NaN  "
      ]
     },
     "execution_count": 2,
     "metadata": {},
     "output_type": "execute_result"
    }
   ],
   "source": [
    "critics = {\n",
    "    \"Lisa Rose\": {\n",
    "        \"Lady in the Water\": 2.5,\n",
    "        \"Snakes on a Plane\": 3.5,\n",
    "        \"Just My Luck\": 3.0,\n",
    "        \"Superman Returns\": 3.5,\n",
    "        \"You, Me and Dupree\": 2.5,\n",
    "        \"The Night Listener\": 3.0,\n",
    "    },\n",
    "    \"Gene Seymour\": {\n",
    "        \"Lady in the Water\": 3.0,\n",
    "        \"Snakes on a Plane\": 3.5,\n",
    "        \"Just My Luck\": 1.5,\n",
    "        \"Superman Returns\": 5.0,\n",
    "        \"The Night Listener\": 3.0,\n",
    "        \"You, Me and Dupree\": 3.5,\n",
    "    },\n",
    "    \"Michael Phillips\": {\n",
    "        \"Lady in the Water\": 2.5,\n",
    "        \"Snakes on a Plane\": 3.0,\n",
    "        \"Superman Returns\": 3.5,\n",
    "        \"The Night Listener\": 4.0,\n",
    "    },\n",
    "    \"Claudia Puig\": {\n",
    "        \"Snakes on a Plane\": 3.5,\n",
    "        \"Just My Luck\": 3.0,\n",
    "        \"The Night Listener\": 4.5,\n",
    "        \"Superman Returns\": 4.0,\n",
    "        \"You, Me and Dupree\": 2.5,\n",
    "    },\n",
    "    \"Mick LaSalle\": {\n",
    "        \"Lady in the Water\": 3.0,\n",
    "        \"Snakes on a Plane\": 4.0,\n",
    "        \"Just My Luck\": 2.0,\n",
    "        \"Superman Returns\": 3.0,\n",
    "        \"The Night Listener\": 3.0,\n",
    "        \"You, Me and Dupree\": 2.0,\n",
    "    },\n",
    "    \"Jack Matthews\": {\n",
    "        \"Lady in the Water\": 3.0,\n",
    "        \"Snakes on a Plane\": 4.0,\n",
    "        \"The Night Listener\": 3.0,\n",
    "        \"Superman Returns\": 5.0,\n",
    "        \"You, Me and Dupree\": 3.5,\n",
    "    },\n",
    "    \"Toby\": {\n",
    "        \"Snakes on a Plane\": 4.5,\n",
    "        \"You, Me and Dupree\": 1.0,\n",
    "        \"Superman Returns\": 4.0,\n",
    "    },\n",
    "}\n",
    "\n",
    "df = pd.DataFrame(critics).T\n",
    "df"
   ]
  },
  {
   "cell_type": "markdown",
   "id": "532a67b6-0a14-40aa-b07a-73d615b7e9aa",
   "metadata": {},
   "source": [
    "We convert all `NaN` to 0."
   ]
  },
  {
   "cell_type": "code",
   "execution_count": 3,
   "id": "2b41ceea-9b6b-4cd5-8b5f-809f2bdce094",
   "metadata": {
    "execution": {
     "iopub.execute_input": "2024-01-29T18:14:32.668339Z",
     "iopub.status.busy": "2024-01-29T18:14:32.667700Z",
     "iopub.status.idle": "2024-01-29T18:14:32.693749Z",
     "shell.execute_reply": "2024-01-29T18:14:32.676914Z",
     "shell.execute_reply.started": "2024-01-29T18:14:32.668310Z"
    },
    "tags": []
   },
   "outputs": [],
   "source": [
    "df.fillna(0, inplace=True)"
   ]
  },
  {
   "cell_type": "code",
   "execution_count": 4,
   "id": "f299c0b9-3c03-49d7-88b7-8eef5c10cf06",
   "metadata": {
    "execution": {
     "iopub.execute_input": "2024-01-29T18:14:32.748295Z",
     "iopub.status.busy": "2024-01-29T18:14:32.745451Z",
     "iopub.status.idle": "2024-01-29T18:14:32.800832Z",
     "shell.execute_reply": "2024-01-29T18:14:32.798808Z",
     "shell.execute_reply.started": "2024-01-29T18:14:32.748236Z"
    },
    "tags": []
   },
   "outputs": [
    {
     "data": {
      "text/html": [
       "<div>\n",
       "<style scoped>\n",
       "    .dataframe tbody tr th:only-of-type {\n",
       "        vertical-align: middle;\n",
       "    }\n",
       "\n",
       "    .dataframe tbody tr th {\n",
       "        vertical-align: top;\n",
       "    }\n",
       "\n",
       "    .dataframe thead th {\n",
       "        text-align: right;\n",
       "    }\n",
       "</style>\n",
       "<table border=\"1\" class=\"dataframe\">\n",
       "  <thead>\n",
       "    <tr style=\"text-align: right;\">\n",
       "      <th></th>\n",
       "      <th>Lady in the Water</th>\n",
       "      <th>Snakes on a Plane</th>\n",
       "      <th>Just My Luck</th>\n",
       "      <th>Superman Returns</th>\n",
       "      <th>You, Me and Dupree</th>\n",
       "      <th>The Night Listener</th>\n",
       "    </tr>\n",
       "  </thead>\n",
       "  <tbody>\n",
       "    <tr>\n",
       "      <th>Lisa Rose</th>\n",
       "      <td>2.5</td>\n",
       "      <td>3.5</td>\n",
       "      <td>3.0</td>\n",
       "      <td>3.5</td>\n",
       "      <td>2.5</td>\n",
       "      <td>3.0</td>\n",
       "    </tr>\n",
       "    <tr>\n",
       "      <th>Gene Seymour</th>\n",
       "      <td>3.0</td>\n",
       "      <td>3.5</td>\n",
       "      <td>1.5</td>\n",
       "      <td>5.0</td>\n",
       "      <td>3.5</td>\n",
       "      <td>3.0</td>\n",
       "    </tr>\n",
       "    <tr>\n",
       "      <th>Michael Phillips</th>\n",
       "      <td>2.5</td>\n",
       "      <td>3.0</td>\n",
       "      <td>0.0</td>\n",
       "      <td>3.5</td>\n",
       "      <td>0.0</td>\n",
       "      <td>4.0</td>\n",
       "    </tr>\n",
       "    <tr>\n",
       "      <th>Claudia Puig</th>\n",
       "      <td>0.0</td>\n",
       "      <td>3.5</td>\n",
       "      <td>3.0</td>\n",
       "      <td>4.0</td>\n",
       "      <td>2.5</td>\n",
       "      <td>4.5</td>\n",
       "    </tr>\n",
       "    <tr>\n",
       "      <th>Mick LaSalle</th>\n",
       "      <td>3.0</td>\n",
       "      <td>4.0</td>\n",
       "      <td>2.0</td>\n",
       "      <td>3.0</td>\n",
       "      <td>2.0</td>\n",
       "      <td>3.0</td>\n",
       "    </tr>\n",
       "    <tr>\n",
       "      <th>Jack Matthews</th>\n",
       "      <td>3.0</td>\n",
       "      <td>4.0</td>\n",
       "      <td>0.0</td>\n",
       "      <td>5.0</td>\n",
       "      <td>3.5</td>\n",
       "      <td>3.0</td>\n",
       "    </tr>\n",
       "    <tr>\n",
       "      <th>Toby</th>\n",
       "      <td>0.0</td>\n",
       "      <td>4.5</td>\n",
       "      <td>0.0</td>\n",
       "      <td>4.0</td>\n",
       "      <td>1.0</td>\n",
       "      <td>0.0</td>\n",
       "    </tr>\n",
       "  </tbody>\n",
       "</table>\n",
       "</div>"
      ],
      "text/plain": [
       "                  Lady in the Water  Snakes on a Plane  Just My Luck  \\\n",
       "Lisa Rose                       2.5                3.5           3.0   \n",
       "Gene Seymour                    3.0                3.5           1.5   \n",
       "Michael Phillips                2.5                3.0           0.0   \n",
       "Claudia Puig                    0.0                3.5           3.0   \n",
       "Mick LaSalle                    3.0                4.0           2.0   \n",
       "Jack Matthews                   3.0                4.0           0.0   \n",
       "Toby                            0.0                4.5           0.0   \n",
       "\n",
       "                  Superman Returns  You, Me and Dupree  The Night Listener  \n",
       "Lisa Rose                      3.5                 2.5                 3.0  \n",
       "Gene Seymour                   5.0                 3.5                 3.0  \n",
       "Michael Phillips               3.5                 0.0                 4.0  \n",
       "Claudia Puig                   4.0                 2.5                 4.5  \n",
       "Mick LaSalle                   3.0                 2.0                 3.0  \n",
       "Jack Matthews                  5.0                 3.5                 3.0  \n",
       "Toby                           4.0                 1.0                 0.0  "
      ]
     },
     "execution_count": 4,
     "metadata": {},
     "output_type": "execute_result"
    }
   ],
   "source": [
    "df"
   ]
  },
  {
   "cell_type": "markdown",
   "id": "7d347eeb-5895-489d-806f-6281f880fb1d",
   "metadata": {},
   "source": [
    "We won't use the default `.corr()` method from `pandas`, because it does not take zeros into account.\n",
    "We want to skip the row/col with zeros when calculating the Pearson correlation."
   ]
  },
  {
   "cell_type": "code",
   "execution_count": 5,
   "id": "2f2b20f7-99fa-4f58-b6ee-800fdfe10a22",
   "metadata": {
    "execution": {
     "iopub.execute_input": "2024-01-29T18:14:32.807652Z",
     "iopub.status.busy": "2024-01-29T18:14:32.806408Z",
     "iopub.status.idle": "2024-01-29T18:14:32.885876Z",
     "shell.execute_reply": "2024-01-29T18:14:32.878753Z",
     "shell.execute_reply.started": "2024-01-29T18:14:32.807596Z"
    },
    "tags": []
   },
   "outputs": [
    {
     "data": {
      "text/html": [
       "<div>\n",
       "<style scoped>\n",
       "    .dataframe tbody tr th:only-of-type {\n",
       "        vertical-align: middle;\n",
       "    }\n",
       "\n",
       "    .dataframe tbody tr th {\n",
       "        vertical-align: top;\n",
       "    }\n",
       "\n",
       "    .dataframe thead th {\n",
       "        text-align: right;\n",
       "    }\n",
       "</style>\n",
       "<table border=\"1\" class=\"dataframe\">\n",
       "  <thead>\n",
       "    <tr style=\"text-align: right;\">\n",
       "      <th></th>\n",
       "      <th>Lisa Rose</th>\n",
       "      <th>Gene Seymour</th>\n",
       "      <th>Michael Phillips</th>\n",
       "      <th>Claudia Puig</th>\n",
       "      <th>Mick LaSalle</th>\n",
       "      <th>Jack Matthews</th>\n",
       "      <th>Toby</th>\n",
       "    </tr>\n",
       "  </thead>\n",
       "  <tbody>\n",
       "    <tr>\n",
       "      <th>Lisa Rose</th>\n",
       "      <td>1.000000</td>\n",
       "      <td>0.396059</td>\n",
       "      <td>0.510754</td>\n",
       "      <td>0.701287</td>\n",
       "      <td>0.594089</td>\n",
       "      <td>0.331618</td>\n",
       "      <td>0.795744</td>\n",
       "    </tr>\n",
       "    <tr>\n",
       "      <th>Gene Seymour</th>\n",
       "      <td>0.396059</td>\n",
       "      <td>1.000000</td>\n",
       "      <td>0.531008</td>\n",
       "      <td>0.236088</td>\n",
       "      <td>0.411765</td>\n",
       "      <td>0.958785</td>\n",
       "      <td>0.703861</td>\n",
       "    </tr>\n",
       "    <tr>\n",
       "      <th>Michael Phillips</th>\n",
       "      <td>0.510754</td>\n",
       "      <td>0.531008</td>\n",
       "      <td>1.000000</td>\n",
       "      <td>0.328336</td>\n",
       "      <td>0.783869</td>\n",
       "      <td>0.604105</td>\n",
       "      <td>0.374818</td>\n",
       "    </tr>\n",
       "    <tr>\n",
       "      <th>Claudia Puig</th>\n",
       "      <td>0.701287</td>\n",
       "      <td>0.236088</td>\n",
       "      <td>0.328336</td>\n",
       "      <td>1.000000</td>\n",
       "      <td>0.152763</td>\n",
       "      <td>0.170544</td>\n",
       "      <td>0.389391</td>\n",
       "    </tr>\n",
       "    <tr>\n",
       "      <th>Mick LaSalle</th>\n",
       "      <td>0.594089</td>\n",
       "      <td>0.411765</td>\n",
       "      <td>0.783869</td>\n",
       "      <td>0.152763</td>\n",
       "      <td>1.000000</td>\n",
       "      <td>0.564764</td>\n",
       "      <td>0.640828</td>\n",
       "    </tr>\n",
       "    <tr>\n",
       "      <th>Jack Matthews</th>\n",
       "      <td>0.331618</td>\n",
       "      <td>0.958785</td>\n",
       "      <td>0.604105</td>\n",
       "      <td>0.170544</td>\n",
       "      <td>0.564764</td>\n",
       "      <td>1.000000</td>\n",
       "      <td>0.687269</td>\n",
       "    </tr>\n",
       "    <tr>\n",
       "      <th>Toby</th>\n",
       "      <td>0.795744</td>\n",
       "      <td>0.703861</td>\n",
       "      <td>0.374818</td>\n",
       "      <td>0.389391</td>\n",
       "      <td>0.640828</td>\n",
       "      <td>0.687269</td>\n",
       "      <td>1.000000</td>\n",
       "    </tr>\n",
       "  </tbody>\n",
       "</table>\n",
       "</div>"
      ],
      "text/plain": [
       "                  Lisa Rose  Gene Seymour  Michael Phillips  Claudia Puig  \\\n",
       "Lisa Rose          1.000000      0.396059          0.510754      0.701287   \n",
       "Gene Seymour       0.396059      1.000000          0.531008      0.236088   \n",
       "Michael Phillips   0.510754      0.531008          1.000000      0.328336   \n",
       "Claudia Puig       0.701287      0.236088          0.328336      1.000000   \n",
       "Mick LaSalle       0.594089      0.411765          0.783869      0.152763   \n",
       "Jack Matthews      0.331618      0.958785          0.604105      0.170544   \n",
       "Toby               0.795744      0.703861          0.374818      0.389391   \n",
       "\n",
       "                  Mick LaSalle  Jack Matthews      Toby  \n",
       "Lisa Rose             0.594089       0.331618  0.795744  \n",
       "Gene Seymour          0.411765       0.958785  0.703861  \n",
       "Michael Phillips      0.783869       0.604105  0.374818  \n",
       "Claudia Puig          0.152763       0.170544  0.389391  \n",
       "Mick LaSalle          1.000000       0.564764  0.640828  \n",
       "Jack Matthews         0.564764       1.000000  0.687269  \n",
       "Toby                  0.640828       0.687269  1.000000  "
      ]
     },
     "execution_count": 5,
     "metadata": {},
     "output_type": "execute_result"
    }
   ],
   "source": [
    "df.T.corr()"
   ]
  },
  {
   "cell_type": "code",
   "execution_count": 6,
   "id": "7859e054-2984-42a9-a8ec-c388306f87d0",
   "metadata": {
    "execution": {
     "iopub.execute_input": "2024-01-29T18:14:32.891452Z",
     "iopub.status.busy": "2024-01-29T18:14:32.890576Z",
     "iopub.status.idle": "2024-01-29T18:14:32.950473Z",
     "shell.execute_reply": "2024-01-29T18:14:32.948492Z",
     "shell.execute_reply.started": "2024-01-29T18:14:32.891403Z"
    },
    "tags": []
   },
   "outputs": [
    {
     "data": {
      "text/html": [
       "<div>\n",
       "<style scoped>\n",
       "    .dataframe tbody tr th:only-of-type {\n",
       "        vertical-align: middle;\n",
       "    }\n",
       "\n",
       "    .dataframe tbody tr th {\n",
       "        vertical-align: top;\n",
       "    }\n",
       "\n",
       "    .dataframe thead th {\n",
       "        text-align: right;\n",
       "    }\n",
       "</style>\n",
       "<table border=\"1\" class=\"dataframe\">\n",
       "  <thead>\n",
       "    <tr style=\"text-align: right;\">\n",
       "      <th></th>\n",
       "      <th>Lisa Rose</th>\n",
       "      <th>Gene Seymour</th>\n",
       "      <th>Michael Phillips</th>\n",
       "      <th>Claudia Puig</th>\n",
       "      <th>Mick LaSalle</th>\n",
       "      <th>Jack Matthews</th>\n",
       "      <th>Toby</th>\n",
       "    </tr>\n",
       "  </thead>\n",
       "  <tbody>\n",
       "    <tr>\n",
       "      <th>Lisa Rose</th>\n",
       "      <td>1.000000</td>\n",
       "      <td>0.396059</td>\n",
       "      <td>0.404520</td>\n",
       "      <td>0.566947</td>\n",
       "      <td>0.594089</td>\n",
       "      <td>0.747018</td>\n",
       "      <td>0.991241</td>\n",
       "    </tr>\n",
       "    <tr>\n",
       "      <th>Gene Seymour</th>\n",
       "      <td>0.396059</td>\n",
       "      <td>1.000000</td>\n",
       "      <td>0.204598</td>\n",
       "      <td>0.314970</td>\n",
       "      <td>0.411765</td>\n",
       "      <td>0.963796</td>\n",
       "      <td>0.381246</td>\n",
       "    </tr>\n",
       "    <tr>\n",
       "      <th>Michael Phillips</th>\n",
       "      <td>0.404520</td>\n",
       "      <td>0.204598</td>\n",
       "      <td>1.000000</td>\n",
       "      <td>1.000000</td>\n",
       "      <td>-0.258199</td>\n",
       "      <td>0.134840</td>\n",
       "      <td>-1.000000</td>\n",
       "    </tr>\n",
       "    <tr>\n",
       "      <th>Claudia Puig</th>\n",
       "      <td>0.566947</td>\n",
       "      <td>0.314970</td>\n",
       "      <td>1.000000</td>\n",
       "      <td>1.000000</td>\n",
       "      <td>0.566947</td>\n",
       "      <td>0.028571</td>\n",
       "      <td>0.893405</td>\n",
       "    </tr>\n",
       "    <tr>\n",
       "      <th>Mick LaSalle</th>\n",
       "      <td>0.594089</td>\n",
       "      <td>0.411765</td>\n",
       "      <td>-0.258199</td>\n",
       "      <td>0.566947</td>\n",
       "      <td>1.000000</td>\n",
       "      <td>0.211289</td>\n",
       "      <td>0.924473</td>\n",
       "    </tr>\n",
       "    <tr>\n",
       "      <th>Jack Matthews</th>\n",
       "      <td>0.747018</td>\n",
       "      <td>0.963796</td>\n",
       "      <td>0.134840</td>\n",
       "      <td>0.028571</td>\n",
       "      <td>0.211289</td>\n",
       "      <td>1.000000</td>\n",
       "      <td>0.662849</td>\n",
       "    </tr>\n",
       "    <tr>\n",
       "      <th>Toby</th>\n",
       "      <td>0.991241</td>\n",
       "      <td>0.381246</td>\n",
       "      <td>-1.000000</td>\n",
       "      <td>0.893405</td>\n",
       "      <td>0.924473</td>\n",
       "      <td>0.662849</td>\n",
       "      <td>1.000000</td>\n",
       "    </tr>\n",
       "  </tbody>\n",
       "</table>\n",
       "</div>"
      ],
      "text/plain": [
       "                  Lisa Rose  Gene Seymour  Michael Phillips  Claudia Puig  \\\n",
       "Lisa Rose          1.000000      0.396059          0.404520      0.566947   \n",
       "Gene Seymour       0.396059      1.000000          0.204598      0.314970   \n",
       "Michael Phillips   0.404520      0.204598          1.000000      1.000000   \n",
       "Claudia Puig       0.566947      0.314970          1.000000      1.000000   \n",
       "Mick LaSalle       0.594089      0.411765         -0.258199      0.566947   \n",
       "Jack Matthews      0.747018      0.963796          0.134840      0.028571   \n",
       "Toby               0.991241      0.381246         -1.000000      0.893405   \n",
       "\n",
       "                  Mick LaSalle  Jack Matthews      Toby  \n",
       "Lisa Rose             0.594089       0.747018  0.991241  \n",
       "Gene Seymour          0.411765       0.963796  0.381246  \n",
       "Michael Phillips     -0.258199       0.134840 -1.000000  \n",
       "Claudia Puig          0.566947       0.028571  0.893405  \n",
       "Mick LaSalle          1.000000       0.211289  0.924473  \n",
       "Jack Matthews         0.211289       1.000000  0.662849  \n",
       "Toby                  0.924473       0.662849  1.000000  "
      ]
     },
     "execution_count": 6,
     "metadata": {},
     "output_type": "execute_result"
    }
   ],
   "source": [
    "def custom_pearson_correlation(m, n):\n",
    "    # Skip zeros (unrated).\n",
    "    mask = np.logical_and(m > 0, n > 0)\n",
    "\n",
    "    m = m[mask]\n",
    "    n = n[mask]\n",
    "\n",
    "    return pd.Series(m).corr(pd.Series(n))\n",
    "\n",
    "\n",
    "df.T.corr(custom_pearson_correlation)"
   ]
  },
  {
   "cell_type": "markdown",
   "id": "e2313c6d-d76f-408e-8199-da7bb6e27e9f",
   "metadata": {},
   "source": [
    "Below we observe the difference in the score if we exclude the zero-ratings (not rated) movies:"
   ]
  },
  {
   "cell_type": "code",
   "execution_count": 7,
   "id": "9924d4cf-3cd2-4b67-95ed-2cd7a676b037",
   "metadata": {
    "execution": {
     "iopub.execute_input": "2024-01-29T18:14:32.953090Z",
     "iopub.status.busy": "2024-01-29T18:14:32.952267Z",
     "iopub.status.idle": "2024-01-29T18:14:32.983381Z",
     "shell.execute_reply": "2024-01-29T18:14:32.981659Z",
     "shell.execute_reply.started": "2024-01-29T18:14:32.953044Z"
    },
    "tags": []
   },
   "outputs": [
    {
     "data": {
      "text/plain": [
       "(0.5107539184552492, 0.40451991747794525)"
      ]
     },
     "execution_count": 7,
     "metadata": {},
     "output_type": "execute_result"
    }
   ],
   "source": [
    "all_ratings = df.T[\"Lisa Rose\"].corr(df.T[\"Michael Phillips\"])\n",
    "rated_only = df.T[\"Lisa Rose\"].corr(\n",
    "    df.T[\"Michael Phillips\"], custom_pearson_correlation\n",
    ")\n",
    "all_ratings, rated_only"
   ]
  },
  {
   "cell_type": "code",
   "execution_count": 8,
   "id": "163defa0-723d-4027-8730-81df696e4136",
   "metadata": {
    "execution": {
     "iopub.execute_input": "2024-01-29T18:14:32.988645Z",
     "iopub.status.busy": "2024-01-29T18:14:32.987644Z",
     "iopub.status.idle": "2024-01-29T18:14:33.006565Z",
     "shell.execute_reply": "2024-01-29T18:14:32.998037Z",
     "shell.execute_reply.started": "2024-01-29T18:14:32.988599Z"
    },
    "tags": []
   },
   "outputs": [],
   "source": [
    "def similar_to(df, user, n=5):\n",
    "    \"\"\"\n",
    "    Finding the top-n users is as simple as just computing the pearson correlation scores,\n",
    "    and returning the sorted result.\n",
    "    \"\"\"\n",
    "    return sorted(\n",
    "        df.T.corr(custom_pearson_correlation)[user].drop(user).items(),\n",
    "        key=lambda t: t[1],\n",
    "        reverse=True,\n",
    "    )[:n]"
   ]
  },
  {
   "cell_type": "code",
   "execution_count": 9,
   "id": "af4cd07c-a593-4b14-b7c1-19dcfa400e37",
   "metadata": {
    "execution": {
     "iopub.execute_input": "2024-01-29T18:14:33.016391Z",
     "iopub.status.busy": "2024-01-29T18:14:33.015489Z",
     "iopub.status.idle": "2024-01-29T18:14:33.084497Z",
     "shell.execute_reply": "2024-01-29T18:14:33.074034Z",
     "shell.execute_reply.started": "2024-01-29T18:14:33.016347Z"
    },
    "tags": []
   },
   "outputs": [
    {
     "data": {
      "text/plain": [
       "[('Lisa Rose', 0.9912407071619304),\n",
       " ('Mick LaSalle', 0.924473451641905),\n",
       " ('Claudia Puig', 0.8934051474415642),\n",
       " ('Jack Matthews', 0.6628489803598703),\n",
       " ('Gene Seymour', 0.3812464258315117)]"
      ]
     },
     "execution_count": 9,
     "metadata": {},
     "output_type": "execute_result"
    }
   ],
   "source": [
    "similar_to(df, \"Toby\")"
   ]
  },
  {
   "cell_type": "code",
   "execution_count": 10,
   "id": "615daa5d-8e60-4daa-af71-e1695a507002",
   "metadata": {
    "execution": {
     "iopub.execute_input": "2024-01-29T18:14:33.107276Z",
     "iopub.status.busy": "2024-01-29T18:14:33.095476Z",
     "iopub.status.idle": "2024-01-29T18:14:33.164104Z",
     "shell.execute_reply": "2024-01-29T18:14:33.161295Z",
     "shell.execute_reply.started": "2024-01-29T18:14:33.107216Z"
    },
    "tags": []
   },
   "outputs": [
    {
     "data": {
      "text/plain": [
       "[('The Night Listener', 0.5555555555555556),\n",
       " ('Snakes on a Plane', -0.3333333333333333),\n",
       " ('Superman Returns', -0.42289003161103106),\n",
       " ('You, Me and Dupree', -0.4856618642571827),\n",
       " ('Lady in the Water', -0.944911182523068)]"
      ]
     },
     "execution_count": 10,
     "metadata": {},
     "output_type": "execute_result"
    }
   ],
   "source": [
    "# For item based collaborative filtering, we just transpose the df.\n",
    "similar_to(df.T, \"Just My Luck\")"
   ]
  },
  {
   "cell_type": "code",
   "execution_count": 11,
   "id": "102f9ea8-ddfa-4e77-858d-a90d358397f9",
   "metadata": {
    "execution": {
     "iopub.execute_input": "2024-01-29T18:14:33.190339Z",
     "iopub.status.busy": "2024-01-29T18:14:33.180749Z",
     "iopub.status.idle": "2024-01-29T18:14:33.205975Z",
     "shell.execute_reply": "2024-01-29T18:14:33.201955Z",
     "shell.execute_reply.started": "2024-01-29T18:14:33.190243Z"
    },
    "tags": []
   },
   "outputs": [],
   "source": [
    "def recommend(df, user):\n",
    "    similarity_scores = similar_to(df, user)\n",
    "    recs = []\n",
    "\n",
    "    # Only select movies that has np.nan ratings.\n",
    "    not_watched = df.columns[df.loc[user] == 0]\n",
    "\n",
    "    for movie in not_watched:\n",
    "        # Ratings for the movie from other users.\n",
    "        rated_by_user = dict(df[movie].fillna(0))\n",
    "\n",
    "        sum_weight = 0\n",
    "        sum_rating = 0\n",
    "\n",
    "        for user, weight in similarity_scores:\n",
    "            # Ignore users that did not give rating.\n",
    "            rating = rated_by_user[user]\n",
    "            if rating == 0:\n",
    "                continue\n",
    "\n",
    "            sum_weight += weight\n",
    "            sum_rating += weight * rating\n",
    "\n",
    "        recs.append((movie, sum_rating / sum_weight))\n",
    "\n",
    "    # Sort by rating, in descending order (highest to lowest rating)\n",
    "    return sorted(recs, key=lambda t: t[1], reverse=True)"
   ]
  },
  {
   "cell_type": "code",
   "execution_count": 12,
   "id": "4cd77927-5de0-4c9e-8b9b-229698755ad0",
   "metadata": {
    "execution": {
     "iopub.execute_input": "2024-01-29T18:14:33.239032Z",
     "iopub.status.busy": "2024-01-29T18:14:33.238445Z",
     "iopub.status.idle": "2024-01-29T18:14:33.309111Z",
     "shell.execute_reply": "2024-01-29T18:14:33.299170Z",
     "shell.execute_reply.started": "2024-01-29T18:14:33.238985Z"
    },
    "tags": []
   },
   "outputs": [
    {
     "data": {
      "text/plain": [
       "[('The Night Listener', 3.3477895267131013),\n",
       " ('Lady in the Water', 2.8325499182641622),\n",
       " ('Just My Luck', 2.5309807037655645)]"
      ]
     },
     "execution_count": 12,
     "metadata": {},
     "output_type": "execute_result"
    }
   ],
   "source": [
    "recommend(df, \"Toby\")"
   ]
  },
  {
   "cell_type": "code",
   "execution_count": 13,
   "id": "c0336a04-1026-425b-bbd9-e2901f5c4473",
   "metadata": {
    "execution": {
     "iopub.execute_input": "2024-01-29T18:14:33.312053Z",
     "iopub.status.busy": "2024-01-29T18:14:33.310587Z",
     "iopub.status.idle": "2024-01-29T18:14:33.363228Z",
     "shell.execute_reply": "2024-01-29T18:14:33.357817Z",
     "shell.execute_reply.started": "2024-01-29T18:14:33.312004Z"
    },
    "tags": []
   },
   "outputs": [
    {
     "data": {
      "text/plain": [
       "[('Just My Luck', 2.963951538816175),\n",
       " ('You, Me and Dupree', 2.8153523713809516)]"
      ]
     },
     "execution_count": 13,
     "metadata": {},
     "output_type": "execute_result"
    }
   ],
   "source": [
    "recommend(df, \"Michael Phillips\")"
   ]
  },
  {
   "cell_type": "markdown",
   "id": "aa71a91d-13d8-4dd6-846e-a1be3bf11268",
   "metadata": {},
   "source": [
    "## Cold Start"
   ]
  },
  {
   "cell_type": "markdown",
   "id": "9f86c15c-9a0e-4d88-ba57-1eb764461bb9",
   "metadata": {},
   "source": [
    "A cold start problem is when we do not have enough information from a new user to provide recommendation. This cannot be solve by machine learning. What we can do is just taking existing information about the product to make recommendation, e.g. how popular or trending a product is.\n",
    "\n",
    "\n",
    "Below, we will just show how we recommend by converting the ratings to `like` and `dislike`, and calculating the probability that a user will like the movie."
   ]
  },
  {
   "cell_type": "markdown",
   "id": "f56135b4-c115-4957-ab42-b92ddda5f2f5",
   "metadata": {},
   "source": [
    "We convert the ratings into like/dislike. Anything below 2.5 will be treated as dislike."
   ]
  },
  {
   "cell_type": "code",
   "execution_count": 14,
   "id": "80565a23-9bee-4a45-8d0c-38fdf4229665",
   "metadata": {
    "execution": {
     "iopub.execute_input": "2024-01-29T18:14:33.367359Z",
     "iopub.status.busy": "2024-01-29T18:14:33.366300Z",
     "iopub.status.idle": "2024-01-29T18:14:33.405313Z",
     "shell.execute_reply": "2024-01-29T18:14:33.402684Z",
     "shell.execute_reply.started": "2024-01-29T18:14:33.367313Z"
    },
    "tags": []
   },
   "outputs": [
    {
     "data": {
      "text/html": [
       "<div>\n",
       "<style scoped>\n",
       "    .dataframe tbody tr th:only-of-type {\n",
       "        vertical-align: middle;\n",
       "    }\n",
       "\n",
       "    .dataframe tbody tr th {\n",
       "        vertical-align: top;\n",
       "    }\n",
       "\n",
       "    .dataframe thead th {\n",
       "        text-align: right;\n",
       "    }\n",
       "</style>\n",
       "<table border=\"1\" class=\"dataframe\">\n",
       "  <thead>\n",
       "    <tr style=\"text-align: right;\">\n",
       "      <th></th>\n",
       "      <th>Lady in the Water</th>\n",
       "      <th>Snakes on a Plane</th>\n",
       "      <th>Just My Luck</th>\n",
       "      <th>Superman Returns</th>\n",
       "      <th>You, Me and Dupree</th>\n",
       "      <th>The Night Listener</th>\n",
       "    </tr>\n",
       "  </thead>\n",
       "  <tbody>\n",
       "    <tr>\n",
       "      <th>Lisa Rose</th>\n",
       "      <td>0</td>\n",
       "      <td>1</td>\n",
       "      <td>1</td>\n",
       "      <td>1</td>\n",
       "      <td>0</td>\n",
       "      <td>1</td>\n",
       "    </tr>\n",
       "    <tr>\n",
       "      <th>Gene Seymour</th>\n",
       "      <td>1</td>\n",
       "      <td>1</td>\n",
       "      <td>0</td>\n",
       "      <td>1</td>\n",
       "      <td>1</td>\n",
       "      <td>1</td>\n",
       "    </tr>\n",
       "    <tr>\n",
       "      <th>Michael Phillips</th>\n",
       "      <td>0</td>\n",
       "      <td>1</td>\n",
       "      <td>0</td>\n",
       "      <td>1</td>\n",
       "      <td>0</td>\n",
       "      <td>1</td>\n",
       "    </tr>\n",
       "    <tr>\n",
       "      <th>Claudia Puig</th>\n",
       "      <td>0</td>\n",
       "      <td>1</td>\n",
       "      <td>1</td>\n",
       "      <td>1</td>\n",
       "      <td>0</td>\n",
       "      <td>1</td>\n",
       "    </tr>\n",
       "    <tr>\n",
       "      <th>Mick LaSalle</th>\n",
       "      <td>1</td>\n",
       "      <td>1</td>\n",
       "      <td>0</td>\n",
       "      <td>1</td>\n",
       "      <td>0</td>\n",
       "      <td>1</td>\n",
       "    </tr>\n",
       "    <tr>\n",
       "      <th>Jack Matthews</th>\n",
       "      <td>1</td>\n",
       "      <td>1</td>\n",
       "      <td>0</td>\n",
       "      <td>1</td>\n",
       "      <td>1</td>\n",
       "      <td>1</td>\n",
       "    </tr>\n",
       "    <tr>\n",
       "      <th>Toby</th>\n",
       "      <td>0</td>\n",
       "      <td>1</td>\n",
       "      <td>0</td>\n",
       "      <td>1</td>\n",
       "      <td>0</td>\n",
       "      <td>0</td>\n",
       "    </tr>\n",
       "  </tbody>\n",
       "</table>\n",
       "</div>"
      ],
      "text/plain": [
       "                  Lady in the Water  Snakes on a Plane  Just My Luck  \\\n",
       "Lisa Rose                         0                  1             1   \n",
       "Gene Seymour                      1                  1             0   \n",
       "Michael Phillips                  0                  1             0   \n",
       "Claudia Puig                      0                  1             1   \n",
       "Mick LaSalle                      1                  1             0   \n",
       "Jack Matthews                     1                  1             0   \n",
       "Toby                              0                  1             0   \n",
       "\n",
       "                  Superman Returns  You, Me and Dupree  The Night Listener  \n",
       "Lisa Rose                        1                   0                   1  \n",
       "Gene Seymour                     1                   1                   1  \n",
       "Michael Phillips                 1                   0                   1  \n",
       "Claudia Puig                     1                   0                   1  \n",
       "Mick LaSalle                     1                   0                   1  \n",
       "Jack Matthews                    1                   1                   1  \n",
       "Toby                             1                   0                   0  "
      ]
     },
     "execution_count": 14,
     "metadata": {},
     "output_type": "execute_result"
    }
   ],
   "source": [
    "likes = np.where(df <= 2.5, 0, 1)\n",
    "like_df = pd.DataFrame(likes, index=df.index, columns=df.columns)\n",
    "like_df"
   ]
  },
  {
   "cell_type": "code",
   "execution_count": 15,
   "id": "1e97634e-388b-4181-850a-73b9b0048732",
   "metadata": {
    "execution": {
     "iopub.execute_input": "2024-01-29T18:14:33.426711Z",
     "iopub.status.busy": "2024-01-29T18:14:33.408750Z",
     "iopub.status.idle": "2024-01-29T18:14:33.478480Z",
     "shell.execute_reply": "2024-01-29T18:14:33.456799Z",
     "shell.execute_reply.started": "2024-01-29T18:14:33.426596Z"
    },
    "tags": []
   },
   "outputs": [
    {
     "data": {
      "text/plain": [
       "Lady in the Water     7\n",
       "Snakes on a Plane     7\n",
       "Just My Luck          7\n",
       "Superman Returns      7\n",
       "You, Me and Dupree    7\n",
       "The Night Listener    7\n",
       "dtype: int64"
      ]
     },
     "execution_count": 15,
     "metadata": {},
     "output_type": "execute_result"
    }
   ],
   "source": [
    "like_df.count(axis=0)"
   ]
  },
  {
   "cell_type": "code",
   "execution_count": null,
   "id": "4ef5ee2e-e2f4-4a12-a853-ee79cd6765dd",
   "metadata": {
    "execution": {
     "iopub.execute_input": "2024-01-29T18:14:33.517907Z",
     "iopub.status.busy": "2024-01-29T18:14:33.507628Z",
     "iopub.status.idle": "2024-01-29T18:14:33.545865Z"
    },
    "tags": []
   },
   "outputs": [
    {
     "data": {
      "text/plain": [
       "Lady in the Water     3\n",
       "Snakes on a Plane     7\n",
       "Just My Luck          2\n",
       "Superman Returns      7\n",
       "You, Me and Dupree    2\n",
       "The Night Listener    6\n",
       "dtype: int64"
      ]
     },
     "execution_count": 16,
     "metadata": {},
     "output_type": "execute_result"
    }
   ],
   "source": [
    "like_df.sum(axis=0)"
   ]
  },
  {
   "cell_type": "markdown",
   "id": "aa7ba757-dce0-4048-a6b6-c87ac4858ff4",
   "metadata": {},
   "source": [
    "We can see that `Superman Returns` is liked by all users that provided ratings. However, we cannot say that the probability of recommending it is 100%.\n",
    "\n",
    "We can calculate the probability that I will like/dislike it by just adding 2 new implicit feedback, 1 like and 1 dislike and see how the ratings changes:\n",
    "\n",
    "```\n",
    "# For Superman Returns\n",
    "prob = (7 + 1) / (7 + 2)\n",
    "     = 0.88\n",
    "```"
   ]
  },
  {
   "cell_type": "code",
   "execution_count": null,
   "id": "33708a1e-4360-4572-b36f-3fe45049a02e",
   "metadata": {
    "tags": []
   },
   "outputs": [],
   "source": [
    "sorted(\n",
    "    ((like_df.sum(axis=0) + 1) / (like_df.count(axis=0) + 2)).items(),\n",
    "    key=lambda t: t[1],\n",
    "    reverse=True,\n",
    ")"
   ]
  }
 ],
 "metadata": {
  "kernelspec": {
   "display_name": "Python 3 (ipykernel)",
   "language": "python",
   "name": "python3"
  },
  "language_info": {
   "codemirror_mode": {
    "name": "ipython",
    "version": 3
   },
   "file_extension": ".py",
   "mimetype": "text/x-python",
   "name": "python",
   "nbconvert_exporter": "python",
   "pygments_lexer": "ipython3",
   "version": "3.10.13"
  },
  "widgets": {
   "application/vnd.jupyter.widget-state+json": {
    "state": {},
    "version_major": 2,
    "version_minor": 0
   }
  }
 },
 "nbformat": 4,
 "nbformat_minor": 5
}
