{
 "cells": [
  {
   "cell_type": "markdown",
   "id": "04a1c6af-abfb-4057-93af-903763d743d8",
   "metadata": {
    "execution": {
     "iopub.execute_input": "2024-01-31T15:56:41.786553Z",
     "iopub.status.busy": "2024-01-31T15:56:41.785402Z",
     "iopub.status.idle": "2024-01-31T15:56:41.815756Z",
     "shell.execute_reply": "2024-01-31T15:56:41.808846Z",
     "shell.execute_reply.started": "2024-01-31T15:56:41.786499Z"
    },
    "tags": []
   },
   "source": [
    "## Neural Network\n",
    "\n",
    "\n",
    "- https://keras.io/examples/structured_data/collaborative_filtering_movielens/\n",
    "- https://github.com/chinchi-hsu/KerasCollaborativeFiltering/blob/master/matrix_factorization.py\n",
    "- https://www.kaggle.com/code/yogeshrampariya/matrix-factorization-in-keras-for-recommendation\n",
    "- https://www.tensorflow.org/recommenders/examples/quickstart\n",
    "- https://blog.dataiku.com/deep-beers-improving-the-performance-of-deep-recommendation-engines-using-keras\n",
    "- https://www.onceupondata.com/post/nn-collaborative-filtering/\n",
    "- https://curiousily.com/posts/build-a-recommender-system-using-keras-and-tensorflow2-in-python/\n",
    "- https://cloud.google.com/blog/products/ai-machine-learning/scaling-deep-retrieval-tensorflow-two-towers-architecture"
   ]
  },
  {
   "cell_type": "code",
   "execution_count": null,
   "id": "fe266360-aa28-4e53-87ee-a11084c3b33c",
   "metadata": {},
   "outputs": [],
   "source": []
  }
 ],
 "metadata": {
  "kernelspec": {
   "display_name": "Python 3 (ipykernel)",
   "language": "python",
   "name": "python3"
  },
  "language_info": {
   "codemirror_mode": {
    "name": "ipython",
    "version": 3
   },
   "file_extension": ".py",
   "mimetype": "text/x-python",
   "name": "python",
   "nbconvert_exporter": "python",
   "pygments_lexer": "ipython3",
   "version": "3.10.13"
  },
  "widgets": {
   "application/vnd.jupyter.widget-state+json": {
    "state": {},
    "version_major": 2,
    "version_minor": 0
   }
  }
 },
 "nbformat": 4,
 "nbformat_minor": 5
}
