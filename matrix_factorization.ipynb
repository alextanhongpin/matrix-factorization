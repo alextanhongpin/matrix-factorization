{
 "cells": [
  {
   "cell_type": "code",
   "execution_count": 1,
   "metadata": {
    "execution": {
     "iopub.execute_input": "2024-01-23T18:36:27.566849Z",
     "iopub.status.busy": "2024-01-23T18:36:27.564992Z",
     "iopub.status.idle": "2024-01-23T18:36:32.312844Z",
     "shell.execute_reply": "2024-01-23T18:36:32.310472Z",
     "shell.execute_reply.started": "2024-01-23T18:36:27.566777Z"
    }
   },
   "outputs": [],
   "source": [
    "import numpy as np\n",
    "import pandas as pd"
   ]
  },
  {
   "cell_type": "code",
   "execution_count": 2,
   "metadata": {
    "execution": {
     "iopub.execute_input": "2024-01-23T18:36:32.315035Z",
     "iopub.status.busy": "2024-01-23T18:36:32.314670Z",
     "iopub.status.idle": "2024-01-23T18:36:32.341784Z",
     "shell.execute_reply": "2024-01-23T18:36:32.338824Z",
     "shell.execute_reply.started": "2024-01-23T18:36:32.315010Z"
    }
   },
   "outputs": [],
   "source": [
    "movies = [\n",
    "    \"men in black\",\n",
    "    \"star trek\",\n",
    "    \"ace ventura\",\n",
    "    \"braveheart\",\n",
    "    \"sense sensibility and snowmen\",\n",
    "    \"les miserables\",\n",
    "]\n",
    "users = [\"Sara\", \"Jesper\", \"Therese\", \"Helle\", \"Pietro\", \"Ekaterina\"]"
   ]
  },
  {
   "cell_type": "code",
   "execution_count": 3,
   "metadata": {
    "execution": {
     "iopub.execute_input": "2024-01-23T18:36:32.346594Z",
     "iopub.status.busy": "2024-01-23T18:36:32.345832Z",
     "iopub.status.idle": "2024-01-23T18:36:32.371569Z",
     "shell.execute_reply": "2024-01-23T18:36:32.369949Z",
     "shell.execute_reply.started": "2024-01-23T18:36:32.346548Z"
    }
   },
   "outputs": [],
   "source": [
    "M = pd.DataFrame(\n",
    "    [\n",
    "        [5.0, 3.0, 0.0, 2.0, 2.0, 2.0],\n",
    "        [4.0, 3.0, 4.0, 0.0, 3.0, 3.0],\n",
    "        [5.0, 2.0, 5.0, 2.0, 1.0, 1.0],\n",
    "        [3.0, 5.0, 3.0, 0.0, 1.0, 1.0],\n",
    "        [3.0, 3.0, 3.0, 2.0, 4.0, 5.0],\n",
    "        [2.0, 3.0, 2.0, 3.0, 5.0, 5.0],\n",
    "    ],\n",
    "    columns=movies,\n",
    "    index=users,\n",
    ")"
   ]
  },
  {
   "cell_type": "markdown",
   "metadata": {},
   "source": [
    "## Imputation\n",
    "\n",
    "Solving the problem of zeros in the rating matrix using imputation. \n",
    "\n",
    "- calculate the mean of each item (or user) and fill in this mean where there are zeros in each row (or column) of the matrix\n",
    "- you can normalize each row, such that all elements are centered around zero, so the zeros will become the average"
   ]
  },
  {
   "cell_type": "code",
   "execution_count": 4,
   "metadata": {
    "execution": {
     "iopub.execute_input": "2024-01-23T18:36:32.389623Z",
     "iopub.status.busy": "2024-01-23T18:36:32.388892Z",
     "iopub.status.idle": "2024-01-23T18:36:32.417137Z",
     "shell.execute_reply": "2024-01-23T18:36:32.415051Z",
     "shell.execute_reply.started": "2024-01-23T18:36:32.389577Z"
    }
   },
   "outputs": [],
   "source": [
    "# Calculates the mean of all movies.\n",
    "r_average = M[M > 0.0].mean()\n",
    "M[M == 0] = np.NaN\n",
    "M.fillna(r_average, inplace=True)"
   ]
  },
  {
   "cell_type": "code",
   "execution_count": 8,
   "metadata": {
    "execution": {
     "iopub.execute_input": "2024-01-23T18:36:50.440932Z",
     "iopub.status.busy": "2024-01-23T18:36:50.431936Z",
     "iopub.status.idle": "2024-01-23T18:36:50.526978Z",
     "shell.execute_reply": "2024-01-23T18:36:50.524700Z",
     "shell.execute_reply.started": "2024-01-23T18:36:50.440873Z"
    },
    "tags": []
   },
   "outputs": [
    {
     "data": {
      "text/plain": [
       "5.0"
      ]
     },
     "execution_count": 8,
     "metadata": {},
     "output_type": "execute_result"
    }
   ],
   "source": [
    "M[\"men in black\"][\"Sara\"]"
   ]
  },
  {
   "cell_type": "code",
   "execution_count": 9,
   "metadata": {
    "execution": {
     "iopub.execute_input": "2024-01-23T18:36:51.226954Z",
     "iopub.status.busy": "2024-01-23T18:36:51.226291Z",
     "iopub.status.idle": "2024-01-23T18:36:51.235935Z",
     "shell.execute_reply": "2024-01-23T18:36:51.234900Z",
     "shell.execute_reply.started": "2024-01-23T18:36:51.226903Z"
    },
    "tags": []
   },
   "outputs": [
    {
     "data": {
      "text/plain": [
       "men in black                     3.666667\n",
       "star trek                        3.166667\n",
       "ace ventura                      3.400000\n",
       "braveheart                       2.250000\n",
       "sense sensibility and snowmen    2.666667\n",
       "les miserables                   2.833333\n",
       "dtype: float64"
      ]
     },
     "execution_count": 9,
     "metadata": {},
     "output_type": "execute_result"
    }
   ],
   "source": [
    "r_average"
   ]
  },
  {
   "cell_type": "code",
   "execution_count": 10,
   "metadata": {
    "execution": {
     "iopub.execute_input": "2024-01-23T18:36:55.382056Z",
     "iopub.status.busy": "2024-01-23T18:36:55.379321Z",
     "iopub.status.idle": "2024-01-23T18:36:55.482063Z",
     "shell.execute_reply": "2024-01-23T18:36:55.480204Z",
     "shell.execute_reply.started": "2024-01-23T18:36:55.380642Z"
    },
    "tags": []
   },
   "outputs": [
    {
     "data": {
      "text/html": [
       "<div>\n",
       "<style scoped>\n",
       "    .dataframe tbody tr th:only-of-type {\n",
       "        vertical-align: middle;\n",
       "    }\n",
       "\n",
       "    .dataframe tbody tr th {\n",
       "        vertical-align: top;\n",
       "    }\n",
       "\n",
       "    .dataframe thead th {\n",
       "        text-align: right;\n",
       "    }\n",
       "</style>\n",
       "<table border=\"1\" class=\"dataframe\">\n",
       "  <thead>\n",
       "    <tr style=\"text-align: right;\">\n",
       "      <th></th>\n",
       "      <th>men in black</th>\n",
       "      <th>star trek</th>\n",
       "      <th>ace ventura</th>\n",
       "      <th>braveheart</th>\n",
       "      <th>sense sensibility and snowmen</th>\n",
       "      <th>les miserables</th>\n",
       "    </tr>\n",
       "  </thead>\n",
       "  <tbody>\n",
       "    <tr>\n",
       "      <th>Sara</th>\n",
       "      <td>5.0</td>\n",
       "      <td>3.0</td>\n",
       "      <td>3.4</td>\n",
       "      <td>2.00</td>\n",
       "      <td>2.0</td>\n",
       "      <td>2.0</td>\n",
       "    </tr>\n",
       "    <tr>\n",
       "      <th>Jesper</th>\n",
       "      <td>4.0</td>\n",
       "      <td>3.0</td>\n",
       "      <td>4.0</td>\n",
       "      <td>2.25</td>\n",
       "      <td>3.0</td>\n",
       "      <td>3.0</td>\n",
       "    </tr>\n",
       "    <tr>\n",
       "      <th>Therese</th>\n",
       "      <td>5.0</td>\n",
       "      <td>2.0</td>\n",
       "      <td>5.0</td>\n",
       "      <td>2.00</td>\n",
       "      <td>1.0</td>\n",
       "      <td>1.0</td>\n",
       "    </tr>\n",
       "    <tr>\n",
       "      <th>Helle</th>\n",
       "      <td>3.0</td>\n",
       "      <td>5.0</td>\n",
       "      <td>3.0</td>\n",
       "      <td>2.25</td>\n",
       "      <td>1.0</td>\n",
       "      <td>1.0</td>\n",
       "    </tr>\n",
       "    <tr>\n",
       "      <th>Pietro</th>\n",
       "      <td>3.0</td>\n",
       "      <td>3.0</td>\n",
       "      <td>3.0</td>\n",
       "      <td>2.00</td>\n",
       "      <td>4.0</td>\n",
       "      <td>5.0</td>\n",
       "    </tr>\n",
       "    <tr>\n",
       "      <th>Ekaterina</th>\n",
       "      <td>2.0</td>\n",
       "      <td>3.0</td>\n",
       "      <td>2.0</td>\n",
       "      <td>3.00</td>\n",
       "      <td>5.0</td>\n",
       "      <td>5.0</td>\n",
       "    </tr>\n",
       "  </tbody>\n",
       "</table>\n",
       "</div>"
      ],
      "text/plain": [
       "           men in black  star trek  ace ventura  braveheart  \\\n",
       "Sara                5.0        3.0          3.4        2.00   \n",
       "Jesper              4.0        3.0          4.0        2.25   \n",
       "Therese             5.0        2.0          5.0        2.00   \n",
       "Helle               3.0        5.0          3.0        2.25   \n",
       "Pietro              3.0        3.0          3.0        2.00   \n",
       "Ekaterina           2.0        3.0          2.0        3.00   \n",
       "\n",
       "           sense sensibility and snowmen  les miserables  \n",
       "Sara                                 2.0             2.0  \n",
       "Jesper                               3.0             3.0  \n",
       "Therese                              1.0             1.0  \n",
       "Helle                                1.0             1.0  \n",
       "Pietro                               4.0             5.0  \n",
       "Ekaterina                            5.0             5.0  "
      ]
     },
     "execution_count": 10,
     "metadata": {},
     "output_type": "execute_result"
    }
   ],
   "source": [
    "M"
   ]
  },
  {
   "cell_type": "code",
   "execution_count": 11,
   "metadata": {
    "execution": {
     "iopub.execute_input": "2024-01-23T18:36:59.703167Z",
     "iopub.status.busy": "2024-01-23T18:36:59.702608Z",
     "iopub.status.idle": "2024-01-23T18:36:59.709997Z",
     "shell.execute_reply": "2024-01-23T18:36:59.708143Z",
     "shell.execute_reply.started": "2024-01-23T18:36:59.703122Z"
    }
   },
   "outputs": [],
   "source": [
    "U, Sigma, Vt = np.linalg.svd(M)"
   ]
  },
  {
   "cell_type": "code",
   "execution_count": 12,
   "metadata": {
    "execution": {
     "iopub.execute_input": "2024-01-23T18:37:00.028214Z",
     "iopub.status.busy": "2024-01-23T18:37:00.027637Z",
     "iopub.status.idle": "2024-01-23T18:37:00.035537Z",
     "shell.execute_reply": "2024-01-23T18:37:00.034028Z",
     "shell.execute_reply.started": "2024-01-23T18:37:00.028164Z"
    }
   },
   "outputs": [],
   "source": [
    "def rank_k(k):\n",
    "    U_reduced = np.mat(U[:, :k])  # Select up to k columns.\n",
    "    Vt_reduced = np.mat(Vt[:k, :])  # Select up to k rows.\n",
    "    Sigma_reduced = (\n",
    "        np.eye(k) * Sigma[:k]\n",
    "    )  # Construct back the diagonal matrix from the given list.\n",
    "    return U_reduced, Sigma_reduced, Vt_reduced"
   ]
  },
  {
   "cell_type": "code",
   "execution_count": 22,
   "metadata": {
    "execution": {
     "iopub.execute_input": "2024-01-23T18:37:48.416447Z",
     "iopub.status.busy": "2024-01-23T18:37:48.409272Z",
     "iopub.status.idle": "2024-01-23T18:37:48.536757Z",
     "shell.execute_reply": "2024-01-23T18:37:48.535499Z",
     "shell.execute_reply.started": "2024-01-23T18:37:48.416348Z"
    },
    "tags": []
   },
   "outputs": [
    {
     "data": {
      "text/plain": [
       "(array([[5. , 3.1, 3.5, 1.8, 1.9, 2.1],\n",
       "        [4. , 3. , 4. , 2.4, 2.9, 3.1],\n",
       "        [5. , 2. , 5. , 1.9, 1. , 1. ],\n",
       "        [3. , 5. , 3. , 2.3, 1. , 0.9],\n",
       "        [3.1, 2.9, 2.8, 2.4, 4.3, 4.7],\n",
       "        [1.9, 3.1, 2.2, 2.6, 4.8, 5.2]]),\n",
       " array([[5.  , 3.  , 3.4 , 2.  , 2.  , 2.  ],\n",
       "        [4.  , 3.  , 4.  , 2.25, 3.  , 3.  ],\n",
       "        [5.  , 2.  , 5.  , 2.  , 1.  , 1.  ],\n",
       "        [3.  , 5.  , 3.  , 2.25, 1.  , 1.  ],\n",
       "        [3.  , 3.  , 3.  , 2.  , 4.  , 5.  ],\n",
       "        [2.  , 3.  , 2.  , 3.  , 5.  , 5.  ]]))"
      ]
     },
     "execution_count": 22,
     "metadata": {},
     "output_type": "execute_result"
    }
   ],
   "source": [
    "U_reduced, Sigma_reduced, Vt_reduced = rank_k(4)\n",
    "M_hat = U_reduced * Sigma_reduced * Vt_reduced\n",
    "np.round(M_hat, 1), M.values"
   ]
  },
  {
   "cell_type": "code",
   "execution_count": 20,
   "metadata": {
    "execution": {
     "iopub.execute_input": "2024-01-23T18:37:35.563698Z",
     "iopub.status.busy": "2024-01-23T18:37:35.563231Z",
     "iopub.status.idle": "2024-01-23T18:37:35.576825Z",
     "shell.execute_reply": "2024-01-23T18:37:35.574165Z",
     "shell.execute_reply.started": "2024-01-23T18:37:35.563668Z"
    },
    "tags": []
   },
   "outputs": [
    {
     "data": {
      "text/plain": [
       "3.47"
      ]
     },
     "execution_count": 20,
     "metadata": {},
     "output_type": "execute_result"
    }
   ],
   "source": [
    "## Predict a rating.\n",
    "M_hat_matrix = pd.DataFrame(M_hat, columns=movies, index=users).round(2)\n",
    "M_hat_matrix[\"ace ventura\"][\"Sara\"]"
   ]
  },
  {
   "cell_type": "code",
   "execution_count": 76,
   "metadata": {},
   "outputs": [],
   "source": [
    "# Reduces the size of the decomposed matrices.\n",
    "\n",
    "\n",
    "def rank_k2(k):\n",
    "    U_reduced = np.mat(U[:, :k])\n",
    "    Vt_reduced = np.mat(Vt[:k, :])\n",
    "    Sigma_reduced = np.eye(k) * Sigma[:k]\n",
    "    Sigma_sqrt = np.sqrt(Sigma_reduced)\n",
    "    return U_reduced * Sigma_sqrt, Sigma_sqrt * Vt_reduced"
   ]
  },
  {
   "cell_type": "code",
   "execution_count": 77,
   "metadata": {},
   "outputs": [
    {
     "data": {
      "text/plain": [
       "matrix([[4.96527904, 3.05025112, 3.4699645 , 1.83793044, 1.92302433,\n",
       "         2.10555193],\n",
       "        [4.01735702, 2.96224212, 3.9546778 , 2.38970844, 2.89013078,\n",
       "         3.06685268],\n",
       "        [4.98346886, 2.02958029, 5.03794119, 1.89657357, 1.0297349 ,\n",
       "         0.99672747],\n",
       "        [3.01306011, 4.98240471, 2.97475285, 2.30489446, 1.04428991,\n",
       "         0.94793143],\n",
       "        [3.09822111, 2.86285057, 2.80617696, 2.43523214, 4.27650203,\n",
       "         4.65403727],\n",
       "        [1.91727352, 3.1213695 , 2.1680414 , 2.60623179, 4.83585754,\n",
       "         5.23595875]])"
      ]
     },
     "execution_count": 77,
     "metadata": {},
     "output_type": "execute_result"
    }
   ],
   "source": [
    "U_reduced, Vt_reduced = rank_k2(4)\n",
    "M_hat = U_reduced * Vt_reduced\n",
    "M_hat"
   ]
  },
  {
   "cell_type": "code",
   "execution_count": 78,
   "metadata": {},
   "outputs": [
    {
     "data": {
      "text/plain": [
       "matrix([[3.9546778]])"
      ]
     },
     "execution_count": 78,
     "metadata": {},
     "output_type": "execute_result"
    }
   ],
   "source": [
    "Jesper = 1\n",
    "AceVentura = 2\n",
    "U_reduced[Jesper] * Vt_reduced[:, AceVentura]"
   ]
  },
  {
   "cell_type": "code",
   "execution_count": 79,
   "metadata": {},
   "outputs": [
    {
     "data": {
      "text/plain": [
       "3.9546778000770195"
      ]
     },
     "execution_count": 79,
     "metadata": {},
     "output_type": "execute_result"
    }
   ],
   "source": [
    "M_hat[Jesper, AceVentura]"
   ]
  },
  {
   "cell_type": "code",
   "execution_count": 80,
   "metadata": {},
   "outputs": [
    {
     "data": {
      "text/plain": [
       "4.0"
      ]
     },
     "execution_count": 80,
     "metadata": {},
     "output_type": "execute_result"
    }
   ],
   "source": [
    "M[\"ace ventura\"][\"Jesper\"]"
   ]
  },
  {
   "cell_type": "code",
   "execution_count": 81,
   "metadata": {},
   "outputs": [
    {
     "data": {
      "text/plain": [
       "3.469964495841926"
      ]
     },
     "execution_count": 81,
     "metadata": {},
     "output_type": "execute_result"
    }
   ],
   "source": [
    "Sara = 0\n",
    "M_hat[Sara, AceVentura]"
   ]
  },
  {
   "cell_type": "code",
   "execution_count": 82,
   "metadata": {},
   "outputs": [
    {
     "data": {
      "text/plain": [
       "3.4"
      ]
     },
     "execution_count": 82,
     "metadata": {},
     "output_type": "execute_result"
    }
   ],
   "source": [
    "M[\"ace ventura\"][\"Sara\"]"
   ]
  },
  {
   "cell_type": "markdown",
   "metadata": {},
   "source": [
    "## Adding a new user by folding in\n",
    "\n",
    "$\\hat{i}_\\text{new} = r^T_\\text{new item} U\\Sigma^{-1}$\n",
    "\n",
    "where\n",
    "- $i_\\text{new}$ is the vector in the reduced space to represent the new item\n",
    "- $r_\\text{new item}$ is the new item user ratings vector\n",
    "- $\\Sigma^{-1}$ is the inverse of the sigma matrix\n",
    "- $U$ is the user matrix"
   ]
  },
  {
   "cell_type": "code",
   "execution_count": 83,
   "metadata": {},
   "outputs": [],
   "source": [
    "# We have a new user, Kim that rated the movies too.\n",
    "r_kim = np.array([4.0, 5.0, 0.0, 3.0, 3.0, 0.0])"
   ]
  },
  {
   "cell_type": "code",
   "execution_count": 86,
   "metadata": {},
   "outputs": [
    {
     "data": {
      "text/plain": [
       "matrix([[-1.41657858,  0.24873359, -1.78276451, -2.17627056]])"
      ]
     },
     "execution_count": 86,
     "metadata": {},
     "output_type": "execute_result"
    }
   ],
   "source": [
    "u_kim = r_kim * Vt_reduced.T * np.linalg.inv(Sigma_reduced)\n",
    "u_kim"
   ]
  }
 ],
 "metadata": {
  "kernelspec": {
   "display_name": "Python 3 (ipykernel)",
   "language": "python",
   "name": "python3"
  },
  "language_info": {
   "codemirror_mode": {
    "name": "ipython",
    "version": 3
   },
   "file_extension": ".py",
   "mimetype": "text/x-python",
   "name": "python",
   "nbconvert_exporter": "python",
   "pygments_lexer": "ipython3",
   "version": "3.10.13"
  },
  "widgets": {
   "application/vnd.jupyter.widget-state+json": {
    "state": {},
    "version_major": 2,
    "version_minor": 0
   }
  }
 },
 "nbformat": 4,
 "nbformat_minor": 4
}
