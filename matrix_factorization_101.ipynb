{
 "cells": [
  {
   "cell_type": "code",
   "execution_count": 1,
   "metadata": {
    "collapsed": true,
    "jupyter": {
     "outputs_hidden": true
    }
   },
   "outputs": [],
   "source": [
    "import numpy as np\n",
    "import pandas as pd\n",
    "from scipy.sparse.linalg import svds"
   ]
  },
  {
   "cell_type": "code",
   "execution_count": 10,
   "metadata": {
    "collapsed": false,
    "jupyter": {
     "outputs_hidden": false
    }
   },
   "outputs": [
    {
     "name": "stdout",
     "output_type": "stream",
     "text": [
      "original: [[5 3 0 1]\n",
      " [4 0 0 1]\n",
      " [1 1 0 5]\n",
      " [1 0 0 4]\n",
      " [0 1 5 4]]\n",
      "U: \n",
      "[[-0.10634084  0.18540429 -0.59393667]\n",
      " [ 0.80626825  0.30892111 -0.3747321 ]\n",
      " [-0.31668765  0.69499063  0.25779275]\n",
      " [ 0.0876219   0.60844446  0.21147617]\n",
      " [ 0.480265   -0.13029336  0.62899588]]\n",
      "\n",
      "sigma: \n",
      "[[ 2.1196438   0.          0.        ]\n",
      " [ 0.          4.91892905  0.        ]\n",
      " [ 0.          0.          6.2698682 ]]\n",
      "\n",
      "Vt: \n",
      "[[ 0.44335192 -0.79258604  0.4136403  -0.06440618]\n",
      " [ 0.20568993 -0.27108679 -0.63140444  0.6968013 ]\n",
      " [-0.71493407 -0.21981658  0.42453521  0.51021544]]\n",
      "\n",
      "predicted_ratings: \n",
      "[[  5.00000000e+00   3.00000000e+00  -4.44089210e-16   1.00000000e+00]\n",
      " [  4.00000000e+00   4.44089210e-16  -2.22044605e-16   1.00000000e+00]\n",
      " [  1.00000000e+00   1.00000000e+00  -2.22044605e-16   5.00000000e+00]\n",
      " [  1.00000000e+00  -4.44089210e-16  -4.44089210e-16   4.00000000e+00]\n",
      " [  1.77635684e-15   1.00000000e+00   5.00000000e+00   4.00000000e+00]]\n",
      "\n"
     ]
    }
   ],
   "source": [
    "# Seed to get consistent values\n",
    "np.random.seed(seed=1)\n",
    "\n",
    "# Generate sample data\n",
    "data = np.random.randint(5, size=(5, 10))\n",
    "data = np.array([[5, 3, 0, 1], [4, 0, 0, 1], [1, 1, 0, 5], [1, 0, 0, 4], [0, 1, 5, 4]])\n",
    "\n",
    "print(\"original: {}\".format(data))\n",
    "\n",
    "# Get the mean\n",
    "mean = np.mean(data, axis=1)\n",
    "\n",
    "# Demean the data (so that the mean is always zero)\n",
    "data_demeaned = data - mean.reshape(-1, 1)\n",
    "\n",
    "# k is the latent features. The value k must be between\n",
    "# 1 and min(data_demeaned.shape) - 1\n",
    "k = min(data_demeaned.shape) - 1\n",
    "# Get the Singular Value Decomposition\n",
    "U, sigma, Vt = svds(data_demeaned, k=k)\n",
    "\n",
    "sigma = np.diag(sigma)\n",
    "\n",
    "print(\"U: \\n{}\\n\".format(U))\n",
    "print(\"sigma: \\n{}\\n\".format(sigma))\n",
    "print(\"Vt: \\n{}\\n\".format(Vt))\n",
    "\n",
    "predicted_ratings = np.dot(np.dot(U, sigma), Vt) + mean.reshape(-1, 1)\n",
    "print(\"predicted_ratings: \\n{}\\n\".format(predicted_ratings))"
   ]
  }
 ],
 "metadata": {
  "kernelspec": {
   "display_name": "Python 3 (ipykernel)",
   "language": "python",
   "name": "python3"
  },
  "language_info": {
   "codemirror_mode": {
    "name": "ipython",
    "version": 3
   },
   "file_extension": ".py",
   "mimetype": "text/x-python",
   "name": "python",
   "nbconvert_exporter": "python",
   "pygments_lexer": "ipython3",
   "version": "3.10.13"
  },
  "widgets": {
   "application/vnd.jupyter.widget-state+json": {
    "state": {},
    "version_major": 2,
    "version_minor": 0
   }
  }
 },
 "nbformat": 4,
 "nbformat_minor": 4
}
