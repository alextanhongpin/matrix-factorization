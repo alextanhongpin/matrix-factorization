{
 "cells": [
  {
   "cell_type": "markdown",
   "id": "a5191254-e66c-4d61-81a6-3d30b90678c7",
   "metadata": {},
   "source": [
    "# Collaborative Filtering\n",
    "\n",
    "In collaborative filtering, we observe similar users or items when making recommendations.\n"
   ]
  },
  {
   "cell_type": "code",
   "execution_count": 1,
   "id": "691c5c31-95f5-49eb-8994-185025f1bc4a",
   "metadata": {
    "execution": {
     "iopub.execute_input": "2024-01-27T09:32:49.814696Z",
     "iopub.status.busy": "2024-01-27T09:32:49.726285Z",
     "iopub.status.idle": "2024-01-27T09:32:51.788118Z",
     "shell.execute_reply": "2024-01-27T09:32:51.786856Z",
     "shell.execute_reply.started": "2024-01-27T09:32:49.813605Z"
    },
    "tags": []
   },
   "outputs": [
    {
     "name": "stderr",
     "output_type": "stream",
     "text": [
      "/var/folders/7m/74_ct3hx33d878n626w1wxyc0000gn/T/ipykernel_5455/1662815981.py:2: DeprecationWarning: \n",
      "Pyarrow will become a required dependency of pandas in the next major release of pandas (pandas 3.0),\n",
      "(to allow more performant data types, such as the Arrow string type, and better interoperability with other libraries)\n",
      "but was not found to be installed on your system.\n",
      "If this would cause problems for you,\n",
      "please provide us feedback at https://github.com/pandas-dev/pandas/issues/54466\n",
      "        \n",
      "  import pandas as pd\n"
     ]
    }
   ],
   "source": [
    "import numpy as np\n",
    "import pandas as pd"
   ]
  },
  {
   "cell_type": "markdown",
   "id": "479bd700-ff5e-4875-9ef1-79759ec4f8a9",
   "metadata": {},
   "source": [
    "## Preparing Dataset\n",
    "\n",
    "Below we have a rating matrix. The rows are users, and the columns are movie genre.  We want to predict the rating of `anime` genre for `user b`."
   ]
  },
  {
   "cell_type": "code",
   "execution_count": 2,
   "id": "9ca99e47-03d7-40df-b18a-f741887a7f1b",
   "metadata": {
    "execution": {
     "iopub.execute_input": "2024-01-27T09:32:51.794717Z",
     "iopub.status.busy": "2024-01-27T09:32:51.793979Z",
     "iopub.status.idle": "2024-01-27T09:32:51.879527Z",
     "shell.execute_reply": "2024-01-27T09:32:51.878174Z",
     "shell.execute_reply.started": "2024-01-27T09:32:51.794673Z"
    },
    "tags": []
   },
   "outputs": [
    {
     "data": {
      "text/html": [
       "<div>\n",
       "<style scoped>\n",
       "    .dataframe tbody tr th:only-of-type {\n",
       "        vertical-align: middle;\n",
       "    }\n",
       "\n",
       "    .dataframe tbody tr th {\n",
       "        vertical-align: top;\n",
       "    }\n",
       "\n",
       "    .dataframe thead th {\n",
       "        text-align: right;\n",
       "    }\n",
       "</style>\n",
       "<table border=\"1\" class=\"dataframe\">\n",
       "  <thead>\n",
       "    <tr style=\"text-align: right;\">\n",
       "      <th></th>\n",
       "      <th>Lady in the Water</th>\n",
       "      <th>Snakes on a Plane</th>\n",
       "      <th>Just My Luck</th>\n",
       "      <th>Superman Returns</th>\n",
       "      <th>You, Me and Dupree</th>\n",
       "      <th>The Night Listener</th>\n",
       "    </tr>\n",
       "  </thead>\n",
       "  <tbody>\n",
       "    <tr>\n",
       "      <th>Lisa Rose</th>\n",
       "      <td>2.5</td>\n",
       "      <td>3.5</td>\n",
       "      <td>3.0</td>\n",
       "      <td>3.5</td>\n",
       "      <td>2.5</td>\n",
       "      <td>3.0</td>\n",
       "    </tr>\n",
       "    <tr>\n",
       "      <th>Gene Seymour</th>\n",
       "      <td>3.0</td>\n",
       "      <td>3.5</td>\n",
       "      <td>1.5</td>\n",
       "      <td>5.0</td>\n",
       "      <td>3.5</td>\n",
       "      <td>3.0</td>\n",
       "    </tr>\n",
       "    <tr>\n",
       "      <th>Michael Phillips</th>\n",
       "      <td>2.5</td>\n",
       "      <td>3.0</td>\n",
       "      <td>NaN</td>\n",
       "      <td>3.5</td>\n",
       "      <td>NaN</td>\n",
       "      <td>4.0</td>\n",
       "    </tr>\n",
       "    <tr>\n",
       "      <th>Claudia Puig</th>\n",
       "      <td>NaN</td>\n",
       "      <td>3.5</td>\n",
       "      <td>3.0</td>\n",
       "      <td>4.0</td>\n",
       "      <td>2.5</td>\n",
       "      <td>4.5</td>\n",
       "    </tr>\n",
       "    <tr>\n",
       "      <th>Mick LaSalle</th>\n",
       "      <td>3.0</td>\n",
       "      <td>4.0</td>\n",
       "      <td>2.0</td>\n",
       "      <td>3.0</td>\n",
       "      <td>2.0</td>\n",
       "      <td>3.0</td>\n",
       "    </tr>\n",
       "    <tr>\n",
       "      <th>Jack Matthews</th>\n",
       "      <td>3.0</td>\n",
       "      <td>4.0</td>\n",
       "      <td>NaN</td>\n",
       "      <td>5.0</td>\n",
       "      <td>3.5</td>\n",
       "      <td>3.0</td>\n",
       "    </tr>\n",
       "    <tr>\n",
       "      <th>Toby</th>\n",
       "      <td>NaN</td>\n",
       "      <td>4.5</td>\n",
       "      <td>NaN</td>\n",
       "      <td>4.0</td>\n",
       "      <td>1.0</td>\n",
       "      <td>NaN</td>\n",
       "    </tr>\n",
       "  </tbody>\n",
       "</table>\n",
       "</div>"
      ],
      "text/plain": [
       "                  Lady in the Water  Snakes on a Plane  Just My Luck  \\\n",
       "Lisa Rose                       2.5                3.5           3.0   \n",
       "Gene Seymour                    3.0                3.5           1.5   \n",
       "Michael Phillips                2.5                3.0           NaN   \n",
       "Claudia Puig                    NaN                3.5           3.0   \n",
       "Mick LaSalle                    3.0                4.0           2.0   \n",
       "Jack Matthews                   3.0                4.0           NaN   \n",
       "Toby                            NaN                4.5           NaN   \n",
       "\n",
       "                  Superman Returns  You, Me and Dupree  The Night Listener  \n",
       "Lisa Rose                      3.5                 2.5                 3.0  \n",
       "Gene Seymour                   5.0                 3.5                 3.0  \n",
       "Michael Phillips               3.5                 NaN                 4.0  \n",
       "Claudia Puig                   4.0                 2.5                 4.5  \n",
       "Mick LaSalle                   3.0                 2.0                 3.0  \n",
       "Jack Matthews                  5.0                 3.5                 3.0  \n",
       "Toby                           4.0                 1.0                 NaN  "
      ]
     },
     "execution_count": 2,
     "metadata": {},
     "output_type": "execute_result"
    }
   ],
   "source": [
    "critics = {\n",
    "    \"Lisa Rose\": {\n",
    "        \"Lady in the Water\": 2.5,\n",
    "        \"Snakes on a Plane\": 3.5,\n",
    "        \"Just My Luck\": 3.0,\n",
    "        \"Superman Returns\": 3.5,\n",
    "        \"You, Me and Dupree\": 2.5,\n",
    "        \"The Night Listener\": 3.0,\n",
    "    },\n",
    "    \"Gene Seymour\": {\n",
    "        \"Lady in the Water\": 3.0,\n",
    "        \"Snakes on a Plane\": 3.5,\n",
    "        \"Just My Luck\": 1.5,\n",
    "        \"Superman Returns\": 5.0,\n",
    "        \"The Night Listener\": 3.0,\n",
    "        \"You, Me and Dupree\": 3.5,\n",
    "    },\n",
    "    \"Michael Phillips\": {\n",
    "        \"Lady in the Water\": 2.5,\n",
    "        \"Snakes on a Plane\": 3.0,\n",
    "        \"Superman Returns\": 3.5,\n",
    "        \"The Night Listener\": 4.0,\n",
    "    },\n",
    "    \"Claudia Puig\": {\n",
    "        \"Snakes on a Plane\": 3.5,\n",
    "        \"Just My Luck\": 3.0,\n",
    "        \"The Night Listener\": 4.5,\n",
    "        \"Superman Returns\": 4.0,\n",
    "        \"You, Me and Dupree\": 2.5,\n",
    "    },\n",
    "    \"Mick LaSalle\": {\n",
    "        \"Lady in the Water\": 3.0,\n",
    "        \"Snakes on a Plane\": 4.0,\n",
    "        \"Just My Luck\": 2.0,\n",
    "        \"Superman Returns\": 3.0,\n",
    "        \"The Night Listener\": 3.0,\n",
    "        \"You, Me and Dupree\": 2.0,\n",
    "    },\n",
    "    \"Jack Matthews\": {\n",
    "        \"Lady in the Water\": 3.0,\n",
    "        \"Snakes on a Plane\": 4.0,\n",
    "        \"The Night Listener\": 3.0,\n",
    "        \"Superman Returns\": 5.0,\n",
    "        \"You, Me and Dupree\": 3.5,\n",
    "    },\n",
    "    \"Toby\": {\n",
    "        \"Snakes on a Plane\": 4.5,\n",
    "        \"You, Me and Dupree\": 1.0,\n",
    "        \"Superman Returns\": 4.0,\n",
    "    },\n",
    "}\n",
    "\n",
    "df = pd.DataFrame(critics).T\n",
    "df"
   ]
  },
  {
   "cell_type": "code",
   "execution_count": 3,
   "id": "2f2b20f7-99fa-4f58-b6ee-800fdfe10a22",
   "metadata": {
    "execution": {
     "iopub.execute_input": "2024-01-27T09:32:51.883320Z",
     "iopub.status.busy": "2024-01-27T09:32:51.882997Z",
     "iopub.status.idle": "2024-01-27T09:32:51.899925Z",
     "shell.execute_reply": "2024-01-27T09:32:51.898885Z",
     "shell.execute_reply.started": "2024-01-27T09:32:51.883295Z"
    },
    "tags": []
   },
   "outputs": [
    {
     "data": {
      "text/html": [
       "<div>\n",
       "<style scoped>\n",
       "    .dataframe tbody tr th:only-of-type {\n",
       "        vertical-align: middle;\n",
       "    }\n",
       "\n",
       "    .dataframe tbody tr th {\n",
       "        vertical-align: top;\n",
       "    }\n",
       "\n",
       "    .dataframe thead th {\n",
       "        text-align: right;\n",
       "    }\n",
       "</style>\n",
       "<table border=\"1\" class=\"dataframe\">\n",
       "  <thead>\n",
       "    <tr style=\"text-align: right;\">\n",
       "      <th></th>\n",
       "      <th>Lisa Rose</th>\n",
       "      <th>Gene Seymour</th>\n",
       "      <th>Michael Phillips</th>\n",
       "      <th>Claudia Puig</th>\n",
       "      <th>Mick LaSalle</th>\n",
       "      <th>Jack Matthews</th>\n",
       "      <th>Toby</th>\n",
       "    </tr>\n",
       "  </thead>\n",
       "  <tbody>\n",
       "    <tr>\n",
       "      <th>Lisa Rose</th>\n",
       "      <td>1.000000</td>\n",
       "      <td>0.396059</td>\n",
       "      <td>0.404520</td>\n",
       "      <td>0.566947</td>\n",
       "      <td>0.594089</td>\n",
       "      <td>0.747018</td>\n",
       "      <td>0.991241</td>\n",
       "    </tr>\n",
       "    <tr>\n",
       "      <th>Gene Seymour</th>\n",
       "      <td>0.396059</td>\n",
       "      <td>1.000000</td>\n",
       "      <td>0.204598</td>\n",
       "      <td>0.314970</td>\n",
       "      <td>0.411765</td>\n",
       "      <td>0.963796</td>\n",
       "      <td>0.381246</td>\n",
       "    </tr>\n",
       "    <tr>\n",
       "      <th>Michael Phillips</th>\n",
       "      <td>0.404520</td>\n",
       "      <td>0.204598</td>\n",
       "      <td>1.000000</td>\n",
       "      <td>1.000000</td>\n",
       "      <td>-0.258199</td>\n",
       "      <td>0.134840</td>\n",
       "      <td>-1.000000</td>\n",
       "    </tr>\n",
       "    <tr>\n",
       "      <th>Claudia Puig</th>\n",
       "      <td>0.566947</td>\n",
       "      <td>0.314970</td>\n",
       "      <td>1.000000</td>\n",
       "      <td>1.000000</td>\n",
       "      <td>0.566947</td>\n",
       "      <td>0.028571</td>\n",
       "      <td>0.893405</td>\n",
       "    </tr>\n",
       "    <tr>\n",
       "      <th>Mick LaSalle</th>\n",
       "      <td>0.594089</td>\n",
       "      <td>0.411765</td>\n",
       "      <td>-0.258199</td>\n",
       "      <td>0.566947</td>\n",
       "      <td>1.000000</td>\n",
       "      <td>0.211289</td>\n",
       "      <td>0.924473</td>\n",
       "    </tr>\n",
       "    <tr>\n",
       "      <th>Jack Matthews</th>\n",
       "      <td>0.747018</td>\n",
       "      <td>0.963796</td>\n",
       "      <td>0.134840</td>\n",
       "      <td>0.028571</td>\n",
       "      <td>0.211289</td>\n",
       "      <td>1.000000</td>\n",
       "      <td>0.662849</td>\n",
       "    </tr>\n",
       "    <tr>\n",
       "      <th>Toby</th>\n",
       "      <td>0.991241</td>\n",
       "      <td>0.381246</td>\n",
       "      <td>-1.000000</td>\n",
       "      <td>0.893405</td>\n",
       "      <td>0.924473</td>\n",
       "      <td>0.662849</td>\n",
       "      <td>1.000000</td>\n",
       "    </tr>\n",
       "  </tbody>\n",
       "</table>\n",
       "</div>"
      ],
      "text/plain": [
       "                  Lisa Rose  Gene Seymour  Michael Phillips  Claudia Puig  \\\n",
       "Lisa Rose          1.000000      0.396059          0.404520      0.566947   \n",
       "Gene Seymour       0.396059      1.000000          0.204598      0.314970   \n",
       "Michael Phillips   0.404520      0.204598          1.000000      1.000000   \n",
       "Claudia Puig       0.566947      0.314970          1.000000      1.000000   \n",
       "Mick LaSalle       0.594089      0.411765         -0.258199      0.566947   \n",
       "Jack Matthews      0.747018      0.963796          0.134840      0.028571   \n",
       "Toby               0.991241      0.381246         -1.000000      0.893405   \n",
       "\n",
       "                  Mick LaSalle  Jack Matthews      Toby  \n",
       "Lisa Rose             0.594089       0.747018  0.991241  \n",
       "Gene Seymour          0.411765       0.963796  0.381246  \n",
       "Michael Phillips     -0.258199       0.134840 -1.000000  \n",
       "Claudia Puig          0.566947       0.028571  0.893405  \n",
       "Mick LaSalle          1.000000       0.211289  0.924473  \n",
       "Jack Matthews         0.211289       1.000000  0.662849  \n",
       "Toby                  0.924473       0.662849  1.000000  "
      ]
     },
     "execution_count": 3,
     "metadata": {},
     "output_type": "execute_result"
    }
   ],
   "source": [
    "df.T.corr()"
   ]
  },
  {
   "cell_type": "code",
   "execution_count": 4,
   "id": "163defa0-723d-4027-8730-81df696e4136",
   "metadata": {
    "execution": {
     "iopub.execute_input": "2024-01-27T09:32:51.903057Z",
     "iopub.status.busy": "2024-01-27T09:32:51.902016Z",
     "iopub.status.idle": "2024-01-27T09:32:51.910768Z",
     "shell.execute_reply": "2024-01-27T09:32:51.909559Z",
     "shell.execute_reply.started": "2024-01-27T09:32:51.902994Z"
    },
    "tags": []
   },
   "outputs": [],
   "source": [
    "def similar_to(df, user, n=5):\n",
    "    \"\"\"\n",
    "    Finding the top-n users is as simple as just computing the pearson correlation scores,\n",
    "    and returning the sorted result.\n",
    "    \"\"\"\n",
    "    return sorted(\n",
    "        df.T.corr()[user].drop(user).items(), key=lambda t: t[1], reverse=True\n",
    "    )[:n]"
   ]
  },
  {
   "cell_type": "code",
   "execution_count": 5,
   "id": "f5e78b88-8b29-437d-8690-cc2703a42855",
   "metadata": {
    "execution": {
     "iopub.execute_input": "2024-01-27T09:32:51.912836Z",
     "iopub.status.busy": "2024-01-27T09:32:51.912341Z",
     "iopub.status.idle": "2024-01-27T09:32:52.064529Z",
     "shell.execute_reply": "2024-01-27T09:32:52.061365Z",
     "shell.execute_reply.started": "2024-01-27T09:32:51.912794Z"
    },
    "tags": []
   },
   "outputs": [
    {
     "data": {
      "text/plain": [
       "[('Lisa Rose', 0.9912407071619305),\n",
       " ('Mick LaSalle', 0.924473451641905),\n",
       " ('Claudia Puig', 0.8934051474415642),\n",
       " ('Jack Matthews', 0.6628489803598702),\n",
       " ('Gene Seymour', 0.3812464258315117)]"
      ]
     },
     "execution_count": 5,
     "metadata": {},
     "output_type": "execute_result"
    }
   ],
   "source": [
    "similar_to(df, \"Toby\")"
   ]
  },
  {
   "cell_type": "code",
   "execution_count": 6,
   "id": "615daa5d-8e60-4daa-af71-e1695a507002",
   "metadata": {
    "execution": {
     "iopub.execute_input": "2024-01-27T09:32:52.070282Z",
     "iopub.status.busy": "2024-01-27T09:32:52.068398Z",
     "iopub.status.idle": "2024-01-27T09:32:52.106626Z",
     "shell.execute_reply": "2024-01-27T09:32:52.100436Z",
     "shell.execute_reply.started": "2024-01-27T09:32:52.070234Z"
    },
    "tags": []
   },
   "outputs": [
    {
     "data": {
      "text/plain": [
       "[('The Night Listener', 0.5555555555555556),\n",
       " ('Snakes on a Plane', -0.3333333333333333),\n",
       " ('Superman Returns', -0.42289003161103117),\n",
       " ('You, Me and Dupree', -0.48566186425718266),\n",
       " ('Lady in the Water', -0.9449111825230683)]"
      ]
     },
     "execution_count": 6,
     "metadata": {},
     "output_type": "execute_result"
    }
   ],
   "source": [
    "# For item based collaborative filtering, we just transpose the df.\n",
    "similar_to(df.T, \"Just My Luck\")"
   ]
  },
  {
   "cell_type": "code",
   "execution_count": 7,
   "id": "102f9ea8-ddfa-4e77-858d-a90d358397f9",
   "metadata": {
    "execution": {
     "iopub.execute_input": "2024-01-27T09:32:52.110047Z",
     "iopub.status.busy": "2024-01-27T09:32:52.108368Z",
     "iopub.status.idle": "2024-01-27T09:32:52.128372Z",
     "shell.execute_reply": "2024-01-27T09:32:52.126212Z",
     "shell.execute_reply.started": "2024-01-27T09:32:52.110001Z"
    },
    "tags": []
   },
   "outputs": [],
   "source": [
    "def recommend(df, user):\n",
    "    similarity_scores = similar_to(df, user)\n",
    "    recs = []\n",
    "\n",
    "    # Only select movies that has np.nan ratings.\n",
    "    not_watched = df.columns[df.loc[user].isnull()]\n",
    "    for movie in not_watched:\n",
    "        # Ratings for the movie from other users.\n",
    "        rated_by_user = dict(df[movie].dropna())\n",
    "\n",
    "        sum_weight = 0\n",
    "        sum_rating = 0\n",
    "\n",
    "        for user, weight in similarity_scores:\n",
    "            # Ignore users that did not give rating.\n",
    "            if user not in rated_by_user:\n",
    "                continue\n",
    "\n",
    "            sum_weight += weight\n",
    "            sum_rating += weight * rated_by_user[user]\n",
    "\n",
    "        recs.append((movie, sum_rating / sum_weight))\n",
    "\n",
    "    # Sort by rating, in descending order (highest to lowest rating)\n",
    "    return sorted(recs, key=lambda t: t[1], reverse=True)"
   ]
  },
  {
   "cell_type": "code",
   "execution_count": 8,
   "id": "170be4ec-99d1-401d-8fc9-77465234b99e",
   "metadata": {
    "execution": {
     "iopub.execute_input": "2024-01-27T09:32:52.132528Z",
     "iopub.status.busy": "2024-01-27T09:32:52.131863Z",
     "iopub.status.idle": "2024-01-27T09:32:52.150040Z",
     "shell.execute_reply": "2024-01-27T09:32:52.146606Z",
     "shell.execute_reply.started": "2024-01-27T09:32:52.132485Z"
    },
    "tags": []
   },
   "outputs": [
    {
     "data": {
      "text/plain": [
       "[('The Night Listener', 3.3477895267131013),\n",
       " ('Lady in the Water', 2.8325499182641622),\n",
       " ('Just My Luck', 2.5309807037655645)]"
      ]
     },
     "execution_count": 8,
     "metadata": {},
     "output_type": "execute_result"
    }
   ],
   "source": [
    "recommend(df, \"Toby\")"
   ]
  },
  {
   "cell_type": "code",
   "execution_count": 9,
   "id": "c0336a04-1026-425b-bbd9-e2901f5c4473",
   "metadata": {
    "execution": {
     "iopub.execute_input": "2024-01-27T09:32:52.152716Z",
     "iopub.status.busy": "2024-01-27T09:32:52.152150Z",
     "iopub.status.idle": "2024-01-27T09:32:52.174921Z",
     "shell.execute_reply": "2024-01-27T09:32:52.170878Z",
     "shell.execute_reply.started": "2024-01-27T09:32:52.152674Z"
    },
    "tags": []
   },
   "outputs": [
    {
     "data": {
      "text/plain": [
       "[('Just My Luck', 2.963951538816176),\n",
       " ('You, Me and Dupree', 2.815352371380952)]"
      ]
     },
     "execution_count": 9,
     "metadata": {},
     "output_type": "execute_result"
    }
   ],
   "source": [
    "recommend(df, \"Michael Phillips\")"
   ]
  }
 ],
 "metadata": {
  "kernelspec": {
   "display_name": "Python 3 (ipykernel)",
   "language": "python",
   "name": "python3"
  },
  "language_info": {
   "codemirror_mode": {
    "name": "ipython",
    "version": 3
   },
   "file_extension": ".py",
   "mimetype": "text/x-python",
   "name": "python",
   "nbconvert_exporter": "python",
   "pygments_lexer": "ipython3",
   "version": "3.10.13"
  },
  "widgets": {
   "application/vnd.jupyter.widget-state+json": {
    "state": {},
    "version_major": 2,
    "version_minor": 0
   }
  }
 },
 "nbformat": 4,
 "nbformat_minor": 5
}
