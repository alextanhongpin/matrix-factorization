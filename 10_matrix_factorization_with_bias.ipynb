{
 "cells": [
  {
   "cell_type": "markdown",
   "id": "8caa3a86-0f54-434b-8a90-6c15e3fe9fb5",
   "metadata": {},
   "source": [
    "# Matrix Factorization with Bias\n",
    "\n",
    "Similar to 09_matrix_factorization.py, but with user and item bias (TODO: Add reference on why this bias is needed).\n",
    "\n",
    "## Reference:\n",
    "- https://github.com/GabrielSandoval/matrix_factorization/blob/master/lib/mf.py\n",
    "- https://d2l.ai/chapter_recommender-systems/mf.html\n",
    "- https://medium.com/@maxbrenner-ai/matrix-factorization-for-collaborative-filtering-linear-to-non-linear-models-in-python-5cf54363a03c\n",
    "- https://github.com/NicolasHug/Surprise/blob/master/surprise/prediction_algorithms/matrix_factorization.pyx"
   ]
  },
  {
   "cell_type": "markdown",
   "id": "08b1865c-2528-49fb-813b-327aaa464c91",
   "metadata": {},
   "source": [
    "Consider the following matrix of ratings. The rows are the users, while the columns are the items, and the values are the rating 1-5.\n",
    "In the first row, we see that user rated 5 for the item.\n",
    "\n",
    "The average rating for this matrix is 2.8 stars (after rounding)."
   ]
  },
  {
   "cell_type": "code",
   "execution_count": 1,
   "id": "51c662e1-b798-4516-bcde-c2fbc5cfa704",
   "metadata": {
    "execution": {
     "iopub.execute_input": "2024-01-29T19:51:51.068766Z",
     "iopub.status.busy": "2024-01-29T19:51:51.063636Z",
     "iopub.status.idle": "2024-01-29T19:51:51.458408Z",
     "shell.execute_reply": "2024-01-29T19:51:51.457361Z",
     "shell.execute_reply.started": "2024-01-29T19:51:51.068702Z"
    },
    "tags": []
   },
   "outputs": [
    {
     "data": {
      "text/plain": [
       "2.8"
      ]
     },
     "execution_count": 1,
     "metadata": {},
     "output_type": "execute_result"
    }
   ],
   "source": [
    "import numpy as np\n",
    "\n",
    "ratings = np.array(\n",
    "    [[5, 3, 0, 1], [4, 0, 0, 1], [1, 1, 0, 5], [1, 0, 0, 4], [0, 1, 5, 4]], dtype=float\n",
    ")\n",
    "avg_rating = np.mean(ratings[ratings.nonzero()])\n",
    "np.round(avg_rating, 1)"
   ]
  },
  {
   "cell_type": "markdown",
   "id": "3d351991-8c8e-4e96-827e-4deb15d332d2",
   "metadata": {},
   "source": [
    "We want to learn the bias of the user and the items. In the context of movie recommendation, the user bias can be a user that is picky about a user, and hence gives a lower rating (-0.5) than usual. However, the movie seems to have a of fans giving high rating (1.7).\n",
    "\n",
    "The final rating after taking into consideration the initial average rating, the user bias and the item bias is:\n",
    "\n",
    "```\n",
    "final_rating = 2.8 - 0.5 + 1.7\n",
    "             = 4.0\n",
    "```\n"
   ]
  },
  {
   "cell_type": "markdown",
   "id": "d017b776-a5db-4c24-950f-08ff999431ce",
   "metadata": {},
   "source": [
    "## Baseline Model\n",
    "\n",
    "In the baseline model, we cover only the user and item biases."
   ]
  },
  {
   "cell_type": "code",
   "execution_count": 2,
   "id": "960143b2-8d79-45ea-a001-9f04206a7c6a",
   "metadata": {
    "execution": {
     "iopub.execute_input": "2024-01-29T19:51:51.460616Z",
     "iopub.status.busy": "2024-01-29T19:51:51.460088Z",
     "iopub.status.idle": "2024-01-29T19:51:52.286679Z",
     "shell.execute_reply": "2024-01-29T19:51:52.284820Z",
     "shell.execute_reply.started": "2024-01-29T19:51:51.460578Z"
    }
   },
   "outputs": [],
   "source": [
    "import matplotlib.pyplot as plt\n",
    "import numpy as np"
   ]
  },
  {
   "cell_type": "code",
   "execution_count": 3,
   "id": "c0480c0a-5cc7-492b-a0f5-f49c2760306e",
   "metadata": {
    "execution": {
     "iopub.execute_input": "2024-01-29T19:51:52.329804Z",
     "iopub.status.busy": "2024-01-29T19:51:52.328944Z",
     "iopub.status.idle": "2024-01-29T19:51:52.401619Z",
     "shell.execute_reply": "2024-01-29T19:51:52.392027Z",
     "shell.execute_reply.started": "2024-01-29T19:51:52.329759Z"
    },
    "tags": []
   },
   "outputs": [],
   "source": [
    "# Assume we have some ratings matrix R\n",
    "R = np.array(\n",
    "    [[5, 3, 0, 1], [4, 0, 0, 1], [1, 1, 0, 5], [1, 0, 0, 4], [0, 1, 5, 4]],\n",
    "    dtype=np.float32,\n",
    ")\n",
    "\n",
    "# Initialize user and item embedding matrices\n",
    "num_users, num_items = R.shape\n",
    "\n",
    "# Initialize user and item bias vectors\n",
    "user_bias = np.zeros(num_users)\n",
    "item_bias = np.zeros(num_items)\n",
    "\n",
    "# Initialize average rating.\n",
    "avg_rating = R[R.nonzero()].mean()\n",
    "\n",
    "# Define the learning rate and regularization strength\n",
    "lr = 0.01\n",
    "reg_strength = 1e-5\n",
    "losses = []\n",
    "\n",
    "# Define the loss function\n",
    "def sse_loss():\n",
    "    R_hat = (avg_rating + user_bias[:, None] + item_bias[None, :]) * (R > 0)\n",
    "\n",
    "    loss = np.sum(np.square(R - R_hat)) + reg_strength * (\n",
    "        np.sum(np.square(user_bias)) + np.sum(np.square(item_bias))\n",
    "    )\n",
    "    return loss\n",
    "\n",
    "\n",
    "# Run the optimization\n",
    "for t in range(500):\n",
    "    for u, i in zip(*R.nonzero()):\n",
    "        b_u = user_bias[u]\n",
    "        b_i = item_bias[i]\n",
    "        R_hat = avg_rating + b_u + b_i\n",
    "        error = R[u, i] - R_hat\n",
    "\n",
    "        # Update parameters\n",
    "        user_bias[u] += lr * (error - reg_strength * b_u)\n",
    "        item_bias[i] += lr * (error - reg_strength * b_i)\n",
    "    losses.append(sse_loss())"
   ]
  },
  {
   "cell_type": "code",
   "execution_count": 4,
   "id": "3a5bc00c-abbc-4c5f-86e3-51a08513267d",
   "metadata": {
    "execution": {
     "iopub.execute_input": "2024-01-29T19:51:52.407766Z",
     "iopub.status.busy": "2024-01-29T19:51:52.406819Z",
     "iopub.status.idle": "2024-01-29T19:51:52.818082Z",
     "shell.execute_reply": "2024-01-29T19:51:52.817056Z",
     "shell.execute_reply.started": "2024-01-29T19:51:52.407706Z"
    },
    "tags": []
   },
   "outputs": [
    {
     "data": {
      "text/plain": [
       "[<matplotlib.lines.Line2D at 0x1138d4550>]"
      ]
     },
     "execution_count": 4,
     "metadata": {},
     "output_type": "execute_result"
    },
    {
     "data": {
      "image/png": "[encoded data removed]",
      "text/plain": [
       "<Figure size 640x480 with 1 Axes>"
      ]
     },
     "metadata": {},
     "output_type": "display_data"
    }
   ],
   "source": [
    "plt.plot(losses)"
   ]
  },
  {
   "cell_type": "code",
   "execution_count": 5,
   "id": "91c0a333-4b88-4223-89e5-91d0ce4be015",
   "metadata": {
    "execution": {
     "iopub.execute_input": "2024-01-29T19:51:52.821167Z",
     "iopub.status.busy": "2024-01-29T19:51:52.820465Z",
     "iopub.status.idle": "2024-01-29T19:51:52.874573Z",
     "shell.execute_reply": "2024-01-29T19:51:52.831600Z",
     "shell.execute_reply.started": "2024-01-29T19:51:52.821124Z"
    },
    "tags": []
   },
   "outputs": [
    {
     "name": "stdout",
     "output_type": "stream",
     "text": [
      "Original ratings:\n",
      "[[5. 3. 0. 1.]\n",
      " [4. 0. 0. 1.]\n",
      " [1. 1. 0. 5.]\n",
      " [1. 0. 0. 4.]\n",
      " [0. 1. 5. 4.]]\n"
     ]
    }
   ],
   "source": [
    "print(\"Original ratings:\")\n",
    "print(R)"
   ]
  },
  {
   "cell_type": "markdown",
   "id": "080878c4-e545-42ac-97f9-a5051410cab5",
   "metadata": {},
   "source": [
    "### Reconstructed Ratings"
   ]
  },
  {
   "cell_type": "code",
   "execution_count": 6,
   "id": "f5caec58-d8ac-45d8-b3b9-fff00642e2ef",
   "metadata": {
    "execution": {
     "iopub.execute_input": "2024-01-29T19:51:52.889213Z",
     "iopub.status.busy": "2024-01-29T19:51:52.887121Z",
     "iopub.status.idle": "2024-01-29T19:51:52.944718Z",
     "shell.execute_reply": "2024-01-29T19:51:52.941543Z",
     "shell.execute_reply.started": "2024-01-29T19:51:52.889166Z"
    },
    "tags": []
   },
   "outputs": [
    {
     "name": "stdout",
     "output_type": "stream",
     "text": [
      "Reconstructed ratings:\n",
      "[[3.39 2.39 2.76 2.4  3.14]\n",
      " [1.96 0.96 1.32 0.97 1.7 ]\n",
      " [5.23 4.23 4.59 4.24 4.98]\n",
      " [3.6  2.59 2.96 2.61 3.34]]\n"
     ]
    }
   ],
   "source": [
    "print(\"Reconstructed ratings:\")\n",
    "R_hat = avg_rating + user_bias[None, :] + item_bias[:, None]\n",
    "print(np.round(R_hat, 2))"
   ]
  },
  {
   "cell_type": "code",
   "execution_count": 7,
   "id": "85757b10-0fed-48a8-b146-7b7319c96bca",
   "metadata": {
    "execution": {
     "iopub.execute_input": "2024-01-29T19:51:52.955181Z",
     "iopub.status.busy": "2024-01-29T19:51:52.954761Z",
     "iopub.status.idle": "2024-01-29T19:51:52.987498Z",
     "shell.execute_reply": "2024-01-29T19:51:52.969832Z",
     "shell.execute_reply.started": "2024-01-29T19:51:52.955152Z"
    },
    "tags": []
   },
   "outputs": [
    {
     "data": {
      "text/plain": [
       "(array([ 0.66653365, -0.33668706,  0.02688787, -0.32327512,  0.41037416]),\n",
       " array([-0.04111797, -1.47561217,  1.79879217,  0.16192943]))"
      ]
     },
     "execution_count": 7,
     "metadata": {},
     "output_type": "execute_result"
    }
   ],
   "source": [
    "user_bias, item_bias"
   ]
  },
  {
   "cell_type": "markdown",
   "id": "499e56e7-68a8-44c8-95f3-f48c78fed32c",
   "metadata": {},
   "source": [
    "## SVD\n",
    "\n",
    "See formula here:\n",
    "\n",
    "https://github.com/recommenders-team/recommenders/blob/main/examples/02_model_collaborative_filtering/surprise_svd_deep_dive.ipynb"
   ]
  },
  {
   "cell_type": "code",
   "execution_count": 8,
   "id": "b7338268-639f-49d8-82dc-b1021358506f",
   "metadata": {
    "execution": {
     "iopub.execute_input": "2024-01-29T19:51:53.007909Z",
     "iopub.status.busy": "2024-01-29T19:51:52.993658Z",
     "iopub.status.idle": "2024-01-29T19:51:53.318840Z",
     "shell.execute_reply": "2024-01-29T19:51:53.317598Z",
     "shell.execute_reply.started": "2024-01-29T19:51:53.007754Z"
    },
    "tags": []
   },
   "outputs": [],
   "source": [
    "# Assume we have some ratings matrix R\n",
    "R = np.array(\n",
    "    [[5, 3, 0, 1], [4, 0, 0, 1], [1, 1, 0, 5], [1, 0, 0, 4], [0, 1, 5, 4]],\n",
    "    dtype=np.float32,\n",
    ")\n",
    "\n",
    "# Initialize user and item embedding matrices\n",
    "num_users, num_items = R.shape\n",
    "embedding_dim = 10\n",
    "U = np.random.normal(size=(num_users, embedding_dim))\n",
    "V = np.random.normal(size=(num_items, embedding_dim))\n",
    "\n",
    "# Initialize user and item bias vectors\n",
    "user_bias = np.zeros(num_users)\n",
    "item_bias = np.zeros(num_items)\n",
    "\n",
    "# Initialize average rating.\n",
    "avg_rating = R[R.nonzero()].mean()\n",
    "\n",
    "# Define the learning rate and regularization strength\n",
    "lr = 0.01\n",
    "reg_strength = 1e-5\n",
    "losses = []\n",
    "\n",
    "mask = R > 0\n",
    "# We take into considerating the known ratings only when calculating errors.\n",
    "known_ratings = np.sum(mask)\n",
    "\n",
    "# Define the loss function\n",
    "def sse_loss(U, V, user_bias, item_bias, avg_rating, R):\n",
    "    R_hat = U @ V.T + user_bias[:, None] + item_bias[None, :] + avg_rating\n",
    "    R_hat *= mask\n",
    "\n",
    "    # Squared sum error (SSE) of known ratings.\n",
    "    loss = np.sum(np.square(R - R_hat))\n",
    "    # Add regularization\n",
    "    loss += reg_strength * (\n",
    "        np.sum(U ** 2)\n",
    "        + np.sum(V ** 2)\n",
    "        + np.sum(user_bias ** 2)\n",
    "        + np.sum(item_bias ** 2)\n",
    "    )\n",
    "    return loss\n",
    "\n",
    "\n",
    "# Run the optimization\n",
    "for t in range(500):\n",
    "    for u, i in zip(*R.nonzero()):\n",
    "        b_u = user_bias[u]\n",
    "        b_i = item_bias[i]\n",
    "        R_hat = U[u, :] @ V[i, :].T + b_u + b_i + avg_rating\n",
    "        error = R[u, i] - R_hat\n",
    "\n",
    "        # Compute gradients\n",
    "        grad_U = error * V[i, :] - reg_strength * U[u, :]\n",
    "        grad_V = error * U[u, :] - reg_strength * V[i, :]\n",
    "        grad_user_bias = error - reg_strength * b_u\n",
    "        grad_item_bias = error - reg_strength * b_i\n",
    "\n",
    "        # Update parameters\n",
    "        U[u, :] += lr * grad_U\n",
    "        V[i, :] += lr * grad_V\n",
    "        user_bias[u] += lr * grad_user_bias\n",
    "        item_bias[i] += lr * grad_item_bias\n",
    "\n",
    "    loss = sse_loss(U, V, user_bias, item_bias, avg_rating, R)\n",
    "    if i % 100 == 0:\n",
    "        print(\"Iteration\", i, \"Loss\", loss)\n",
    "    losses.append(loss)"
   ]
  },
  {
   "cell_type": "code",
   "execution_count": 9,
   "id": "c501f398-e26e-4630-a127-e0cad86e7daf",
   "metadata": {
    "execution": {
     "iopub.execute_input": "2024-01-29T19:51:53.325205Z",
     "iopub.status.busy": "2024-01-29T19:51:53.320988Z",
     "iopub.status.idle": "2024-01-29T19:51:53.728187Z",
     "shell.execute_reply": "2024-01-29T19:51:53.720369Z",
     "shell.execute_reply.started": "2024-01-29T19:51:53.325153Z"
    },
    "tags": []
   },
   "outputs": [
    {
     "data": {
      "text/plain": [
       "[<matplotlib.lines.Line2D at 0x113999840>]"
      ]
     },
     "execution_count": 9,
     "metadata": {},
     "output_type": "execute_result"
    },
    {
     "data": {
      "image/png": "[encoded data removed]",
      "text/plain": [
       "<Figure size 640x480 with 1 Axes>"
      ]
     },
     "metadata": {},
     "output_type": "display_data"
    }
   ],
   "source": [
    "plt.plot(losses)"
   ]
  },
  {
   "cell_type": "code",
   "execution_count": 10,
   "id": "304e610f-4cc2-4afd-8202-00e84f558216",
   "metadata": {
    "execution": {
     "iopub.execute_input": "2024-01-29T19:51:53.730718Z",
     "iopub.status.busy": "2024-01-29T19:51:53.729565Z",
     "iopub.status.idle": "2024-01-29T19:51:53.929525Z",
     "shell.execute_reply": "2024-01-29T19:51:53.748630Z",
     "shell.execute_reply.started": "2024-01-29T19:51:53.730605Z"
    },
    "tags": []
   },
   "outputs": [
    {
     "name": "stdout",
     "output_type": "stream",
     "text": [
      "Original ratings:\n",
      "[[5. 3. 0. 1.]\n",
      " [4. 0. 0. 1.]\n",
      " [1. 1. 0. 5.]\n",
      " [1. 0. 0. 4.]\n",
      " [0. 1. 5. 4.]]\n"
     ]
    }
   ],
   "source": [
    "print(\"Original ratings:\")\n",
    "print(R)"
   ]
  },
  {
   "cell_type": "markdown",
   "id": "ca0cdb3e-0290-450c-aecb-7c58ce9adc46",
   "metadata": {},
   "source": [
    "### Reconstructed Ratings"
   ]
  },
  {
   "cell_type": "code",
   "execution_count": 11,
   "id": "9af3b788-a9ec-4d90-a88e-bb2f48a7cc44",
   "metadata": {
    "execution": {
     "iopub.execute_input": "2024-01-29T19:51:53.966899Z",
     "iopub.status.busy": "2024-01-29T19:51:53.945754Z",
     "iopub.status.idle": "2024-01-29T19:51:54.051598Z",
     "shell.execute_reply": "2024-01-29T19:51:54.049395Z",
     "shell.execute_reply.started": "2024-01-29T19:51:53.966826Z"
    },
    "tags": []
   },
   "outputs": [
    {
     "name": "stdout",
     "output_type": "stream",
     "text": [
      "Reconstructed ratings:\n",
      "[[ 5.    3.    2.91  1.  ]\n",
      " [ 4.   -3.07 -3.69  1.  ]\n",
      " [ 1.    1.    4.48  5.  ]\n",
      " [ 1.   -0.36  1.09  4.  ]\n",
      " [ 1.18  1.    5.    4.  ]]\n"
     ]
    }
   ],
   "source": [
    "print(\"Reconstructed ratings:\")\n",
    "R_hat = U @ V.T + user_bias[:, None] + item_bias[None, :] + avg_rating\n",
    "print(np.round(R_hat, 2))"
   ]
  },
  {
   "cell_type": "code",
   "execution_count": 12,
   "id": "43242662-d787-47fb-82da-f54633c24650",
   "metadata": {
    "execution": {
     "iopub.execute_input": "2024-01-29T19:51:54.119936Z",
     "iopub.status.busy": "2024-01-29T19:51:54.119076Z",
     "iopub.status.idle": "2024-01-29T19:51:54.152358Z",
     "shell.execute_reply": "2024-01-29T19:51:54.149673Z",
     "shell.execute_reply.started": "2024-01-29T19:51:54.119889Z"
    },
    "tags": []
   },
   "outputs": [
    {
     "data": {
      "text/plain": [
       "0.0010407735870494564"
      ]
     },
     "execution_count": 12,
     "metadata": {},
     "output_type": "execute_result"
    }
   ],
   "source": [
    "sse_loss(U, V, user_bias, item_bias, avg_rating, R)"
   ]
  },
  {
   "cell_type": "markdown",
   "id": "2a50dc98-c5a4-457c-8558-2d327d726cfd",
   "metadata": {},
   "source": [
    "### Output"
   ]
  },
  {
   "cell_type": "code",
   "execution_count": 13,
   "id": "97e104f5-e799-4294-b687-6ded014c47b3",
   "metadata": {
    "execution": {
     "iopub.execute_input": "2024-01-29T19:51:54.166350Z",
     "iopub.status.busy": "2024-01-29T19:51:54.165177Z",
     "iopub.status.idle": "2024-01-29T19:51:54.192732Z",
     "shell.execute_reply": "2024-01-29T19:51:54.189430Z",
     "shell.execute_reply.started": "2024-01-29T19:51:54.166281Z"
    },
    "tags": []
   },
   "outputs": [
    {
     "data": {
      "text/plain": [
       "array([[5. , 3. , 2.9, 1. ],\n",
       "       [4. , 0. , 0. , 1. ],\n",
       "       [1. , 1. , 4.5, 5. ],\n",
       "       [1. , 0. , 1.1, 4. ],\n",
       "       [1.2, 1. , 5. , 4. ]], dtype=float32)"
      ]
     },
     "execution_count": 13,
     "metadata": {},
     "output_type": "execute_result"
    }
   ],
   "source": [
    "# If the replace does not work, check if the data type for R matches R_hat, which is float.\n",
    "# If the data type of the matrix to replace does not match, it will silently failed.\n",
    "mask = R == 0\n",
    "R[mask] = R_hat[mask]\n",
    "np.maximum(np.round(R, 1), 0)"
   ]
  },
  {
   "cell_type": "markdown",
   "id": "385ad942-360f-415b-a992-56dc9eeb0691",
   "metadata": {
    "execution": {
     "iopub.execute_input": "2024-01-28T10:06:01.995232Z",
     "iopub.status.busy": "2024-01-28T10:06:01.993201Z",
     "iopub.status.idle": "2024-01-28T10:06:02.023249Z",
     "shell.execute_reply": "2024-01-28T10:06:02.021036Z",
     "shell.execute_reply.started": "2024-01-28T10:06:01.995179Z"
    },
    "tags": []
   },
   "source": [
    "## Using Keras"
   ]
  },
  {
   "cell_type": "markdown",
   "id": "d2c39e5d-52ca-48ef-9947-8b53f57c3f87",
   "metadata": {},
   "source": [
    "The `tf.reduce_sum` function is used in the loss function to sum up all the individual squared differences between the actual ratings and the predicted ratings.\n",
    "\n",
    "In the context of matrix factorization, the goal is to find the user and item embeddings that minimize the total (or sum of) squared differences between the actual and predicted ratings. This is known as the Mean Squared Error (MSE) loss, and it's a common choice for regression problems.\n",
    "\n",
    "The `tf.reduce_sum` function is used instead of `tf.reduce_mean` because we're only considering non-zero entries in the ratings matrix (i.e., the user-item pairs where a rating is available). The number of such entries is not fixed (it depends on the sparsity of the ratings matrix), so it's simpler to sum up all the squared differences and let the optimizer find the minimum of this sum.\n",
    "\n",
    "If you were to use `tf.reduce_mean`, you would need to divide by the number of non-zero entries, which would add an extra step to the computation. The optimizer would still be able to find the minimum of the mean loss, but the loss values reported during training would be smaller by a factor equal to the number of non-zero entries."
   ]
  },
  {
   "cell_type": "code",
   "execution_count": 14,
   "id": "299e59bf-60dd-4939-bbd6-56bde9605079",
   "metadata": {
    "execution": {
     "iopub.execute_input": "2024-01-29T19:51:54.270342Z",
     "iopub.status.busy": "2024-01-29T19:51:54.269860Z",
     "iopub.status.idle": "2024-01-29T19:52:09.358506Z",
     "shell.execute_reply": "2024-01-29T19:52:09.357464Z",
     "shell.execute_reply.started": "2024-01-29T19:51:54.270301Z"
    },
    "tags": []
   },
   "outputs": [
    {
     "name": "stderr",
     "output_type": "stream",
     "text": [
      "2024-01-30 03:51:57.592935: I tensorflow/core/platform/cpu_feature_guard.cc:182] This TensorFlow binary is optimized to use available CPU instructions in performance-critical operations.\n",
      "To enable the following instructions: AVX2 FMA, in other operations, rebuild TensorFlow with the appropriate compiler flags.\n"
     ]
    },
    {
     "name": "stdout",
     "output_type": "stream",
     "text": [
      "0 38.574196\n",
      "100 0.31343275\n",
      "200 0.01619082\n",
      "300 0.0006182658\n",
      "400 2.1748392e-05\n"
     ]
    }
   ],
   "source": [
    "import tensorflow as tf\n",
    "\n",
    "R = tf.constant(\n",
    "    [[5, 3, 0, 1], [4, 0, 0, 1], [1, 1, 0, 5], [1, 0, 0, 4], [0, 1, 5, 4]],\n",
    "    dtype=tf.float32,\n",
    ")\n",
    "n_user, n_item = R.shape\n",
    "K = min(R.shape) - 2\n",
    "\n",
    "\n",
    "U = tf.Variable(tf.random.normal([n_user, K], stddev=0.1))\n",
    "V = tf.Variable(tf.random.normal([n_item, K], stddev=0.1))\n",
    "\n",
    "N = n_user * n_item\n",
    "\n",
    "\n",
    "avg_rating = tf.constant(\n",
    "    tf.math.reduce_mean(R[tf.math.not_equal(R, 0)]), name=\"global_average\"\n",
    ")\n",
    "b_u = tf.Variable(tf.zeros(n_user), name=\"user_bias\")\n",
    "b_i = tf.Variable(tf.zeros(n_item), name=\"item_bias\")\n",
    "\n",
    "T = 500  # Epochs\n",
    "alpha = 0.01  # learning rate\n",
    "beta = 1e-5\n",
    "\n",
    "trainable_weights = [U, V, b_u, b_i]\n",
    "optimizer = tf.keras.optimizers.SGD(learning_rate=alpha, weight_decay=beta)\n",
    "losses = []\n",
    "\n",
    "# Define the loss function\n",
    "def mse_loss(U, V, b_u, b_i, R):\n",
    "    R_hat = tf.matmul(U, V, transpose_b=True) + b_u[:, None] + b_i[None, :] + avg_rating\n",
    "\n",
    "    # non_zero_mask = tf.math.not_equal(tf.reshape(R, [-1]), 0)\n",
    "    # indices = tf.where(non_zero_mask)\n",
    "    # loss = tf.keras.metrics.mean_squared_error(\n",
    "    #     tf.gather(tf.reshape(R, [-1]), indices),\n",
    "    #     tf.gather(tf.reshape(R_hat, [-1]), indices),\n",
    "    # )\n",
    "    # return loss\n",
    "    # num_ratings = tf.reduce_sum(tf.cast(non_zero_mask, tf.float32))\n",
    "    # loss = tf.reduce_sum(tf.square(R - R_hat) * tf.cast(non_zero_mask, tf.float32))\n",
    "    # return tf.divide(loss, num_ratings)\n",
    "    # We are not using the mean.\n",
    "    # This changes the scale of the loss values and the gradients, but doesn't fundamentally change the optimization problem.\n",
    "    non_zero_mask = tf.math.not_equal(R, 0)\n",
    "    loss = tf.reduce_sum(tf.square(R - R_hat) * tf.cast(non_zero_mask, tf.float32))\n",
    "    return loss\n",
    "\n",
    "\n",
    "for t in range(T):\n",
    "    with tf.GradientTape() as tape:\n",
    "        # We rely on automatic differentiation to calculate the gradient loss.\n",
    "        loss = mse_loss(U, V, b_u, b_i, R)\n",
    "    grads = tape.gradient(loss, trainable_weights)\n",
    "    optimizer.apply_gradients(zip(grads, trainable_weights))\n",
    "    losses.append(tf.reduce_mean(loss).numpy())\n",
    "\n",
    "    if t % 100 == 0:\n",
    "        print(t, tf.reduce_mean(loss).numpy())"
   ]
  },
  {
   "cell_type": "code",
   "execution_count": 15,
   "id": "0c91bbef-4c42-46dc-b7ec-e99bf6b67b84",
   "metadata": {
    "execution": {
     "iopub.execute_input": "2024-01-29T19:52:09.361228Z",
     "iopub.status.busy": "2024-01-29T19:52:09.360301Z",
     "iopub.status.idle": "2024-01-29T19:52:09.687554Z",
     "shell.execute_reply": "2024-01-29T19:52:09.684779Z",
     "shell.execute_reply.started": "2024-01-29T19:52:09.361180Z"
    },
    "tags": []
   },
   "outputs": [
    {
     "data": {
      "text/plain": [
       "[<matplotlib.lines.Line2D at 0x1329997b0>]"
      ]
     },
     "execution_count": 15,
     "metadata": {},
     "output_type": "execute_result"
    },
    {
     "data": {
      "image/png": "[encoded data removed]",
      "text/plain": [
       "<Figure size 640x480 with 1 Axes>"
      ]
     },
     "metadata": {},
     "output_type": "display_data"
    }
   ],
   "source": [
    "plt.plot(losses)"
   ]
  },
  {
   "cell_type": "code",
   "execution_count": 16,
   "id": "efe7ebfc-029e-4bc1-ae00-1869ac7fae47",
   "metadata": {
    "execution": {
     "iopub.execute_input": "2024-01-29T19:52:09.689947Z",
     "iopub.status.busy": "2024-01-29T19:52:09.688814Z",
     "iopub.status.idle": "2024-01-29T19:52:09.738332Z",
     "shell.execute_reply": "2024-01-29T19:52:09.733211Z",
     "shell.execute_reply.started": "2024-01-29T19:52:09.689903Z"
    },
    "tags": []
   },
   "outputs": [],
   "source": [
    "R_hat = (\n",
    "    tf.matmul(U, V, transpose_b=True) + b_u[:, None] + b_i[None, :] + avg_rating\n",
    ").numpy()\n",
    "R = R.numpy()"
   ]
  },
  {
   "cell_type": "code",
   "execution_count": 17,
   "id": "dc1b0cc6-6bcb-4ddc-aac3-8f0967d23c3b",
   "metadata": {
    "execution": {
     "iopub.execute_input": "2024-01-29T19:52:09.744973Z",
     "iopub.status.busy": "2024-01-29T19:52:09.740290Z",
     "iopub.status.idle": "2024-01-29T19:52:09.814812Z",
     "shell.execute_reply": "2024-01-29T19:52:09.812116Z",
     "shell.execute_reply.started": "2024-01-29T19:52:09.744922Z"
    },
    "tags": []
   },
   "outputs": [
    {
     "data": {
      "text/plain": [
       "array([[5., 3., 0., 1.],\n",
       "       [4., 0., 0., 1.],\n",
       "       [1., 1., 0., 5.],\n",
       "       [1., 0., 0., 4.],\n",
       "       [0., 1., 5., 4.]], dtype=float32)"
      ]
     },
     "execution_count": 17,
     "metadata": {},
     "output_type": "execute_result"
    }
   ],
   "source": [
    "R"
   ]
  },
  {
   "cell_type": "markdown",
   "id": "e678fb06-34e4-4c31-9228-8b84303fef0d",
   "metadata": {},
   "source": [
    "### Reconstructed Ratings"
   ]
  },
  {
   "cell_type": "code",
   "execution_count": 18,
   "id": "83e005b2-5713-46cb-bdff-7b6b0a4fa677",
   "metadata": {
    "execution": {
     "iopub.execute_input": "2024-01-29T19:52:09.840341Z",
     "iopub.status.busy": "2024-01-29T19:52:09.839127Z",
     "iopub.status.idle": "2024-01-29T19:52:09.856131Z",
     "shell.execute_reply": "2024-01-29T19:52:09.852486Z",
     "shell.execute_reply.started": "2024-01-29T19:52:09.840307Z"
    },
    "tags": []
   },
   "outputs": [
    {
     "data": {
      "text/plain": [
       "array([[5.  , 3.  , 4.85, 1.  ],\n",
       "       [4.  , 2.29, 4.36, 1.  ],\n",
       "       [1.  , 1.  , 5.13, 5.  ],\n",
       "       [1.  , 0.69, 4.63, 4.  ],\n",
       "       [1.6 , 1.  , 5.  , 4.  ]], dtype=float32)"
      ]
     },
     "execution_count": 18,
     "metadata": {},
     "output_type": "execute_result"
    }
   ],
   "source": [
    "np.round(R_hat, 2)"
   ]
  },
  {
   "cell_type": "code",
   "execution_count": 19,
   "id": "c2f3d8fa-326f-49a7-b901-f6c323649645",
   "metadata": {
    "execution": {
     "iopub.execute_input": "2024-01-29T19:52:09.860126Z",
     "iopub.status.busy": "2024-01-29T19:52:09.858942Z",
     "iopub.status.idle": "2024-01-29T19:52:09.872899Z",
     "shell.execute_reply": "2024-01-29T19:52:09.871320Z",
     "shell.execute_reply.started": "2024-01-29T19:52:09.860086Z"
    },
    "tags": []
   },
   "outputs": [
    {
     "data": {
      "text/plain": [
       "array([[5. , 3. , 4.8, 1. ],\n",
       "       [4. , 2.3, 4.4, 1. ],\n",
       "       [1. , 1. , 5.1, 5. ],\n",
       "       [1. , 0.7, 4.6, 4. ],\n",
       "       [1.6, 1. , 5. , 4. ]], dtype=float32)"
      ]
     },
     "execution_count": 19,
     "metadata": {},
     "output_type": "execute_result"
    }
   ],
   "source": [
    "mask = R == 0\n",
    "R[mask] = R_hat[mask]\n",
    "np.round(R, 1)"
   ]
  },
  {
   "cell_type": "markdown",
   "id": "210ce03d-1bd5-41ca-8f71-866795949663",
   "metadata": {
    "execution": {
     "iopub.execute_input": "2024-01-28T14:51:21.110213Z",
     "iopub.status.busy": "2024-01-28T14:51:21.109585Z",
     "iopub.status.idle": "2024-01-28T14:51:21.118852Z",
     "shell.execute_reply": "2024-01-28T14:51:21.116140Z",
     "shell.execute_reply.started": "2024-01-28T14:51:21.110158Z"
    },
    "tags": []
   },
   "source": [
    "### Output"
   ]
  },
  {
   "cell_type": "code",
   "execution_count": 20,
   "id": "73d3991c-398d-40fd-949e-5ae96449ce85",
   "metadata": {
    "execution": {
     "iopub.execute_input": "2024-01-29T19:52:09.876088Z",
     "iopub.status.busy": "2024-01-29T19:52:09.875490Z",
     "iopub.status.idle": "2024-01-29T19:52:09.892749Z",
     "shell.execute_reply": "2024-01-29T19:52:09.889728Z",
     "shell.execute_reply.started": "2024-01-29T19:52:09.876046Z"
    },
    "tags": []
   },
   "outputs": [
    {
     "data": {
      "text/plain": [
       "array([[5. , 3. , 4.8, 1. ],\n",
       "       [4. , 2.3, 4.4, 1. ],\n",
       "       [1. , 1. , 5. , 5. ],\n",
       "       [1. , 0.7, 4.6, 4. ],\n",
       "       [1.6, 1. , 5. , 4. ]], dtype=float32)"
      ]
     },
     "execution_count": 20,
     "metadata": {},
     "output_type": "execute_result"
    }
   ],
   "source": [
    "# We still have issue with negative values, and some values goes beyond 5.\n",
    "np.round(np.clip(R, 0, 5), 1)"
   ]
  },
  {
   "cell_type": "markdown",
   "id": "94f3dd15-228b-405a-b690-928eb0f67740",
   "metadata": {},
   "source": [
    "## Keras, skipping ratings"
   ]
  },
  {
   "cell_type": "code",
   "execution_count": 21,
   "id": "410b7b5e-601e-45bf-8a9d-dedfe78c5e2b",
   "metadata": {
    "execution": {
     "iopub.execute_input": "2024-01-29T19:52:09.896738Z",
     "iopub.status.busy": "2024-01-29T19:52:09.895271Z",
     "iopub.status.idle": "2024-01-29T19:52:20.626531Z",
     "shell.execute_reply": "2024-01-29T19:52:20.625554Z",
     "shell.execute_reply.started": "2024-01-29T19:52:09.896691Z"
    },
    "tags": []
   },
   "outputs": [
    {
     "name": "stdout",
     "output_type": "stream",
     "text": [
      "Epoch 0 Loss 4.8182354\n",
      "Epoch 100 Loss 0.38364327\n",
      "Epoch 200 Loss 0.037215076\n",
      "Epoch 300 Loss 0.00077601854\n",
      "Epoch 400 Loss 1.9329402e-06\n"
     ]
    }
   ],
   "source": [
    "import numpy as np\n",
    "import tensorflow as tf\n",
    "\n",
    "# Assume we have some ratings matrix R\n",
    "R = np.array(\n",
    "    [[5, 3, 0, 1], [4, 0, 0, 1], [1, 1, 0, 5], [1, 0, 0, 4], [0, 1, 5, 4]],\n",
    "    dtype=np.float32,\n",
    ")\n",
    "\n",
    "# Get the number of users and items\n",
    "num_users, num_items = R.shape\n",
    "\n",
    "# Get the indices of non-zero entries\n",
    "user_ids, item_ids = np.nonzero(R)\n",
    "\n",
    "# Get the corresponding ratings\n",
    "ratings = R[user_ids, item_ids]\n",
    "\n",
    "# Define the embedding dimension\n",
    "embedding_dim = 2\n",
    "\n",
    "# Initialize user and item embedding matrices\n",
    "U = tf.Variable(tf.random.normal((num_users, embedding_dim)))\n",
    "V = tf.Variable(tf.random.normal((num_items, embedding_dim)))\n",
    "\n",
    "# Initialize user and item bias vectors\n",
    "user_bias = tf.Variable(tf.zeros(num_users))\n",
    "item_bias = tf.Variable(tf.zeros(num_items))\n",
    "\n",
    "# Initialize global bias\n",
    "avg_rating = tf.constant(np.mean(ratings))\n",
    "\n",
    "# Define the learning rate\n",
    "lr = 0.01\n",
    "\n",
    "# Define the number of epochs\n",
    "epochs = 500\n",
    "\n",
    "# Define the optimizer\n",
    "optimizer = tf.optimizers.Adam(lr)\n",
    "losses = []\n",
    "# Run the optimization\n",
    "for epoch in range(epochs):\n",
    "    with tf.GradientTape() as tape:\n",
    "        # Compute the dot product between the user and item embeddings\n",
    "        prediction = tf.reduce_sum(\n",
    "            tf.gather(U, user_ids) * tf.gather(V, item_ids), axis=1\n",
    "        )\n",
    "\n",
    "        # Add the biases to the prediction\n",
    "        prediction += (\n",
    "            avg_rating + tf.gather(user_bias, user_ids) + tf.gather(item_bias, item_ids)\n",
    "        )\n",
    "\n",
    "        # Compute the mean squared error loss\n",
    "        loss = tf.reduce_mean((ratings - prediction) ** 2)\n",
    "\n",
    "    # Compute the gradients\n",
    "    grads = tape.gradient(loss, [U, V, user_bias, item_bias])\n",
    "\n",
    "    # Apply the gradients\n",
    "    optimizer.apply_gradients(zip(grads, [U, V, user_bias, item_bias]))\n",
    "    if epoch % 100 == 0:\n",
    "        print(\"Epoch\", epoch, \"Loss\", loss.numpy())\n",
    "    losses.append(loss.numpy())"
   ]
  },
  {
   "cell_type": "code",
   "execution_count": 22,
   "id": "cbe0ab6c-cc9f-48ba-b628-c9eb22ffe5f3",
   "metadata": {
    "execution": {
     "iopub.execute_input": "2024-01-29T19:52:20.634545Z",
     "iopub.status.busy": "2024-01-29T19:52:20.630090Z",
     "iopub.status.idle": "2024-01-29T19:52:20.912999Z",
     "shell.execute_reply": "2024-01-29T19:52:20.911981Z",
     "shell.execute_reply.started": "2024-01-29T19:52:20.634509Z"
    },
    "tags": []
   },
   "outputs": [
    {
     "data": {
      "text/plain": [
       "[<matplotlib.lines.Line2D at 0x1329f2320>]"
      ]
     },
     "execution_count": 22,
     "metadata": {},
     "output_type": "execute_result"
    },
    {
     "data": {
      "image/png": "[encoded data removed]",
      "text/plain": [
       "<Figure size 640x480 with 1 Axes>"
      ]
     },
     "metadata": {},
     "output_type": "display_data"
    }
   ],
   "source": [
    "plt.plot(losses)"
   ]
  },
  {
   "cell_type": "markdown",
   "id": "a6d94f79-8715-43b0-8424-0e538b6b383b",
   "metadata": {},
   "source": [
    "### Reconstructed Ratings"
   ]
  },
  {
   "cell_type": "code",
   "execution_count": 23,
   "id": "04eb3274-7d0b-4ff9-9f63-25cc43b1a7ac",
   "metadata": {
    "execution": {
     "iopub.execute_input": "2024-01-29T19:52:20.915642Z",
     "iopub.status.busy": "2024-01-29T19:52:20.914915Z",
     "iopub.status.idle": "2024-01-29T19:52:20.929738Z",
     "shell.execute_reply": "2024-01-29T19:52:20.928627Z",
     "shell.execute_reply.started": "2024-01-29T19:52:20.915598Z"
    },
    "tags": []
   },
   "outputs": [
    {
     "data": {
      "text/plain": [
       "array([[5.  , 3.  , 9.05, 1.  ],\n",
       "       [4.  , 4.74, 7.58, 1.  ],\n",
       "       [1.  , 1.  , 2.06, 5.  ],\n",
       "       [1.  , 2.71, 2.36, 4.  ],\n",
       "       [2.84, 1.  , 5.  , 4.  ]], dtype=float32)"
      ]
     },
     "execution_count": 23,
     "metadata": {},
     "output_type": "execute_result"
    }
   ],
   "source": [
    "R_hat = (\n",
    "    U.numpy() @ V.numpy().T\n",
    "    + avg_rating.numpy()\n",
    "    + user_bias.numpy()[:, None]\n",
    "    + item_bias.numpy()[None, :]\n",
    ")\n",
    "np.round(R_hat, 2)"
   ]
  },
  {
   "cell_type": "markdown",
   "id": "f52e19a1-229e-440c-87f3-20608fa7ba84",
   "metadata": {},
   "source": [
    "## SGD"
   ]
  },
  {
   "cell_type": "code",
   "execution_count": 24,
   "id": "614df52e-b217-4af6-a544-9102bc6db176",
   "metadata": {
    "execution": {
     "iopub.execute_input": "2024-01-29T19:52:20.931904Z",
     "iopub.status.busy": "2024-01-29T19:52:20.931360Z",
     "iopub.status.idle": "2024-01-29T19:52:21.112502Z",
     "shell.execute_reply": "2024-01-29T19:52:21.110892Z",
     "shell.execute_reply.started": "2024-01-29T19:52:20.931843Z"
    },
    "tags": []
   },
   "outputs": [
    {
     "name": "stdout",
     "output_type": "stream",
     "text": [
      "Epoch 0 MSE Loss 6.1185182462121555\n",
      "Epoch 100 MSE Loss 3.1841804171769805\n",
      "Epoch 200 MSE Loss 3.136495989963544\n",
      "Epoch 300 MSE Loss 3.1315523532306746\n",
      "Epoch 400 MSE Loss 3.130803120373311\n"
     ]
    }
   ],
   "source": [
    "import numpy as np\n",
    "\n",
    "# Assume we have some ratings matrix R\n",
    "R = np.array(\n",
    "    [[5, 3, 0, 1], [4, 0, 0, 1], [1, 1, 0, 5], [1, 0, 0, 4], [0, 1, 5, 4]],\n",
    "    dtype=np.float32,\n",
    ")\n",
    "\n",
    "# Initialize user and item embedding matrices\n",
    "num_users, num_items = R.shape\n",
    "embedding_dim = 2\n",
    "U = np.random.normal(size=(num_users, embedding_dim))\n",
    "V = np.random.normal(size=(num_items, embedding_dim))\n",
    "\n",
    "# Initialize user and item bias vectors\n",
    "user_bias = np.zeros(num_users)\n",
    "item_bias = np.zeros(num_items)\n",
    "\n",
    "# Initialize global bias\n",
    "avg_rating = np.mean(R[R > 0])\n",
    "\n",
    "# Define the learning rate\n",
    "lr = 0.01\n",
    "\n",
    "# Define the number of epochs\n",
    "epochs = 500\n",
    "losses = []\n",
    "# Run the optimization\n",
    "for epoch in range(epochs):\n",
    "    for i in range(num_users):\n",
    "        for j in range(num_items):\n",
    "            if R[i, j] > 0:  # only consider non-zero entries\n",
    "                error = R[i, j] - (\n",
    "                    avg_rating + np.dot(U[i, :], V[j, :]) + user_bias[i] + item_bias[j]\n",
    "                )\n",
    "                U[i, :] += lr * error * V[j, :]\n",
    "                V[j, :] += lr * error * U[i, :]\n",
    "                user_bias[i] += lr * error\n",
    "                item_bias[j] += lr * error\n",
    "\n",
    "    mse_loss = np.sum(\n",
    "        (R - (avg_rating + np.dot(U, V.T) + user_bias[:, None] + item_bias[None, :]))\n",
    "        ** 2\n",
    "    ) / np.sum(R > 0)\n",
    "    if epoch % 100 == 0:\n",
    "        print(\"Epoch\", epoch, \"MSE Loss\", mse_loss)\n",
    "    losses.append(mse_loss)"
   ]
  },
  {
   "cell_type": "code",
   "execution_count": 25,
   "id": "3594d43e-0623-4e9f-812d-34aba477623a",
   "metadata": {
    "execution": {
     "iopub.execute_input": "2024-01-29T19:52:21.115862Z",
     "iopub.status.busy": "2024-01-29T19:52:21.114437Z",
     "iopub.status.idle": "2024-01-29T19:52:21.343308Z",
     "shell.execute_reply": "2024-01-29T19:52:21.336312Z",
     "shell.execute_reply.started": "2024-01-29T19:52:21.115814Z"
    },
    "tags": []
   },
   "outputs": [
    {
     "data": {
      "text/plain": [
       "[<matplotlib.lines.Line2D at 0x132a79f90>]"
      ]
     },
     "execution_count": 25,
     "metadata": {},
     "output_type": "execute_result"
    },
    {
     "data": {
      "image/png": "[encoded data removed]",
      "text/plain": [
       "<Figure size 640x480 with 1 Axes>"
      ]
     },
     "metadata": {},
     "output_type": "display_data"
    }
   ],
   "source": [
    "plt.plot(losses)"
   ]
  },
  {
   "cell_type": "markdown",
   "id": "ece7cb1f-7529-46c7-93a7-7e91de05813a",
   "metadata": {},
   "source": [
    "### Reconstructed Ratings"
   ]
  },
  {
   "cell_type": "code",
   "execution_count": 26,
   "id": "a08ca5e1-0e8f-46e2-816d-17ffeeef0113",
   "metadata": {
    "execution": {
     "iopub.execute_input": "2024-01-29T19:52:21.376986Z",
     "iopub.status.busy": "2024-01-29T19:52:21.376549Z",
     "iopub.status.idle": "2024-01-29T19:52:21.445740Z",
     "shell.execute_reply": "2024-01-29T19:52:21.421182Z",
     "shell.execute_reply.started": "2024-01-29T19:52:21.376941Z"
    },
    "tags": []
   },
   "outputs": [
    {
     "data": {
      "text/plain": [
       "array([[5.  , 3.  , 3.47, 1.  ],\n",
       "       [4.  , 1.82, 3.27, 1.  ],\n",
       "       [1.  , 1.  , 1.18, 5.  ],\n",
       "       [1.  , 1.17, 0.4 , 4.  ],\n",
       "       [3.42, 1.  , 5.  , 4.  ]])"
      ]
     },
     "execution_count": 26,
     "metadata": {},
     "output_type": "execute_result"
    }
   ],
   "source": [
    "np.round(avg_rating + np.dot(U, V.T) + user_bias[:, None] + item_bias[None, :], 2)"
   ]
  },
  {
   "cell_type": "code",
   "execution_count": null,
   "id": "4fbe82ee-0590-421b-b8f0-33ecceea02b9",
   "metadata": {},
   "outputs": [],
   "source": []
  }
 ],
 "metadata": {
  "kernelspec": {
   "display_name": "Python 3 (ipykernel)",
   "language": "python",
   "name": "python3"
  },
  "language_info": {
   "codemirror_mode": {
    "name": "ipython",
    "version": 3
   },
   "file_extension": ".py",
   "mimetype": "text/x-python",
   "name": "python",
   "nbconvert_exporter": "python",
   "pygments_lexer": "ipython3",
   "version": "3.10.13"
  },
  "widgets": {
   "application/vnd.jupyter.widget-state+json": {
    "state": {},
    "version_major": 2,
    "version_minor": 0
   }
  }
 },
 "nbformat": 4,
 "nbformat_minor": 5
}
