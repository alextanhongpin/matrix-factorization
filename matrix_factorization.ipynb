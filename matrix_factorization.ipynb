{
 "cells": [
  {
   "cell_type": "code",
   "execution_count": 67,
   "metadata": {},
   "outputs": [],
   "source": [
    "import pandas as pd\n",
    "import numpy as np"
   ]
  },
  {
   "cell_type": "code",
   "execution_count": 68,
   "metadata": {},
   "outputs": [],
   "source": [
    "movies = ['men in black', 'star trek', 'ace ventura', 'braveheart', 'sense sensibility and snowmen', 'les miserables']\n",
    "users = ['Sara', 'Jesper', 'Therese', 'Helle', 'Pietro', 'Ekaterina']"
   ]
  },
  {
   "cell_type": "code",
   "execution_count": 69,
   "metadata": {},
   "outputs": [],
   "source": [
    "M = pd.DataFrame([\n",
    "    [5.0, 3.0, 0.0, 2.0, 2.0, 2.0],\n",
    "    [4.0, 3.0, 4.0, 0.0, 3.0, 3.0],\n",
    "    [5.0, 2.0, 5.0, 2.0, 1.0, 1.0],\n",
    "    [3.0, 5.0, 3.0, 0.0, 1.0, 1.0],\n",
    "    [3.0, 3.0, 3.0, 2.0, 4.0, 5.0],\n",
    "    [2.0, 3.0, 2.0, 3.0, 5.0, 5.0]],\n",
    "    columns=movies,\n",
    "    index=users)"
   ]
  },
  {
   "cell_type": "markdown",
   "metadata": {},
   "source": [
    "## Imputation\n",
    "\n",
    "Solving the problem of zeros in the rating matrix using imputation. \n",
    "\n",
    "- calculate the mean of each item (or user) and fill in this mean where there are zeros in each row (or column) of the matrix\n",
    "- you can normalize each row, such that all elements are centered around zero, so the zeros will become the average"
   ]
  },
  {
   "cell_type": "code",
   "execution_count": 70,
   "metadata": {},
   "outputs": [],
   "source": [
    "# Calculates the mean of all movies.\n",
    "r_average = M[M > 0.0].mean()\n",
    "M[M == 0] = np.NaN\n",
    "M.fillna(r_average, inplace=True)"
   ]
  },
  {
   "cell_type": "code",
   "execution_count": 71,
   "metadata": {},
   "outputs": [
    {
     "data": {
      "text/plain": [
       "5.0"
      ]
     },
     "execution_count": 71,
     "metadata": {},
     "output_type": "execute_result"
    }
   ],
   "source": [
    "M['men in black']['Sara']"
   ]
  },
  {
   "cell_type": "code",
   "execution_count": 72,
   "metadata": {},
   "outputs": [],
   "source": [
    "U, Sigma, Vt = np.linalg.svd(M)"
   ]
  },
  {
   "cell_type": "code",
   "execution_count": 73,
   "metadata": {},
   "outputs": [],
   "source": [
    "def rank_k(k):\n",
    "    U_reduced = np.mat(U[:, :k]) # Select up to k columns.\n",
    "    Vt_reduced = np.mat(Vt[:k, :]) # Select up to k rows.\n",
    "    Sigma_reduced = np.eye(k) * Sigma[:k] # Construct back the diagonal matrix from the given list.\n",
    "    return U_reduced, Sigma_reduced, Vt_reduced"
   ]
  },
  {
   "cell_type": "code",
   "execution_count": 74,
   "metadata": {},
   "outputs": [
    {
     "data": {
      "text/plain": [
       "matrix([[4.96527904, 3.05025112, 3.4699645 , 1.83793044, 1.92302433,\n",
       "         2.10555193],\n",
       "        [4.01735702, 2.96224212, 3.9546778 , 2.38970844, 2.89013078,\n",
       "         3.06685268],\n",
       "        [4.98346886, 2.02958029, 5.03794119, 1.89657357, 1.0297349 ,\n",
       "         0.99672747],\n",
       "        [3.01306011, 4.98240471, 2.97475285, 2.30489446, 1.04428991,\n",
       "         0.94793143],\n",
       "        [3.09822111, 2.86285057, 2.80617696, 2.43523214, 4.27650203,\n",
       "         4.65403727],\n",
       "        [1.91727352, 3.1213695 , 2.1680414 , 2.60623179, 4.83585754,\n",
       "         5.23595875]])"
      ]
     },
     "execution_count": 74,
     "metadata": {},
     "output_type": "execute_result"
    }
   ],
   "source": [
    "U_reduced, Sigma_reduced, Vt_reduced = rank_k(4)\n",
    "M_hat = U_reduced * Sigma_reduced * Vt_reduced\n",
    "M_hat"
   ]
  },
  {
   "cell_type": "code",
   "execution_count": 75,
   "metadata": {},
   "outputs": [
    {
     "data": {
      "text/plain": [
       "3.47"
      ]
     },
     "execution_count": 75,
     "metadata": {},
     "output_type": "execute_result"
    }
   ],
   "source": [
    "## Predict a rating.\n",
    "M_hat_matrix = pd.DataFrame(M_hat, \n",
    "                            columns=movies, \n",
    "                            index=users).round(2)\n",
    "M_hat_matrix['ace ventura']['Sara']"
   ]
  },
  {
   "cell_type": "code",
   "execution_count": 76,
   "metadata": {},
   "outputs": [],
   "source": [
    "# Reduces the size of the decomposed matrices.\n",
    "\n",
    "def rank_k2(k):\n",
    "    U_reduced = np.mat(U[:, :k])\n",
    "    Vt_reduced = np.mat(Vt[:k, :])\n",
    "    Sigma_reduced = np.eye(k) * Sigma[:k]\n",
    "    Sigma_sqrt = np.sqrt(Sigma_reduced)\n",
    "    return U_reduced * Sigma_sqrt, Sigma_sqrt * Vt_reduced"
   ]
  },
  {
   "cell_type": "code",
   "execution_count": 77,
   "metadata": {},
   "outputs": [
    {
     "data": {
      "text/plain": [
       "matrix([[4.96527904, 3.05025112, 3.4699645 , 1.83793044, 1.92302433,\n",
       "         2.10555193],\n",
       "        [4.01735702, 2.96224212, 3.9546778 , 2.38970844, 2.89013078,\n",
       "         3.06685268],\n",
       "        [4.98346886, 2.02958029, 5.03794119, 1.89657357, 1.0297349 ,\n",
       "         0.99672747],\n",
       "        [3.01306011, 4.98240471, 2.97475285, 2.30489446, 1.04428991,\n",
       "         0.94793143],\n",
       "        [3.09822111, 2.86285057, 2.80617696, 2.43523214, 4.27650203,\n",
       "         4.65403727],\n",
       "        [1.91727352, 3.1213695 , 2.1680414 , 2.60623179, 4.83585754,\n",
       "         5.23595875]])"
      ]
     },
     "execution_count": 77,
     "metadata": {},
     "output_type": "execute_result"
    }
   ],
   "source": [
    "U_reduced, Vt_reduced = rank_k2(4)\n",
    "M_hat = U_reduced * Vt_reduced\n",
    "M_hat"
   ]
  },
  {
   "cell_type": "code",
   "execution_count": 78,
   "metadata": {},
   "outputs": [
    {
     "data": {
      "text/plain": [
       "matrix([[3.9546778]])"
      ]
     },
     "execution_count": 78,
     "metadata": {},
     "output_type": "execute_result"
    }
   ],
   "source": [
    "Jesper = 1\n",
    "AceVentura = 2\n",
    "U_reduced[Jesper] * Vt_reduced[:,AceVentura]"
   ]
  },
  {
   "cell_type": "code",
   "execution_count": 79,
   "metadata": {},
   "outputs": [
    {
     "data": {
      "text/plain": [
       "3.9546778000770195"
      ]
     },
     "execution_count": 79,
     "metadata": {},
     "output_type": "execute_result"
    }
   ],
   "source": [
    "M_hat[Jesper, AceVentura]"
   ]
  },
  {
   "cell_type": "code",
   "execution_count": 80,
   "metadata": {},
   "outputs": [
    {
     "data": {
      "text/plain": [
       "4.0"
      ]
     },
     "execution_count": 80,
     "metadata": {},
     "output_type": "execute_result"
    }
   ],
   "source": [
    "M['ace ventura']['Jesper']"
   ]
  },
  {
   "cell_type": "code",
   "execution_count": 81,
   "metadata": {},
   "outputs": [
    {
     "data": {
      "text/plain": [
       "3.469964495841926"
      ]
     },
     "execution_count": 81,
     "metadata": {},
     "output_type": "execute_result"
    }
   ],
   "source": [
    "Sara = 0\n",
    "M_hat[Sara, AceVentura]"
   ]
  },
  {
   "cell_type": "code",
   "execution_count": 82,
   "metadata": {},
   "outputs": [
    {
     "data": {
      "text/plain": [
       "3.4"
      ]
     },
     "execution_count": 82,
     "metadata": {},
     "output_type": "execute_result"
    }
   ],
   "source": [
    "M['ace ventura']['Sara']"
   ]
  },
  {
   "cell_type": "markdown",
   "metadata": {},
   "source": [
    "## Adding a new user by folding in\n",
    "\n",
    "$\\hat{i}_\\text{new} = r^T_\\text{new item} U\\Sigma^{-1}$\n",
    "\n",
    "where\n",
    "- $i_\\text{new}$ is the vector in the reduced space to represent the new item\n",
    "- $r_\\text{new item}$ is the new item user ratings vector\n",
    "- $\\Sigma^{-1}$ is the inverse of the sigma matrix\n",
    "- $U$ is the user matrix"
   ]
  },
  {
   "cell_type": "code",
   "execution_count": 83,
   "metadata": {},
   "outputs": [],
   "source": [
    "# We have a new user, Kim that rated the movies too.\n",
    "r_kim = np.array([4.0, 5.0, 0.0, 3.0, 3.0, 0.0])"
   ]
  },
  {
   "cell_type": "code",
   "execution_count": 86,
   "metadata": {},
   "outputs": [
    {
     "data": {
      "text/plain": [
       "matrix([[-1.41657858,  0.24873359, -1.78276451, -2.17627056]])"
      ]
     },
     "execution_count": 86,
     "metadata": {},
     "output_type": "execute_result"
    }
   ],
   "source": [
    "u_kim = r_kim * Vt_reduced.T * np.linalg.inv(Sigma_reduced)\n",
    "u_kim"
   ]
  }
 ],
 "metadata": {
  "kernelspec": {
   "display_name": "Python 3",
   "language": "python",
   "name": "python3"
  },
  "language_info": {
   "codemirror_mode": {
    "name": "ipython",
    "version": 3
   },
   "file_extension": ".py",
   "mimetype": "text/x-python",
   "name": "python",
   "nbconvert_exporter": "python",
   "pygments_lexer": "ipython3",
   "version": "3.7.4"
  }
 },
 "nbformat": 4,
 "nbformat_minor": 2
}
