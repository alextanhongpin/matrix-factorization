{
 "cells": [
  {
   "cell_type": "code",
   "execution_count": 2,
   "metadata": {
    "collapsed": true,
    "jupyter": {
     "outputs_hidden": true
    }
   },
   "outputs": [],
   "source": [
    "import numpy as np"
   ]
  },
  {
   "cell_type": "code",
   "execution_count": 23,
   "metadata": {
    "collapsed": false,
    "jupyter": {
     "outputs_hidden": false
    }
   },
   "outputs": [
    {
     "name": "stdout",
     "output_type": "stream",
     "text": [
      "[ 1.94981507  1.00843223  0.          2.55813742  2.73034397] [[  9.35709936  -7.36846397  -4.80829001]\n",
      " [  9.54896127  -3.07955898  -1.84123576]\n",
      " [  0.01698236  -0.69058171  -0.05309785]\n",
      " [ -6.99302464   1.71797825  10.14237733]\n",
      " [ -8.28839009   8.48618274   5.40772569]]\n"
     ]
    }
   ],
   "source": [
    "R = np.array([\n",
    "    [5, 3, 0, 1],\n",
    "    [4, 0, 0, 1],\n",
    "    [1, 1, 0, 5],\n",
    "    [1, 0, 0, 4],\n",
    "    [0, 1, 5, 4],\n",
    "])\n",
    "\n",
    "M = len(R)\n",
    "N = len(R[0])\n",
    "K = min(R.shape) - 1\n",
    "\n",
    "U = np.random.randn(M, K) / K\n",
    "V = np.random.randn(K, N) / K\n",
    "B = np.zeros(M)\n",
    "C = np.zeros(N)\n",
    "T = 10 # Epochs\n",
    "\n",
    "mu = .02\n",
    "reg = 0.00002\n",
    "\n",
    "for t in range(T):\n",
    "    # Update B\n",
    "    for i in range(M):\n",
    "        if i in R:\n",
    "            acc = 0\n",
    "            for j, r in enumerate(R[i]):\n",
    "                acc += (r - U[i, :].dot(V[:, j]) - C[j] - mu)\n",
    "            B[i] = acc / (1 + reg) / len(R[i])\n",
    "    \n",
    "    # Update U\n",
    "    for i in range(M):\n",
    "        if i in R:\n",
    "            matrix = np.zeros((K, K)) + reg * np.eye(K)\n",
    "            vector = np.zeros(K)\n",
    "            for j, r in enumerate(R[i]):\n",
    "                matrix += np.outer(V[:, j], V[:, j])\n",
    "                vector += (r - B[i] - C[j] - mu) * V[:, j]\n",
    "            U[i, :] = np.linalg.solve(matrix, vector)\n",
    "    \n",
    "    # Update C\n",
    "    for j in range(N):\n",
    "        if j in R[]"
   ]
  }
 ],
 "metadata": {
  "kernelspec": {
   "display_name": "Python 3 (ipykernel)",
   "language": "python",
   "name": "python3"
  },
  "language_info": {
   "codemirror_mode": {
    "name": "ipython",
    "version": 3
   },
   "file_extension": ".py",
   "mimetype": "text/x-python",
   "name": "python",
   "nbconvert_exporter": "python",
   "pygments_lexer": "ipython3",
   "version": "3.10.13"
  },
  "widgets": {
   "application/vnd.jupyter.widget-state+json": {
    "state": {},
    "version_major": 2,
    "version_minor": 0
   }
  }
 },
 "nbformat": 4,
 "nbformat_minor": 4
}
