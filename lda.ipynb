{
 "cells": [
  {
   "cell_type": "code",
   "execution_count": 115,
   "metadata": {},
   "outputs": [],
   "source": [
    "%matplotlib inline\n",
    "\n",
    "import nltk\n",
    "import re\n",
    "import numpy as np\n",
    "import pandas as pd\n",
    "\n",
    "import gensim\n",
    "import gensim.corpora as corpora\n",
    "from gensim.utils import simple_preprocess\n",
    "from gensim.models import CoherenceModel, Phrases, phrases\n",
    "\n",
    "import pyLDAvis\n",
    "import pyLDAvis.gensim  # don't skip this\n",
    "\n",
    "# Spacy for lemmatization\n",
    "import spacy\n",
    "import matplotlib.pyplot as plt\n",
    "from nltk.corpus import stopwords\n",
    "from sklearn.datasets import fetch_20newsgroups"
   ]
  },
  {
   "cell_type": "code",
   "execution_count": 34,
   "metadata": {},
   "outputs": [],
   "source": [
    "stop_words = stopwords.words('english')\n",
    "stop_words.extend(['from', 'subject', 're', 'edu', 'use'])"
   ]
  },
  {
   "cell_type": "markdown",
   "metadata": {},
   "source": [
    "## Import the Newsgroups Data"
   ]
  },
  {
   "cell_type": "code",
   "execution_count": 32,
   "metadata": {},
   "outputs": [],
   "source": [
    "newsgroups_train = fetch_20newsgroups(subset='train')"
   ]
  },
  {
   "cell_type": "markdown",
   "metadata": {},
   "source": [
    "## Convert the newsgroups into Pandas DataFrame"
   ]
  },
  {
   "cell_type": "code",
   "execution_count": 30,
   "metadata": {},
   "outputs": [
    {
     "data": {
      "text/html": [
       "<div>\n",
       "<style scoped>\n",
       "    .dataframe tbody tr th:only-of-type {\n",
       "        vertical-align: middle;\n",
       "    }\n",
       "\n",
       "    .dataframe tbody tr th {\n",
       "        vertical-align: top;\n",
       "    }\n",
       "\n",
       "    .dataframe thead th {\n",
       "        text-align: right;\n",
       "    }\n",
       "</style>\n",
       "<table border=\"1\" class=\"dataframe\">\n",
       "  <thead>\n",
       "    <tr style=\"text-align: right;\">\n",
       "      <th></th>\n",
       "      <th>data</th>\n",
       "      <th>target</th>\n",
       "      <th>target_names</th>\n",
       "    </tr>\n",
       "  </thead>\n",
       "  <tbody>\n",
       "    <tr>\n",
       "      <th>0</th>\n",
       "      <td>From: lerxst@wam.umd.edu (where's my thing)\\nS...</td>\n",
       "      <td>7</td>\n",
       "      <td>alt.atheism</td>\n",
       "    </tr>\n",
       "    <tr>\n",
       "      <th>1</th>\n",
       "      <td>From: guykuo@carson.u.washington.edu (Guy Kuo)...</td>\n",
       "      <td>4</td>\n",
       "      <td>comp.graphics</td>\n",
       "    </tr>\n",
       "    <tr>\n",
       "      <th>2</th>\n",
       "      <td>From: twillis@ec.ecn.purdue.edu (Thomas E Will...</td>\n",
       "      <td>4</td>\n",
       "      <td>comp.os.ms-windows.misc</td>\n",
       "    </tr>\n",
       "    <tr>\n",
       "      <th>3</th>\n",
       "      <td>From: jgreen@amber (Joe Green)\\nSubject: Re: W...</td>\n",
       "      <td>1</td>\n",
       "      <td>comp.sys.ibm.pc.hardware</td>\n",
       "    </tr>\n",
       "    <tr>\n",
       "      <th>4</th>\n",
       "      <td>From: jcm@head-cfa.harvard.edu (Jonathan McDow...</td>\n",
       "      <td>14</td>\n",
       "      <td>comp.sys.mac.hardware</td>\n",
       "    </tr>\n",
       "  </tbody>\n",
       "</table>\n",
       "</div>"
      ],
      "text/plain": [
       "                                                data  target  \\\n",
       "0  From: lerxst@wam.umd.edu (where's my thing)\\nS...       7   \n",
       "1  From: guykuo@carson.u.washington.edu (Guy Kuo)...       4   \n",
       "2  From: twillis@ec.ecn.purdue.edu (Thomas E Will...       4   \n",
       "3  From: jgreen@amber (Joe Green)\\nSubject: Re: W...       1   \n",
       "4  From: jcm@head-cfa.harvard.edu (Jonathan McDow...      14   \n",
       "\n",
       "               target_names  \n",
       "0               alt.atheism  \n",
       "1             comp.graphics  \n",
       "2   comp.os.ms-windows.misc  \n",
       "3  comp.sys.ibm.pc.hardware  \n",
       "4     comp.sys.mac.hardware  "
      ]
     },
     "execution_count": 30,
     "metadata": {},
     "output_type": "execute_result"
    }
   ],
   "source": [
    "data = zip(newsgroups_train.data, \n",
    "           newsgroups_train.target, \n",
    "           newsgroups_train.target_names)\n",
    "df = pd.DataFrame(data=data, columns=['data', 'target', 'target_names'])\n",
    "df.head()"
   ]
  },
  {
   "cell_type": "code",
   "execution_count": 33,
   "metadata": {},
   "outputs": [
    {
     "data": {
      "text/plain": [
       "array(['alt.atheism', 'comp.graphics', 'comp.os.ms-windows.misc',\n",
       "       'comp.sys.ibm.pc.hardware', 'comp.sys.mac.hardware',\n",
       "       'comp.windows.x', 'misc.forsale', 'rec.autos', 'rec.motorcycles',\n",
       "       'rec.sport.baseball', 'rec.sport.hockey', 'sci.crypt',\n",
       "       'sci.electronics', 'sci.med', 'sci.space',\n",
       "       'soc.religion.christian', 'talk.politics.guns',\n",
       "       'talk.politics.mideast', 'talk.politics.misc',\n",
       "       'talk.religion.misc'], dtype=object)"
      ]
     },
     "execution_count": 33,
     "metadata": {},
     "output_type": "execute_result"
    }
   ],
   "source": [
    "df.target_names.unique()"
   ]
  },
  {
   "cell_type": "markdown",
   "metadata": {},
   "source": [
    "## Cleansing of data"
   ]
  },
  {
   "cell_type": "code",
   "execution_count": 69,
   "metadata": {},
   "outputs": [
    {
     "data": {
      "text/plain": [
       "['From: (wheres my thing) Subject: WHAT car is this!? Nntp-Posting-Host: rac3.wam.umd.edu Organization: University of Maryland, College Park Lines: 15   I was wondering if anyone out there could enlighten me on this car I saw the other day. It was a 2-door sports car, looked to be from the late 60s/ early 70s. It was called a Bricklin. The doors were really small. In addition, the front bumper was separate from the rest of the body. This is  all I know. If anyone can tellme a model name, engine specs, years of production, where this car is made, history, or whatever info you have on this funky looking car, please e-mail.  Thanks, - IL    ---- brought to you by your neighborhood Lerxst ----',\n",
       " 'From: (Guy Kuo) Subject: SI Clock Poll - Final Call Summary: Final call for SI clock reports Keywords: SI,acceleration,clock,upgrade Article-I.D.: shelley.1qvfo9INNc3s Organization: University of Washington Lines: 11 NNTP-Posting-Host: carson.u.washington.edu  A fair number of brave souls who upgraded their SI clock oscillator have shared their experiences for this poll. Please send a brief message detailing your experiences with the procedure. Top speed attained, CPU rated speed, add on cards and adapters, heat sinks, hour of usage per day, floppy disk functionality with 800 and 1.4 m floppies are especially requested.  I will be summarizing in the next two days, so please add to the network knowledge base if you have done the clock upgrade and havent answered this poll. Thanks.  Guy Kuo']"
      ]
     },
     "execution_count": 69,
     "metadata": {},
     "output_type": "execute_result"
    }
   ],
   "source": [
    "# Convert the data to list for preprocessing.\n",
    "data = df.data.values.tolist()\n",
    "\n",
    "# Remove emails.\n",
    "data = [re.sub('\\S*@\\S*\\s', '', sentence)\n",
    "        for sentence in data]\n",
    "\n",
    "# Remove new line characters.\n",
    "data = [re.sub('\\s', ' ', sentence)\n",
    "        for sentence in data]\n",
    "\n",
    "# Remove distracting single quotes.\n",
    "data = [re.sub(\"\\'\", '', sentence)\n",
    "        for sentence in data]\n",
    "\n",
    "data = [sentence.strip()\n",
    "        for sentence in data]\n",
    "\n",
    "data[:2]"
   ]
  },
  {
   "cell_type": "markdown",
   "metadata": {},
   "source": [
    "## Tokenize sentence and clean up text."
   ]
  },
  {
   "cell_type": "code",
   "execution_count": 74,
   "metadata": {},
   "outputs": [],
   "source": [
    "def sentence_to_tokens(sentences):\n",
    "    for sentence in sentences:\n",
    "        yield simple_preprocess(str(sentence),\n",
    "                                deacc=True) # Removes punctuation."
   ]
  },
  {
   "cell_type": "code",
   "execution_count": 75,
   "metadata": {},
   "outputs": [
    {
     "data": {
      "text/plain": [
       "[['from',\n",
       "  'wheres',\n",
       "  'my',\n",
       "  'thing',\n",
       "  'subject',\n",
       "  'what',\n",
       "  'car',\n",
       "  'is',\n",
       "  'this',\n",
       "  'nntp',\n",
       "  'posting',\n",
       "  'host',\n",
       "  'rac',\n",
       "  'wam',\n",
       "  'umd',\n",
       "  'edu',\n",
       "  'organization',\n",
       "  'university',\n",
       "  'of',\n",
       "  'maryland',\n",
       "  'college',\n",
       "  'park',\n",
       "  'lines',\n",
       "  'was',\n",
       "  'wondering',\n",
       "  'if',\n",
       "  'anyone',\n",
       "  'out',\n",
       "  'there',\n",
       "  'could',\n",
       "  'enlighten',\n",
       "  'me',\n",
       "  'on',\n",
       "  'this',\n",
       "  'car',\n",
       "  'saw',\n",
       "  'the',\n",
       "  'other',\n",
       "  'day',\n",
       "  'it',\n",
       "  'was',\n",
       "  'door',\n",
       "  'sports',\n",
       "  'car',\n",
       "  'looked',\n",
       "  'to',\n",
       "  'be',\n",
       "  'from',\n",
       "  'the',\n",
       "  'late',\n",
       "  'early',\n",
       "  'it',\n",
       "  'was',\n",
       "  'called',\n",
       "  'bricklin',\n",
       "  'the',\n",
       "  'doors',\n",
       "  'were',\n",
       "  'really',\n",
       "  'small',\n",
       "  'in',\n",
       "  'addition',\n",
       "  'the',\n",
       "  'front',\n",
       "  'bumper',\n",
       "  'was',\n",
       "  'separate',\n",
       "  'from',\n",
       "  'the',\n",
       "  'rest',\n",
       "  'of',\n",
       "  'the',\n",
       "  'body',\n",
       "  'this',\n",
       "  'is',\n",
       "  'all',\n",
       "  'know',\n",
       "  'if',\n",
       "  'anyone',\n",
       "  'can',\n",
       "  'tellme',\n",
       "  'model',\n",
       "  'name',\n",
       "  'engine',\n",
       "  'specs',\n",
       "  'years',\n",
       "  'of',\n",
       "  'production',\n",
       "  'where',\n",
       "  'this',\n",
       "  'car',\n",
       "  'is',\n",
       "  'made',\n",
       "  'history',\n",
       "  'or',\n",
       "  'whatever',\n",
       "  'info',\n",
       "  'you',\n",
       "  'have',\n",
       "  'on',\n",
       "  'this',\n",
       "  'funky',\n",
       "  'looking',\n",
       "  'car',\n",
       "  'please',\n",
       "  'mail',\n",
       "  'thanks',\n",
       "  'il',\n",
       "  'brought',\n",
       "  'to',\n",
       "  'you',\n",
       "  'by',\n",
       "  'your',\n",
       "  'neighborhood',\n",
       "  'lerxst']]"
      ]
     },
     "execution_count": 75,
     "metadata": {},
     "output_type": "execute_result"
    }
   ],
   "source": [
    "data_words = list(sentence_to_tokens(data))\n",
    "data_words[:1]"
   ]
  },
  {
   "cell_type": "markdown",
   "metadata": {},
   "source": [
    "## Creating bigram and trigram models."
   ]
  },
  {
   "cell_type": "code",
   "execution_count": 77,
   "metadata": {},
   "outputs": [],
   "source": [
    "bigram = Phrases(data_words, min_count=5, threshold=100)\n",
    "trigram = Phrases(bigram[data_words], threshold=100)"
   ]
  },
  {
   "cell_type": "code",
   "execution_count": 85,
   "metadata": {},
   "outputs": [],
   "source": [
    "bigram_model = phrases.Phraser(bigram)\n",
    "trigram_model = phrases.Phraser(trigram)"
   ]
  },
  {
   "cell_type": "code",
   "execution_count": 89,
   "metadata": {},
   "outputs": [
    {
     "data": {
      "text/plain": [
       "['from',\n",
       " 'guy',\n",
       " 'kuo',\n",
       " 'subject',\n",
       " 'si',\n",
       " 'clock',\n",
       " 'poll',\n",
       " 'final',\n",
       " 'call',\n",
       " 'summary',\n",
       " 'final',\n",
       " 'call',\n",
       " 'for',\n",
       " 'si',\n",
       " 'clock',\n",
       " 'reports',\n",
       " 'keywords',\n",
       " 'si',\n",
       " 'acceleration',\n",
       " 'clock',\n",
       " 'upgrade',\n",
       " 'article',\n",
       " 'shelley',\n",
       " 'qvfo',\n",
       " 'innc',\n",
       " 'organization',\n",
       " 'university',\n",
       " 'of',\n",
       " 'washington',\n",
       " 'lines',\n",
       " 'nntp_posting_host',\n",
       " 'carson',\n",
       " 'washington',\n",
       " 'edu',\n",
       " 'fair',\n",
       " 'number',\n",
       " 'of',\n",
       " 'brave',\n",
       " 'souls',\n",
       " 'who',\n",
       " 'upgraded',\n",
       " 'their',\n",
       " 'si',\n",
       " 'clock',\n",
       " 'oscillator',\n",
       " 'have',\n",
       " 'shared',\n",
       " 'their',\n",
       " 'experiences',\n",
       " 'for',\n",
       " 'this',\n",
       " 'poll',\n",
       " 'please',\n",
       " 'send',\n",
       " 'brief',\n",
       " 'message',\n",
       " 'detailing',\n",
       " 'your',\n",
       " 'experiences',\n",
       " 'with',\n",
       " 'the',\n",
       " 'procedure',\n",
       " 'top',\n",
       " 'speed',\n",
       " 'attained',\n",
       " 'cpu',\n",
       " 'rated',\n",
       " 'speed',\n",
       " 'add',\n",
       " 'on',\n",
       " 'cards',\n",
       " 'and',\n",
       " 'adapters',\n",
       " 'heat',\n",
       " 'sinks',\n",
       " 'hour',\n",
       " 'of',\n",
       " 'usage',\n",
       " 'per',\n",
       " 'day',\n",
       " 'floppy',\n",
       " 'disk',\n",
       " 'functionality',\n",
       " 'with',\n",
       " 'and',\n",
       " 'floppies',\n",
       " 'are',\n",
       " 'especially',\n",
       " 'requested',\n",
       " 'will',\n",
       " 'be',\n",
       " 'summarizing',\n",
       " 'in',\n",
       " 'the',\n",
       " 'next',\n",
       " 'two',\n",
       " 'days',\n",
       " 'so',\n",
       " 'please',\n",
       " 'add',\n",
       " 'to',\n",
       " 'the',\n",
       " 'network',\n",
       " 'knowledge',\n",
       " 'base',\n",
       " 'if',\n",
       " 'you',\n",
       " 'have',\n",
       " 'done',\n",
       " 'the',\n",
       " 'clock',\n",
       " 'upgrade',\n",
       " 'and',\n",
       " 'havent',\n",
       " 'answered',\n",
       " 'this',\n",
       " 'poll',\n",
       " 'thanks',\n",
       " 'guy',\n",
       " 'kuo']"
      ]
     },
     "execution_count": 89,
     "metadata": {},
     "output_type": "execute_result"
    }
   ],
   "source": [
    "trigram_model[bigram_model[data_words[0]]]"
   ]
  },
  {
   "cell_type": "markdown",
   "metadata": {},
   "source": [
    "## Remove stopwords, make bigrams/trigrams and lemmatize"
   ]
  },
  {
   "cell_type": "code",
   "execution_count": 95,
   "metadata": {},
   "outputs": [],
   "source": [
    "def remove_stopwords(docs):\n",
    "    return [[token for token in tokens\n",
    "             if token not in stop_words]\n",
    "            for tokens in docs]\n",
    "\n",
    "def make_bigrams(docs):\n",
    "    return [bigram_model[doc] for doc in docs]\n",
    "\n",
    "def make_trigrams(docs):\n",
    "    return [trigram_model[doc] for doc in docs]\n",
    "\n",
    "# Initialize spacy 'en' model, keeping only tagget component\n",
    "# for efficiency.\n",
    "# !python3 -m spacy download en\n",
    "nlp = spacy.load('en', disable=['parser', 'ner'])\n",
    "\n",
    "def lemmatization(docs, allowed_postags=['NOUN', 'ADJ', 'VERB', 'ADV']):\n",
    "    result = []\n",
    "    for tokens in docs:\n",
    "        doc = nlp(' '.join(tokens))\n",
    "        result.append([token.lemma_ for token in doc \n",
    "                       if token.pos_ in allowed_postags])\n",
    "    return result"
   ]
  },
  {
   "cell_type": "code",
   "execution_count": 100,
   "metadata": {},
   "outputs": [
    {
     "data": {
      "text/plain": [
       "[['where',\n",
       "  's',\n",
       "  'thing',\n",
       "  'car',\n",
       "  'nntp_poste',\n",
       "  'host',\n",
       "  'rac',\n",
       "  'wam',\n",
       "  'umd',\n",
       "  'organization',\n",
       "  'university',\n",
       "  'maryland',\n",
       "  'college',\n",
       "  'park',\n",
       "  'line',\n",
       "  'wonder',\n",
       "  'anyone',\n",
       "  'could',\n",
       "  'enlighten',\n",
       "  'car',\n",
       "  'see',\n",
       "  'day',\n",
       "  'door',\n",
       "  'sport',\n",
       "  'car',\n",
       "  'look',\n",
       "  'late',\n",
       "  'early',\n",
       "  'call',\n",
       "  'bricklin',\n",
       "  'door',\n",
       "  'really',\n",
       "  'small',\n",
       "  'addition',\n",
       "  'front',\n",
       "  'bumper',\n",
       "  'separate',\n",
       "  'rest',\n",
       "  'body',\n",
       "  'know',\n",
       "  'anyone',\n",
       "  'tellme',\n",
       "  'model',\n",
       "  'name',\n",
       "  'engine',\n",
       "  'specs',\n",
       "  'year',\n",
       "  'production',\n",
       "  'car',\n",
       "  'make',\n",
       "  'history',\n",
       "  'info',\n",
       "  'funky',\n",
       "  'look',\n",
       "  'car',\n",
       "  'mail',\n",
       "  'thank',\n",
       "  'bring',\n",
       "  'neighborhood',\n",
       "  'lerxst']]"
      ]
     },
     "execution_count": 100,
     "metadata": {},
     "output_type": "execute_result"
    }
   ],
   "source": [
    "# Remove stop words.\n",
    "data_words_nostops = remove_stopwords(data_words)\n",
    "\n",
    "# Form bigrams.\n",
    "data_words_bigrams = make_bigrams(data_words_nostops)\n",
    "\n",
    "data_lemmatized = lemmatization(data_words_bigrams)\n",
    "\n",
    "data_lemmatized[:1]"
   ]
  },
  {
   "cell_type": "markdown",
   "metadata": {},
   "source": [
    "## Create the dictionary and corpus needed for topic modelling"
   ]
  },
  {
   "cell_type": "code",
   "execution_count": 103,
   "metadata": {},
   "outputs": [
    {
     "data": {
      "text/plain": [
       "[[(0, 1),\n",
       "  (1, 2),\n",
       "  (2, 1),\n",
       "  (3, 1),\n",
       "  (4, 1),\n",
       "  (5, 1),\n",
       "  (6, 1),\n",
       "  (7, 5),\n",
       "  (8, 1),\n",
       "  (9, 1),\n",
       "  (10, 1),\n",
       "  (11, 2),\n",
       "  (12, 1),\n",
       "  (13, 1),\n",
       "  (14, 1),\n",
       "  (15, 1),\n",
       "  (16, 1),\n",
       "  (17, 1),\n",
       "  (18, 1),\n",
       "  (19, 1),\n",
       "  (20, 1),\n",
       "  (21, 1),\n",
       "  (22, 1),\n",
       "  (23, 1),\n",
       "  (24, 2),\n",
       "  (25, 1),\n",
       "  (26, 1),\n",
       "  (27, 1),\n",
       "  (28, 1),\n",
       "  (29, 1),\n",
       "  (30, 1),\n",
       "  (31, 1),\n",
       "  (32, 1),\n",
       "  (33, 1),\n",
       "  (34, 1),\n",
       "  (35, 1),\n",
       "  (36, 1),\n",
       "  (37, 1),\n",
       "  (38, 1),\n",
       "  (39, 1),\n",
       "  (40, 1),\n",
       "  (41, 1),\n",
       "  (42, 1),\n",
       "  (43, 1),\n",
       "  (44, 1),\n",
       "  (45, 1),\n",
       "  (46, 1),\n",
       "  (47, 1),\n",
       "  (48, 1),\n",
       "  (49, 1),\n",
       "  (50, 1),\n",
       "  (51, 1),\n",
       "  (52, 1)]]"
      ]
     },
     "execution_count": 103,
     "metadata": {},
     "output_type": "execute_result"
    }
   ],
   "source": [
    "# Create dictionary.\n",
    "id2word = corpora.Dictionary(data_lemmatized)\n",
    "\n",
    "# Create corpus.\n",
    "corpus = [id2word.doc2bow(text) for text in data_lemmatized]\n",
    "\n",
    "# Gensim creates a unique id for each word in the document. \n",
    "# The result is a list of tuples (word_id, word_frequency).\n",
    "corpus[:1]"
   ]
  },
  {
   "cell_type": "code",
   "execution_count": 104,
   "metadata": {},
   "outputs": [
    {
     "data": {
      "text/plain": [
       "'addition'"
      ]
     },
     "execution_count": 104,
     "metadata": {},
     "output_type": "execute_result"
    }
   ],
   "source": [
    "# The word for the id = 0.\n",
    "id2word[0]"
   ]
  },
  {
   "cell_type": "code",
   "execution_count": 105,
   "metadata": {},
   "outputs": [
    {
     "data": {
      "text/plain": [
       "[[('addition', 1),\n",
       "  ('anyone', 2),\n",
       "  ('body', 1),\n",
       "  ('bricklin', 1),\n",
       "  ('bring', 1),\n",
       "  ('bumper', 1),\n",
       "  ('call', 1),\n",
       "  ('car', 5),\n",
       "  ('college', 1),\n",
       "  ('could', 1),\n",
       "  ('day', 1),\n",
       "  ('door', 2),\n",
       "  ('early', 1),\n",
       "  ('engine', 1),\n",
       "  ('enlighten', 1),\n",
       "  ('front', 1),\n",
       "  ('funky', 1),\n",
       "  ('history', 1),\n",
       "  ('host', 1),\n",
       "  ('info', 1),\n",
       "  ('know', 1),\n",
       "  ('late', 1),\n",
       "  ('lerxst', 1),\n",
       "  ('line', 1),\n",
       "  ('look', 2),\n",
       "  ('mail', 1),\n",
       "  ('make', 1),\n",
       "  ('maryland', 1),\n",
       "  ('model', 1),\n",
       "  ('name', 1),\n",
       "  ('neighborhood', 1),\n",
       "  ('nntp_poste', 1),\n",
       "  ('organization', 1),\n",
       "  ('park', 1),\n",
       "  ('production', 1),\n",
       "  ('rac', 1),\n",
       "  ('really', 1),\n",
       "  ('rest', 1),\n",
       "  ('s', 1),\n",
       "  ('see', 1),\n",
       "  ('separate', 1),\n",
       "  ('small', 1),\n",
       "  ('specs', 1),\n",
       "  ('sport', 1),\n",
       "  ('tellme', 1),\n",
       "  ('thank', 1),\n",
       "  ('thing', 1),\n",
       "  ('umd', 1),\n",
       "  ('university', 1),\n",
       "  ('wam', 1),\n",
       "  ('where', 1),\n",
       "  ('wonder', 1),\n",
       "  ('year', 1)]]"
      ]
     },
     "execution_count": 105,
     "metadata": {},
     "output_type": "execute_result"
    }
   ],
   "source": [
    "# Human readable format of the corpus.\n",
    "[[(id2word[id], freq) for id, freq in cp] for cp in corpus[:1]]"
   ]
  },
  {
   "cell_type": "markdown",
   "metadata": {},
   "source": [
    "## Building the topic model."
   ]
  },
  {
   "cell_type": "code",
   "execution_count": 107,
   "metadata": {},
   "outputs": [],
   "source": [
    "# Build LDA model.\n",
    "lda_model = gensim.models.ldamodel.LdaModel(corpus=corpus,\n",
    "                                            id2word=id2word,\n",
    "                                            num_topics=20,\n",
    "                                            random_state=100,\n",
    "                                            update_every=1,\n",
    "                                            chunksize=100,\n",
    "                                            passes=10,\n",
    "                                            alpha='auto',\n",
    "                                            per_word_topics=True)"
   ]
  },
  {
   "cell_type": "code",
   "execution_count": 108,
   "metadata": {},
   "outputs": [
    {
     "data": {
      "text/plain": [
       "[(0,\n",
       "  '0.001*\"access\" + 0.001*\"boot\" + 0.001*\"question\" + 0.001*\"get\" + 0.001*\"terminal\" + 0.001*\"network\" + 0.001*\"file\" + 0.001*\"well\" + 0.001*\"great\" + 0.001*\"have\"'),\n",
       " (1,\n",
       "  '0.001*\"year\" + 0.001*\"car\" + 0.001*\"insurance\" + 0.001*\"rate\" + 0.001*\"go\" + 0.001*\"be\" + 0.001*\"high\" + 0.001*\"pay\" + 0.001*\"get\" + 0.001*\"live\"'),\n",
       " (2,\n",
       "  '0.014*\"record\" + 0.013*\"old\" + 0.013*\"jame\" + 0.013*\"initially\" + 0.013*\"pretty\" + 0.013*\"much\" + 0.012*\"different\" + 0.012*\"try\" + 0.012*\"require\" + 0.012*\"absolute\"'),\n",
       " (3,\n",
       "  '0.001*\"weapon\" + 0.001*\"year\" + 0.001*\"scsi\" + 0.001*\"not\" + 0.001*\"mass_destruction\" + 0.001*\"say\" + 0.001*\"would\" + 0.001*\"article\" + 0.001*\"car\" + 0.001*\"insurance\"'),\n",
       " (4,\n",
       "  '0.052*\"board\" + 0.016*\"be\" + 0.016*\"file\" + 0.016*\"stac\" + 0.016*\"have\" + 0.016*\"autodoubler\" + 0.016*\"problem\" + 0.011*\"double\" + 0.011*\"illinoi\" + 0.011*\"write\"'),\n",
       " (5,\n",
       "  '0.026*\"clock\" + 0.021*\"si\" + 0.016*\"cerkoney\" + 0.016*\"rod\" + 0.016*\"upgrade\" + 0.016*\"poll\" + 0.016*\"co\" + 0.016*\"experience\" + 0.015*\"guy\" + 0.011*\"add\"'),\n",
       " (6,\n",
       "  '0.001*\"may\" + 0.001*\"child\" + 0.001*\"year\" + 0.001*\"parent\" + 0.001*\"code\" + 0.001*\"moral\" + 0.001*\"be\" + 0.001*\"car\" + 0.001*\"insurance\" + 0.001*\"swear\"'),\n",
       " (7,\n",
       "  '0.001*\"scsi\" + 0.001*\"may\" + 0.001*\"know\" + 0.001*\"error\" + 0.001*\"code\" + 0.001*\"parent\" + 0.001*\"not\" + 0.001*\"be\" + 0.001*\"warn\" + 0.001*\"moral\"'),\n",
       " (8,\n",
       "  '0.001*\"year\" + 0.001*\"board\" + 0.001*\"car\" + 0.001*\"insurance\" + 0.001*\"be\" + 0.001*\"rate\" + 0.001*\"have\" + 0.001*\"would\" + 0.001*\"option\" + 0.001*\"go\"'),\n",
       " (9,\n",
       "  '0.050*\"weapon\" + 0.027*\"mass_destruction\" + 0.019*\"write\" + 0.019*\"article\" + 0.016*\"foxvog\" + 0.016*\"say\" + 0.012*\"term\" + 0.012*\"keep\" + 0.012*\"rutledge\" + 0.012*\"mean\"'),\n",
       " (10,\n",
       "  '0.023*\"moral\" + 0.023*\"may\" + 0.021*\"parent\" + 0.021*\"code\" + 0.021*\"child\" + 0.013*\"swear\" + 0.013*\"morality\" + 0.010*\"know\" + 0.010*\"jew\" + 0.010*\"david\"'),\n",
       " (11,\n",
       "  '0.025*\"purchase\" + 0.020*\"move\" + 0.015*\"speed\" + 0.015*\"new\" + 0.010*\"include\" + 0.010*\"reasonable\" + 0.010*\"case\" + 0.010*\"tape\" + 0.010*\"dryer\" + 0.010*\"sale\"'),\n",
       " (12,\n",
       "  '0.032*\"scsi\" + 0.027*\"year\" + 0.016*\"insurance\" + 0.016*\"car\" + 0.014*\"rate\" + 0.013*\"go\" + 0.012*\"mb\" + 0.009*\"high\" + 0.008*\"state\" + 0.008*\"be\"'),\n",
       " (13,\n",
       "  '0.015*\"line\" + 0.014*\"distribution\" + 0.013*\"oil\" + 0.013*\"tx\" + 0.013*\"computrac\" + 0.013*\"leak\" + 0.013*\"irwin\" + 0.013*\"gt\" + 0.013*\"bike\" + 0.013*\"ducati\"'),\n",
       " (14,\n",
       "  '0.023*\"error\" + 0.018*\"know\" + 0.014*\"write\" + 0.014*\"article\" + 0.014*\"weitek\" + 0.014*\"harris\" + 0.014*\"system\" + 0.014*\"warn\" + 0.009*\"chip\" + 0.009*\"organization\"'),\n",
       " (15,\n",
       "  '0.001*\"year\" + 0.001*\"option\" + 0.001*\"ssf\" + 0.001*\"flight\" + 0.001*\"car\" + 0.001*\"rate\" + 0.001*\"insurance\" + 0.001*\"power\" + 0.001*\"capability\" + 0.001*\"be\"'),\n",
       " (16,\n",
       "  '0.022*\"option\" + 0.015*\"power\" + 0.014*\"tiff\" + 0.013*\"ssf\" + 0.013*\"module\" + 0.012*\"flight\" + 0.012*\"capability\" + 0.010*\"shuttle\" + 0.009*\"redesign\" + 0.009*\"station\"'),\n",
       " (17,\n",
       "  '0.018*\"car\" + 0.016*\"could\" + 0.013*\"look\" + 0.010*\"info\" + 0.010*\"not\" + 0.010*\"well\" + 0.010*\"line\" + 0.010*\"really\" + 0.010*\"day\" + 0.010*\"anybody\"'),\n",
       " (18,\n",
       "  '0.026*\"terminal\" + 0.020*\"control\" + 0.019*\"file\" + 0.019*\"boot\" + 0.019*\"access\" + 0.019*\"list\" + 0.013*\"system\" + 0.013*\"add\" + 0.013*\"edit\" + 0.013*\"try\"'),\n",
       " (19,\n",
       "  '0.017*\"be\" + 0.017*\"would\" + 0.015*\"not\" + 0.012*\"trial\" + 0.012*\"almost\" + 0.011*\"group\" + 0.010*\"year\" + 0.010*\"consider\" + 0.008*\"sure\" + 0.008*\"war\"')]"
      ]
     },
     "execution_count": 108,
     "metadata": {},
     "output_type": "execute_result"
    }
   ],
   "source": [
    "lda_model.print_topics()"
   ]
  },
  {
   "cell_type": "code",
   "execution_count": 110,
   "metadata": {},
   "outputs": [
    {
     "data": {
      "text/plain": [
       "<gensim.interfaces.TransformedCorpus at 0x128351a10>"
      ]
     },
     "execution_count": 110,
     "metadata": {},
     "output_type": "execute_result"
    }
   ],
   "source": [
    "doc_lda = lda_model[corpus]"
   ]
  },
  {
   "cell_type": "markdown",
   "metadata": {},
   "source": [
    "## Compute model perplexity and coherence score."
   ]
  },
  {
   "cell_type": "code",
   "execution_count": 113,
   "metadata": {},
   "outputs": [
    {
     "data": {
      "text/plain": [
       "-7.2952888443039825"
      ]
     },
     "execution_count": 113,
     "metadata": {},
     "output_type": "execute_result"
    }
   ],
   "source": [
    "# A measure of how good the model is. The lower the better.\n",
    "lda_model.log_perplexity(corpus)"
   ]
  },
  {
   "cell_type": "code",
   "execution_count": 114,
   "metadata": {},
   "outputs": [
    {
     "data": {
      "text/plain": [
       "0.487836108430972"
      ]
     },
     "execution_count": 114,
     "metadata": {},
     "output_type": "execute_result"
    }
   ],
   "source": [
    "# Compute coherence score.\n",
    "coherence_model_lds = CoherenceModel(model=lda_model,\n",
    "                                     texts=data_lemmatized,\n",
    "                                     dictionary=id2word,\n",
    "                                     coherence='c_v')\n",
    "coherence_model_lds.get_coherence()"
   ]
  },
  {
   "cell_type": "markdown",
   "metadata": {},
   "source": [
    "## Visualize the topics-keywords"
   ]
  },
  {
   "cell_type": "code",
   "execution_count": 116,
   "metadata": {},
   "outputs": [],
   "source": [
    "pyLDAvis.enable_notebook()"
   ]
  },
  {
   "cell_type": "code",
   "execution_count": 117,
   "metadata": {},
   "outputs": [
    {
     "name": "stderr",
     "output_type": "stream",
     "text": [
      "/usr/local/lib/python3.7/site-packages/pyLDAvis/_prepare.py:257: FutureWarning: Sorting because non-concatenation axis is not aligned. A future version\n",
      "of pandas will change to not sort by default.\n",
      "\n",
      "To accept the future behavior, pass 'sort=False'.\n",
      "\n",
      "To retain the current behavior and silence the warning, pass 'sort=True'.\n",
      "\n",
      "  return pd.concat([default_term_info] + list(topic_dfs))\n"
     ]
    },
    {
     "data": {
      "text/html": [
       "\n",
       "<link rel=\"stylesheet\" type=\"text/css\" href=\"https://cdn.rawgit.com/bmabey/pyLDAvis/files/ldavis.v1.0.0.css\">\n",
       "\n",
       "\n",
       "<div id=\"ldavis_el7613349827409443671996386\"></div>\n",
       "<script type=\"text/javascript\">\n",
       "\n",
       "var ldavis_el7613349827409443671996386_data = {\"mdsDat\": {\"x\": [-0.22701856169888987, 0.19007931735185735, 0.0657757236259957, -0.04616870269623159, 0.03946372579251149, -0.0911847415844734, 0.0146211416241805, -0.04221431416177531, 0.009567208861622444, 0.016664046723970226, 0.049997132952792116, -0.011127014229688762, -0.002066615362923867, 0.003117519567177807, 0.0055258571866340775, 0.0053931572425592374, 0.00587020255418108, 0.005567586456577918, 0.002667797944038918, 0.005469531849884108], \"y\": [0.06751712154035454, 0.1517906205545907, -0.221199740972971, -0.09185743517301675, 0.014815740631300069, 0.05791788962950161, -0.07904071345198527, -0.010801227814898746, -0.001253281484774229, 0.05542068555948423, 0.016473106031775542, -0.010224014196184718, -0.013463048675553032, 0.009553886029295782, 0.0069960319189298565, 0.00686454872547926, 0.01123049514256614, 0.010550183656805413, 0.010328167313801108, 0.008380985035499472], \"topics\": [1, 2, 3, 4, 5, 6, 7, 8, 9, 10, 11, 12, 13, 14, 15, 16, 17, 18, 19, 20], \"cluster\": [1, 1, 1, 1, 1, 1, 1, 1, 1, 1, 1, 1, 1, 1, 1, 1, 1, 1, 1, 1], \"Freq\": [27.59324073791504, 21.95346450805664, 9.958545684814453, 7.673302173614502, 5.8253021240234375, 5.270486831665039, 4.689174175262451, 3.924804925918579, 3.7975869178771973, 3.707620620727539, 2.6375813484191895, 2.483527660369873, 0.3823942542076111, 0.015870779752731323, 0.015087878331542015, 0.01479405164718628, 0.014494035392999649, 0.014424795284867287, 0.014371778815984726, 0.01392957754433155]}, \"tinfo\": {\"Category\": [\"Default\", \"Default\", \"Default\", \"Default\", \"Default\", \"Default\", \"Default\", \"Default\", \"Default\", \"Default\", \"Default\", \"Default\", \"Default\", \"Default\", \"Default\", \"Default\", \"Default\", \"Default\", \"Default\", \"Default\", \"Default\", \"Default\", \"Default\", \"Default\", \"Default\", \"Default\", \"Default\", \"Default\", \"Default\", \"Default\", \"Topic1\", \"Topic1\", \"Topic1\", \"Topic1\", \"Topic1\", \"Topic1\", \"Topic1\", \"Topic1\", \"Topic1\", \"Topic1\", \"Topic1\", \"Topic1\", \"Topic1\", \"Topic1\", \"Topic1\", \"Topic1\", \"Topic1\", \"Topic1\", \"Topic1\", \"Topic1\", \"Topic1\", \"Topic1\", \"Topic1\", \"Topic1\", \"Topic1\", \"Topic1\", \"Topic1\", \"Topic1\", \"Topic1\", \"Topic1\", \"Topic1\", \"Topic1\", \"Topic1\", \"Topic1\", \"Topic1\", \"Topic1\", \"Topic1\", \"Topic1\", \"Topic1\", \"Topic1\", \"Topic1\", \"Topic1\", \"Topic1\", \"Topic1\", \"Topic1\", \"Topic1\", \"Topic1\", \"Topic1\", \"Topic1\", \"Topic1\", \"Topic2\", \"Topic2\", \"Topic2\", \"Topic2\", \"Topic2\", \"Topic2\", \"Topic2\", \"Topic2\", \"Topic2\", \"Topic2\", \"Topic2\", \"Topic2\", \"Topic2\", \"Topic2\", \"Topic2\", \"Topic2\", \"Topic2\", \"Topic2\", \"Topic2\", \"Topic2\", \"Topic2\", \"Topic2\", \"Topic2\", \"Topic2\", \"Topic2\", \"Topic2\", \"Topic2\", \"Topic2\", \"Topic2\", \"Topic2\", \"Topic2\", \"Topic2\", \"Topic2\", \"Topic2\", \"Topic2\", \"Topic2\", \"Topic2\", \"Topic2\", \"Topic2\", \"Topic2\", \"Topic2\", \"Topic2\", \"Topic3\", \"Topic3\", \"Topic3\", \"Topic3\", \"Topic3\", \"Topic3\", \"Topic3\", \"Topic3\", \"Topic3\", \"Topic3\", \"Topic3\", \"Topic3\", \"Topic3\", \"Topic3\", \"Topic3\", \"Topic3\", \"Topic3\", \"Topic3\", \"Topic3\", \"Topic3\", \"Topic3\", \"Topic3\", \"Topic3\", \"Topic3\", \"Topic3\", \"Topic3\", \"Topic3\", \"Topic3\", \"Topic3\", \"Topic3\", \"Topic3\", \"Topic3\", \"Topic3\", \"Topic3\", \"Topic3\", \"Topic3\", \"Topic3\", \"Topic3\", \"Topic3\", \"Topic3\", \"Topic3\", \"Topic3\", \"Topic3\", \"Topic3\", \"Topic3\", \"Topic4\", \"Topic4\", \"Topic4\", \"Topic4\", \"Topic4\", \"Topic4\", \"Topic4\", \"Topic4\", \"Topic4\", \"Topic4\", \"Topic4\", \"Topic4\", \"Topic4\", \"Topic4\", \"Topic4\", \"Topic4\", \"Topic4\", \"Topic4\", \"Topic4\", \"Topic4\", \"Topic4\", \"Topic4\", \"Topic4\", \"Topic4\", \"Topic4\", \"Topic4\", \"Topic4\", \"Topic4\", \"Topic4\", \"Topic4\", \"Topic4\", \"Topic4\", \"Topic4\", \"Topic4\", \"Topic4\", \"Topic4\", \"Topic4\", \"Topic4\", \"Topic4\", \"Topic4\", \"Topic4\", \"Topic4\", \"Topic4\", \"Topic4\", \"Topic4\", \"Topic4\", \"Topic4\", \"Topic4\", \"Topic4\", \"Topic4\", \"Topic4\", \"Topic4\", \"Topic4\", \"Topic4\", \"Topic4\", \"Topic4\", \"Topic4\", \"Topic4\", \"Topic4\", \"Topic4\", \"Topic4\", \"Topic4\", \"Topic5\", \"Topic5\", \"Topic5\", \"Topic5\", \"Topic5\", \"Topic5\", \"Topic5\", \"Topic5\", \"Topic5\", \"Topic5\", \"Topic5\", \"Topic5\", \"Topic5\", \"Topic5\", \"Topic5\", \"Topic5\", \"Topic5\", \"Topic5\", \"Topic5\", \"Topic5\", \"Topic5\", \"Topic5\", \"Topic5\", \"Topic5\", \"Topic5\", \"Topic5\", \"Topic5\", \"Topic5\", \"Topic5\", \"Topic5\", \"Topic5\", \"Topic5\", \"Topic5\", \"Topic5\", \"Topic5\", \"Topic5\", \"Topic5\", \"Topic5\", \"Topic5\", \"Topic5\", \"Topic5\", \"Topic5\", \"Topic5\", \"Topic5\", \"Topic5\", \"Topic5\", \"Topic5\", \"Topic5\", \"Topic5\", \"Topic5\", \"Topic5\", \"Topic6\", \"Topic6\", \"Topic6\", \"Topic6\", \"Topic6\", \"Topic6\", \"Topic6\", \"Topic6\", \"Topic6\", \"Topic6\", \"Topic6\", \"Topic6\", \"Topic6\", \"Topic6\", \"Topic6\", \"Topic6\", \"Topic6\", \"Topic6\", \"Topic6\", \"Topic6\", \"Topic6\", \"Topic6\", \"Topic6\", \"Topic6\", \"Topic6\", \"Topic6\", \"Topic6\", \"Topic6\", \"Topic6\", \"Topic6\", \"Topic6\", \"Topic6\", \"Topic6\", \"Topic6\", \"Topic6\", \"Topic6\", \"Topic6\", \"Topic6\", \"Topic6\", \"Topic6\", \"Topic6\", \"Topic6\", \"Topic6\", \"Topic6\", \"Topic6\", \"Topic6\", \"Topic6\", \"Topic6\", \"Topic6\", \"Topic6\", \"Topic6\", \"Topic7\", \"Topic7\", \"Topic7\", \"Topic7\", \"Topic7\", \"Topic7\", \"Topic7\", \"Topic7\", \"Topic7\", \"Topic7\", \"Topic7\", \"Topic7\", \"Topic7\", \"Topic7\", \"Topic7\", \"Topic7\", \"Topic7\", \"Topic7\", \"Topic7\", \"Topic7\", \"Topic7\", \"Topic7\", \"Topic7\", \"Topic7\", \"Topic7\", \"Topic7\", \"Topic7\", \"Topic7\", \"Topic7\", \"Topic7\", \"Topic7\", \"Topic7\", \"Topic7\", \"Topic7\", \"Topic7\", \"Topic7\", \"Topic7\", \"Topic7\", \"Topic7\", \"Topic7\", \"Topic7\", \"Topic7\", \"Topic7\", \"Topic7\", \"Topic7\", \"Topic7\", \"Topic7\", \"Topic7\", \"Topic7\", \"Topic7\", \"Topic7\", \"Topic7\", \"Topic7\", \"Topic7\", \"Topic7\", \"Topic7\", \"Topic7\", \"Topic7\", \"Topic8\", \"Topic8\", \"Topic8\", \"Topic8\", \"Topic8\", \"Topic8\", \"Topic8\", \"Topic8\", \"Topic8\", \"Topic8\", \"Topic8\", \"Topic8\", \"Topic8\", \"Topic8\", \"Topic8\", \"Topic8\", \"Topic8\", \"Topic8\", \"Topic8\", \"Topic8\", \"Topic8\", \"Topic8\", \"Topic8\", \"Topic8\", \"Topic8\", \"Topic8\", \"Topic8\", \"Topic8\", \"Topic8\", \"Topic8\", \"Topic8\", \"Topic8\", \"Topic8\", \"Topic8\", \"Topic8\", \"Topic8\", \"Topic8\", \"Topic8\", \"Topic8\", \"Topic8\", \"Topic8\", \"Topic8\", \"Topic8\", \"Topic8\", \"Topic8\", \"Topic8\", \"Topic8\", \"Topic8\", \"Topic8\", \"Topic8\", \"Topic8\", \"Topic8\", \"Topic8\", \"Topic8\", \"Topic8\", \"Topic9\", \"Topic9\", \"Topic9\", \"Topic9\", \"Topic9\", \"Topic9\", \"Topic9\", \"Topic9\", \"Topic9\", \"Topic9\", \"Topic9\", \"Topic9\", \"Topic9\", \"Topic9\", \"Topic9\", \"Topic9\", \"Topic9\", \"Topic9\", \"Topic9\", \"Topic9\", \"Topic9\", \"Topic9\", \"Topic9\", \"Topic9\", \"Topic9\", \"Topic9\", \"Topic9\", \"Topic9\", \"Topic9\", \"Topic9\", \"Topic9\", \"Topic9\", \"Topic9\", \"Topic9\", \"Topic9\", \"Topic9\", \"Topic9\", \"Topic9\", \"Topic9\", \"Topic9\", \"Topic9\", \"Topic9\", \"Topic9\", \"Topic9\", \"Topic10\", \"Topic10\", \"Topic10\", \"Topic10\", \"Topic10\", \"Topic10\", \"Topic10\", \"Topic10\", \"Topic10\", \"Topic10\", \"Topic10\", \"Topic10\", \"Topic10\", \"Topic10\", \"Topic10\", \"Topic10\", \"Topic10\", \"Topic10\", \"Topic10\", \"Topic10\", \"Topic10\", \"Topic10\", \"Topic10\", \"Topic10\", \"Topic10\", \"Topic10\", \"Topic10\", \"Topic10\", \"Topic10\", \"Topic10\", \"Topic10\", \"Topic10\", \"Topic10\", \"Topic10\", \"Topic10\", \"Topic10\", \"Topic10\", \"Topic10\", \"Topic10\", \"Topic10\", \"Topic10\", \"Topic10\", \"Topic10\", \"Topic10\", \"Topic10\", \"Topic10\", \"Topic10\", \"Topic10\", \"Topic11\", \"Topic11\", \"Topic11\", \"Topic11\", \"Topic11\", \"Topic11\", \"Topic11\", \"Topic11\", \"Topic11\", \"Topic11\", \"Topic11\", \"Topic11\", \"Topic11\", \"Topic11\", \"Topic11\", \"Topic11\", \"Topic11\", \"Topic11\", \"Topic11\", \"Topic11\", \"Topic11\", \"Topic11\", \"Topic11\", \"Topic11\", \"Topic11\", \"Topic11\", \"Topic11\", \"Topic11\", \"Topic11\", \"Topic11\", \"Topic11\", \"Topic11\", \"Topic11\", \"Topic11\", \"Topic11\", \"Topic11\", \"Topic11\", \"Topic11\", \"Topic11\", \"Topic11\", \"Topic11\", \"Topic11\", \"Topic11\", \"Topic12\", \"Topic12\", \"Topic12\", \"Topic12\", \"Topic12\", \"Topic12\", \"Topic12\", \"Topic12\", \"Topic12\", \"Topic12\", \"Topic12\", \"Topic12\", \"Topic12\", \"Topic12\", \"Topic12\", \"Topic12\", \"Topic12\", \"Topic12\", \"Topic12\", \"Topic12\", \"Topic12\", \"Topic12\", \"Topic12\", \"Topic12\", \"Topic12\", \"Topic12\", \"Topic12\", \"Topic12\", \"Topic12\", \"Topic12\", \"Topic12\", \"Topic12\", \"Topic12\", \"Topic12\", \"Topic12\", \"Topic12\", \"Topic12\", \"Topic12\", \"Topic12\", \"Topic12\", \"Topic12\", \"Topic12\", \"Topic12\", \"Topic12\", \"Topic12\", \"Topic12\", \"Topic12\", \"Topic12\", \"Topic12\", \"Topic12\", \"Topic12\", \"Topic12\", \"Topic13\", \"Topic13\", \"Topic13\", \"Topic13\", \"Topic13\", \"Topic13\", \"Topic13\", \"Topic13\", \"Topic13\", \"Topic13\", \"Topic13\", \"Topic13\", \"Topic13\", \"Topic13\", \"Topic13\", \"Topic13\", \"Topic13\", \"Topic13\", \"Topic13\", \"Topic13\", \"Topic13\", \"Topic13\", \"Topic13\", \"Topic13\", \"Topic13\", \"Topic13\", \"Topic13\", \"Topic13\", \"Topic13\", \"Topic13\", \"Topic13\", \"Topic13\", \"Topic13\", \"Topic13\", \"Topic13\", \"Topic13\", \"Topic13\", \"Topic13\", \"Topic13\", \"Topic13\", \"Topic13\", \"Topic13\", \"Topic13\", \"Topic13\", \"Topic13\", \"Topic13\", \"Topic13\", \"Topic13\", \"Topic13\", \"Topic13\", \"Topic13\", \"Topic13\", \"Topic13\", \"Topic13\", \"Topic13\", \"Topic13\", \"Topic13\", \"Topic13\", \"Topic13\", \"Topic14\", \"Topic14\", \"Topic14\", \"Topic14\", \"Topic14\", \"Topic14\", \"Topic14\", \"Topic14\", \"Topic14\", \"Topic14\", \"Topic14\", \"Topic14\", \"Topic14\", \"Topic14\", \"Topic14\", \"Topic14\", \"Topic14\", \"Topic14\", \"Topic14\", \"Topic14\", \"Topic14\", \"Topic14\", \"Topic14\", \"Topic14\", \"Topic14\", \"Topic14\", \"Topic14\", \"Topic14\", \"Topic14\", \"Topic14\", \"Topic14\", \"Topic14\", \"Topic14\", \"Topic14\", \"Topic14\", \"Topic14\", \"Topic14\", \"Topic14\", \"Topic14\", \"Topic14\", \"Topic14\", \"Topic14\", \"Topic14\", \"Topic14\", \"Topic14\", \"Topic14\", \"Topic14\", \"Topic14\", \"Topic14\", \"Topic14\", \"Topic14\", \"Topic14\", \"Topic14\", \"Topic14\", \"Topic14\", \"Topic14\", \"Topic14\", \"Topic14\", \"Topic14\", \"Topic14\", \"Topic14\", \"Topic14\", \"Topic14\", \"Topic14\", \"Topic14\", \"Topic14\", \"Topic14\", \"Topic14\", \"Topic14\", \"Topic14\", \"Topic14\", \"Topic14\", \"Topic14\", \"Topic14\", \"Topic14\", \"Topic14\", \"Topic14\", \"Topic14\", \"Topic14\", \"Topic14\", \"Topic14\", \"Topic14\", \"Topic14\", \"Topic15\", \"Topic15\", \"Topic15\", \"Topic15\", \"Topic15\", \"Topic15\", \"Topic15\", \"Topic15\", \"Topic15\", \"Topic15\", \"Topic15\", \"Topic15\", \"Topic15\", \"Topic15\", \"Topic15\", \"Topic15\", \"Topic15\", \"Topic15\", \"Topic15\", \"Topic15\", \"Topic15\", \"Topic15\", \"Topic15\", \"Topic15\", \"Topic15\", \"Topic15\", \"Topic15\", \"Topic15\", \"Topic15\", \"Topic15\", \"Topic15\", \"Topic15\", \"Topic15\", \"Topic15\", \"Topic15\", \"Topic15\", \"Topic15\", \"Topic15\", \"Topic15\", \"Topic15\", \"Topic15\", \"Topic15\", \"Topic15\", \"Topic15\", \"Topic15\", \"Topic15\", \"Topic15\", \"Topic15\", \"Topic15\", \"Topic15\", \"Topic15\", \"Topic15\", \"Topic15\", \"Topic15\", \"Topic15\", \"Topic15\", \"Topic15\", \"Topic15\", \"Topic15\", \"Topic15\", \"Topic15\", \"Topic15\", \"Topic15\", \"Topic15\", \"Topic15\", \"Topic15\", \"Topic15\", \"Topic16\", \"Topic16\", \"Topic16\", \"Topic16\", \"Topic16\", \"Topic16\", \"Topic16\", \"Topic16\", \"Topic16\", \"Topic16\", \"Topic16\", \"Topic16\", \"Topic16\", \"Topic16\", \"Topic16\", \"Topic16\", \"Topic16\", \"Topic16\", \"Topic16\", \"Topic16\", \"Topic16\", \"Topic16\", \"Topic16\", \"Topic16\", \"Topic16\", \"Topic16\", \"Topic16\", \"Topic16\", \"Topic16\", \"Topic16\", \"Topic16\", \"Topic16\", \"Topic16\", \"Topic16\", \"Topic16\", \"Topic16\", \"Topic16\", \"Topic16\", \"Topic16\", \"Topic16\", \"Topic16\", \"Topic16\", \"Topic16\", \"Topic16\", \"Topic16\", \"Topic16\", \"Topic16\", \"Topic16\", \"Topic16\", \"Topic16\", \"Topic16\", \"Topic16\", \"Topic16\", \"Topic16\", \"Topic16\", \"Topic16\", \"Topic16\", \"Topic16\", \"Topic16\", \"Topic16\", \"Topic16\", \"Topic16\", \"Topic16\", \"Topic16\", \"Topic16\", \"Topic16\", \"Topic16\", \"Topic16\", \"Topic16\", \"Topic16\", \"Topic16\", \"Topic16\", \"Topic16\", \"Topic16\", \"Topic16\", \"Topic16\", \"Topic16\", \"Topic16\", \"Topic16\", \"Topic16\", \"Topic16\", \"Topic16\", \"Topic16\", \"Topic16\", \"Topic16\", \"Topic16\", \"Topic16\", \"Topic16\", \"Topic16\", \"Topic16\", \"Topic17\", \"Topic17\", \"Topic17\", \"Topic17\", \"Topic17\", \"Topic17\", \"Topic17\", \"Topic17\", \"Topic17\", \"Topic17\", \"Topic17\", \"Topic17\", \"Topic17\", \"Topic17\", \"Topic17\", \"Topic17\", \"Topic17\", \"Topic17\", \"Topic17\", \"Topic17\", \"Topic17\", \"Topic17\", \"Topic17\", \"Topic17\", \"Topic17\", \"Topic17\", \"Topic17\", \"Topic17\", \"Topic17\", \"Topic17\", \"Topic17\", \"Topic17\", \"Topic17\", \"Topic17\", \"Topic17\", \"Topic17\", \"Topic17\", \"Topic17\", \"Topic17\", \"Topic17\", \"Topic17\", \"Topic17\", \"Topic17\", \"Topic17\", \"Topic17\", \"Topic17\", \"Topic17\", \"Topic17\", \"Topic17\", \"Topic17\", \"Topic17\", \"Topic17\", \"Topic17\", \"Topic17\", \"Topic17\", \"Topic17\", \"Topic17\", \"Topic17\", \"Topic17\", \"Topic17\", \"Topic17\", \"Topic17\", \"Topic17\", \"Topic17\", \"Topic17\", \"Topic17\", \"Topic17\", \"Topic17\", \"Topic17\", \"Topic17\", \"Topic17\", \"Topic17\", \"Topic17\", \"Topic17\", \"Topic17\", \"Topic17\", \"Topic17\", \"Topic17\", \"Topic17\", \"Topic17\", \"Topic17\", \"Topic17\", \"Topic17\", \"Topic17\", \"Topic17\", \"Topic17\", \"Topic17\", \"Topic17\", \"Topic17\", \"Topic17\", \"Topic17\", \"Topic18\", \"Topic18\", \"Topic18\", \"Topic18\", \"Topic18\", \"Topic18\", \"Topic18\", \"Topic18\", \"Topic18\", \"Topic18\", \"Topic18\", \"Topic18\", \"Topic18\", \"Topic18\", \"Topic18\", \"Topic18\", \"Topic18\", \"Topic18\", \"Topic18\", \"Topic18\", \"Topic18\", \"Topic18\", \"Topic18\", \"Topic18\", \"Topic18\", \"Topic18\", \"Topic18\", \"Topic18\", \"Topic18\", \"Topic18\", \"Topic18\", \"Topic18\", \"Topic18\", \"Topic18\", \"Topic18\", \"Topic18\", \"Topic18\", \"Topic18\", \"Topic18\", \"Topic18\", \"Topic18\", \"Topic18\", \"Topic18\", \"Topic18\", \"Topic18\", \"Topic18\", \"Topic18\", \"Topic18\", \"Topic18\", \"Topic18\", \"Topic18\", \"Topic18\", \"Topic18\", \"Topic18\", \"Topic18\", \"Topic18\", \"Topic18\", \"Topic18\", \"Topic18\", \"Topic18\", \"Topic18\", \"Topic18\", \"Topic18\", \"Topic18\", \"Topic18\", \"Topic18\", \"Topic18\", \"Topic18\", \"Topic18\", \"Topic18\", \"Topic18\", \"Topic18\", \"Topic18\", \"Topic18\", \"Topic18\", \"Topic18\", \"Topic18\", \"Topic18\", \"Topic18\", \"Topic18\", \"Topic18\", \"Topic18\", \"Topic18\", \"Topic18\", \"Topic18\", \"Topic18\", \"Topic18\", \"Topic18\", \"Topic18\", \"Topic18\", \"Topic18\", \"Topic18\", \"Topic19\", \"Topic19\", \"Topic19\", \"Topic19\", \"Topic19\", \"Topic19\", \"Topic19\", \"Topic19\", \"Topic19\", \"Topic19\", \"Topic19\", \"Topic19\", \"Topic19\", \"Topic19\", \"Topic19\", \"Topic19\", \"Topic19\", \"Topic19\", \"Topic19\", \"Topic19\", \"Topic19\", \"Topic19\", \"Topic19\", \"Topic19\", \"Topic19\", \"Topic19\", \"Topic19\", \"Topic19\", \"Topic19\", \"Topic19\", \"Topic19\", \"Topic19\", \"Topic19\", \"Topic19\", \"Topic19\", \"Topic19\", \"Topic19\", \"Topic19\", \"Topic19\", \"Topic19\", \"Topic19\", \"Topic19\", \"Topic19\", \"Topic19\", \"Topic19\", \"Topic19\", \"Topic19\", \"Topic19\", \"Topic19\", \"Topic19\", \"Topic19\", \"Topic19\", \"Topic19\", \"Topic19\", \"Topic19\", \"Topic19\", \"Topic19\", \"Topic19\", \"Topic19\", \"Topic19\", \"Topic19\", \"Topic19\", \"Topic19\", \"Topic19\", \"Topic19\", \"Topic19\", \"Topic19\", \"Topic19\", \"Topic19\", \"Topic19\", \"Topic19\", \"Topic19\", \"Topic19\", \"Topic19\", \"Topic19\", \"Topic19\", \"Topic19\", \"Topic19\", \"Topic19\", \"Topic19\", \"Topic19\", \"Topic19\", \"Topic19\", \"Topic19\", \"Topic19\", \"Topic19\", \"Topic19\", \"Topic19\", \"Topic19\", \"Topic19\", \"Topic19\", \"Topic19\", \"Topic19\", \"Topic19\", \"Topic19\", \"Topic19\", \"Topic19\", \"Topic20\", \"Topic20\", \"Topic20\", \"Topic20\", \"Topic20\", \"Topic20\", \"Topic20\", \"Topic20\", \"Topic20\", \"Topic20\", \"Topic20\", \"Topic20\", \"Topic20\", \"Topic20\", \"Topic20\", \"Topic20\", \"Topic20\", \"Topic20\", \"Topic20\", \"Topic20\", \"Topic20\", \"Topic20\", \"Topic20\", \"Topic20\", \"Topic20\", \"Topic20\", \"Topic20\", \"Topic20\", \"Topic20\", \"Topic20\", \"Topic20\", \"Topic20\", \"Topic20\", \"Topic20\", \"Topic20\", \"Topic20\", \"Topic20\", \"Topic20\", \"Topic20\", \"Topic20\", \"Topic20\", \"Topic20\", \"Topic20\", \"Topic20\", \"Topic20\", \"Topic20\", \"Topic20\", \"Topic20\", \"Topic20\", \"Topic20\", \"Topic20\", \"Topic20\", \"Topic20\", \"Topic20\", \"Topic20\", \"Topic20\", \"Topic20\", \"Topic20\", \"Topic20\", \"Topic20\", \"Topic20\", \"Topic20\", \"Topic20\", \"Topic20\", \"Topic20\", \"Topic20\", \"Topic20\", \"Topic20\", \"Topic20\", \"Topic20\", \"Topic20\", \"Topic20\", \"Topic20\", \"Topic20\", \"Topic20\", \"Topic20\", \"Topic20\", \"Topic20\", \"Topic20\", \"Topic20\", \"Topic20\", \"Topic20\", \"Topic20\", \"Topic20\", \"Topic20\", \"Topic20\", \"Topic20\", \"Topic20\", \"Topic20\", \"Topic20\", \"Topic20\"], \"Freq\": [28.0, 9.0, 15.0, 19.0, 29.0, 15.0, 7.0, 14.0, 6.0, 10.0, 12.0, 14.0, 8.0, 9.0, 9.0, 7.0, 6.0, 11.0, 18.0, 19.0, 9.0, 8.0, 8.0, 14.0, 12.0, 13.0, 6.0, 6.0, 7.0, 8.0, 28.038206100463867, 6.592033386230469, 5.667556285858154, 4.729757785797119, 4.716516017913818, 4.709010601043701, 5.479862213134766, 6.284461975097656, 5.460720062255859, 3.808556079864502, 4.619964122772217, 14.438863754272461, 5.4060540199279785, 3.768676996231079, 3.763845443725586, 3.7566375732421875, 10.339959144592285, 5.4218573570251465, 5.272754192352295, 2.893007278442383, 2.892791271209717, 2.8827548027038574, 3.6516032218933105, 12.294952392578125, 2.8703866004943848, 3.6505842208862305, 2.866445541381836, 2.863434314727783, 3.6459438800811768, 2.8623554706573486, 4.357856273651123, 7.365952491760254, 23.972021102905273, 7.832653045654297, 5.600430965423584, 11.087117195129395, 5.675637722015381, 14.435661315917969, 5.538162708282471, 6.591522216796875, 6.433758735656738, 5.553528785705566, 5.4327850341796875, 4.604738712310791, 5.545865058898926, 6.286472320556641, 6.925341606140137, 6.314167499542236, 5.36763334274292, 5.624640464782715, 15.437317848205566, 10.026617050170898, 9.095782279968262, 9.095519065856934, 8.1904935836792, 8.185511589050293, 6.380799293518066, 6.381977081298828, 5.47800874710083, 5.473622798919678, 4.571702480316162, 4.570119857788086, 4.568454742431641, 10.898792266845703, 3.670785903930664, 3.665987491607666, 3.6649041175842285, 3.663353443145752, 2.7680699825286865, 2.7676076889038086, 2.7662813663482666, 2.7651712894439697, 2.760690689086914, 2.7603983879089355, 2.7608983516693115, 2.7603609561920166, 2.7595090866088867, 2.759443759918213, 2.759556293487549, 2.7581679821014404, 7.283837795257568, 5.490324974060059, 5.475358486175537, 3.668026924133301, 5.4735565185546875, 3.6730270385742188, 3.664437770843506, 4.578566074371338, 3.6861138343811035, 4.5898637771606445, 3.6792216300964355, 3.678619384765625, 7.401787757873535, 6.585440158843994, 6.574343681335449, 4.126823902130127, 4.12345027923584, 2.497105598449707, 2.4931252002716064, 2.4903435707092285, 2.4874446392059326, 6.575630187988281, 3.2776312828063965, 1.6779370307922363, 1.6771560907363892, 1.6772195100784302, 1.6761668920516968, 1.6755672693252563, 1.6743342876434326, 1.67348313331604, 1.6742030382156372, 3.3085668087005615, 3.30586576461792, 0.8605803847312927, 0.8605193495750427, 0.8605159521102905, 0.8605683445930481, 0.8601975440979004, 0.860164225101471, 0.8598177433013916, 0.8598827719688416, 0.8598462343215942, 7.379603385925293, 1.6750736236572266, 1.6409255266189575, 2.4919257164001465, 1.6356532573699951, 1.6777348518371582, 2.4959230422973633, 2.4771573543548584, 3.3105006217956543, 2.4880619049072266, 2.477444887161255, 2.4761335849761963, 2.479490041732788, 2.4787654876708984, 1.6776208877563477, 2.3557188510894775, 2.352407455444336, 2.3530640602111816, 1.587764024734497, 1.5820764303207397, 1.5818337202072144, 1.5816198587417603, 1.581239104270935, 1.5808913707733154, 1.579750895500183, 1.5796537399291992, 1.5794861316680908, 1.5793877840042114, 1.5731086730957031, 1.571824312210083, 1.5706480741500854, 1.572106122970581, 0.8132217526435852, 0.8132179379463196, 0.8132167458534241, 0.8132162690162659, 0.8132150769233704, 0.813215434551239, 0.8132147789001465, 0.8132140636444092, 0.8132125735282898, 0.8132107257843018, 0.8132108449935913, 0.813210129737854, 0.8132096529006958, 3.8796193599700928, 2.3538382053375244, 2.3526320457458496, 1.5814273357391357, 2.3116073608398438, 1.5741684436798096, 1.5848901271820068, 1.5663775205612183, 1.5818206071853638, 1.5172063112258911, 3.132925510406494, 1.566136121749878, 2.3578336238861084, 2.3567628860473633, 4.498924732208252, 2.498502731323242, 2.3541409969329834, 2.478137731552124, 2.441798686981201, 2.488971471786499, 2.125255823135376, 1.8247935771942139, 1.7396063804626465, 1.7182258367538452, 1.7534476518630981, 1.774960994720459, 1.6639429330825806, 1.6403636932373047, 1.5892095565795898, 1.5861854553222656, 1.585680365562439, 1.5826715230941772, 9.410834312438965, 5.082538604736328, 2.920703649520874, 2.199502944946289, 2.198054313659668, 1.4779088497161865, 1.4771894216537476, 1.4782629013061523, 1.478293538093567, 1.477937936782837, 0.7577072978019714, 0.7576732635498047, 0.757828414440155, 0.7575176358222961, 0.7573562860488892, 0.75745689868927, 0.7572214007377625, 0.7574331164360046, 0.757344663143158, 0.7573192715644836, 0.7572451829910278, 0.7573654651641846, 0.7571720480918884, 0.7574508190155029, 0.7572136521339417, 0.7572436928749084, 0.7573680281639099, 0.757281482219696, 0.757055938243866, 0.7575024366378784, 2.201735258102417, 0.7574436664581299, 2.197875738143921, 2.201631784439087, 1.4787967205047607, 1.477950096130371, 2.1985466480255127, 3.643296003341675, 2.1988980770111084, 3.6391873359680176, 1.477941870689392, 2.920330286026001, 1.4776527881622314, 1.4796444177627563, 1.4839799404144287, 1.4802595376968384, 1.478235125541687, 0.7638540267944336, 0.7593081593513489, 0.7591387629508972, 0.7590095400810242, 2.00707745552063, 1.9586870670318604, 1.9030781984329224, 1.3496803045272827, 1.348972201347351, 1.3490126132965088, 1.3416231870651245, 1.340026617050171, 1.3126357793807983, 1.290672779083252, 0.6913931965827942, 0.6913847327232361, 0.6913248300552368, 0.6912129521369934, 0.6911882758140564, 0.6911112070083618, 0.6910960674285889, 0.6910999417304993, 0.6910544633865356, 0.6910975575447083, 0.6909784078598022, 0.6908145546913147, 0.6909558773040771, 0.6910787224769592, 0.6909627914428711, 0.6909487247467041, 0.6908357739448547, 0.6910653710365295, 0.6909198760986328, 0.6908568143844604, 0.6909727454185486, 1.3479282855987549, 1.3249526023864746, 1.3405967950820923, 1.3060383796691895, 1.6517988443374634, 2.914462089538574, 2.9553520679473877, 2.597609519958496, 1.35006844997406, 1.6643905639648438, 1.0217074155807495, 1.1633141040802002, 0.9267387986183167, 0.8384724855422974, 0.796747088432312, 0.7671056985855103, 0.7636703848838806, 0.6920325756072998, 0.6917755007743835, 0.6915581226348877, 3.3980295658111572, 2.0524845123291016, 2.055088758468628, 2.0549631118774414, 1.379591703414917, 1.3803329467773438, 1.3813577890396118, 0.7081174850463867, 0.7069863080978394, 0.7070841193199158, 0.7078728675842285, 0.7079130411148071, 0.70783531665802, 0.7078163623809814, 0.7066560387611389, 0.7064876556396484, 0.7062160968780518, 0.7063524127006531, 0.7077131867408752, 0.7061905860900879, 0.7076455354690552, 0.7064751386642456, 0.7065407037734985, 0.7065886855125427, 0.7076177000999451, 0.7064504623413086, 0.7063495516777039, 0.707608699798584, 0.7062618732452393, 0.7061150074005127, 0.7075623869895935, 0.7064294815063477, 1.380879282951355, 0.7074120044708252, 1.37822687625885, 1.3789710998535156, 1.381880521774292, 1.3810796737670898, 0.70731520652771, 0.7072426676750183, 2.726844310760498, 2.0543997287750244, 1.3822836875915527, 1.3798613548278809, 2.0628271102905273, 2.0592541694641113, 1.38068687915802, 1.3817927837371826, 1.378463864326477, 1.3806759119033813, 1.3877100944519043, 1.3832350969314575, 1.3844316005706787, 1.3823622465133667, 1.3834227323532104, 0.711039662361145, 0.7108767032623291, 0.7107222676277161, 3.2067298889160156, 1.3013596534729004, 1.3007988929748535, 1.3009722232818604, 1.300246000289917, 0.6668491959571838, 0.6669619083404541, 0.6669360995292664, 0.6669334173202515, 0.6668201684951782, 0.6667417883872986, 0.6668865084648132, 0.6666815280914307, 0.666731059551239, 0.6667652726173401, 0.6666998267173767, 0.6667197942733765, 0.6668432354927063, 0.6665602922439575, 0.6665892004966736, 0.6664938926696777, 0.6666087508201599, 0.666618824005127, 0.6666207909584045, 0.6665534973144531, 0.6665921807289124, 0.6664954423904419, 0.6664474010467529, 0.6664788126945496, 0.6664442420005798, 2.5741031169891357, 1.9374351501464844, 1.3026578426361084, 1.9367711544036865, 1.3024426698684692, 1.3018368482589722, 0.6750938892364502, 0.6708794832229614, 0.6707749962806702, 0.6698316335678101, 0.6696352362632751, 0.6689595580101013, 0.6689268946647644, 0.6683729290962219, 0.6683104038238525, 0.6682094931602478, 0.6681810617446899, 0.6681623458862305, 0.668105959892273, 0.6681003570556641, 0.667893648147583, 0.6678797602653503, 0.6676399111747742, 0.6675505638122559, 0.667433500289917, 2.5249619483947754, 1.9080718755722046, 1.9080723524093628, 1.9063169956207275, 1.9060689210891724, 1.9013177156448364, 1.895066261291504, 3.1563665866851807, 1.2824668884277344, 1.2824677228927612, 1.2824668884277344, 1.2824671268463135, 1.281287670135498, 1.2806684970855713, 1.2721328735351562, 1.2715120315551758, 0.6568587422370911, 0.656858503818512, 0.6568581461906433, 0.6568581461906433, 0.6568581461906433, 0.6568582057952881, 0.6568577885627747, 0.6568578481674194, 0.6563555598258972, 0.6563266515731812, 0.656266450881958, 0.6562502384185791, 0.6562370657920837, 0.6562121510505676, 1.8885622024536133, 1.2809185981750488, 1.3563932180404663, 1.3228392601013184, 1.2812913656234741, 1.3198655843734741, 1.401111125946045, 1.3032240867614746, 1.3043749332427979, 0.7853820323944092, 0.7938982248306274, 0.7056476473808289, 0.6884294748306274, 0.7206165194511414, 6.242137432098389, 1.8948090076446533, 1.893409252166748, 1.2730351686477661, 1.2731956243515015, 1.273270606994629, 1.2731666564941406, 1.272775650024414, 1.2726470232009888, 1.2725164890289307, 1.272487998008728, 1.2725181579589844, 0.6525394916534424, 0.6521746516227722, 0.6522300839424133, 0.6522648930549622, 0.6523648500442505, 0.652174174785614, 0.6522179245948792, 0.6523337364196777, 0.6521238088607788, 0.6521278619766235, 0.6521376967430115, 0.6520676612854004, 0.65192711353302, 0.6521062850952148, 0.6519415974617004, 0.6518447399139404, 0.6520370841026306, 0.6519154906272888, 1.271658182144165, 1.2777835130691528, 1.2781063318252563, 1.8933281898498535, 1.8950128555297852, 1.8947360515594482, 1.2736618518829346, 1.273836612701416, 1.2732824087142944, 1.8997777700424194, 1.2739804983139038, 0.6570447087287903, 0.666234016418457, 0.6561564803123474, 0.6560764908790588, 0.6559652090072632, 0.655544638633728, 0.655409038066864, 2.187669277191162, 1.6442075967788696, 1.1108163595199585, 1.1060547828674316, 1.105921745300293, 1.1045054197311401, 1.1044100522994995, 1.1031492948532104, 1.1045029163360596, 1.1032360792160034, 0.5690311193466187, 0.568204402923584, 0.5679742693901062, 0.5676802396774292, 0.5676515102386475, 0.5673801302909851, 0.5676565170288086, 0.5670691132545471, 0.5672725439071655, 0.5664882659912109, 0.5663298964500427, 0.5657647848129272, 0.5662680864334106, 0.5663781762123108, 0.565916121006012, 0.5656591653823853, 0.5657039880752563, 0.5651543736457825, 0.5645480155944824, 0.5632961988449097, 1.6402606964111328, 1.1038905382156372, 1.6537748575210571, 1.6292906999588013, 1.6455382108688354, 1.109115719795227, 1.1068459749221802, 1.1126971244812012, 1.1118338108062744, 0.5699058175086975, 0.5697748064994812, 0.5695793032646179, 0.5674028992652893, 1.0481480360031128, 1.0480762720108032, 1.0478752851486206, 1.0482829809188843, 1.0479284524917603, 1.047750473022461, 1.0475819110870361, 1.0473318099975586, 0.5369471907615662, 0.5368978977203369, 0.5368801355361938, 0.5369037985801697, 0.5368662476539612, 0.5368868708610535, 0.5369253754615784, 0.5367368459701538, 0.5367270112037659, 0.5366593599319458, 0.5366166234016418, 0.5368155837059021, 0.5366769433021545, 0.5366293787956238, 0.5367230772972107, 0.5366815328598022, 0.5366315245628357, 0.5365955233573914, 0.5367172360420227, 0.5365897417068481, 0.5365299582481384, 0.5363937616348267, 1.0429304838180542, 1.047865629196167, 1.0414934158325195, 1.044972538948059, 1.1356761455535889, 1.1573231220245361, 0.5945941209793091, 0.6527121067047119, 0.6321840286254883, 0.6280207633972168, 0.6245662569999695, 0.5602896809577942, 0.554967999458313, 0.5506047010421753, 0.5476688146591187, 0.5440446138381958, 0.5380522608757019, 0.537829577922821, 0.537792980670929, 0.5375716686248779, 0.537386953830719, 0.5372854471206665, 0.15851089358329773, 0.1564921736717224, 0.1540263295173645, 0.15005406737327576, 0.15112608671188354, 0.14947235584259033, 0.14435885846614838, 0.150612011551857, 0.1661747246980667, 0.16434940695762634, 0.153938427567482, 0.009495480917394161, 0.02140762098133564, 0.008383014239370823, 0.007093265186995268, 0.007090475410223007, 0.008131849579513073, 0.0070692491717636585, 0.007066130638122559, 0.007064130622893572, 0.007060394622385502, 0.007059877272695303, 0.007056375965476036, 0.007052850443869829, 0.007051427382975817, 0.007046177517622709, 0.007044222671538591, 0.007045587059110403, 0.00703864311799407, 0.007028148043900728, 0.036876142024993896, 0.020316140726208687, 0.02903898060321808, 0.007824396714568138, 0.008600108325481415, 0.033274661749601364, 0.01806560903787613, 0.008350837975740433, 0.008337263949215412, 0.008313593454658985, 0.026206428185105324, 0.007668023928999901, 0.011002014391124249, 0.013180616311728954, 0.01409454271197319, 0.008444917388260365, 0.014226410537958145, 0.019363775849342346, 0.012936518527567387, 0.024371124804019928, 0.017847469076514244, 0.01525726355612278, 0.017266254872083664, 0.01829235628247261, 0.014984904788434505, 0.013207696378231049, 0.0156964510679245, 0.014114296063780785, 0.013304543681442738, 0.0003583110810723156, 0.00035816800664179027, 0.0003572450368665159, 0.00035716762067750096, 0.00035681811277754605, 0.0003564076905604452, 0.00035614692023955286, 0.0003559305623639375, 0.0003559879551175982, 0.0003556495357770473, 0.0003555186849553138, 0.00035551469773054123, 0.0003554158902261406, 0.00035545590799301863, 0.0003552435082383454, 0.0003551206609699875, 0.0003550782857928425, 0.00035509958979673684, 0.0003549356188159436, 0.00035484059480950236, 0.0003548629174474627, 0.0003546340449247509, 0.0003545010113157332, 0.0003543772909324616, 0.00035399600164964795, 0.00035377716994844377, 0.0003496415156405419, 0.0003496415156405419, 0.0003496415156405419, 0.0003496415156405419, 0.000366602762369439, 0.00036634778371080756, 0.0003661991795524955, 0.00036512871156446636, 0.0005170415970496833, 0.0004600133397616446, 0.00036457451642490923, 0.0003645696851890534, 0.0003644496318884194, 0.00036436691880226135, 0.0003642195661086589, 0.0003642133087851107, 0.0003638609196059406, 0.0003638445632532239, 0.000363796716555953, 0.0004100917431060225, 0.00036376112257130444, 0.000363689090590924, 0.0003635528264567256, 0.00038345999200828373, 0.0005164521280676126, 0.0005021326942369342, 0.00038188783219084144, 0.0003635016328189522, 0.0004577888175845146, 0.00036344793625175953, 0.0004711249493993819, 0.00045130305807106197, 0.0003909748629666865, 0.00045192905236035585, 0.00043516303412616253, 0.00043666287092491984, 0.00044733440154232085, 0.00038780481554567814, 0.00043770275078713894, 0.00043303798884153366, 0.0004010883567389101, 0.00041036936454474926, 0.00039303008816204965, 0.00042356198537163436, 0.00041193587821908295, 0.00040579031337983906, 0.0004041153297293931, 0.00039713349542580545, 0.00040546953096054494, 0.000415431015426293, 0.00039454526267945766, 0.0004069828719366342, 0.00039754348108544946, 0.00039901063428260386, 0.0003985042276326567, 0.00039809857844375074, 0.0003951216349378228, 0.0003876307455357164, 0.0003702464746311307, 0.0003695847699418664, 0.00036778394132852554, 0.00036713058943860233, 0.0003668825374916196, 0.00036609399830922484, 0.00036547452327795327, 0.0003647601115517318, 0.00036460632691159844, 0.000363465427653864, 0.00036181777250021696, 0.0003616453323047608, 0.0003613503940869123, 0.0003613045846577734, 0.00035921126254834235, 0.00035778211895376444, 0.00035758272861130536, 0.0003574288566596806, 0.0003568656393326819, 0.00035541856777854264, 0.00035549348103813827, 0.00033344837720505893, 0.00033344837720505893, 0.00033344837720505893, 0.00033344837720505893, 0.00033344837720505893, 0.00033344837720505893, 0.00033344837720505893, 0.00033344837720505893, 0.0004612061893567443, 0.00039990071672946215, 0.00039394290070049465, 0.0003934407723136246, 0.000390478438930586, 0.00036105309845879674, 0.0003578805481083691, 0.00035756337456405163, 0.00048009431338869035, 0.0004284224705770612, 0.00043204976827837527, 0.00041685125324875116, 0.00037931904080323875, 0.0004601235268637538, 0.00037863661418668926, 0.00037474953569471836, 0.00039397316868416965, 0.0004522455856204033, 0.0004242789000272751, 0.00041416933527216315, 0.00040221898234449327, 0.000421246892074123, 0.00040211432497017086, 0.0004141773097217083, 0.0003918929724022746, 0.00038300425512716174, 0.0004000575572717935, 0.00039089974598027766, 0.0003834071976598352, 0.00041003883234225214, 0.0003936073917429894, 0.0003864590253215283, 0.00040518667083233595, 0.00039851758629083633, 0.0003956606378778815, 0.00039148007635958493, 0.0003839080163743347, 0.00033471561619080603, 0.0003291139437351376, 0.0003291139437351376, 0.0003291139437351376, 0.0003291139437351376, 0.0003291139437351376, 0.0003291139437351376, 0.0003291139437351376, 0.0003291139437351376, 0.0003291139437351376, 0.0003291139437351376, 0.0003291139437351376, 0.0003291139437351376, 0.0003291139437351376, 0.0003291139437351376, 0.0003291139437351376, 0.0003291139437351376, 0.0003291139437351376, 0.0003291139437351376, 0.0003291139437351376, 0.0003291139437351376, 0.0003291139437351376, 0.0003291139437351376, 0.0003291139437351376, 0.0003291139437351376, 0.0003291139437351376, 0.0003291139437351376, 0.0003291139437351376, 0.0003291139437351376, 0.0003291139437351376, 0.0003526310611050576, 0.0003515362332109362, 0.00035078468499705195, 0.00035067432327196, 0.00035064262920059264, 0.00034904610947705805, 0.000348919682437554, 0.0003484616754576564, 0.0003481924068182707, 0.0003479795122984797, 0.00034790675272233784, 0.00034781667636707425, 0.00034742127172648907, 0.00034726952435448766, 0.0003470959491096437, 0.0003463844768702984, 0.0003461718442849815, 0.0003460159932728857, 0.00034597908961586654, 0.0003458869468886405, 0.0003455733822192997, 0.00034523752401582897, 0.0003449647920206189, 0.00034451670944690704, 0.00034402572782710195, 0.0003420937864575535, 0.00041731950477696955, 0.00033519521821290255, 0.0003349783655721694, 0.00038208410842344165, 0.00035886437399312854, 0.00037298648385331035, 0.0004949368303641677, 0.00037387124029919505, 0.0004272943770047277, 0.00042918880353681743, 0.00039776077028363943, 0.000394287402741611, 0.000361547659849748, 0.00037878224975429475, 0.0003942611801903695, 0.00036510557401925325, 0.0003734708880074322, 0.0003672728780657053, 0.0003885215555783361, 0.00037482305197045207, 0.0003732509503606707, 0.00037781900027766824, 0.0003777201345656067, 0.000363517930964008, 0.00037431876990012825, 0.0003639895876403898, 0.0003600014897529036, 0.00036506023025140166, 0.00036803880357183516, 0.0003672449092846364, 0.0003635486646089703, 0.0003624340461101383, 0.00036107099731452763, 0.0003606473619583994, 0.0003225425025448203, 0.0003225425025448203, 0.0003225425025448203, 0.0003225425025448203, 0.0003225425025448203, 0.0003225425025448203, 0.0003225425025448203, 0.0003225425025448203, 0.0003225425025448203, 0.0003225425025448203, 0.0003225425025448203, 0.0003225425025448203, 0.0003225425025448203, 0.0003225425025448203, 0.0003225425025448203, 0.0003225425025448203, 0.0003225425025448203, 0.0003225425025448203, 0.0003225425025448203, 0.0003225425025448203, 0.0003225425025448203, 0.0003225425025448203, 0.0003225425025448203, 0.0003225425025448203, 0.0003225425025448203, 0.0003225425025448203, 0.0003289242449682206, 0.0003296273644082248, 0.0003286772407591343, 0.00032817735336720943, 0.00032843530061654747, 0.00032820552587509155, 0.00032801684574224055, 0.00032796230516396463, 0.0003277560754213482, 0.0003277246141806245, 0.000327661691699177, 0.000327288027619943, 0.0003272737958468497, 0.0003272297908551991, 0.00032715112320147455, 0.0003271463792771101, 0.0003270679444540292, 0.00032699594157747924, 0.0003271399764344096, 0.00032668496714904904, 0.00032661439036019146, 0.00032655656104907393, 0.000329577800584957, 0.00032852633739821613, 0.0003285083221271634, 0.00032830704003572464, 0.00032816315069794655, 0.0003281497920397669, 0.0003279965021647513, 0.0003278586664237082, 0.0003903562610503286, 0.00037582367076538503, 0.00037645557313226163, 0.00039593008114024997, 0.00033416005317121744, 0.0003340164548717439, 0.0003715254715643823, 0.0003631359140854329, 0.00036633788840845227, 0.00035940107773058116, 0.00037251116009429097, 0.00036838988307863474, 0.0003568448591977358, 0.00035525928251445293, 0.0003596340538933873, 0.000341352861141786, 0.00034328593756072223, 0.0003581655619200319, 0.00035533597110770643, 0.0003563003847375512, 0.00035414870944805443, 0.0003503340994939208, 0.00035417976323515177, 0.00034753666841425, 0.00034757141838781536, 0.0003572954738046974, 0.0003492276300676167, 0.0003599091141950339, 0.00034594375756569207, 0.00035367149394005537, 0.0003431324730627239, 0.0003465411136858165, 0.0003485431079752743, 0.0003461144515313208, 0.0003471117524895817, 0.00032257832936011255, 0.00032257832936011255, 0.00032257832936011255, 0.00032257832936011255, 0.00032257832936011255, 0.00032257832936011255, 0.00032257832936011255, 0.00032257832936011255, 0.00032257832936011255, 0.00032257832936011255, 0.00032257832936011255, 0.00032257832936011255, 0.00032257832936011255, 0.00032257832936011255, 0.00032257832936011255, 0.00032257832936011255, 0.00032257832936011255, 0.00032257832936011255, 0.00032257832936011255, 0.00032257832936011255, 0.00032257832936011255, 0.00032257832936011255, 0.00032257832936011255, 0.00032257832936011255, 0.00032257832936011255, 0.00032257832936011255, 0.00032257832936011255, 0.00032257832936011255, 0.00032257832936011255, 0.00032257832936011255, 0.00033055758103728294, 0.0003298741648904979, 0.00032947142608463764, 0.0003294355410616845, 0.0003293934860266745, 0.0003291047178208828, 0.0003290011081844568, 0.0003285437123849988, 0.0003285078564658761, 0.000328452093526721, 0.0003283400146756321, 0.00032818535692058504, 0.00032804650254547596, 0.0003277972573414445, 0.0003277601790614426, 0.0003277410287410021, 0.0003276937350165099, 0.0003276919305790216, 0.0003276396600995213, 0.0003275657072663307, 0.0003274583723396063, 0.0003273493784945458, 0.00032692012609913945, 0.00034348509507253766, 0.000335851771524176, 0.0003356127126608044, 0.0003355205408297479, 0.0003355004300829023, 0.0003353188221808523, 0.0003345059521961957, 0.00036508176708593965, 0.0003403205773793161, 0.00038497414789162576, 0.00035993431811220944, 0.00033775833435356617, 0.00033259583869948983, 0.00035440773353911936, 0.0003532023692969233, 0.0003492707328405231, 0.0003533395938575268, 0.00034085760125890374, 0.000343652704032138, 0.0003395346866454929, 0.00033422591513954103, 0.00034123993827961385, 0.0003348002501297742, 0.0003460767329670489, 0.0003443831519689411, 0.0003461147134657949, 0.0003449945943430066, 0.0003430339857004583, 0.0003435363178141415, 0.0003401052672415972, 0.0003399502020329237, 0.0003406204632483423, 0.00033787646680139005, 0.0003398949047550559, 0.00033789165900088847, 0.00033768848516047, 0.00033760329824872315, 0.0003375629603397101, 0.0003373889485374093, 0.0003218153433408588, 0.00032077680225484073, 0.00032077680225484073, 0.00032077680225484073, 0.00032077680225484073, 0.00032077680225484073, 0.00032077680225484073, 0.00032077680225484073, 0.00032077680225484073, 0.00032077680225484073, 0.00032077680225484073, 0.00032077680225484073, 0.00032077680225484073, 0.00032077680225484073, 0.00032077680225484073, 0.00032077680225484073, 0.00032077680225484073, 0.00032077680225484073, 0.00032077680225484073, 0.00032077680225484073, 0.00032077680225484073, 0.00032077680225484073, 0.00032077680225484073, 0.00032077680225484073, 0.00032077680225484073, 0.00032077680225484073, 0.00032077680225484073, 0.00032077680225484073, 0.00032077680225484073, 0.00032077680225484073, 0.0003271699824836105, 0.00032705292687751353, 0.0003268083091825247, 0.00032675109105184674, 0.0004933015443384647, 0.00032654788810759783, 0.0003265062696300447, 0.00032652492518536747, 0.00032632439979352057, 0.0003266482672188431, 0.0003267914871685207, 0.0003262369427829981, 0.00032661817385815084, 0.00032638380071148276, 0.0003262567624915391, 0.0003261325182393193, 0.0003259468940086663, 0.0003259774821344763, 0.00032596869277767837, 0.0003258071083109826, 0.00032573132193647325, 0.00032581534469500184, 0.00032580498373135924, 0.00032543871202506125, 0.00032552098855376244, 0.0003260028315708041, 0.0003259996301494539, 0.00032537057995796204, 0.00032536740764044225, 0.00042194899288006127, 0.00041096089989878237, 0.00038692017551511526, 0.00036430699401535094, 0.000374133960576728, 0.00036560671287588775, 0.000334255862981081, 0.0003720954991877079, 0.00035021695657633245, 0.00035219613346271217, 0.0003519558231346309, 0.00035186417517252266, 0.00034908007364720106, 0.0003459725412540138, 0.000351014721672982, 0.00035045950789935887, 0.0003558221796993166, 0.0003598137409426272, 0.0003504156193230301, 0.0003517226141411811, 0.00034953709109686315, 0.00034087852691300213, 0.00033970933873206377, 0.0003436741535551846, 0.0003490193048492074, 0.0003411891229916364, 0.0003411447396501899, 0.0003381833666935563, 0.00034051237162202597, 0.0003457195998635143, 0.00034151188447140157, 0.00034911971306428313, 0.00034368931665085256, 0.00034466630313545465, 0.0003418650885578245, 0.0003426334587857127, 0.0003423397720325738, 0.00034220467205159366, 0.0003119345929007977, 0.0003119345929007977, 0.0003119345929007977, 0.0003119345929007977, 0.0003119345929007977, 0.0003119345929007977, 0.0003119345929007977, 0.0003119345929007977, 0.0003119345929007977, 0.0003119345929007977, 0.0003119345929007977, 0.0003119345929007977, 0.0003119345929007977, 0.0003119345929007977, 0.0003119345929007977, 0.0003119345929007977, 0.0003119345929007977, 0.0003119345929007977, 0.0003119345929007977, 0.0003119345929007977, 0.0003119345929007977, 0.0003119345929007977, 0.0003119345929007977, 0.0003119345929007977, 0.0003119345929007977, 0.0003119345929007977, 0.0003119345929007977, 0.0003119345929007977, 0.0003119345929007977, 0.0003119345929007977, 0.0003187232941854745, 0.0003178599290549755, 0.0003177930775564164, 0.00031888624653220177, 0.0003527436638250947, 0.000318599195452407, 0.0003174093726556748, 0.0003172525903210044, 0.0003172041615471244, 0.0003170651907566935, 0.00031696472433395684, 0.0003169513074681163, 0.0003167808463331312, 0.00031676102662459016, 0.00031669565942138433, 0.0003166859387420118, 0.00031667828443460166, 0.0003166835813317448, 0.0003166689130011946, 0.0003166653623338789, 0.0003450728254392743, 0.00031658681109547615, 0.00031650401069782674, 0.00031646856223233044, 0.0003164439694955945, 0.0003164564841426909, 0.00031641419627703726, 0.00031640540692023933, 0.00031638771179132164, 0.0003163676883559674, 0.00035295161069370806, 0.00033524903119541705, 0.0003406964533496648, 0.000331008224748075, 0.0003398254921194166, 0.0003314153873361647, 0.00032549179741181433, 0.0003248846041969955, 0.00034785084426403046, 0.00032856178586371243, 0.0003366653108969331, 0.00033795571653172374, 0.00033758298377506435, 0.0003324012504890561, 0.0003243971732445061, 0.000323520100209862, 0.00032647582702338696, 0.0003316496731713414, 0.000327372137689963, 0.0003302785335108638, 0.00032963682315312326, 0.00032808815012685955, 0.00032926301355473697, 0.0003289414453320205, 0.0003286861756350845, 0.0003292727342341095, 0.00032276337151415646, 0.00032522983383387327, 0.0003284362319391221, 0.000326209410559386, 0.00032485389965586364], \"Term\": [\"scsi\", \"weapon\", \"option\", \"car\", \"year\", \"insurance\", \"board\", \"rate\", \"record\", \"tiff\", \"power\", \"may\", \"much\", \"ssf\", \"module\", \"moral\", \"old\", \"mb\", \"would\", \"be\", \"add\", \"flight\", \"capability\", \"go\", \"write\", \"article\", \"child\", \"parent\", \"code\", \"system\", \"scsi\", \"performance\", \"fast\", \"range\", \"burst\", \"supra\", \"accident\", \"pay\", \"ticket\", \"drive\", \"farm\", \"insurance\", \"turbo\", \"less\", \"controller\", \"clean\", \"mb\", \"record\", \"age\", \"circuit\", \"thermocouple\", \"personal\", \"violation\", \"rate\", \"mexico\", \"celica\", \"esdi\", \"male\", \"california\", \"faster\", \"porsche\", \"state\", \"year\", \"high\", \"buy\", \"go\", \"mac\", \"car\", \"company\", \"chip\", \"live\", \"much\", \"single\", \"bit\", \"well\", \"get\", \"be\", \"would\", \"do\", \"not\", \"option\", \"tiff\", \"ssf\", \"module\", \"flight\", \"capability\", \"station\", \"redesign\", \"orbiter\", \"space\", \"external\", \"tank\", \"team\", \"power\", \"currently\", \"acrv\", \"human\", \"provide\", \"application\", \"complexity\", \"program\", \"delete\", \"jsc\", \"mission\", \"vehicle\", \"panel\", \"orbit\", \"tend\", \"solar\", \"international\", \"shuttle\", \"image\", \"add\", \"design\", \"use\", \"take\", \"system\", \"would\", \"thank\", \"not\", \"organization\", \"line\", \"moral\", \"parent\", \"child\", \"swear\", \"morality\", \"example\", \"multiple\", \"christ\", \"yhwh\", \"code\", \"absolute\", \"create\", \"bold\", \"quite\", \"god\", \"thought\", \"interpretation\", \"hold\", \"unknowable\", \"jew\", \"david\", \"inappropriate\", \"anything\", \"theologically\", \"bar\", \"nuance\", \"indicate\", \"water\", \"mose\", \"biblical\", \"may\", \"follow\", \"require\", \"believe\", \"different\", \"wrong\", \"mean\", \"come\", \"know\", \"image\", \"think\", \"live\", \"get\", \"say\", \"life\", \"anybody\", \"powerbook\", \"display\", \"door\", \"somebody\", \"bunch\", \"engineering\", \"store\", \"willis\", \"park\", \"sport\", \"name\", \"rest\", \"money\", \"anymore\", \"play\", \"recently\", \"enlighten\", \"specs\", \"early\", \"umd\", \"lerxst\", \"funky\", \"production\", \"neighborhood\", \"college\", \"wam\", \"where\", \"tellme\", \"bumper\", \"could\", \"machine\", \"hear\", \"disk\", \"opinion\", \"price\", \"wonder\", \"real\", \"purdue\", \"feel\", \"look\", \"probably\", \"really\", \"day\", \"car\", \"info\", \"question\", \"well\", \"line\", \"not\", \"have\", \"s\", \"make\", \"university\", \"get\", \"be\", \"do\", \"organization\", \"anyone\", \"know\", \"thank\", \"computer\", \"weapon\", \"mass_destruction\", \"foxvog\", \"rutledge\", \"individual\", \"john\", \"doug\", \"lawrence\", \"tavare\", \"needless\", \"disagree\", \"blank\", \"massive\", \"thousand\", \"existant\", \"semi\", \"amendment\", \"reword\", \"nerve\", \"sweeper\", \"count\", \"handgun\", \"sk\", \"analysis\", \"topic\", \"destructive\", \"cbw\", \"sarah\", \"accidental\", \"investor\", \"term\", \"street\", \"right\", \"keep\", \"modern\", \"first\", \"believe\", \"write\", \"mean\", \"article\", \"many\", \"say\", \"people\", \"make\", \"use\", \"would\", \"not\", \"power\", \"control\", \"year\", \"support\", \"trial\", \"almost\", \"group\", \"war\", \"mathew\", \"camp\", \"total\", \"happen\", \"full\", \"mass\", \"japanese\", \"mutilate\", \"form\", \"devastation\", \"holocost\", \"political\", \"mantis\", \"concentration\", \"ethnic\", \"atheist\", \"short\", \"step\", \"citizen\", \"disease\", \"imprison\", \"rusnew\", \"insert\", \"partly\", \"minority\", \"zyklon\", \"ryan\", \"gas\", \"kill\", \"let\", \"newsreader\", \"consider\", \"would\", \"be\", \"not\", \"sure\", \"year\", \"standard\", \"insurance\", \"move\", \"do\", \"say\", \"organization\", \"line\", \"agree\", \"fair\", \"write\", \"error\", \"warn\", \"weitek\", \"harris\", \"bug\", \"jonathan\", \"green\", \"command\", \"dumb\", \"verify\", \"ssd\", \"winter\", \"level\", \"csd\", \"unexpected\", \"suchlike\", \"mcdowell\", \"liftoff\", \"kyanko\", \"pack\", \"humor\", \"astrophysical\", \"smithsonian\", \"ignore\", \"quadrilateral\", \"previously\", \"introduce\", \"amber\", \"sci\", \"caution\", \"fill\", \"rat\", \"memory\", \"scare\", \"tom\", \"expect\", \"joe\", \"division\", \"stuff\", \"address\", \"know\", \"system\", \"computer\", \"launch\", \"write\", \"article\", \"really\", \"distribution\", \"question\", \"thing\", \"chip\", \"get\", \"organization\", \"line\", \"not\", \"number\", \"go\", \"be\", \"purchase\", \"tape\", \"sale\", \"dryer\", \"portable\", \"equalizer\", \"steam\", \"zoom\", \"lictor\", \"cassette\", \"brother\", \"lastly\", \"microscope\", \"yd\", \"japan\", \"forsale\", \"band\", \"head\", \"duster\", \"matic\", \"vaccum\", \"deck\", \"monolux\", \"everylast\", \"acsu\", \"salon\", \"bet\", \"sunbeam\", \"hair\", \"silex\", \"move\", \"speed\", \"include\", \"new\", \"reasonable\", \"case\", \"year\", \"be\", \"high\", \"old\", \"make\", \"not\", \"s\", \"know\", \"never\", \"use\", \"see\", \"do\", \"organization\", \"ask\", \"line\", \"summary\", \"hand\", \"thing\", \"seem\", \"si\", \"rod\", \"cerkoney\", \"upgrade\", \"poll\", \"co\", \"experience\", \"clock\", \"hewlett\", \"fort\", \"packard\", \"collin\", \"floppy\", \"kuo\", \"knowledge\", \"acceleration\", \"harmony\", \"hpdesk\", \"regard\", \"hpfcmrc\", \"east\", \"fekvh\", \"qxf\", \"rd\", \"brave\", \"detail\", \"innc\", \"summarize\", \"shelley\", \"carson\", \"guy\", \"final\", \"call\", \"speed\", \"day\", \"host\", \"add\", \"organization\", \"line\", \"nntp_poste\", \"email\", \"top\", \"newsreader\", \"have\", \"board\", \"stac\", \"autodoubler\", \"licensing\", \"decompress\", \"technology\", \"compression\", \"product\", \"urbana\", \"sigma\", \"diskdoubler\", \"kerr\", \"reluctant\", \"utility\", \"stan\", \"stinky\", \"compress\", \"reappear\", \"service\", \"mention\", \"joseph\", \"freeware\", \"sad\", \"due\", \"recompress\", \"hardware\", \"competition\", \"unlikely\", \"expansion\", \"else\", \"lose\", \"illinoi\", \"double\", \"problem\", \"file\", \"have\", \"icon\", \"work\", \"design\", \"be\", \"write\", \"office\", \"year\", \"would\", \"article\", \"organization\", \"line\", \"s\", \"terminal\", \"boot\", \"edit\", \"sun\", \"marie\", \"syntax\", \"ann\", \"configuration\", \"entry\", \"barden\", \"exact\", \"fail\", \"session\", \"mit\", \"window\", \"background\", \"telnet\", \"matter\", \"ss\", \"unix\", \"bogus\", \"manual\", \"contain\", \"manually\", \"tybrin\", \"parameter\", \"worthless\", \"shalimar\", \"xhost\", \"config\", \"access\", \"load\", \"control\", \"list\", \"file\", \"try\", \"question\", \"system\", \"add\", \"appreciate\", \"work\", \"time\", \"help\", \"tx\", \"computrac\", \"irwin\", \"oil\", \"leak\", \"bike\", \"ducati\", \"richardson\", \"recommendation\", \"sat\", \"arnstein\", \"axis\", \"inc\", \"brown\", \"tran\", \"gmt\", \"dod\", \"accel\", \"expire\", \"fade\", \"therefore\", \"paint\", \"shop\", \"stable\", \"honk\", \"jap\", \"mate\", \"bronze\", \"beemer\", \"duc\", \"ill\", \"gt\", \"want\", \"usa\", \"distribution\", \"line\", \"run\", \"thank\", \"bit\", \"get\", \"organization\", \"would\", \"much\", \"think\", \"may\", \"well\", \"s\", \"summary\", \"hard\", \"owner\", \"nice\", \"email\", \"jame\", \"initially\", \"pretty\", \"require\", \"different\", \"absolute\", \"hear\", \"try\", \"record\", \"old\", \"much\", \"mitsubishi\", \"feel\", \"apt\", \"duc\", \"tuba\", \"dan\", \"accel\", \"therefore\", \"orange\", \"paint\", \"expire\", \"inc\", \"axis\", \"pop\", \"stable\", \"gmt\", \"bronze\", \"brown\", \"recommendation\", \"man\", \"suppose\", \"come\", \"view\", \"directive\", \"s\", \"way\", \"metaphysically\", \"england\", \"type\", \"have\", \"institute\", \"kind\", \"decide\", \"front\", \"correctly\", \"never\", \"live\", \"small\", \"year\", \"get\", \"think\", \"may\", \"be\", \"make\", \"could\", \"insurance\", \"high\", \"car\", \"orange\", \"actual\", \"honk\", \"dod\", \"expire\", \"arnstein\", \"sat\", \"gmt\", \"beemer\", \"accel\", \"recommendation\", \"jap\", \"therefore\", \"tuba\", \"paint\", \"duc\", \"stable\", \"bronze\", \"shop\", \"inc\", \"pop\", \"brown\", \"fade\", \"axis\", \"mate\", \"tran\", \"implementation\", \"login\", \"manual\", \"config\", \"bill\", \"idea\", \"packet\", \"accidental\", \"weapon\", \"mass_destruction\", \"amendment\", \"class\", \"sk\", \"automatic\", \"special\", \"brady\", \"bear\", \"need\", \"nuke\", \"foxvog\", \"allow\", \"allegedly\", \"existant\", \"doug\", \"year\", \"scsi\", \"john\", \"count\", \"say\", \"neighbor\", \"not\", \"article\", \"individual\", \"would\", \"write\", \"do\", \"car\", \"rutledge\", \"insurance\", \"go\", \"believe\", \"image\", \"right\", \"be\", \"mb\", \"state\", \"chip\", \"fast\", \"live\", \"line\", \"mean\", \"use\", \"think\", \"may\", \"rate\", \"get\", \"high\", \"implementation\", \"manual\", \"login\", \"shalimar\", \"config\", \"matter\", \"bogus\", \"unix\", \"exact\", \"background\", \"ss\", \"xhost\", \"parameter\", \"fail\", \"mit\", \"contain\", \"manually\", \"window\", \"tybrin\", \"telnet\", \"worthless\", \"session\", \"orange\", \"expire\", \"accel\", \"paint\", \"gmt\", \"arnstein\", \"sat\", \"dod\", \"boot\", \"configuration\", \"syntax\", \"ann\", \"sun\", \"dirt\", \"ghost\", \"introduction\", \"access\", \"network\", \"terminal\", \"great\", \"marie\", \"question\", \"edit\", \"barden\", \"powerbook\", \"get\", \"file\", \"list\", \"try\", \"well\", \"control\", \"have\", \"usa\", \"load\", \"could\", \"opinion\", \"display\", \"be\", \"time\", \"hear\", \"not\", \"line\", \"may\", \"year\", \"would\", \"actual\", \"orange\", \"expire\", \"accel\", \"paint\", \"gmt\", \"arnstein\", \"sat\", \"dod\", \"therefore\", \"recommendation\", \"inc\", \"axis\", \"honk\", \"duc\", \"brown\", \"stable\", \"shop\", \"tuba\", \"jap\", \"bronze\", \"fade\", \"beemer\", \"pop\", \"tran\", \"mate\", \"implementation\", \"login\", \"manual\", \"config\", \"value\", \"mcdowell\", \"waivere\", \"caution\", \"pack\", \"baker\", \"liftoff\", \"sci\", \"observatory\", \"yet\", \"sorry\", \"suchlike\", \"introduce\", \"parity\", \"curious\", \"possibly\", \"meaning\", \"previously\", \"astrophysical\", \"condition\", \"rat\", \"unexpected\", \"smithsonian\", \"dumb\", \"ignore\", \"verify\", \"error\", \"recompress\", \"joseph\", \"warn\", \"bug\", \"memory\", \"scsi\", \"tom\", \"know\", \"may\", \"code\", \"parent\", \"expect\", \"moral\", \"not\", \"tell\", \"question\", \"swear\", \"be\", \"board\", \"child\", \"mb\", \"article\", \"launch\", \"do\", \"really\", \"absolute\", \"see\", \"line\", \"organization\", \"new\", \"chip\", \"write\", \"say\", \"orange\", \"expire\", \"accel\", \"paint\", \"gmt\", \"arnstein\", \"sat\", \"dod\", \"therefore\", \"recommendation\", \"inc\", \"axis\", \"honk\", \"duc\", \"brown\", \"stable\", \"shop\", \"tuba\", \"jap\", \"bronze\", \"fade\", \"beemer\", \"pop\", \"tran\", \"mate\", \"actual\", \"implementation\", \"worthless\", \"manual\", \"login\", \"tybrin\", \"contain\", \"session\", \"window\", \"matter\", \"bogus\", \"fail\", \"parameter\", \"mit\", \"xhost\", \"shalimar\", \"exact\", \"unix\", \"config\", \"telnet\", \"background\", \"ss\", \"manually\", \"contact\", \"pusle\", \"blender\", \"binocular\", \"fixable\", \"behalf\", \"sr\", \"iron\", \"option\", \"flight\", \"ssf\", \"year\", \"marie\", \"sun\", \"rate\", \"capability\", \"power\", \"system\", \"car\", \"insurance\", \"move\", \"station\", \"module\", \"terminal\", \"international\", \"new\", \"shuttle\", \"high\", \"single\", \"space\", \"add\", \"tank\", \"time\", \"go\", \"redesign\", \"be\", \"list\", \"would\", \"provide\", \"old\", \"use\", \"thing\", \"get\", \"orange\", \"expire\", \"accel\", \"paint\", \"gmt\", \"arnstein\", \"sat\", \"dod\", \"therefore\", \"recommendation\", \"inc\", \"axis\", \"honk\", \"duc\", \"brown\", \"stable\", \"shop\", \"tuba\", \"jap\", \"bronze\", \"fade\", \"beemer\", \"pop\", \"tran\", \"mate\", \"actual\", \"implementation\", \"login\", \"manual\", \"config\", \"utility\", \"hole\", \"pellettiere\", \"stan\", \"unlikely\", \"troubled\", \"competition\", \"recompress\", \"reappear\", \"reluctant\", \"stinky\", \"instal\", \"service\", \"expand\", \"compress\", \"freeware\", \"sad\", \"due\", \"else\", \"hardware\", \"expansion\", \"joseph\", \"mention\", \"autodoubler\", \"urbana\", \"licensing\", \"diskdoubler\", \"decompress\", \"sigma\", \"product\", \"board\", \"stac\", \"year\", \"car\", \"illinoi\", \"kerr\", \"insurance\", \"rate\", \"have\", \"be\", \"design\", \"capability\", \"problem\", \"lose\", \"buy\", \"double\", \"option\", \"s\", \"would\", \"go\", \"module\", \"power\", \"record\", \"also\", \"live\", \"work\", \"high\", \"add\", \"much\", \"pay\", \"file\", \"flight\", \"actual\", \"orange\", \"expire\", \"accel\", \"paint\", \"gmt\", \"arnstein\", \"sat\", \"dod\", \"therefore\", \"recommendation\", \"inc\", \"axis\", \"honk\", \"duc\", \"brown\", \"stable\", \"shop\", \"tuba\", \"jap\", \"bronze\", \"fade\", \"beemer\", \"pop\", \"tran\", \"mate\", \"implementation\", \"login\", \"manual\", \"config\", \"serge\", \"dan\", \"alfa\", \"vw\", \"year\", \"in\", \"responsible\", \"salesman\", \"mitsubishi\", \"away\", \"law\", \"view\", \"agent\", \"friend\", \"pressure\", \"inquiry\", \"careful\", \"munny\", \"corrado\", \"mountain\", \"enough\", \"institute\", \"protege\", \"difference\", \"conservative\", \"huge\", \"worst\", \"lucky\", \"eventually\", \"car\", \"insurance\", \"rate\", \"pay\", \"go\", \"high\", \"mass\", \"be\", \"supra\", \"ticket\", \"age\", \"accident\", \"porsche\", \"california\", \"turbo\", \"record\", \"live\", \"get\", \"buy\", \"single\", \"performance\", \"awd\", \"town\", \"hope\", \"state\", \"less\", \"clean\", \"talon\", \"driving\", \"company\", \"ask\", \"would\", \"move\", \"s\", \"farm\", \"new\", \"make\", \"not\", \"orange\", \"expire\", \"accel\", \"paint\", \"gmt\", \"arnstein\", \"sat\", \"dod\", \"therefore\", \"recommendation\", \"inc\", \"axis\", \"honk\", \"duc\", \"brown\", \"stable\", \"shop\", \"tuba\", \"jap\", \"bronze\", \"fade\", \"beemer\", \"pop\", \"tran\", \"mate\", \"actual\", \"implementation\", \"login\", \"manual\", \"config\", \"directive\", \"analogy\", \"intent\", \"initially\", \"child\", \"jame\", \"establish\", \"patriarch\", \"camtec\", \"christianity\", \"christian\", \"electronic\", \"historian\", \"bar\", \"sadducee\", \"bangkok\", \"young\", \"mind\", \"gist\", \"water\", \"parent\", \"nuance\", \"leicester\", \"utterance\", \"subjectiveness\", \"metaphor\", \"religion\", \"jesus\", \"little\", \"rude\", \"may\", \"swear\", \"code\", \"absolute\", \"moral\", \"morality\", \"multiple\", \"yhwh\", \"year\", \"jew\", \"insurance\", \"be\", \"car\", \"live\", \"example\", \"require\", \"david\", \"know\", \"record\", \"rate\", \"do\", \"think\", \"say\", \"get\", \"go\", \"not\", \"different\", \"old\", \"would\", \"high\", \"come\"], \"Total\": [28.0, 9.0, 15.0, 19.0, 29.0, 15.0, 7.0, 14.0, 6.0, 10.0, 12.0, 14.0, 8.0, 9.0, 9.0, 7.0, 6.0, 11.0, 18.0, 19.0, 9.0, 8.0, 8.0, 14.0, 12.0, 13.0, 6.0, 6.0, 7.0, 8.0, 28.706838607788086, 7.0365519523620605, 6.09574556350708, 5.1525959968566895, 5.145884037017822, 5.140678405761719, 6.035758018493652, 6.93463659286499, 6.028851509094238, 4.21242094039917, 5.115828037261963, 15.994180679321289, 6.00993537902832, 4.195454120635986, 4.194596290588379, 4.193264484405518, 11.585040092468262, 6.083000659942627, 5.973082065582275, 3.283329486846924, 3.2833805084228516, 3.276014804840088, 4.157390117645264, 14.001543045043945, 3.268946409225464, 4.161037921905518, 3.2688682079315186, 3.2659521102905273, 4.159174919128418, 3.2662415504455566, 5.033688545227051, 8.648101806640625, 29.79648208618164, 9.349119186401367, 6.691732406616211, 14.0589599609375, 6.872901916503906, 19.958003997802734, 6.774324893951416, 8.385860443115234, 9.407621383666992, 8.082064628601074, 7.833634376525879, 6.379830837249756, 9.815415382385254, 13.337318420410156, 19.413095474243164, 18.07221221923828, 13.412954330444336, 21.28510284423828, 15.869022369384766, 10.42534065246582, 9.510814666748047, 9.511435508728027, 8.601995468139648, 8.602035522460938, 6.787619113922119, 6.788942337036133, 5.881284236907959, 5.8792266845703125, 4.9721856117248535, 4.971848964691162, 4.970919609069824, 12.048707962036133, 4.065463542938232, 4.06429386138916, 4.063717842102051, 4.062915802001953, 3.1580588817596436, 3.1576592922210693, 3.156642198562622, 3.158522367477417, 3.155850410461426, 3.1559879779815674, 3.156712293624878, 3.1561875343322754, 3.1557457447052, 3.1556968688964844, 3.1560351848602295, 3.1545603275299072, 8.36856746673584, 8.337163925170898, 9.100212097167969, 5.310714244842529, 13.143004417419434, 7.533273696899414, 8.112932205200195, 18.07221221923828, 8.653846740722656, 21.28510284423828, 15.487333297729492, 17.56587028503418, 7.813647747039795, 6.994589805603027, 6.983353137969971, 4.529912948608398, 4.527294635772705, 2.894179105758667, 2.891303062438965, 2.8897039890289307, 2.8865346908569336, 7.659554958343506, 3.8344647884368896, 2.073078155517578, 2.0726358890533447, 2.072932243347168, 2.0718953609466553, 2.0714683532714844, 2.0706093311309814, 2.069730758666992, 2.070629596710205, 4.370025157928467, 4.6145453453063965, 1.2537215948104858, 1.2536864280700684, 1.2537306547164917, 1.2538206577301025, 1.2535055875778198, 1.253496527671814, 1.2530418634414673, 1.2531630992889404, 1.2532018423080444, 14.423066139221191, 2.7947964668273926, 2.8632547855377197, 5.061519622802734, 3.09013295173645, 3.238318920135498, 5.973695278167725, 6.261397838592529, 10.437172889709473, 8.337163925170898, 8.963494300842285, 9.407621383666992, 13.337318420410156, 13.556836128234863, 3.7528138160705566, 2.750643730163574, 2.747380018234253, 2.748284101486206, 1.9816617965698242, 1.976636290550232, 1.9765349626541138, 1.976476788520813, 1.9760879278182983, 1.9757424592971802, 1.9777143001556396, 1.9777833223342896, 1.9778664112091064, 1.9779901504516602, 1.9728575944900513, 1.971387505531311, 1.9700020551681519, 1.9749661684036255, 1.207119345664978, 1.2071155309677124, 1.207114338874817, 1.2071138620376587, 1.2071126699447632, 1.2071130275726318, 1.207112431526184, 1.2071117162704468, 1.2071102857589722, 1.207108497619629, 1.2071086168289185, 1.2071079015731812, 1.207107424736023, 5.910312175750732, 3.6922640800476074, 3.796665668487549, 2.6015307903289795, 4.069913864135742, 2.6096534729003906, 2.653090715408325, 2.6404800415039062, 2.88460111618042, 2.7311601638793945, 7.205009937286377, 2.8798162937164307, 5.733574390411377, 5.817246437072754, 19.958003997802734, 7.411064624786377, 6.616823196411133, 9.815415382385254, 17.56587028503418, 21.28510284423828, 10.047595024108887, 10.876185417175293, 11.074392318725586, 8.752659797668457, 13.337318420410156, 19.413095474243164, 13.412954330444336, 15.487333297729492, 6.368995189666748, 10.437172889709473, 8.653846740722656, 4.27720308303833, 9.838050842285156, 5.4952287673950195, 3.3258726596832275, 2.603206157684326, 2.6031136512756348, 1.8789832592010498, 1.8786289691925049, 1.880036473274231, 1.8803410530090332, 1.8799067735671997, 1.1563068628311157, 1.1562999486923218, 1.1566283702850342, 1.156193733215332, 1.1560293436050415, 1.156185269355774, 1.1558626890182495, 1.1561925411224365, 1.1560792922973633, 1.1560516357421875, 1.155940294265747, 1.1561821699142456, 1.1559021472930908, 1.1563326120376587, 1.1560132503509521, 1.1560595035552979, 1.1562672853469849, 1.1561424732208252, 1.1558027267456055, 1.1564884185791016, 3.511504650115967, 1.1564133167266846, 4.210996627807617, 4.419110298156738, 2.7001748085021973, 2.7000136375427246, 5.061519622802734, 12.459061622619629, 5.973695278167725, 13.595113754272461, 3.733407497406006, 13.556836128234863, 4.222274303436279, 11.074392318725586, 13.143004417419434, 18.07221221923828, 21.28510284423828, 12.048707962036133, 4.603187561035156, 29.79648208618164, 3.9167377948760986, 2.4139389991760254, 2.428572654724121, 2.4529216289520264, 1.753537893295288, 1.753429889678955, 1.7538560628890991, 1.7532060146331787, 1.7543368339538574, 1.7552495002746582, 1.7648252248764038, 1.092966914176941, 1.0929549932479858, 1.0929073095321655, 1.0927492380142212, 1.0927153825759888, 1.0929404497146606, 1.0929752588272095, 1.093009114265442, 1.092979073524475, 1.0931123495101929, 1.092949390411377, 1.0927236080169678, 1.092961072921753, 1.0931559801101685, 1.092990517616272, 1.092978835105896, 1.092839241027832, 1.0932564735412598, 1.0930273532867432, 1.0929430723190308, 1.0931272506713867, 2.477344274520874, 2.484311819076538, 2.661489486694336, 3.0537474155426025, 5.641590118408203, 18.07221221923828, 19.413095474243164, 21.28510284423828, 5.145097732543945, 29.79648208618164, 4.735032081604004, 15.994180679321289, 7.295935153961182, 13.412954330444336, 13.556836128234863, 15.487333297729492, 17.56587028503418, 2.7249462604522705, 2.6266727447509766, 12.459061622619629, 3.8015317916870117, 2.453975200653076, 2.4595730304718018, 2.459639310836792, 1.7806931734085083, 1.7819560766220093, 1.7840278148651123, 1.1082472801208496, 1.1066219806671143, 1.1068508625030518, 1.1082141399383545, 1.108335256576538, 1.1082415580749512, 1.1083171367645264, 1.1065224409103394, 1.1062712669372559, 1.1059023141860962, 1.1061519384384155, 1.1082955598831177, 1.1059789657592773, 1.1082640886306763, 1.106432318687439, 1.1065452098846436, 1.1066333055496216, 1.1082450151443481, 1.1064343452453613, 1.1062954664230347, 1.1082767248153687, 1.1061888933181763, 1.1059728860855103, 1.1082932949066162, 1.1064766645431519, 2.40258526802063, 1.108338475227356, 2.550508499145508, 2.553083896636963, 2.691524028778076, 2.7263951301574707, 1.1083720922470093, 1.1083157062530518, 10.437172889709473, 8.112932205200195, 4.27720308303833, 4.502964496612549, 12.459061622619629, 13.595113754272461, 5.733574390411377, 5.839800834655762, 6.616823196411133, 7.701972961425781, 8.385860443115234, 13.337318420410156, 15.487333297729492, 17.56587028503418, 21.28510284423828, 6.068026542663574, 14.0589599609375, 19.413095474243164, 3.613964319229126, 1.7047758102416992, 1.7047703266143799, 1.7051368951797485, 1.7047258615493774, 1.0687379837036133, 1.0689679384231567, 1.068987488746643, 1.0690085887908936, 1.0688291788101196, 1.06874680519104, 1.0689831972122192, 1.0687175989151, 1.068803071975708, 1.0689212083816528, 1.0688213109970093, 1.068909764289856, 1.0691369771957397, 1.0687708854675293, 1.0688399076461792, 1.0686999559402466, 1.0688927173614502, 1.068922996520996, 1.068947434425354, 1.0688447952270508, 1.0689071416854858, 1.0687569379806519, 1.0686869621276855, 1.0687400102615356, 1.0686914920806885, 7.295935153961182, 5.460343360900879, 3.563945770263672, 9.393536567687988, 4.299838066101074, 4.414892673492432, 29.79648208618164, 19.413095474243164, 9.349119186401367, 6.663094520568848, 11.074392318725586, 21.28510284423828, 10.876185417175293, 10.437172889709473, 4.5658860206604, 13.143004417419434, 7.935381889343262, 13.412954330444336, 15.487333297729492, 4.791266918182373, 17.56587028503418, 5.758325576782227, 2.613064765930176, 7.701972961425781, 5.841122627258301, 2.932459831237793, 2.3094165325164795, 2.3094170093536377, 2.3094775676727295, 2.30950665473938, 2.307117462158203, 2.309704542160034, 4.073986530303955, 1.6838117837905884, 1.6838127374649048, 1.6838117837905884, 1.6838120222091675, 1.6838616132736206, 1.6838809251785278, 1.6819958686828613, 1.6811996698379517, 1.0582035779953003, 1.0582033395767212, 1.0582029819488525, 1.0582029819488525, 1.0582029819488525, 1.058203101158142, 1.0582026243209839, 1.0582027435302734, 1.0582166910171509, 1.0582081079483032, 1.0582226514816284, 1.0582482814788818, 1.0582306385040283, 1.0582170486450195, 3.1152403354644775, 3.116506814956665, 5.740814208984375, 5.460343360900879, 5.817246437072754, 7.35432767868042, 9.100212097167969, 15.487333297729492, 17.56587028503418, 4.025421619415283, 4.619750022888184, 3.7911393642425537, 3.0537474155426025, 10.047595024108887, 7.5695977210998535, 2.301361083984375, 2.3008885383605957, 1.6778074502944946, 1.6782231330871582, 1.6784158945083618, 1.6786224842071533, 1.6781312227249146, 1.6780171394348145, 1.6781138181686401, 1.6780823469161987, 1.6785796880722046, 1.0554625988006592, 1.0551859140396118, 1.0553027391433716, 1.0553758144378662, 1.055557131767273, 1.0553781986236572, 1.0554612874984741, 1.0556992292404175, 1.0553767681121826, 1.055397391319275, 1.0554815530776978, 1.0554572343826294, 1.0552421808242798, 1.0555915832519531, 1.0553524494171143, 1.055271863937378, 1.0556042194366455, 1.0554940700531006, 2.31435489654541, 2.6200931072235107, 2.6215507984161377, 5.040341377258301, 6.658119201660156, 10.047595024108887, 4.408632755279541, 5.025994777679443, 5.310714244842529, 19.413095474243164, 12.459061622619629, 1.7125900983810425, 29.79648208618164, 18.07221221923828, 13.595113754272461, 15.487333297729492, 17.56587028503418, 10.876185417175293, 2.6068222522735596, 2.0590527057647705, 1.5202940702438354, 1.5188795328140259, 1.5197080373764038, 1.5186339616775513, 1.5186885595321655, 1.5181227922439575, 1.5209474563598633, 1.5202211141586304, 0.9757586121559143, 0.9759264588356018, 0.9763293266296387, 0.9759286046028137, 0.9761553406715393, 0.9757055640220642, 0.9762749075889587, 0.9754292964935303, 0.9757913947105408, 0.975554883480072, 0.9754464030265808, 0.9750209450721741, 0.9759278297424316, 0.9761728048324585, 0.9760235548019409, 0.975777804851532, 0.9760695099830627, 0.9752911329269409, 0.9757012128829956, 0.9752389192581177, 3.5541486740112305, 2.4280643463134766, 4.603187561035156, 5.482348442077637, 6.658119201660156, 4.1810126304626465, 6.616823196411133, 8.112932205200195, 9.100212097167969, 2.8365285396575928, 5.025994777679443, 5.366708755493164, 6.532434463500977, 1.459005355834961, 1.4591259956359863, 1.4590117931365967, 1.4596233367919922, 1.4591931104660034, 1.4590744972229004, 1.4592641592025757, 1.4591056108474731, 0.94572913646698, 0.9457135200500488, 0.9457060694694519, 0.9457647800445557, 0.9457510113716125, 0.9457927346229553, 0.9460172653198242, 0.9457004070281982, 0.9457168579101562, 0.9456334710121155, 0.9455701112747192, 0.9459579586982727, 0.9457204937934875, 0.9456381797790527, 0.9458717703819275, 0.9458494782447815, 0.9457651376724243, 0.945919930934906, 0.9461522698402405, 0.94594806432724, 0.9459694027900696, 0.9457656741142273, 2.2334706783294678, 2.403381586074829, 3.180860996246338, 3.8147459030151367, 5.839800834655762, 17.56587028503418, 2.1463868618011475, 8.653846740722656, 6.379830837249756, 13.337318420410156, 15.487333297729492, 18.07221221923828, 8.082064628601074, 8.963494300842285, 14.423066139221191, 9.815415382385254, 10.876185417175293, 5.758325576782227, 3.109184503555298, 1.5684341192245483, 2.567253828048706, 4.619750022888184, 1.3229540586471558, 1.332911729812622, 2.0202057361602783, 2.8632547855377197, 3.09013295173645, 3.8344647884368896, 3.796665668487549, 4.1810126304626465, 6.083000659942627, 6.663094520568848, 8.082064628601074, 1.0877330303192139, 2.7311601638793945, 1.085408329963684, 0.9457656741142273, 0.9458761215209961, 1.0874452590942383, 0.9456334710121155, 0.9457204937934875, 0.9455692768096924, 0.9456381797790527, 0.9455701112747192, 0.9457510113716125, 0.9457647800445557, 0.946006715297699, 0.9458494782447815, 0.9457004070281982, 0.94594806432724, 0.9457927346229553, 0.94572913646698, 5.577224254608154, 3.5586941242218018, 6.261397838592529, 1.0899356603622437, 1.246168613433838, 10.876185417175293, 4.477850914001465, 1.247611403465271, 1.247709035873413, 1.247933030128479, 10.047595024108887, 1.095418095588684, 2.1771769523620605, 3.113831043243408, 3.5895421504974365, 1.3598499298095703, 4.5658860206604, 9.407621383666992, 3.8573970794677734, 29.79648208618164, 13.337318420410156, 8.963494300842285, 14.423066139221191, 19.413095474243164, 11.074392318725586, 5.910312175750732, 15.994180679321289, 9.349119186401367, 19.958003997802734, 0.9455692768096924, 0.9473819136619568, 0.9457651376724243, 0.9457168579101562, 0.9455701112747192, 0.9457060694694519, 0.9457135200500488, 0.9457004070281982, 0.9459694027900696, 0.9456334710121155, 0.94572913646698, 0.945919930934906, 0.9457204937934875, 0.9458761215209961, 0.9456381797790527, 0.9457656741142273, 0.9458494782447815, 0.94594806432724, 0.9458717703819275, 0.9457510113716125, 0.946006715297699, 0.9457927346229553, 0.9459579586982727, 0.9457647800445557, 0.9461522698402405, 0.9460172653198242, 0.9730562567710876, 0.974849283695221, 0.9750209450721741, 0.9752389192581177, 1.1556471586227417, 1.1557021141052246, 1.1556950807571411, 1.1558027267456055, 9.838050842285156, 5.4952287673950195, 1.1558626890182495, 1.1558653116226196, 1.1559021472930908, 1.1558506488800049, 1.155961513519287, 1.1559069156646729, 1.1558598279953003, 1.1559691429138184, 1.1558691263198853, 3.3258726596832275, 1.1559710502624512, 1.155880331993103, 1.1560293436050415, 1.8786289691925049, 29.79648208618164, 28.706838607788086, 1.8789832592010498, 1.155940294265747, 13.556836128234863, 1.1560442447662354, 21.28510284423828, 13.595113754272461, 2.6031136512756348, 18.07221221923828, 12.459061622619629, 13.412954330444336, 19.958003997802734, 2.603206157684326, 15.994180679321289, 14.0589599609375, 5.061519622802734, 8.337163925170898, 4.210996627807617, 19.413095474243164, 11.585040092468262, 8.648101806640625, 8.385860443115234, 6.09574556350708, 9.407621383666992, 17.56587028503418, 5.973695278167725, 13.143004417419434, 8.963494300842285, 14.423066139221191, 14.001543045043945, 13.337318420410156, 9.349119186401367, 0.9730562567710876, 0.9750209450721741, 0.974849283695221, 0.9752911329269409, 0.9752389192581177, 0.9754292964935303, 0.9754464030265808, 0.975554883480072, 0.9757586121559143, 0.9757055640220642, 0.9757913947105408, 0.9757012128829956, 0.975777804851532, 0.9759264588356018, 0.9759286046028137, 0.9759278297424316, 0.9761728048324585, 0.9761553406715393, 0.9760235548019409, 0.9762749075889587, 0.9760695099830627, 0.9763293266296387, 0.9455692768096924, 0.9455701112747192, 0.9456334710121155, 0.9456381797790527, 0.9457004070281982, 0.9457060694694519, 0.9457135200500488, 0.9457168579101562, 2.0590527057647705, 1.5181227922439575, 1.5186339616775513, 1.5186885595321655, 1.5188795328140259, 1.2033023834228516, 1.2035975456237793, 1.2037583589553833, 3.5541486740112305, 2.3693456649780273, 2.6068222522735596, 2.465527296066284, 1.5197080373764038, 6.616823196411133, 1.5202940702438354, 1.5202211141586304, 2.747380018234253, 13.337318420410156, 6.658119201660156, 5.482348442077637, 4.1810126304626465, 9.815415382385254, 4.603187561035156, 10.047595024108887, 3.8147459030151367, 2.4280643463134766, 5.910312175750732, 4.069913864135742, 2.748284101486206, 19.413095474243164, 5.366708755493164, 3.796665668487549, 21.28510284423828, 17.56587028503418, 14.423066139221191, 29.79648208618164, 18.07221221923828, 0.9473819136619568, 0.9455692768096924, 0.9455701112747192, 0.9456334710121155, 0.9456381797790527, 0.9457004070281982, 0.9457060694694519, 0.9457135200500488, 0.9457168579101562, 0.9457204937934875, 0.94572913646698, 0.9457510113716125, 0.9457647800445557, 0.9457651376724243, 0.9457656741142273, 0.9457927346229553, 0.9458494782447815, 0.9458717703819275, 0.9458761215209961, 0.945919930934906, 0.94594806432724, 0.9459579586982727, 0.9459694027900696, 0.946006715297699, 0.9460172653198242, 0.9461522698402405, 0.9730562567710876, 0.974849283695221, 0.9750209450721741, 0.9752389192581177, 1.1057590246200562, 1.1059023141860962, 1.10593581199646, 1.1059728860855103, 1.1059789657592773, 1.106127381324768, 1.1061519384384155, 1.1061888933181763, 1.1062062978744507, 1.106223702430725, 1.106241226196289, 1.1062712669372559, 1.1062954664230347, 1.106294870376587, 1.106313705444336, 1.1063767671585083, 1.1064090728759766, 1.1064343452453613, 1.106432318687439, 1.1064270734786987, 1.1064766645431519, 1.1065224409103394, 1.1065452098846436, 1.1066219806671143, 1.1066333055496216, 1.1068508625030518, 3.8015317916870117, 1.0552421808242798, 1.0553767681121826, 2.453975200653076, 1.7806931734085083, 2.40258526802063, 28.706838607788086, 2.550508499145508, 10.437172889709473, 14.423066139221191, 7.659554958343506, 6.994589805603027, 2.553083896636963, 7.813647747039795, 21.28510284423828, 3.6479148864746094, 6.616823196411133, 4.529912948608398, 19.413095474243164, 7.5695977210998535, 6.983353137969971, 11.585040092468262, 13.595113754272461, 4.502964496612549, 13.412954330444336, 5.733574390411377, 3.8344647884368896, 7.935381889343262, 17.56587028503418, 15.487333297729492, 9.393536567687988, 8.385860443115234, 12.459061622619629, 13.556836128234863, 0.9455692768096924, 0.9455701112747192, 0.9456334710121155, 0.9456381797790527, 0.9457004070281982, 0.9457060694694519, 0.9457135200500488, 0.9457168579101562, 0.9457204937934875, 0.94572913646698, 0.9457510113716125, 0.9457647800445557, 0.9457651376724243, 0.9457656741142273, 0.9457927346229553, 0.9458494782447815, 0.9458717703819275, 0.9458761215209961, 0.945919930934906, 0.94594806432724, 0.9459579586982727, 0.9459694027900696, 0.946006715297699, 0.9460172653198242, 0.9461522698402405, 0.9473819136619568, 0.9730562567710876, 0.9760695099830627, 0.9750209450721741, 0.974849283695221, 0.9760235548019409, 0.9759278297424316, 0.9763293266296387, 0.9761553406715393, 0.9754292964935303, 0.9754464030265808, 0.9759264588356018, 0.975777804851532, 0.9759286046028137, 0.9757012128829956, 0.9752911329269409, 0.9757586121559143, 0.975554883480072, 0.9752389192581177, 0.9762749075889587, 0.9757055640220642, 0.9757913947105408, 0.9761728048324585, 1.0684709548950195, 1.068428874015808, 1.0685269832611084, 1.0686144828796387, 1.0684986114501953, 1.068686604499817, 1.0686216354370117, 1.0685713291168213, 15.869022369384766, 8.601995468139648, 9.510814666748047, 29.79648208618164, 1.5197080373764038, 1.5188795328140259, 14.001543045043945, 8.602035522460938, 12.048707962036133, 8.112932205200195, 19.958003997802734, 15.994180679321289, 7.295935153961182, 6.787619113922119, 9.511435508728027, 2.6068222522735596, 3.1545603275299072, 9.393536567687988, 8.36856746673584, 9.349119186401367, 7.833634376525879, 5.8792266845703125, 9.100212097167969, 4.971848964691162, 5.366708755493164, 14.0589599609375, 6.788942337036133, 19.413095474243164, 5.482348442077637, 18.07221221923828, 4.062915802001953, 6.663094520568848, 13.143004417419434, 7.701972961425781, 13.337318420410156, 0.9455692768096924, 0.9455701112747192, 0.9456334710121155, 0.9456381797790527, 0.9457004070281982, 0.9457060694694519, 0.9457135200500488, 0.9457168579101562, 0.9457204937934875, 0.94572913646698, 0.9457510113716125, 0.9457647800445557, 0.9457651376724243, 0.9457656741142273, 0.9457927346229553, 0.9458494782447815, 0.9458717703819275, 0.9458761215209961, 0.945919930934906, 0.94594806432724, 0.9459579586982727, 0.9459694027900696, 0.946006715297699, 0.9460172653198242, 0.9461522698402405, 0.9473819136619568, 0.9730562567710876, 0.974849283695221, 0.9750209450721741, 0.9752389192581177, 1.0551859140396118, 1.055282711982727, 1.055296540260315, 1.0553027391433716, 1.055271863937378, 1.0552351474761963, 1.0553524494171143, 1.0552421808242798, 1.0553781986236572, 1.0554625988006592, 1.0553758144378662, 1.055402398109436, 1.0554612874984741, 1.0555768013000488, 1.055557131767273, 1.055397391319275, 1.0554815530776978, 1.0554572343826294, 1.0554940700531006, 1.0555915832519531, 1.0556042194366455, 1.0553767681121826, 1.0556992292404175, 2.3008885383605957, 1.6780171394348145, 1.6778074502944946, 1.6780823469161987, 1.6782231330871582, 1.6781138181686401, 1.6781312227249146, 7.5695977210998535, 2.301361083984375, 29.79648208618164, 19.958003997802734, 2.6200931072235107, 1.6785796880722046, 15.994180679321289, 14.001543045043945, 10.047595024108887, 19.413095474243164, 5.310714244842529, 8.602035522460938, 5.040341377258301, 2.31435489654541, 6.691732406616211, 2.6215507984161377, 15.869022369384766, 10.876185417175293, 18.07221221923828, 14.0589599609375, 9.511435508728027, 12.048707962036133, 6.083000659942627, 6.618408679962158, 9.407621383666992, 5.025994777679443, 9.349119186401367, 9.100212097167969, 8.082064628601074, 6.93463659286499, 6.658119201660156, 8.601995468139648, 0.9473819136619568, 0.9455692768096924, 0.9455701112747192, 0.9456334710121155, 0.9456381797790527, 0.9457004070281982, 0.9457060694694519, 0.9457135200500488, 0.9457168579101562, 0.9457204937934875, 0.94572913646698, 0.9457510113716125, 0.9457647800445557, 0.9457651376724243, 0.9457656741142273, 0.9457927346229553, 0.9458494782447815, 0.9458717703819275, 0.9458761215209961, 0.945919930934906, 0.94594806432724, 0.9459579586982727, 0.9459694027900696, 0.946006715297699, 0.9460172653198242, 0.9461522698402405, 0.9730562567710876, 0.974849283695221, 0.9750209450721741, 0.9752389192581177, 1.089542269706726, 1.0874452590942383, 1.0883387327194214, 1.0902178287506104, 29.79648208618164, 1.090205430984497, 1.089684009552002, 1.090379238128662, 1.0877330303192139, 1.0985026359558105, 1.1029129028320312, 1.0899356603622437, 1.1016361713409424, 1.096445083618164, 1.0936672687530518, 1.0935847759246826, 1.0897384881973267, 1.0943787097930908, 1.096397042274475, 1.093042254447937, 1.0914218425750732, 1.095418095588684, 1.0953060388565063, 1.0895929336547852, 1.0928953886032104, 1.1098791360855103, 1.111971139907837, 1.090430736541748, 1.0919464826583862, 19.958003997802734, 15.994180679321289, 14.001543045043945, 6.93463659286499, 14.0589599609375, 9.349119186401367, 1.7648252248764038, 19.413095474243164, 5.140678405761719, 6.028851509094238, 5.973082065582275, 6.035758018493652, 5.033688545227051, 4.159174919128418, 6.00993537902832, 6.083000659942627, 9.407621383666992, 13.337318420410156, 6.691732406616211, 7.833634376525879, 7.0365519523620605, 3.251725196838379, 3.21236252784729, 4.893293380737305, 8.648101806640625, 4.195454120635986, 4.193264484405518, 3.241947650909424, 4.082520484924316, 6.774324893951416, 4.791266918182373, 18.07221221923828, 7.295935153961182, 10.876185417175293, 5.115828037261963, 9.393536567687988, 11.074392318725586, 21.28510284423828, 0.9455692768096924, 0.9455701112747192, 0.9456334710121155, 0.9456381797790527, 0.9457004070281982, 0.9457060694694519, 0.9457135200500488, 0.9457168579101562, 0.9457204937934875, 0.94572913646698, 0.9457510113716125, 0.9457647800445557, 0.9457651376724243, 0.9457656741142273, 0.9457927346229553, 0.9458494782447815, 0.9458717703819275, 0.9458761215209961, 0.945919930934906, 0.94594806432724, 0.9459579586982727, 0.9459694027900696, 0.946006715297699, 0.9460172653198242, 0.9461522698402405, 0.9473819136619568, 0.9730562567710876, 0.974849283695221, 0.9750209450721741, 0.9752389192581177, 1.246168613433838, 1.2531108856201172, 1.2525583505630493, 1.332911729812622, 6.983353137969971, 1.3229540586471558, 1.2509558200836182, 1.2524694204330444, 1.2505568265914917, 1.2532135248184204, 1.2513564825057983, 1.2516624927520752, 1.2525252103805542, 1.2538206577301025, 1.2501516342163086, 1.2505314350128174, 1.2501137256622314, 1.2537404298782349, 1.253166675567627, 1.2530418634414673, 6.994589805603027, 1.2535055875778198, 1.2524434328079224, 1.2526204586029053, 1.2517961263656616, 1.2532097101211548, 1.2516111135482788, 1.252314805984497, 1.2529093027114868, 1.2526265382766724, 14.423066139221191, 4.529912948608398, 7.659554958343506, 3.8344647884368896, 7.813647747039795, 4.527294635772705, 2.891303062438965, 2.8865346908569336, 29.79648208618164, 4.370025157928467, 15.994180679321289, 19.413095474243164, 19.958003997802734, 9.407621383666992, 2.894179105758667, 2.8632547855377197, 4.6145453453063965, 10.437172889709473, 6.083000659942627, 14.001543045043945, 13.412954330444336, 8.963494300842285, 13.556836128234863, 13.337318420410156, 14.0589599609375, 21.28510284423828, 3.09013295173645, 6.663094520568848, 18.07221221923828, 9.349119186401367, 6.261397838592529], \"loglift\": [30.0, 29.0, 28.0, 27.0, 26.0, 25.0, 24.0, 23.0, 22.0, 21.0, 20.0, 19.0, 18.0, 17.0, 16.0, 15.0, 14.0, 13.0, 12.0, 11.0, 10.0, 9.0, 8.0, 7.0, 6.0, 5.0, 4.0, 3.0, 2.0, 1.0, 1.2640000581741333, 1.2223000526428223, 1.2148000001907349, 1.2020000219345093, 1.2005000114440918, 1.1999000310897827, 1.190999984741211, 1.1892000436782837, 1.188599944114685, 1.1868000030517578, 1.1856000423431396, 1.1852999925613403, 1.1816999912261963, 1.180299997329712, 1.1792000532150269, 1.1776000261306763, 1.1739000082015991, 1.1725000143051147, 1.1628999710083008, 1.1610000133514404, 1.1608999967575073, 1.1597000360488892, 1.1578999757766724, 1.1576000452041626, 1.1576000452041626, 1.1567000150680542, 1.1562000513076782, 1.1561000347137451, 1.155900001525879, 1.1555999517440796, 1.143399953842163, 1.1270999908447266, 1.070099949836731, 1.1105999946594238, 1.1095999479293823, 1.0500999689102173, 1.0961999893188477, 0.963699996471405, 1.0860999822616577, 1.0468000173568726, 0.9075999855995178, 0.9124000072479248, 0.9215999841690063, 0.9614999890327454, 0.71670001745224, 0.5353999733924866, 0.25679999589920044, 0.23600000143051147, 0.3718000054359436, -0.043299999088048935, 1.488700032234192, 1.4772000312805176, 1.47160005569458, 1.471500039100647, 1.4672000408172607, 1.466599941253662, 1.4543999433517456, 1.4543999433517456, 1.445199966430664, 1.4448000192642212, 1.4322999715805054, 1.4320000410079956, 1.4318000078201294, 1.4158999919891357, 1.4141000509262085, 1.413100004196167, 1.4128999710083008, 1.4127000570297241, 1.3844000101089478, 1.3844000101089478, 1.3841999769210815, 1.3832000494003296, 1.3825000524520874, 1.3823000192642212, 1.3823000192642212, 1.382200002670288, 1.382099986076355, 1.382099986076355, 1.3819999694824219, 1.3819999694824219, 1.3774000406265259, 1.0985000133514404, 1.0082000494003296, 1.1461999416351318, 0.6402999758720398, 0.7979000210762024, 0.7214999794960022, 0.14329999685287476, 0.6628000140190125, -0.017899999395012856, 0.07890000194311142, -0.047200001776218414, 2.2525999546051025, 2.246500015258789, 2.2464001178741455, 2.2135000228881836, 2.2132999897003174, 2.1591999530792236, 2.158600091934204, 2.1579999923706055, 2.157900094985962, 2.1542000770568848, 2.1498000621795654, 2.0952999591827393, 2.0950000286102295, 2.094899892807007, 2.0947999954223633, 2.094599962234497, 2.0943000316619873, 2.0941998958587646, 2.0941998958587646, 2.0285000801086426, 1.9731999635696411, 1.9305000305175781, 1.930400013923645, 1.930400013923645, 1.930400013923645, 1.9301999807357788, 1.9301999807357788, 1.9300999641418457, 1.9300999641418457, 1.9299999475479126, 1.6366000175476074, 1.794800043106079, 1.75, 1.598099946975708, 1.6706000566482544, 1.6490999460220337, 1.434000015258789, 1.3794000148773193, 1.1584999561309814, 1.097499966621399, 1.020799994468689, 0.9718999862670898, 0.6241999864578247, 0.6075999736785889, 1.5016000270843506, 2.412400007247925, 2.4121999740600586, 2.4121999740600586, 2.3457999229431152, 2.3447999954223633, 2.3447000980377197, 2.344599962234497, 2.3445000648498535, 2.3445000648498535, 2.3427000045776367, 2.3427000045776367, 2.3424999713897705, 2.342400074005127, 2.3410000801086426, 2.34089994430542, 2.34089994430542, 2.3392999172210693, 2.1723999977111816, 2.1723999977111816, 2.1723999977111816, 2.1723999977111816, 2.1723999977111816, 2.1723999977111816, 2.1723999977111816, 2.1723999977111816, 2.1723999977111816, 2.1723999977111816, 2.1723999977111816, 2.1723999977111816, 2.1723999977111816, 2.1465001106262207, 2.1171998977661133, 2.0887999534606934, 2.069700002670288, 2.001699924468994, 2.0618999004364014, 2.0522000789642334, 2.0452001094818115, 1.966599941253662, 1.979599952697754, 1.7345999479293823, 1.958299994468689, 1.6787999868392944, 1.6639000177383423, 1.0776000022888184, 1.4801000356674194, 1.534000039100647, 1.190999984741211, 0.5942000150680542, 0.4212999939918518, 1.0140000581741333, 0.7822999954223633, 0.7164000272750854, 0.9394000172615051, 0.5383999943733215, 0.1753000020980835, 0.4803999960422516, 0.322299987077713, 1.1792000532150269, 0.6833999752998352, 0.8704000115394592, 1.573199987411499, 2.7985999584198, 2.764899969100952, 2.713099956512451, 2.6744000911712646, 2.673799991607666, 2.6029000282287598, 2.60260009765625, 2.6024999618530273, 2.602400064468384, 2.602400064468384, 2.420300006866455, 2.4202001094818115, 2.4202001094818115, 2.420099973678589, 2.4200000762939453, 2.4200000762939453, 2.4200000762939453, 2.4200000762939453, 2.4200000762939453, 2.4200000762939453, 2.4200000762939453, 2.4198999404907227, 2.4198999404907227, 2.4198999404907227, 2.4198999404907227, 2.4198999404907227, 2.4198999404907227, 2.4198999404907227, 2.419800043106079, 2.419800043106079, 2.376199960708618, 2.419800043106079, 2.1928000450134277, 2.146199941635132, 2.2409000396728516, 2.2404000759124756, 2.0090999603271484, 1.6133999824523926, 1.8436000347137451, 1.524999976158142, 1.9163000583648682, 1.307800054550171, 1.7929999828338623, 0.8300999999046326, 0.6618000268936157, 0.3407999873161316, 0.17579999566078186, 0.08460000157356262, 1.0408999919891357, -0.8270000219345093, 1.2020000219345093, 2.758500099182129, 2.7279999256134033, 2.689199924468994, 2.681299924850464, 2.680799961090088, 2.6805999279022217, 2.67549991607666, 2.6735999584198, 2.6524999141693115, 2.630199909210205, 2.485100030899048, 2.485100030899048, 2.485100030899048, 2.484999895095825, 2.484999895095825, 2.4846999645233154, 2.4846999645233154, 2.484600067138672, 2.484600067138672, 2.484499931335449, 2.484499931335449, 2.484499931335449, 2.484499931335449, 2.484499931335449, 2.484499931335449, 2.484499931335449, 2.4844000339508057, 2.4844000339508057, 2.4844000339508057, 2.4844000339508057, 2.4844000339508057, 2.334399938583374, 2.3143999576568604, 2.2572999000549316, 2.0936999320983887, 1.7146999835968018, 1.118399977684021, 1.0607000589370728, 0.8396000266075134, 1.6052000522613525, 0.05810000002384186, 1.409500002861023, 0.3221000134944916, 0.8795999884605408, 0.17069999873638153, 0.10890000313520432, -0.06210000067949295, -0.19249999523162842, 1.5724999904632568, 1.6088000535964966, 0.05180000141263008, 2.947700023651123, 2.8812999725341797, 2.880199909210205, 2.880199909210205, 2.8046998977661133, 2.804500102996826, 2.8041000366210938, 2.611999988555908, 2.6119000911712646, 2.611799955368042, 2.6117000579833984, 2.611599922180176, 2.611599922180176, 2.6115000247955322, 2.6115000247955322, 2.6115000247955322, 2.6113998889923096, 2.6113998889923096, 2.6113998889923096, 2.611299991607666, 2.611299991607666, 2.611299991607666, 2.611299991607666, 2.611299991607666, 2.611299991607666, 2.611299991607666, 2.611299991607666, 2.6112000942230225, 2.6112000942230225, 2.6112000942230225, 2.6112000942230225, 2.6112000942230225, 2.5060999393463135, 2.6108999252319336, 2.4444000720977783, 2.4439001083374023, 2.3933000564575195, 2.3798000812530518, 2.6106998920440674, 2.6106998920440674, 1.7177000045776367, 1.686400055885315, 1.930400013923645, 1.8772000074386597, 1.2615000009536743, 1.1725000143051147, 1.636199951171875, 1.6186000108718872, 1.4912999868392944, 1.340999960899353, 1.2610000371932983, 0.7937999963760376, 0.6452000141143799, 0.5177000164985657, 0.3264999985694885, 0.9158999919891357, 0.07540000230073929, -0.2475000023841858, 3.118299961090088, 2.9677999019622803, 2.967400074005127, 2.9672999382019043, 2.9670000076293945, 2.766200065612793, 2.7660999298095703, 2.7660999298095703, 2.7660999298095703, 2.7660999298095703, 2.7660000324249268, 2.7660000324249268, 2.7660000324249268, 2.765899896621704, 2.765899896621704, 2.765899896621704, 2.7657999992370605, 2.7657999992370605, 2.765700101852417, 2.765700101852417, 2.765700101852417, 2.765700101852417, 2.765700101852417, 2.7655999660491943, 2.7655999660491943, 2.7655999660491943, 2.7655999660491943, 2.7655999660491943, 2.7655999660491943, 2.7655999660491943, 2.196000099182129, 2.20169997215271, 2.2314000129699707, 1.6589000225067139, 2.0434999465942383, 2.0165998935699463, -0.5493999719619751, -0.12729999423027039, 0.6032000184059143, 0.940500020980835, 0.43220001459121704, -0.22220000624656677, 0.44920000433921814, 0.4896000027656555, 1.3162000179290771, 0.2587999999523163, 0.7633000016212463, 0.23839999735355377, 0.09449999779462814, 1.267699956893921, -0.031700000166893005, 1.0836000442504883, 1.8732999563217163, 0.7922000288963318, 1.068600058555603, 3.1212000846862793, 3.079900026321411, 3.079900026321411, 3.0789999961853027, 3.0787999629974365, 3.077399969100952, 3.0729000568389893, 3.0155999660491943, 2.998500108718872, 2.998500108718872, 2.998500108718872, 2.998500108718872, 2.9976000785827637, 2.9971001148223877, 2.991499900817871, 2.991499900817871, 2.7939000129699707, 2.7939000129699707, 2.7939000129699707, 2.7939000129699707, 2.7939000129699707, 2.7939000129699707, 2.7939000129699707, 2.7939000129699707, 2.7932000160217285, 2.793100118637085, 2.7929999828338623, 2.7929999828338623, 2.7929999828338623, 2.7929000854492188, 2.7702999114990234, 2.381700038909912, 1.8279999494552612, 1.8530999422073364, 1.7577999830245972, 1.5529999732971191, 1.3997999429702759, 0.7955999970436096, 0.6705999970436096, 1.6366000175476074, 1.5096999406814575, 1.5894999504089355, 1.7811000347137451, 0.6358000040054321, 3.1019999980926514, 3.100399971008301, 3.099900007247925, 3.018699884414673, 3.0185999870300293, 3.0185000896453857, 3.0183000564575195, 3.0183000564575195, 3.0183000564575195, 3.0181000232696533, 3.0181000232696533, 3.0178000926971436, 2.8138999938964844, 2.8136000633239746, 2.8136000633239746, 2.8136000633239746, 2.8136000633239746, 2.8134000301361084, 2.8134000301361084, 2.8134000301361084, 2.8134000301361084, 2.8132998943328857, 2.8132998943328857, 2.813199996948242, 2.813199996948242, 2.8131000995635986, 2.8131000995635986, 2.812999963760376, 2.812999963760376, 2.8129000663757324, 2.696000099182129, 2.57669997215271, 2.5764000415802, 2.3155999183654785, 2.0381999015808105, 1.6265000104904175, 2.053100109100342, 1.9221999645233154, 1.8667000532150269, 0.9706000089645386, 1.0145000219345093, 2.3368000984191895, -0.5056999921798706, -0.020999999716877937, 0.2635999917984009, 0.1331000030040741, 0.006500000134110451, 0.48570001125335693, 3.4600000381469727, 3.4103000164031982, 3.321500062942505, 3.3180999755859375, 3.317500114440918, 3.3169000148773193, 3.316800117492676, 3.315999984741211, 3.3153998851776123, 3.31469988822937, 3.0959999561309814, 3.094399929046631, 3.093600034713745, 3.0934998989105225, 3.0931999683380127, 3.0931999683380127, 3.093100070953369, 3.092900037765503, 3.092900037765503, 3.0917999744415283, 3.091599941253662, 3.0910000801086426, 3.0910000801086426, 3.09089994430542, 3.0903000831604004, 3.090100049972534, 3.0897998809814453, 3.0896999835968018, 3.088200092315674, 3.086400032043457, 2.861999988555908, 2.847100019454956, 2.611599922180176, 2.4219000339508057, 2.237499952316284, 2.308300018310547, 1.8472000360488892, 1.6485999822616577, 1.5329999923706055, 2.030400037765503, 1.4581999778747559, 1.392199993133545, 1.1917999982833862, 3.364799976348877, 3.3645999431610107, 3.364500045776367, 3.364500045776367, 3.3643999099731445, 3.364300012588501, 3.364000082015991, 3.3638999462127686, 3.1294000148773193, 3.1294000148773193, 3.129300117492676, 3.129300117492676, 3.129300117492676, 3.129300117492676, 3.1291000843048096, 3.1291000843048096, 3.128999948501587, 3.128999948501587, 3.128999948501587, 3.1289000511169434, 3.1289000511169434, 3.1289000511169434, 3.1289000511169434, 3.1287999153137207, 3.1287999153137207, 3.1285998821258545, 3.1285998821258545, 3.128499984741211, 3.1284000873565674, 3.1284000873565674, 2.934000015258789, 2.8654000759124756, 2.5789999961853027, 2.400599956512451, 2.058000087738037, 0.975600004196167, 2.411799907684326, 1.1109000444412231, 1.3838000297546387, 0.6396999955177307, 0.4848000109195709, 0.22179999947547913, 1.0169999599456787, 0.9056000113487244, 0.4246000051498413, 0.8027999997138977, 0.6891000270843506, 1.3245999813079834, 1.9407999515533447, 2.6247000694274902, 2.1315999031066895, 1.5439000129699707, 3.444700002670288, 3.4244000911712646, 2.9925999641418457, 2.617799997329712, 2.5485999584198, 2.3217999935150146, 2.2969000339508057, 2.2428998947143555, 1.9663000106811523, 1.8640999794006348, 1.6055999994277954, 0.8253999948501587, 0.7177000045776367, 0.703000009059906, 0.6736000180244446, 0.6730999946594238, 0.6707000136375427, 0.6704000234603882, 0.6697999835014343, 0.669700026512146, 0.6690999865531921, 0.6690999865531921, 0.66839998960495, 0.667900025844574, 0.6675000190734863, 0.6668999791145325, 0.6668000221252441, 0.666700005531311, 0.6658999919891357, 0.6643999814987183, 0.5475999712944031, 0.40070000290870667, 0.19300000369548798, 0.629800021648407, 0.590399980545044, -0.22310000658035278, 0.053599998354911804, 0.5598000288009644, 0.5580999851226807, 0.5551000237464905, -0.38260000944137573, 0.6046000123023987, 0.27880001068115234, 0.10159999877214432, 0.026499999687075615, 0.48489999771118164, -0.20479999482631683, -0.6194000244140625, -0.13120000064373016, -1.5422999858856201, -1.0499999523162842, -0.8094000220298767, -1.1613999605178833, -1.4006999731063843, -1.0389000177383423, -0.5371999740600586, -1.3601000308990479, -0.9294000267982483, -1.7467999458312988, 0.8702999949455261, 0.8679999709129333, 0.8671000003814697, 0.8669999837875366, 0.866100013256073, 0.864799976348877, 0.8640999794006348, 0.8634999990463257, 0.8633999824523926, 0.8628000020980835, 0.8622999787330627, 0.8621000051498413, 0.8619999885559082, 0.8619999885559082, 0.8615999817848206, 0.8611999750137329, 0.8608999848365784, 0.8608999848365784, 0.8604999780654907, 0.8604000210762024, 0.8601999878883362, 0.8597999811172485, 0.8592000007629395, 0.8590999841690063, 0.8575999736785889, 0.8571000099182129, 0.8172000050544739, 0.8152999877929688, 0.8151000142097473, 0.8148999810218811, 0.6926000118255615, 0.6917999982833862, 0.6913999915122986, 0.6883999705314636, -1.1052000522613525, -0.6396999955177307, 0.6868000030517578, 0.6868000030517578, 0.6863999962806702, 0.6862999796867371, 0.6858000159263611, 0.6858000159263611, 0.6848999857902527, 0.6847000122070312, 0.6847000122070312, -0.2524000108242035, 0.684499979019165, 0.6844000220298767, 0.683899998664856, 0.2515999972820282, -2.2144999504089355, -2.2053000926971436, 0.24729999899864197, 0.6837999820709229, -1.5475000143051147, 0.6836000084877014, -1.9699000120162964, -1.5645999908447266, -0.05510000139474869, -1.8479000329971313, -1.513800024986267, -1.5841000080108643, -1.9573999643325806, -0.0632999986410141, -1.757699966430664, -1.6395000219345093, -0.6945000290870667, -1.170699954032898, -0.5309000015258789, -1.9843000173568726, -1.49590003490448, -1.2186000347137451, -1.1919000148773193, -0.8903999924659729, -1.3035000562667847, -1.9036999940872192, -0.8766999840736389, -1.6341999769210815, -1.274899959564209, -1.746899962425232, -1.718500018119812, -1.6708999872207642, -1.323199987411499, 0.9708999991416931, 0.9229999780654907, 0.9214000105857849, 0.9160000085830688, 0.9143000245094299, 0.9133999943733215, 0.911300003528595, 0.909500002861023, 0.9072999954223633, 0.9068999886512756, 0.9036999940872192, 0.8992999792098999, 0.8986999988555908, 0.8977000117301941, 0.897599995136261, 0.8917999863624573, 0.8876000046730042, 0.8870000243186951, 0.8866999745368958, 0.8848999738693237, 0.8809999823570251, 0.8809999823570251, 0.8489999771118164, 0.8489999771118164, 0.8489000201225281, 0.8489000201225281, 0.848800003528595, 0.848800003528595, 0.848800003528595, 0.848800003528595, 0.3950999975204468, 0.5572999715805054, 0.5418999791145325, 0.5406000018119812, 0.5328999757766724, 0.6875, 0.6783999800682068, 0.6773999929428101, -0.11060000211000443, 0.1809999942779541, 0.09390000253915787, 0.11379999667406082, 0.5034000277519226, -0.7746000289916992, 0.5012000203132629, 0.4909000098705292, -0.05079999938607216, -1.492799997329712, -0.8618999719619751, -0.6916999816894531, -0.44999998807907104, -1.257200002670288, -0.546500027179718, -1.2975000143051147, -0.38440001010894775, 0.04450000077486038, -0.8015999794006348, -0.45159998536109924, -0.07840000092983246, -1.9661999940872192, -0.7213000059127808, -0.3935999870300293, -2.0701000690460205, -1.894700050354004, -1.704699993133545, -2.4409000873565674, -1.9603999853134155, 0.8705000281333923, 0.8555999994277954, 0.8555999994277954, 0.8554999828338623, 0.8554999828338623, 0.855400025844574, 0.855400025844574, 0.855400025844574, 0.855400025844574, 0.855400025844574, 0.855400025844574, 0.855400025844574, 0.855400025844574, 0.855400025844574, 0.855400025844574, 0.8553000092506409, 0.8553000092506409, 0.8551999926567078, 0.8551999926567078, 0.8551999926567078, 0.8551999926567078, 0.8551999926567078, 0.8550999760627747, 0.8550999760627747, 0.8550999760627747, 0.8549000024795532, 0.8269000053405762, 0.8251000046730042, 0.8248999714851379, 0.8246999979019165, 0.7681000232696533, 0.7648000121116638, 0.7627000212669373, 0.7623000144958496, 0.7621999979019165, 0.7574999928474426, 0.757099986076355, 0.7558000087738037, 0.7549999952316284, 0.7544000148773193, 0.7541999816894531, 0.7538999915122986, 0.7526999711990356, 0.7523000240325928, 0.751800000667572, 0.7495999932289124, 0.7490000128746033, 0.7484999895095825, 0.7483999729156494, 0.748199999332428, 0.7472000122070312, 0.7462000250816345, 0.7454000115394592, 0.7440000176429749, 0.7426000237464905, 0.7368000149726868, -0.29840001463890076, 0.7641000151634216, 0.7634000182151794, 0.051100000739097595, 0.3091000020503998, 0.04820000007748604, -2.1494998931884766, -0.009200000204145908, -1.2847000360488892, -1.603700041770935, -1.0469000339508057, -0.964900016784668, -0.043699998408555984, -1.1157000064849854, -2.0778000354766846, -0.39079999923706055, -0.9635999798774719, -0.6014000177383423, -2.0004000663757324, -1.094499945640564, -1.0181000232696533, -1.5120999813079834, -1.6723999977111816, -0.6057000160217285, -1.6678999662399292, -0.8460000157356262, -0.4546999931335449, -1.1680999994277954, -1.9545999765396118, -1.8308000564575195, -1.34089994430542, -1.2304999828338623, -1.6302000284194946, -1.7158000469207764, 0.85589998960495, 0.85589998960495, 0.8557999730110168, 0.8557999730110168, 0.8557000160217285, 0.8557000160217285, 0.8557000160217285, 0.8557000160217285, 0.8557000160217285, 0.8557000160217285, 0.8557000160217285, 0.8557000160217285, 0.8557000160217285, 0.8557000160217285, 0.8555999994277954, 0.8555999994277954, 0.8555999994277954, 0.8555999994277954, 0.8554999828338623, 0.8554999828338623, 0.8554999828338623, 0.8554999828338623, 0.855400025844574, 0.855400025844574, 0.8553000092506409, 0.8539999723434448, 0.8468000292778015, 0.8458999991416931, 0.8440999984741211, 0.8427000045776367, 0.8422999978065491, 0.84170001745224, 0.8406999707221985, 0.8406999707221985, 0.8407999873161316, 0.8406999707221985, 0.8399999737739563, 0.8389999866485596, 0.8388000130653381, 0.8389000296592712, 0.8391000032424927, 0.8385999798774719, 0.8385999798774719, 0.838699996471405, 0.838100016117096, 0.8373000025749207, 0.8370000123977661, 0.8363999724388123, 0.755299985408783, 0.7520999908447266, 0.7519999742507935, 0.7512999773025513, 0.7508999705314636, 0.7506999969482422, 0.7502999901771545, 0.7498999834060669, -1.7735999822616577, -1.1992000341415405, -1.2979999780654907, -2.3894999027252197, 0.41679999232292175, 0.41690000891685486, -1.6979000568389893, -1.2335000038146973, -1.5616999864578247, -1.1852999925613403, -2.0497000217437744, -1.839400053024292, -1.086300015449524, -1.0185999870300293, -1.3437000513076782, -0.1014999970793724, -0.2865999937057495, -1.3352999687194824, -1.2276999950408936, -1.335800051689148, -1.1649999618530273, -0.8888999819755554, -1.3148000240325928, -0.729200005531311, -0.8055999875068665, -1.7410000562667847, -1.0358999967575073, -2.0564000606536865, -0.83160001039505, -2.0023000240325928, -0.5400999784469604, -1.024899959564209, -1.6984000205993652, -1.1710000038146973, -1.7172000408172607, 0.86080002784729, 0.86080002784729, 0.8607000112533569, 0.8607000112533569, 0.8605999946594238, 0.8605999946594238, 0.8605999946594238, 0.8605999946594238, 0.8605999946594238, 0.8605999946594238, 0.8605999946594238, 0.8605999946594238, 0.8605999946594238, 0.8605999946594238, 0.8604999780654907, 0.8604999780654907, 0.8604999780654907, 0.8604999780654907, 0.8604000210762024, 0.8604000210762024, 0.8604000210762024, 0.8604000210762024, 0.8603000044822693, 0.8603000044822693, 0.8601999878883362, 0.8589000105857849, 0.832099974155426, 0.830299973487854, 0.8300999999046326, 0.8299000263214111, 0.7754999995231628, 0.7734000086784363, 0.7720999717712402, 0.7720000147819519, 0.7718999981880188, 0.7710999846458435, 0.7706999778747559, 0.7694000005722046, 0.76910001039505, 0.7688999772071838, 0.7685999870300293, 0.7681000232696533, 0.7675999999046326, 0.7667999863624573, 0.766700029373169, 0.7667999863624573, 0.7664999961853027, 0.7666000127792358, 0.7663999795913696, 0.7660999894142151, 0.7656999826431274, 0.7656000256538391, 0.7639999985694885, 0.034299999475479126, 0.32749998569488525, 0.32690000534057617, 0.3264999985694885, 0.3264000117778778, 0.32589998841285706, 0.32339999079704285, -1.0956000089645386, 0.024900000542402267, -2.4126999378204346, -2.079200029373169, -0.11240000277757645, 0.3174000084400177, -1.8732999563217163, -1.7437000274658203, -1.4229999780654907, -2.0701000690460205, -0.8098000288009644, -1.2839000225067139, -0.7613999843597412, 0.0012000000569969416, -1.0398000478744507, -0.121799997985363, -1.88919997215271, -1.5163999795913696, -2.0190999507904053, -1.771299958229065, -1.386199951171875, -1.6211999654769897, -0.9477999806404114, -1.0326000452041626, -1.3823000192642212, -0.7634999752044678, -1.3782000541687012, -1.357100009918213, -1.2390999794006348, -1.0861999988555908, -1.0456000566482544, -1.302299976348877, 0.8601999878883362, 0.8589000105857849, 0.8589000105857849, 0.8587999939918518, 0.8587999939918518, 0.8586999773979187, 0.8586999773979187, 0.8586999773979187, 0.8586999773979187, 0.8586999773979187, 0.8586999773979187, 0.8586999773979187, 0.8586999773979187, 0.8586999773979187, 0.8586999773979187, 0.8586000204086304, 0.8586000204086304, 0.8585000038146973, 0.8585000038146973, 0.8585000038146973, 0.8585000038146973, 0.8585000038146973, 0.8583999872207642, 0.8583999872207642, 0.8583999872207642, 0.8582000136375427, 0.8302000164985657, 0.8284000158309937, 0.8281999826431274, 0.828000009059906, 0.7368999719619751, 0.7383999824523926, 0.7368999719619751, 0.7350000143051147, -2.161099910736084, 0.7343999743461609, 0.7347000241279602, 0.7340999841690063, 0.7358999848365784, 0.7271000146865845, 0.7235000133514404, 0.7336999773979187, 0.7240999937057495, 0.7281000018119812, 0.7303000092506409, 0.7300000190734863, 0.7329000234603882, 0.7287999987602234, 0.7268999814987183, 0.7294999957084656, 0.7307000160217285, 0.7272999882698059, 0.727400004863739, 0.7315000295639038, 0.7286999821662903, 0.7148000001907349, 0.7128999829292297, 0.7304999828338623, 0.7290999889373779, -1.916599988937378, -1.72160005569458, -1.648800015449524, -1.0063999891281128, -1.6864999532699585, -1.3015999794006348, 0.2759999930858612, -2.0146000385284424, -0.7465000152587891, -0.9002000093460083, -0.8916000127792358, -0.9023000001907349, -0.7286999821662903, -0.5468000173568726, -0.9003999829292297, -0.9140999913215637, -1.3349000215530396, -1.6727999448776245, -1.009600043296814, -1.1634000539779663, -1.062399983406067, -0.3154999911785126, -0.3068000078201294, -0.7160000205039978, -1.2700999975204468, -0.5694000124931335, -0.5690000057220459, -0.3203999996185303, -0.5440999865531921, -1.0354000329971313, -0.7013000249862671, -2.0067999362945557, -1.115399956703186, -1.5118999481201172, -0.7657999992370605, -1.3711999654769897, -1.5367000102996826, -2.1903998851776123, 0.8622000217437744, 0.8622000217437744, 0.8621000051498413, 0.8621000051498413, 0.8619999885559082, 0.8619999885559082, 0.8619999885559082, 0.8619999885559082, 0.8619999885559082, 0.8619999885559082, 0.8619999885559082, 0.8619999885559082, 0.8619999885559082, 0.8619999885559082, 0.8618999719619751, 0.8618999719619751, 0.8618000149726868, 0.8618000149726868, 0.8618000149726868, 0.8618000149726868, 0.8618000149726868, 0.8616999983787537, 0.8616999983787537, 0.8616999983787537, 0.8615000247955322, 0.8601999878883362, 0.8335000276565552, 0.8317000269889832, 0.8314999938011169, 0.8313000202178955, 0.6075999736785889, 0.599399983882904, 0.5996000170707703, 0.5408999919891357, -1.0144000053405762, 0.5475000143051147, 0.5996999740600586, 0.5979999899864197, 0.599399983882904, 0.5968000292778015, 0.5979999899864197, 0.5976999998092651, 0.5964000225067139, 0.5953999757766724, 0.5981000065803528, 0.5976999998092651, 0.5981000065803528, 0.5952000021934509, 0.5956000089645386, 0.5957000255584717, -1.0379999876022339, 0.5950999855995178, 0.5956000089645386, 0.5953999757766724, 0.5960000157356262, 0.5949000120162964, 0.5960000157356262, 0.5953999757766724, 0.5949000120162964, 0.5950999855995178, -1.7390999794006348, -0.6323999762535095, -1.1416000127792358, -0.47850000858306885, -1.1640000343322754, -0.6434000134468079, -0.21299999952316284, -0.21320000290870667, -2.4791998863220215, -0.616599977016449, -1.8897000551223755, -2.0796000957489014, -2.1084001064300537, -1.3717999458312988, -0.21729999780654907, -0.2092999964952469, -0.6775000095367432, -1.4779000282287598, -0.9509999752044678, -1.7757999897003174, -1.7347999811172485, -1.3365000486373901, -1.7466000318527222, -1.7312999963760376, -1.7848000526428223, -2.197700023651123, -0.28790000081062317, -1.048699975013733, -2.036600112915039, -1.3842999935150146, -0.9876000285148621], \"logprob\": [30.0, 29.0, 28.0, 27.0, 26.0, 25.0, 24.0, 23.0, 22.0, 21.0, 20.0, 19.0, 18.0, 17.0, 16.0, 15.0, 14.0, 13.0, 12.0, 11.0, 10.0, 9.0, 8.0, 7.0, 6.0, 5.0, 4.0, 3.0, 2.0, 1.0, -3.452500104904175, -4.900300025939941, -5.051400184631348, -5.2322001457214355, -5.235000133514404, -5.236599922180176, -5.085000038146973, -4.947999954223633, -5.088500022888184, -5.44890022277832, -5.25570011138916, -4.116199970245361, -5.098599910736084, -5.459400177001953, -5.460700035095215, -5.462600231170654, -4.450099945068359, -5.095699787139893, -5.123600006103516, -5.723800182342529, -5.723899841308594, -5.727399826049805, -5.490900039672852, -4.276899814605713, -5.7316999435424805, -5.491199970245361, -5.732999801635742, -5.734099864959717, -5.492499828338623, -5.734499931335449, -5.3140997886657715, -4.7891998291015625, -3.6092000007629395, -4.727799892425537, -5.063300132751465, -4.380300045013428, -5.049900054931641, -4.116399765014648, -5.07450008392334, -4.900300025939941, -4.924600124359131, -5.071700096130371, -5.093699932098389, -5.258999824523926, -5.0731000900268555, -4.947700023651123, -4.850900173187256, -4.943299770355225, -5.1057000160217285, -5.059000015258789, -3.82069993019104, -4.252200126647949, -4.349699974060059, -4.349699974060059, -4.454500198364258, -4.455100059509277, -4.70419979095459, -4.703999996185303, -4.8566999435424805, -4.857500076293945, -5.037600040435791, -5.037899971008301, -5.038300037384033, -4.168799877166748, -5.2571001052856445, -5.258399963378906, -5.258699893951416, -5.259099960327148, -5.539299964904785, -5.5395002365112305, -5.539999961853027, -5.54040002822876, -5.541999816894531, -5.542099952697754, -5.541900157928467, -5.542099952697754, -5.542399883270264, -5.542399883270264, -5.542399883270264, -5.542900085449219, -4.571800231933594, -4.854499816894531, -4.8572001457214355, -5.257800102233887, -4.857500076293945, -5.256499767303467, -5.258800029754639, -5.036099910736084, -5.252900123596191, -5.033599853515625, -5.254799842834473, -5.254899978637695, -3.7653000354766846, -3.8821001052856445, -3.8838000297546387, -4.3495001792907715, -4.350299835205078, -4.851799964904785, -4.853400230407715, -4.854599952697754, -4.8557000160217285, -3.8835999965667725, -4.579899787902832, -5.2494001388549805, -5.249899864196777, -5.249800205230713, -5.250500202178955, -5.250800132751465, -5.2515997886657715, -5.252099990844727, -5.2515997886657715, -4.570499897003174, -4.571300029754639, -5.917099952697754, -5.917200088500977, -5.917200088500977, -5.917099952697754, -5.917600154876709, -5.917600154876709, -5.918000221252441, -5.917900085449219, -5.918000221252441, -3.7683000564575195, -5.251100063323975, -5.271699905395508, -4.853899955749512, -5.274899959564209, -5.249499797821045, -4.85230016708374, -4.859899997711182, -4.569900035858154, -4.855500221252441, -4.8597002029418945, -4.860300064086914, -4.85890007019043, -4.8592000007629395, -5.249599933624268, -4.649400234222412, -4.650899887084961, -4.650599956512451, -5.044000148773193, -5.047599792480469, -5.047699928283691, -5.047800064086914, -5.048099994659424, -5.048299789428711, -5.048999786376953, -5.049099922180176, -5.049200057983398, -5.049300193786621, -5.053199768066406, -5.054100036621094, -5.054800033569336, -5.053899765014648, -5.7129998207092285, -5.7129998207092285, -5.7129998207092285, -5.7129998207092285, -5.713099956512451, -5.713099956512451, -5.713099956512451, -5.713099956512451, -5.713099956512451, -5.713099956512451, -5.713099956512451, -5.713099956512451, -5.713099956512451, -4.150599956512451, -4.650199890136719, -4.6508002281188965, -5.047999858856201, -4.668300151824951, -5.052599906921387, -5.04580020904541, -5.057499885559082, -5.047699928283691, -5.089399814605713, -4.364299774169922, -5.057700157165527, -4.648499965667725, -4.64900016784668, -4.002500057220459, -4.59060001373291, -4.650100231170654, -4.598800182342529, -4.61359977722168, -4.594399929046631, -4.752399921417236, -4.904799938201904, -4.952600002288818, -4.965000152587891, -4.944699764251709, -4.932499885559082, -4.997099876403809, -5.01140022277832, -5.043099880218506, -5.045000076293945, -5.045300006866455, -5.0472002029418945, -2.9888999462127686, -3.6048998832702637, -4.158899784088135, -4.442500114440918, -4.44320011138916, -4.840099811553955, -4.84060001373291, -4.839900016784668, -4.839900016784668, -4.840099811553955, -5.508200168609619, -5.508299827575684, -5.5081000328063965, -5.508500099182129, -5.508699893951416, -5.508500099182129, -5.508900165557861, -5.508600234985352, -5.508699893951416, -5.508699893951416, -5.508800029754639, -5.508699893951416, -5.508900165557861, -5.508600234985352, -5.508900165557861, -5.508800029754639, -5.508699893951416, -5.508800029754639, -5.509099960327148, -5.508500099182129, -4.441500186920166, -5.508600234985352, -4.443299770355225, -4.4415998458862305, -4.8394999504089355, -4.840099811553955, -4.442999839782715, -3.9379000663757324, -4.442800045013428, -3.938999891281128, -4.840099811553955, -4.15910005569458, -4.8403000831604, -4.839000225067139, -4.835999965667725, -4.838500022888184, -4.839900016784668, -5.500100135803223, -5.506100177764893, -5.50629997253418, -5.506499767303467, -4.434000015258789, -4.458399772644043, -4.487199783325195, -4.8308000564575195, -4.831299781799316, -4.831299781799316, -4.8368000984191895, -4.8379998207092285, -4.85860013961792, -4.875500202178955, -5.49970006942749, -5.49970006942749, -5.499800205230713, -5.5, -5.5, -5.500100135803223, -5.500100135803223, -5.500100135803223, -5.500199794769287, -5.500100135803223, -5.50029993057251, -5.5005998611450195, -5.50029993057251, -5.500199794769287, -5.50029993057251, -5.500400066375732, -5.500500202178955, -5.500199794769287, -5.500400066375732, -5.500500202178955, -5.50029993057251, -4.832099914550781, -4.849299907684326, -4.837600231170654, -4.863699913024902, -4.628799915313721, -4.060999870300293, -4.046999931335449, -4.17609977722168, -4.83050012588501, -4.621200084686279, -5.1092000007629395, -4.979400157928467, -5.2067999839782715, -5.30679988861084, -5.357900142669678, -5.3958001136779785, -5.400300025939941, -5.498799800872803, -5.499199867248535, -5.499499797821045, -3.790600061416626, -4.2947001457214355, -4.293499946594238, -4.293499946594238, -4.691999912261963, -4.691500186920166, -4.690700054168701, -5.35890007019043, -5.360499858856201, -5.360400199890137, -5.359300136566162, -5.3592000007629395, -5.359300136566162, -5.359399795532227, -5.361000061035156, -5.361299991607666, -5.361599922180176, -5.361400127410889, -5.359499931335449, -5.361700057983398, -5.359600067138672, -5.361299991607666, -5.361199855804443, -5.361100196838379, -5.3597002029418945, -5.361299991607666, -5.361400127410889, -5.3597002029418945, -5.361599922180176, -5.361800193786621, -5.3597002029418945, -5.361299991607666, -4.691100120544434, -5.359899997711182, -4.692999839782715, -4.692500114440918, -4.690400123596191, -4.690899848937988, -5.360099792480469, -5.360199928283691, -4.010700225830078, -4.293799877166748, -4.690100193023682, -4.691800117492676, -4.289700031280518, -4.291500091552734, -4.691199779510498, -4.690400123596191, -4.692800045013428, -4.691199779510498, -4.686100006103516, -4.6894001960754395, -4.688499927520752, -4.690000057220459, -4.689199924468994, -5.354800224304199, -5.355100154876709, -5.355299949645996, -3.670599937438965, -4.572500228881836, -4.57289981842041, -4.572700023651123, -4.573299884796143, -5.241099834442139, -5.240900039672852, -5.240900039672852, -5.240900039672852, -5.241099834442139, -5.241199970245361, -5.241000175476074, -5.241300106048584, -5.241199970245361, -5.241199970245361, -5.241300106048584, -5.241199970245361, -5.241099834442139, -5.241499900817871, -5.241399765014648, -5.241600036621094, -5.241399765014648, -5.241399765014648, -5.241399765014648, -5.241499900817871, -5.241399765014648, -5.241600036621094, -5.241700172424316, -5.241600036621094, -5.241700172424316, -3.890399932861328, -4.174499988555908, -4.571499824523926, -4.174799919128418, -4.571599960327148, -4.5721001625061035, -5.228799819946289, -5.235000133514404, -5.235199928283691, -5.236599922180176, -5.2368998527526855, -5.2378997802734375, -5.2378997802734375, -5.238800048828125, -5.238900184631348, -5.238999843597412, -5.239099979400635, -5.239099979400635, -5.239200115203857, -5.239200115203857, -5.239500045776367, -5.239500045776367, -5.2399001121521, -5.239999771118164, -5.240200042724609, -3.876699924468994, -4.156799793243408, -4.156799793243408, -4.157700061798096, -4.157899856567383, -4.160399913787842, -4.163700103759766, -3.6535000801086426, -4.554100036621094, -4.554100036621094, -4.554100036621094, -4.554100036621094, -4.554999828338623, -4.555500030517578, -4.56220006942749, -4.562699794769287, -5.223199844360352, -5.223199844360352, -5.223199844360352, -5.223199844360352, -5.223199844360352, -5.223199844360352, -5.223199844360352, -5.223199844360352, -5.223999977111816, -5.223999977111816, -5.224100112915039, -5.224100112915039, -5.224100112915039, -5.2241997718811035, -4.167099952697754, -4.555300235748291, -4.4980998039245605, -4.523099899291992, -4.554999828338623, -4.525400161743164, -4.46560001373291, -4.538099765777588, -4.537199974060059, -5.04449987411499, -5.033699989318848, -5.151500225067139, -5.176300048828125, -5.1305999755859375, -2.9475998878479004, -4.139800071716309, -4.140600204467773, -4.537499904632568, -4.537399768829346, -4.537300109863281, -4.537399768829346, -4.537700176239014, -4.537799835205078, -4.537899971008301, -4.538000106811523, -4.537899971008301, -5.2058000564575195, -5.206399917602539, -5.206299781799316, -5.206200122833252, -5.206099987030029, -5.206399917602539, -5.206299781799316, -5.206099987030029, -5.206500053405762, -5.206399917602539, -5.206399917602539, -5.206500053405762, -5.2067999839782715, -5.206500053405762, -5.206699848175049, -5.206900119781494, -5.206600189208984, -5.2067999839782715, -4.538599967956543, -4.53380012512207, -4.533599853515625, -4.140600204467773, -4.139699935913086, -4.139900207519531, -4.5370001792907715, -4.536900043487549, -4.537300109863281, -4.137199878692627, -4.536799907684326, -5.19890022277832, -5.184999942779541, -5.200300216674805, -5.200399875640869, -5.2006001472473145, -5.201200008392334, -5.201399803161621, -3.655600070953369, -3.9410998821258545, -4.3333001136779785, -4.337600231170654, -4.337699890136719, -4.339000225067139, -4.339099884033203, -4.340199947357178, -4.339000225067139, -4.340199947357178, -5.002200126647949, -5.003699779510498, -5.0040998458862305, -5.0046000480651855, -5.004700183868408, -5.005099773406982, -5.0046000480651855, -5.00570011138916, -5.005300045013428, -5.006700038909912, -5.006999969482422, -5.007999897003174, -5.0071001052856445, -5.006899833679199, -5.007699966430664, -5.008200168609619, -5.0081000328063965, -5.009099960327148, -5.0100998878479, -5.012400150299072, -3.9435999393463135, -4.339600086212158, -3.93530011177063, -3.9502999782562256, -3.9402999877929688, -4.334799766540527, -4.336900234222412, -4.331600189208984, -4.332399845123291, -5.000699996948242, -5.000899791717529, -5.001299858093262, -5.005099773406982, -4.331200122833252, -4.331299781799316, -4.331500053405762, -4.331099987030029, -4.331399917602539, -4.331600189208984, -4.331699848175049, -4.331999778747559, -5.000100135803223, -5.000199794769287, -5.000199794769287, -5.000199794769287, -5.000199794769287, -5.000199794769287, -5.000100135803223, -5.000500202178955, -5.000500202178955, -5.0005998611450195, -5.000699996948242, -5.00029993057251, -5.0005998611450195, -5.000699996948242, -5.000500202178955, -5.0005998611450195, -5.000699996948242, -5.000699996948242, -5.000500202178955, -5.000699996948242, -5.000899791717529, -5.001100063323975, -4.33620023727417, -4.331500053405762, -4.337600231170654, -4.334199905395508, -4.250999927520752, -4.232100009918213, -4.898099899291992, -4.804800033569336, -4.8368000984191895, -4.843400001525879, -4.848899841308594, -4.957499980926514, -4.967100143432617, -4.974999904632568, -4.980299949645996, -4.9868998527526855, -4.998000144958496, -4.9984002113342285, -4.998499870300293, -4.998899936676025, -4.999300003051758, -4.999499797821045, -4.3491997718811035, -4.361999988555908, -4.377900123596191, -4.4039998054504395, -4.396900177001953, -4.407899856567383, -4.442699909210205, -4.400300025939941, -4.302000045776367, -4.313000202178955, -4.378399848937988, -7.1641998291015625, -6.351200103759766, -7.28879976272583, -7.455900192260742, -7.456200122833252, -7.319200038909912, -7.459199905395508, -7.459700107574463, -7.460000038146973, -7.4604997634887695, -7.460599899291992, -7.461100101470947, -7.461599826812744, -7.4618000984191895, -7.462500095367432, -7.462800025939941, -7.462600231170654, -7.463600158691406, -7.465099811553955, -5.807400226593018, -6.403600215911865, -6.04640007019043, -7.357800006866455, -7.263199806213379, -5.910200119018555, -6.520999908447266, -7.292600154876709, -7.294300079345703, -7.297100067138672, -6.14900016784668, -7.377900123596191, -7.016900062561035, -6.83620023727417, -6.769199848175049, -7.281400203704834, -6.759900093078613, -6.451600074768066, -6.854899883270264, -6.22160005569458, -6.533100128173828, -6.689899921417236, -6.566199779510498, -6.508500099182129, -6.708000183105469, -6.834199905395508, -6.661600112915039, -6.7677998542785645, -6.826900005340576, -7.259399890899658, -7.259799957275391, -7.262400150299072, -7.262599945068359, -7.263599872589111, -7.264699935913086, -7.265399932861328, -7.265999794006348, -7.265900135040283, -7.2667999267578125, -7.267199993133545, -7.267199993133545, -7.267499923706055, -7.267399787902832, -7.26800012588501, -7.2683000564575195, -7.268400192260742, -7.268400192260742, -7.268799781799316, -7.269100189208984, -7.269000053405762, -7.269700050354004, -7.270100116729736, -7.270400047302246, -7.271500110626221, -7.27209997177124, -7.283899784088135, -7.283899784088135, -7.283899784088135, -7.283899784088135, -7.236499786376953, -7.237199783325195, -7.237599849700928, -7.240499973297119, -6.8927001953125, -7.009500026702881, -7.242000102996826, -7.242099761962891, -7.242400169372559, -7.242599964141846, -7.243000030517578, -7.243000030517578, -7.24399995803833, -7.244100093841553, -7.244200229644775, -7.1244001388549805, -7.24429988861084, -7.244500160217285, -7.244900226593018, -7.191500186920166, -6.893799781799316, -6.921899795532227, -7.195700168609619, -7.244999885559082, -7.014400005340576, -7.245100021362305, -6.9857001304626465, -7.028600215911865, -7.172100067138672, -7.027299880981445, -7.065100193023682, -7.061600208282471, -7.037499904632568, -7.180300235748291, -7.059199810028076, -7.070000171661377, -7.146599769592285, -7.123700141906738, -7.166900157928467, -7.092100143432617, -7.119900226593018, -7.134900093078613, -7.139100074768066, -7.156499862670898, -7.135700225830078, -7.111499786376953, -7.163000106811523, -7.131999969482422, -7.1554999351501465, -7.151800155639648, -7.15310001373291, -7.154099941253662, -7.161600112915039, -7.130099773406982, -7.176000118255615, -7.177800178527832, -7.182700157165527, -7.184500217437744, -7.185200214385986, -7.187300205230713, -7.189000129699707, -7.190999984741211, -7.191400051116943, -7.194499969482422, -7.199100017547607, -7.19950008392334, -7.200300216674805, -7.200500011444092, -7.206299781799316, -7.210299968719482, -7.2108001708984375, -7.211299896240234, -7.212800025939941, -7.216899871826172, -7.216700077056885, -7.280700206756592, -7.280700206756592, -7.280700206756592, -7.280700206756592, -7.280700206756592, -7.280700206756592, -7.280700206756592, -7.280700206756592, -6.956299781799316, -7.098999977111816, -7.113999843597412, -7.115300178527832, -7.122799873352051, -7.201200008392334, -7.210000038146973, -7.210899829864502, -6.916200160980225, -7.030099868774414, -7.021699905395508, -7.057499885559082, -7.151800155639648, -6.958700180053711, -7.153600215911865, -7.163899898529053, -7.113900184631348, -6.97599983215332, -7.03980016708374, -7.063899993896484, -7.093200206756592, -7.046999931335449, -7.093500137329102, -7.063899993896484, -7.119200229644775, -7.142099857330322, -7.098599910736084, -7.121699810028076, -7.14109992980957, -7.07390022277832, -7.114799976348877, -7.133200168609619, -7.0858001708984375, -7.102399826049805, -7.109600067138672, -7.120299816131592, -7.139800071716309, -7.257199764251709, -7.274099826812744, -7.274099826812744, -7.274099826812744, -7.274099826812744, -7.274099826812744, -7.274099826812744, -7.274099826812744, -7.274099826812744, -7.274099826812744, -7.274099826812744, -7.274099826812744, -7.274099826812744, -7.274099826812744, -7.274099826812744, -7.274099826812744, -7.274099826812744, -7.274099826812744, -7.274099826812744, -7.274099826812744, -7.274099826812744, -7.274099826812744, -7.274099826812744, -7.274099826812744, -7.274099826812744, -7.274099826812744, -7.274099826812744, -7.274099826812744, -7.274099826812744, -7.274099826812744, -7.205100059509277, -7.208199977874756, -7.210400104522705, -7.210700035095215, -7.2108001708984375, -7.2153000831604, -7.215700149536133, -7.2170000076293945, -7.217800140380859, -7.218400001525879, -7.218599796295166, -7.218800067901611, -7.21999979019165, -7.220399856567383, -7.220900058746338, -7.2230000495910645, -7.223599910736084, -7.223999977111816, -7.224100112915039, -7.224400043487549, -7.225299835205078, -7.22629976272583, -7.227099895477295, -7.228400230407715, -7.229800224304199, -7.235400199890137, -7.0366997718811035, -7.255799770355225, -7.256499767303467, -7.124899864196777, -7.187600135803223, -7.14900016784668, -6.866099834442139, -7.146599769592285, -7.0131001472473145, -7.008600234985352, -7.084700107574463, -7.093400001525879, -7.180099964141846, -7.133600234985352, -7.093500137329102, -7.170300006866455, -7.14769983291626, -7.164400100708008, -7.1082000732421875, -7.144100189208984, -7.1483001708984375, -7.136099815368652, -7.13640022277832, -7.174699783325195, -7.145400047302246, -7.173399925231934, -7.1844000816345215, -7.170499801635742, -7.162300109863281, -7.1645002365112305, -7.174600124359131, -7.177700042724609, -7.181399822235107, -7.182600021362305, -7.273799896240234, -7.273799896240234, -7.273799896240234, -7.273799896240234, -7.273799896240234, -7.273799896240234, -7.273799896240234, -7.273799896240234, -7.273799896240234, -7.273799896240234, -7.273799896240234, -7.273799896240234, -7.273799896240234, -7.273799896240234, -7.273799896240234, -7.273799896240234, -7.273799896240234, -7.273799896240234, -7.273799896240234, -7.273799896240234, -7.273799896240234, -7.273799896240234, -7.273799896240234, -7.273799896240234, -7.273799896240234, -7.273799896240234, -7.254199981689453, -7.252099990844727, -7.255000114440918, -7.256499767303467, -7.25570011138916, -7.256400108337402, -7.256999969482422, -7.2571001052856445, -7.257800102233887, -7.257900238037109, -7.2581000328063965, -7.259200096130371, -7.259200096130371, -7.259399890899658, -7.2596001625061035, -7.2596001625061035, -7.259900093078613, -7.2600998878479, -7.2596001625061035, -7.261000156402588, -7.261300086975098, -7.26140022277832, -7.252200126647949, -7.25540018081665, -7.255499839782715, -7.256100177764893, -7.256499767303467, -7.2565999031066895, -7.256999969482422, -7.257500171661377, -7.083000183105469, -7.1209001541137695, -7.119200229644775, -7.06879997253418, -7.238399982452393, -7.238800048828125, -7.132400035858154, -7.155300140380859, -7.146500110626221, -7.165599822998047, -7.129799842834473, -7.140900135040283, -7.172699928283691, -7.177199840545654, -7.164999961853027, -7.217100143432617, -7.21150016784668, -7.169000148773193, -7.177000045776367, -7.174300193786621, -7.180300235748291, -7.191199779510498, -7.180200099945068, -7.19920015335083, -7.199100017547607, -7.171500205993652, -7.194300174713135, -7.1641998291015625, -7.203800201416016, -7.181700229644775, -7.211900234222412, -7.202000141143799, -7.196300029754639, -7.2032999992370605, -7.200399875640869, -7.268899917602539, -7.268899917602539, -7.268899917602539, -7.268899917602539, -7.268899917602539, -7.268899917602539, -7.268899917602539, -7.268899917602539, -7.268899917602539, -7.268899917602539, -7.268899917602539, -7.268899917602539, -7.268899917602539, -7.268899917602539, -7.268899917602539, -7.268899917602539, -7.268899917602539, -7.268899917602539, -7.268899917602539, -7.268899917602539, -7.268899917602539, -7.268899917602539, -7.268899917602539, -7.268899917602539, -7.268899917602539, -7.268899917602539, -7.268899917602539, -7.268899917602539, -7.268899917602539, -7.268899917602539, -7.244500160217285, -7.246500015258789, -7.247799873352051, -7.247900009155273, -7.248000144958496, -7.248899936676025, -7.249199867248535, -7.2505998611450195, -7.250699996948242, -7.250899791717529, -7.251200199127197, -7.251699924468994, -7.252099990844727, -7.252900123596191, -7.252999782562256, -7.252999782562256, -7.253200054168701, -7.253200054168701, -7.253300189971924, -7.253600120544434, -7.253900051116943, -7.254199981689453, -7.255499839782715, -7.206099987030029, -7.228600025177002, -7.229300022125244, -7.229599952697754, -7.229599952697754, -7.230199813842773, -7.232600212097168, -7.145100116729736, -7.215400218963623, -7.092100143432617, -7.159299850463867, -7.222899913787842, -7.23829984664917, -7.174799919128418, -7.178199768066406, -7.1894001960754395, -7.177800178527832, -7.213799953460693, -7.205599784851074, -7.217700004577637, -7.233399868011475, -7.212699890136719, -7.2316999435424805, -7.198599815368652, -7.203499794006348, -7.198500156402588, -7.201700210571289, -7.207399845123291, -7.205999851226807, -7.216000080108643, -7.216400146484375, -7.2144999504089355, -7.222599983215332, -7.216599941253662, -7.222499847412109, -7.223100185394287, -7.223400115966797, -7.223499774932861, -7.223999977111816, -7.267600059509277, -7.2708001136779785, -7.2708001136779785, -7.2708001136779785, -7.2708001136779785, -7.2708001136779785, -7.2708001136779785, -7.2708001136779785, -7.2708001136779785, -7.2708001136779785, -7.2708001136779785, -7.2708001136779785, -7.2708001136779785, -7.2708001136779785, -7.2708001136779785, -7.2708001136779785, -7.2708001136779785, -7.2708001136779785, -7.2708001136779785, -7.2708001136779785, -7.2708001136779785, -7.2708001136779785, -7.2708001136779785, -7.2708001136779785, -7.2708001136779785, -7.2708001136779785, -7.2708001136779785, -7.2708001136779785, -7.2708001136779785, -7.2708001136779785, -7.251100063323975, -7.251399993896484, -7.252200126647949, -7.252399921417236, -6.840400218963623, -7.252999782562256, -7.2530999183654785, -7.2530999183654785, -7.253699779510498, -7.252699851989746, -7.252200126647949, -7.253900051116943, -7.252799987792969, -7.253499984741211, -7.253900051116943, -7.254300117492676, -7.254799842834473, -7.254700183868408, -7.254799842834473, -7.255300045013428, -7.255499839782715, -7.255199909210205, -7.255300045013428, -7.256400108337402, -7.256100177764893, -7.254700183868408, -7.254700183868408, -7.2565999031066895, -7.2565999031066895, -6.996699810028076, -7.023099899291992, -7.0833001136779785, -7.143599987030029, -7.117000102996826, -7.139999866485596, -7.229700088500977, -7.122399806976318, -7.183000087738037, -7.1774001121521, -7.178100109100342, -7.178299903869629, -7.186299800872803, -7.195199966430664, -7.180699825286865, -7.182300090789795, -7.167099952697754, -7.156000137329102, -7.182400226593018, -7.178699970245361, -7.184999942779541, -7.210000038146973, -7.213500022888184, -7.201900005340576, -7.186399936676025, -7.209099769592285, -7.2093000411987305, -7.2179999351501465, -7.211100101470947, -7.195899963378906, -7.208199977874756, -7.186200141906738, -7.2017998695373535, -7.198999881744385, -7.207200050354004, -7.204899787902832, -7.2058000564575195, -7.206200122833252, -7.267499923706055, -7.267499923706055, -7.267499923706055, -7.267499923706055, -7.267499923706055, -7.267499923706055, -7.267499923706055, -7.267499923706055, -7.267499923706055, -7.267499923706055, -7.267499923706055, -7.267499923706055, -7.267499923706055, -7.267499923706055, -7.267499923706055, -7.267499923706055, -7.267499923706055, -7.267499923706055, -7.267499923706055, -7.267499923706055, -7.267499923706055, -7.267499923706055, -7.267499923706055, -7.267499923706055, -7.267499923706055, -7.267499923706055, -7.267499923706055, -7.267499923706055, -7.267499923706055, -7.267499923706055, -7.245999813079834, -7.248700141906738, -7.248899936676025, -7.245500087738037, -7.144599914550781, -7.246399879455566, -7.250100135803223, -7.2505998611450195, -7.250800132751465, -7.251200199127197, -7.251500129699707, -7.2515997886657715, -7.252099990844727, -7.252200126647949, -7.252399921417236, -7.252399921417236, -7.252399921417236, -7.252399921417236, -7.252500057220459, -7.252500057220459, -7.166600227355957, -7.252699851989746, -7.252999782562256, -7.2530999183654785, -7.253200054168701, -7.2530999183654785, -7.253300189971924, -7.253300189971924, -7.253300189971924, -7.253399848937988, -7.144000053405762, -7.195400238037109, -7.179299831390381, -7.208199977874756, -7.1819000244140625, -7.206900119781494, -7.224999904632568, -7.226799964904785, -7.1585001945495605, -7.21560001373291, -7.191199779510498, -7.187399864196777, -7.188499927520752, -7.203999996185303, -7.228300094604492, -7.231100082397461, -7.2220001220703125, -7.206200122833252, -7.219200134277344, -7.210400104522705, -7.212299823760986, -7.2170000076293945, -7.213500022888184, -7.214399814605713, -7.215199947357178, -7.213399887084961, -7.233399868011475, -7.225800037384033, -7.216000080108643, -7.222799777984619, -7.226900100708008]}, \"token.table\": {\"Topic\": [3, 12, 9, 4, 5, 11, 1, 5, 2, 8, 12, 1, 2, 9, 11, 7, 1, 6, 2, 5, 6, 6, 5, 5, 6, 1, 2, 10, 7, 5, 3, 5, 11, 4, 4, 1, 2, 4, 7, 3, 2, 1, 2, 11, 6, 12, 1, 2, 3, 5, 7, 9, 10, 1, 8, 7, 6, 10, 5, 6, 1, 12, 11, 7, 8, 3, 3, 11, 1, 2, 3, 4, 5, 6, 7, 8, 10, 5, 12, 8, 3, 5, 8, 3, 12, 5, 8, 1, 4, 12, 5, 8, 2, 10, 11, 3, 11, 5, 9, 12, 8, 12, 7, 4, 4, 1, 1, 10, 1, 1, 4, 9, 12, 6, 3, 2, 1, 4, 6, 6, 9, 1, 3, 8, 8, 7, 5, 1, 9, 3, 1, 7, 3, 3, 3, 1, 6, 5, 1, 9, 12, 9, 3, 7, 4, 9, 1, 2, 3, 5, 7, 1, 5, 10, 2, 10, 10, 1, 4, 7, 12, 6, 7, 11, 11, 6, 1, 2, 3, 5, 6, 8, 8, 11, 2, 5, 11, 1, 6, 1, 3, 4, 5, 3, 7, 7, 2, 6, 2, 3, 2, 4, 9, 1, 3, 8, 10, 2, 2, 10, 5, 9, 6, 6, 2, 3, 3, 4, 5, 6, 4, 9, 10, 4, 2, 3, 4, 7, 12, 1, 7, 1, 2, 3, 4, 5, 6, 7, 8, 9, 12, 4, 1, 10, 5, 1, 1, 8, 12, 12, 10, 7, 8, 4, 9, 11, 3, 10, 2, 4, 9, 10, 12, 4, 3, 4, 6, 11, 8, 7, 1, 3, 6, 6, 8, 11, 3, 5, 10, 10, 4, 7, 9, 12, 2, 12, 11, 2, 6, 9, 1, 1, 1, 3, 4, 9, 2, 10, 11, 7, 4, 6, 9, 3, 5, 8, 2, 9, 3, 5, 6, 8, 9, 5, 10, 6, 3, 4, 6, 4, 5, 6, 1, 3, 4, 7, 12, 4, 3, 12, 1, 2, 4, 7, 3, 4, 5, 11, 7, 6, 1, 12, 3, 9, 8, 3, 5, 8, 5, 6, 3, 5, 10, 12, 10, 9, 7, 1, 2, 3, 4, 9, 10, 11, 8, 2, 4, 1, 2, 11, 9, 1, 6, 8, 3, 3, 10, 6, 12, 1, 5, 1, 2, 3, 4, 7, 8, 9, 9, 9, 6, 2, 7, 2, 10, 5, 7, 4, 12, 1, 10, 2, 3, 11, 6, 6, 3, 12, 1, 8, 3, 5, 1, 2, 4, 3, 9, 6, 6, 10, 6, 1, 6, 3, 2, 3, 7, 4, 5, 8, 12, 3, 12, 8, 6, 3, 3, 6, 2, 7, 5, 7, 10, 2, 2, 5, 10, 5, 6, 1, 3, 1, 2, 3, 4, 7, 8, 9, 9, 7, 8, 2, 7, 6, 5, 12, 3, 4, 1, 2, 6, 7, 10, 8, 2, 3, 4, 7, 1, 2, 3, 4, 5, 6, 7, 8, 9, 10, 11, 12, 1, 2, 8, 11, 3, 1, 3, 2, 11, 11, 2, 3, 4, 6, 7, 10, 8, 10, 6, 1, 4, 1, 4, 1, 2, 3, 4, 5, 8, 10, 1, 1, 2, 3, 6, 11, 11, 1, 2, 5, 11, 6, 5, 5, 12, 6, 8, 11, 1, 2, 3, 4, 7, 12, 1, 4, 7, 2, 3, 5, 7, 7, 10, 10, 3, 3, 1, 8, 3, 6, 2, 11, 6, 3, 5, 2, 4, 8, 3, 3, 3, 6, 1, 6, 8, 1, 4, 10, 12, 3, 6, 6, 4, 5, 5, 5, 4, 5, 4, 9, 11, 1, 3, 8, 1, 2, 4, 7, 8, 6, 7, 9, 1, 7, 12, 3, 4, 8, 9, 1, 2, 3, 4, 5, 6, 7, 8, 9, 3, 5, 1, 2, 3, 5, 7, 9, 7, 6, 10, 12, 1, 2, 8, 3, 4, 12, 2, 12, 2, 2, 1, 2, 3, 4, 5, 6, 7, 8, 9, 10, 11, 12, 10, 12, 7, 9, 5, 12, 2, 11, 3, 7, 4, 6, 3, 1, 10, 2, 4, 5, 6, 1, 1, 4, 6, 9, 12, 1, 8, 7, 2, 5, 4, 6, 3, 7, 7, 4, 8, 2, 4, 1, 2, 10, 10, 4, 2, 6, 2, 8, 2, 4, 8, 7, 3, 4, 7, 8, 11, 3, 9, 1, 7, 1, 6, 9, 9, 4, 7, 3, 4, 7, 10, 1, 5, 8, 4, 12, 10, 1, 2, 9, 3, 10, 3, 7, 6, 4, 5, 12, 1, 5, 7, 9, 3, 6, 11, 12, 6, 5, 6, 1, 2, 3, 4, 8, 10, 12, 10, 3, 8, 6, 8, 5, 12, 1, 2, 3, 5, 6, 10, 7, 7, 1, 1, 3, 4, 7, 8, 1, 2, 3, 6, 8, 10, 5, 6, 10, 11, 11, 9, 12, 6, 2, 7, 9, 10, 8, 1, 2, 5, 1, 3, 4, 7, 2, 4, 7, 2, 5, 4, 1, 8, 9, 4, 8, 11, 7, 2, 12, 10, 10, 1, 6, 1, 5, 2, 8, 6, 10, 4, 5, 7, 3, 7, 9, 1, 4, 8, 9, 12, 11, 8, 1, 2, 5, 3, 4, 1, 1, 2, 6, 10, 3, 5, 11, 1, 2, 7, 11, 1, 2, 4, 1, 2, 8, 5, 2, 10, 2, 3, 7, 4, 11, 2, 2, 5, 11, 2, 4, 5, 8, 9, 12, 3, 12, 1, 1, 2, 3, 4, 7, 8, 1, 2, 3, 12, 3, 5, 1, 2, 1, 2, 4, 11, 4, 7, 1, 2, 9, 5, 6, 1, 12, 6, 10, 2, 3, 11, 12, 1, 12, 11, 3, 4, 7, 1, 2, 4, 9, 10, 11, 3, 10, 9, 10, 1, 4, 7, 12, 1, 2, 4, 5, 8, 10, 10, 3, 8, 7, 2, 7, 6, 1, 6, 7, 4, 2, 3, 12, 6, 7, 3, 2, 3, 4, 5, 7, 1, 2, 4, 12, 4, 4, 11, 7, 4, 7, 1, 2, 10, 11, 6, 11, 1, 2, 3, 5, 6, 10, 11, 12, 1, 2, 3, 5, 6, 7, 10, 3, 10, 11, 11, 8, 1, 2, 4, 5, 6, 8, 10, 7, 3, 3, 8, 6], \"Freq\": [0.7823777794837952, 1.0574921369552612, 0.594813346862793, 0.28136134147644043, 0.28136134147644043, 0.5627226829528809, 0.8283963799476624, 0.8651995658874512, 0.9841808080673218, 0.9355895519256592, 1.0555405616760254, 0.10988754779100418, 0.5494377613067627, 0.10988754779100418, 0.10988754779100418, 0.9022699594497681, 0.8370887637138367, 0.9077407121658325, 0.366979718208313, 0.366979718208313, 0.366979718208313, 0.9188315868377686, 0.8651414513587952, 0.865073561668396, 0.8235290050506592, 0.604374885559082, 0.302187442779541, 0.1510937213897705, 0.9023017287254333, 0.8651546835899353, 0.7980139851570129, 0.8648030757904053, 0.6584628224372864, 0.727102518081665, 1.0145138502120972, 0.3140212893486023, 0.3140212893486023, 0.3140212893486023, 0.15701064467430115, 0.7976475954055786, 0.949950635433197, 0.35254359245300293, 0.35254359245300293, 0.35254359245300293, 0.9213122725486755, 1.0574109554290771, 0.2206675112247467, 0.1471116840839386, 0.1471116840839386, 0.2942233681678772, 0.1471116840839386, 0.0735558420419693, 0.0735558420419693, 0.8348522782325745, 0.20871306955814362, 0.9038058519363403, 0.914819061756134, 0.8692294359207153, 0.8651636838912964, 0.910330057144165, 0.9225872159004211, 1.0573453903198242, 1.0248993635177612, 0.9040549993515015, 0.9355326890945435, 0.7996600270271301, 0.7975622415542603, 0.6577990651130676, 0.36058133840560913, 0.15453486144542694, 0.05151161924004555, 0.1030232384800911, 0.05151161924004555, 0.15453486144542694, 0.05151161924004555, 0.05151161924004555, 0.1030232384800911, 0.8651568293571472, 1.0571166276931763, 0.9357280135154724, 0.3951382339000702, 0.3951382339000702, 0.9356664419174194, 0.7979560494422913, 0.6853659749031067, 0.8653160333633423, 0.9357911944389343, 0.7837198376655579, 0.15674397349357605, 0.15674397349357605, 0.8648275136947632, 0.9358677864074707, 0.1321074217557907, 0.7926445007324219, 1.0251716375350952, 0.9649548530578613, 0.9713204503059387, 0.8651215434074402, 0.9449860453605652, 1.0571404695510864, 0.935675323009491, 1.057314157485962, 0.5615790486335754, 0.8284266591072083, 1.0118718147277832, 0.9716503620147705, 0.8966287970542908, 0.14943812787532806, 0.9617292284965515, 0.5225739479064941, 0.17419132590293884, 0.17419132590293884, 0.17419132590293884, 0.5701721906661987, 0.7996438145637512, 0.9300124645233154, 0.7014729380607605, 0.20042084157466888, 0.05010521039366722, 0.917651355266571, 0.9449857473373413, 0.4530121386051178, 0.2265060693025589, 0.2265060693025589, 0.9356032013893127, 0.9041813015937805, 0.8648519515991211, 0.9612986445426941, 0.8660194277763367, 1.002383828163147, 0.8347384333610535, 0.11924834549427032, 0.692112386226654, 0.799132764339447, 0.7979485988616943, 0.9137066602706909, 0.914945662021637, 0.8651527166366577, 0.9539107084274292, 0.7363794445991516, 0.24545982480049133, 0.8668826222419739, 0.9138911962509155, 0.1305558830499649, 0.8284246921539307, 0.5938905477523804, 0.15970875322818756, 0.3194175064563751, 0.3194175064563751, 0.15970875322818756, 0.9023256897926331, 0.8856971263885498, 0.1476161926984787, 0.9475507736206055, 0.950070858001709, 0.9473670125007629, 0.5957265496253967, 0.23379763960838318, 0.46759527921676636, 0.23379763960838318, 0.6853417754173279, 0.9149054288864136, 0.9038101434707642, 1.0253897905349731, 0.6587082743644714, 0.9150006771087646, 0.17725498974323273, 0.17725498974323273, 0.17725498974323273, 0.17725498974323273, 0.35450997948646545, 0.17725498974323273, 0.9359169006347656, 1.0246659517288208, 0.43448153138160706, 0.21724076569080353, 0.43448153138160706, 0.9536078572273254, 0.912078320980072, 0.7353752851486206, 0.33839160203933716, 0.6767832040786743, 0.8650965690612793, 0.9647489786148071, 0.9022688269615173, 0.9039027690887451, 0.9838976263999939, 0.9195865392684937, 0.2167060673236847, 0.6501182317733765, 0.3438052833080292, 0.3438052833080292, 0.1719026416540146, 0.6422955989837646, 0.3211477994918823, 0.9355475902557373, 0.5958683490753174, 0.9498112201690674, 0.7531943321228027, 0.18829858303070068, 0.8650074005126953, 0.9449936747550964, 0.9151230454444885, 0.917773962020874, 0.32361066341400146, 0.6472213268280029, 0.8024595975875854, 0.8310462832450867, 0.8648223280906677, 0.9147825241088867, 0.7687781453132629, 0.38438907265663147, 0.5959182977676392, 0.7277268171310425, 0.1712387204170227, 0.1712387204170227, 0.1712387204170227, 0.1712387204170227, 0.1712387204170227, 0.3667846918106079, 0.3667846918106079, 0.3727739453315735, 0.07455479353666306, 0.1491095870733261, 0.1491095870733261, 0.07455479353666306, 0.07455479353666306, 0.07455479353666306, 0.07455479353666306, 0.07455479353666306, 1.0573989152908325, 1.009253978729248, 0.38145360350608826, 0.38145360350608826, 0.5323030948638916, 0.949572741985321, 0.7348401546478271, 0.5864631533622742, 1.0573443174362183, 0.6852768659591675, 0.9474566578865051, 0.9036509394645691, 0.9356542229652405, 0.828421950340271, 0.9449982643127441, 0.6577674746513367, 0.7989374399185181, 0.9474236369132996, 0.2164619266986847, 0.2164619266986847, 0.2164619266986847, 0.2164619266986847, 0.2164619266986847, 1.011901617050171, 0.8014689087867737, 0.828418493270874, 0.9162360429763794, 0.6574848890304565, 0.935683012008667, 0.7891556024551392, 0.9177488088607788, 0.7993887662887573, 0.9149305820465088, 0.9157958030700684, 0.9354996681213379, 1.0248435735702515, 0.6910422444343567, 0.8650299310684204, 0.9473493695259094, 0.9473247528076172, 0.3916831612586975, 0.3916831612586975, 0.865911602973938, 1.057563066482544, 1.00559401512146, 1.0571293830871582, 1.0246673822402954, 0.38070976734161377, 0.38070976734161377, 0.38070976734161377, 0.977358877658844, 0.9842930436134338, 0.9184868931770325, 0.3661447763442993, 0.7322895526885986, 0.9449982047080994, 0.4505777060985565, 0.30038511753082275, 0.30038511753082275, 0.9022882580757141, 0.32087206840515137, 0.32087206840515137, 0.32087206840515137, 0.37036851048469543, 0.37036851048469543, 0.935892641544342, 0.9300167560577393, 0.5938730239868164, 0.7156156301498413, 0.35780781507492065, 0.9149906635284424, 0.9356101155281067, 0.5938902497291565, 0.9020189046859741, 0.9475104212760925, 0.9120383858680725, 0.5571741461753845, 0.5571741461753845, 0.5697195529937744, 0.8284228444099426, 0.40365806221961975, 0.40365806221961975, 0.44986554980278015, 0.14995518326759338, 0.14995518326759338, 0.07497759163379669, 0.07497759163379669, 0.8308424949645996, 0.7979784607887268, 1.0574172735214233, 0.7824192047119141, 0.07112901657819748, 0.07112901657819748, 0.07112901657819748, 0.9652997255325317, 0.40559273958206177, 0.40559273958206177, 0.40559273958206177, 0.560529351234436, 0.8153542280197144, 0.41608041524887085, 0.41608041524887085, 0.3210025131702423, 0.6420050263404846, 0.9356812834739685, 0.3826923966407776, 0.3826923966407776, 0.3826923966407776, 0.8649156093597412, 0.5700159668922424, 0.32162773609161377, 0.32162773609161377, 0.32162773609161377, 0.32162773609161377, 0.9473360776901245, 0.9449977278709412, 0.813127338886261, 0.1990526020526886, 0.0995263010263443, 0.1990526020526886, 0.1990526020526886, 0.0995263010263443, 0.1990526020526886, 0.0995263010263443, 0.9353338479995728, 0.2633890211582184, 0.5267780423164368, 0.45924684405326843, 0.45924684405326843, 0.15308228135108948, 0.5938906073570251, 0.8556956052780151, 0.10696195065975189, 0.10696195065975189, 0.7983871102333069, 0.9663092494010925, 0.9476133584976196, 0.9151514172554016, 1.057344913482666, 0.8174453377723694, 0.20436133444309235, 0.2719487249851227, 0.13597436249256134, 0.13597436249256134, 0.13597436249256134, 0.13597436249256134, 0.13597436249256134, 0.13597436249256134, 0.9449979662895203, 0.9449982643127441, 0.9009990096092224, 0.9843202829360962, 0.9023120403289795, 0.6804831027984619, 0.2268276959657669, 0.8652748465538025, 0.9036417007446289, 0.44773367047309875, 0.44773367047309875, 0.38166582584381104, 0.38166582584381104, 0.5997243523597717, 0.2398897260427475, 1.027689814567566, 0.9149210453033447, 0.9172583222389221, 0.7976252436637878, 1.0573607683181763, 0.5611757636070251, 0.2805878818035126, 0.7977684736251831, 0.7683106660842896, 0.5397335290908813, 0.13493338227272034, 0.2698667645454407, 0.750237226486206, 0.9449807405471802, 0.9144238233566284, 0.9150476455688477, 0.9475058913230896, 0.9128934741020203, 0.8753183484077454, 0.06252273917198181, 0.7983660101890564, 0.951004147529602, 0.9658992290496826, 0.903917670249939, 0.8307315111160278, 0.8646865487098694, 0.9358289837837219, 0.6853954195976257, 0.7558841705322266, 1.0571719408035278, 0.9355226755142212, 0.9149407744407654, 0.7985212802886963, 0.6864948868751526, 0.22883163392543793, 0.3715367019176483, 0.3715367019176483, 0.5322027206420898, 0.5611810684204102, 0.9475288987159729, 0.950615406036377, 0.4525797963142395, 0.4525797963142395, 0.5957417488098145, 0.40252596139907837, 0.40252596139907837, 0.459310382604599, 0.459310382604599, 0.0958113893866539, 0.0958113893866539, 0.2874341607093811, 0.1916227787733078, 0.2874341607093811, 0.0958113893866539, 0.594531774520874, 0.593866229057312, 0.9022864103317261, 0.9354683756828308, 0.6662277579307556, 0.2220759242773056, 0.9066898822784424, 0.5319045782089233, 0.6853102445602417, 0.7984392642974854, 0.8284230828285217, 0.9534128904342651, 0.3757294714450836, 0.3757294714450836, 0.9023303389549255, 0.5960159301757812, 0.9354462027549744, 0.26646673679351807, 0.5329334735870361, 0.26646673679351807, 0.9040349125862122, 0.17078572511672974, 0.22771431505680084, 0.11385715752840042, 0.11385715752840042, 0.05692857876420021, 0.05692857876420021, 0.05692857876420021, 0.05692857876420021, 0.05692857876420021, 0.05692857876420021, 0.05692857876420021, 0.05692857876420021, 0.3648071587085724, 0.1824035793542862, 0.1824035793542862, 0.3648071587085724, 0.7981423735618591, 0.6377807855606079, 0.21259358525276184, 0.4118506908416748, 0.4118506908416748, 1.0257996320724487, 0.13879232108592987, 0.13879232108592987, 0.4163769483566284, 0.13879232108592987, 0.13879232108592987, 0.13879232108592987, 0.4320858418941498, 0.4320858418941498, 0.9170687794685364, 0.8729937076568604, 0.14549894630908966, 0.2708365321159363, 0.5416730642318726, 0.451492041349411, 0.09029840677976608, 0.09029840677976608, 0.18059681355953217, 0.09029840677976608, 0.09029840677976608, 0.09029840677976608, 0.9185682535171509, 0.17930066585540771, 0.5379019975662231, 0.35860133171081543, 0.9149338006973267, 1.0256190299987793, 1.0244088172912598, 0.2678518295288086, 0.2678518295288086, 0.2678518295288086, 0.6580211520195007, 0.5666283369064331, 0.9098802208900452, 0.8645819425582886, 1.0569123029708862, 0.5703107714653015, 0.9355937838554382, 1.0251896381378174, 0.277333527803421, 0.06933338195085526, 0.48533371090888977, 0.06933338195085526, 0.06933338195085526, 0.06933338195085526, 0.8631821870803833, 0.08631821721792221, 0.9042389988899231, 0.1674005687236786, 0.3348011374473572, 0.3348011374473572, 0.9038248658180237, 0.4162183105945587, 0.4162183105945587, 0.9472395181655884, 0.7979510426521301, 0.8015316128730774, 0.9177268743515015, 0.9357008934020996, 0.797613263130188, 0.9148901700973511, 0.9505739808082581, 1.024665117263794, 0.9193432331085205, 0.37034639716148376, 0.37034639716148376, 0.9462293982505798, 1.0137579441070557, 0.9355210661888123, 0.8958683609962463, 0.8835298418998718, 0.7979807257652283, 0.914877712726593, 0.4111878573894501, 0.13706262409687042, 0.4111878573894501, 0.7423845529556274, 0.12373076379299164, 0.12373076379299164, 0.12373076379299164, 0.6917296051979065, 0.9137604832649231, 0.9149507880210876, 1.01119065284729, 0.8650749921798706, 0.531941294670105, 0.8650187849998474, 0.8284237384796143, 0.8649925589561462, 0.42205744981765747, 0.42205744981765747, 0.42205744981765747, 0.43803107738494873, 0.43803107738494873, 0.21901553869247437, 0.5322808623313904, 0.10645617544651031, 0.10645617544651031, 0.10645617544651031, 0.21291235089302063, 0.32746651768684387, 0.32746651768684387, 0.32746651768684387, 0.3895212709903717, 0.3895212709903717, 0.3895212709903717, 0.24842117726802826, 0.24842117726802826, 0.24842117726802826, 0.24842117726802826, 0.2818872928619385, 0.23490607738494873, 0.09396243095397949, 0.09396243095397949, 0.046981215476989746, 0.14094364643096924, 0.046981215476989746, 0.046981215476989746, 0.046981215476989746, 0.7977626919746399, 0.8651498556137085, 0.32959645986557007, 0.16479822993278503, 0.16479822993278503, 0.16479822993278503, 0.16479822993278503, 0.16479822993278503, 0.9039905071258545, 0.5839108824729919, 0.5839108824729919, 0.6851082444190979, 0.6003216505050659, 0.15008041262626648, 0.15008041262626648, 0.24570544064044952, 0.49141088128089905, 0.24570544064044952, 0.9452378153800964, 1.0575640201568604, 0.9506469368934631, 0.850154459476471, 0.1937066912651062, 0.25827556848526, 0.064568892121315, 0.12913778424263, 0.064568892121315, 0.064568892121315, 0.064568892121315, 0.064568892121315, 0.064568892121315, 0.064568892121315, 0.064568892121315, 0.064568892121315, 0.6375786066055298, 0.6375786066055298, 0.9041763544082642, 0.5938906073570251, 0.8652801513671875, 1.057486891746521, 0.9505138397216797, 1.0248234272003174, 1.0007734298706055, 0.9039181470870972, 1.0112683773040771, 0.9146984219551086, 0.7984226942062378, 0.8652219772338867, 0.9476009607315063, 0.2368391901254654, 0.2368391901254654, 0.2368391901254654, 0.2368391901254654, 0.9948053956031799, 0.9157467484474182, 1.0152273178100586, 0.9149629473686218, 0.8659858107566833, 1.0570749044418335, 0.7946459054946899, 0.5866045951843262, 0.9038512110710144, 0.912960946559906, 0.08299645036458969, 0.7279662489891052, 0.9143548607826233, 0.49499908089637756, 0.49499908089637756, 0.9038041830062866, 0.7663852572441101, 0.38319262862205505, 0.34724438190460205, 0.6944887638092041, 0.3967985212802887, 0.19839926064014435, 0.3967985212802887, 0.5959009528160095, 0.828423261642456, 0.9503769278526306, 0.9129868149757385, 0.984514594078064, 0.8301133513450623, 0.34666839241981506, 0.6933367848396301, 0.9359537363052368, 0.9023275375366211, 0.15112993121147156, 0.3022598624229431, 0.15112993121147156, 0.15112993121147156, 0.15112993121147156, 0.9648168683052063, 0.9449986219406128, 0.9703846573829651, 0.9037696123123169, 0.8570483922958374, 0.07142069935798645, 0.07142069935798645, 0.9449985027313232, 0.7574380040168762, 0.3787190020084381, 0.34882253408432007, 0.34882253408432007, 0.17441126704216003, 0.9475276470184326, 0.46513378620147705, 0.23256689310073853, 0.23256689310073853, 1.0126755237579346, 1.0573852062225342, 0.9476497769355774, 0.8219627737998962, 0.8837900757789612, 0.9449982643127441, 0.7989702224731445, 0.9474518299102783, 0.6985057592391968, 0.3492528796195984, 0.9176972508430481, 1.0111273527145386, 0.8649078607559204, 0.6853513717651367, 0.2374734729528427, 0.4749469459056854, 0.2374734729528427, 0.866019606590271, 0.7983225584030151, 0.4658992290496826, 0.4658992290496826, 0.4658992290496826, 0.9149308204650879, 0.7682833671569824, 0.914806604385376, 0.27583199739456177, 0.27583199739456177, 0.09194400161504745, 0.1838880032300949, 0.09194400161504745, 0.09194400161504745, 0.09194400161504745, 0.9474348425865173, 0.7999029755592346, 0.5865892767906189, 0.9171121120452881, 0.9355349540710449, 0.8649452924728394, 1.0574026107788086, 0.36881762742996216, 0.1475270539522171, 0.1475270539522171, 0.22129057347774506, 0.07376352697610855, 0.07376352697610855, 0.9022514820098877, 0.9040047526359558, 0.9753773212432861, 0.5040715336799622, 0.2520357668399811, 0.12601788341999054, 0.12601788341999054, 0.12601788341999054, 0.1711999624967575, 0.1711999624967575, 0.342399924993515, 0.1711999624967575, 0.1711999624967575, 0.1711999624967575, 0.864913284778595, 0.9178166389465332, 0.9474530220031738, 1.0242445468902588, 1.0253348350524902, 0.9449735879898071, 1.0572257041931152, 0.9149554371833801, 0.8364633321762085, 0.11949476599693298, 1.0230319499969482, 0.5959071516990662, 0.9357237219810486, 0.6382733583450317, 0.2553093433380127, 0.8651251196861267, 0.518484354019165, 0.2592421770095825, 0.2592421770095825, 0.9037136435508728, 0.9505597352981567, 1.0118199586868286, 0.9039619565010071, 0.8504520058631897, 0.865080714225769, 0.8284211158752441, 0.3662773370742798, 0.3662773370742798, 0.1831386685371399, 1.0112330913543701, 0.9357849359512329, 1.0248092412948608, 0.9023526906967163, 0.9462911486625671, 1.0572506189346313, 0.869050920009613, 0.9475953578948975, 0.633575439453125, 0.2111918181180954, 0.8094261884689331, 0.1156323105096817, 0.8839623928070068, 0.9354817271232605, 0.9151445031166077, 0.9475297927856445, 1.0121006965637207, 0.8647426962852478, 0.902224063873291, 0.7988521456718445, 0.9039373993873596, 0.9449578523635864, 0.5209847688674927, 0.17366158962249756, 0.17366158962249756, 0.17366158962249756, 0.17366158962249756, 0.6583800315856934, 0.9357277154922485, 0.25531449913978577, 0.5106289982795715, 0.25531449913978577, 0.5620039105415344, 0.5620039105415344, 0.9726342558860779, 0.19435976445674896, 0.3887195289134979, 0.19435976445674896, 0.19435976445674896, 0.8830191493034363, 0.8650132417678833, 0.658486545085907, 0.123259998857975, 0.4930399954319, 0.24651999771595, 0.123259998857975, 0.2654888331890106, 0.5309776663780212, 0.1327444165945053, 0.9253696799278259, 1.0056620836257935, 0.5865873694419861, 0.5318183898925781, 1.005850076675415, 0.5957998633384705, 0.2741292119026184, 0.5482584238052368, 0.2741292119026184, 0.8284263610839844, 1.0243016481399536, 0.9506616592407227, 0.2847782075405121, 0.5695564150810242, 0.7672176361083984, 0.4622221887111664, 0.2311110943555832, 0.1155555471777916, 0.1155555471777916, 0.1155555471777916, 0.1155555471777916, 0.7976194620132446, 1.0573948621749878, 0.9136924743652344, 0.3895105719566345, 0.12983685731887817, 0.12983685731887817, 0.12983685731887817, 0.12983685731887817, 0.12983685731887817, 0.44625455141067505, 0.22312727570533752, 0.22312727570533752, 0.11156363785266876, 0.965498685836792, 0.8649069666862488, 0.8293453454971313, 0.9592012763023376, 0.18633393943309784, 0.5590018033981323, 0.18633393943309784, 0.18633393943309784, 0.3920786678791046, 0.3920786678791046, 0.2637729346752167, 0.5275458693504333, 0.2637729346752167, 0.865041971206665, 0.570383608341217, 0.9338921308517456, 1.057063102722168, 0.8285213708877563, 0.9476560950279236, 0.23917651176452637, 0.47835302352905273, 0.23917651176452637, 1.0572209358215332, 0.8319556713104248, 0.6853984594345093, 1.0245654582977295, 0.8013250231742859, 0.8284222483634949, 0.9037322402000427, 0.34275296330451965, 0.34275296330451965, 0.22850197553634644, 0.11425098776817322, 0.11425098776817322, 1.0250576734542847, 0.9658898115158081, 0.9476231336593628, 0.8659967184066772, 0.5959414839744568, 0.2621406614780426, 0.2621406614780426, 0.2621406614780426, 0.2621406614780426, 0.30434441566467285, 0.38043051958084106, 0.07608610391616821, 0.07608610391616821, 0.07608610391616821, 0.07608610391616821, 0.9477003216743469, 0.7983264327049255, 0.9357163310050964, 0.9043561816215515, 0.9503558278083801, 0.9034640789031982, 0.9174853563308716, 0.9621421098709106, 0.9172478914260864, 0.9042115807533264, 0.828425943851471, 0.3143802881240845, 0.3143802881240845, 0.3143802881240845, 0.5702756643295288, 0.8150041699409485, 0.7980579137802124, 0.22332140803337097, 0.44664281606674194, 0.44664281606674194, 0.914815366268158, 0.8131492733955383, 0.6112833619117737, 0.10188055783510208, 0.20376111567020416, 0.10188055783510208, 0.8284258842468262, 1.0122777223587036, 1.024427056312561, 0.902254045009613, 0.7538377642631531, 0.37691888213157654, 0.39793118834495544, 0.19896559417247772, 0.19896559417247772, 0.19896559417247772, 0.8993039131164551, 1.0245171785354614, 0.3320014178752899, 0.27666783332824707, 0.05533356964588165, 0.05533356964588165, 0.16600070893764496, 0.05533356964588165, 0.05533356964588165, 0.05533356964588165, 0.08026286959648132, 0.24078859388828278, 0.08026286959648132, 0.3210514783859253, 0.08026286959648132, 0.16052573919296265, 0.08026286959648132, 0.6176043748855591, 0.30880218744277954, 0.30880218744277954, 1.0249038934707642, 0.9356260299682617, 0.8054642081260681, 0.03356100991368294, 0.03356100991368294, 0.03356100991368294, 0.06712201982736588, 0.03356100991368294, 0.03356100991368294, 0.9039762616157532, 0.6928723454475403, 0.7999272346496582, 0.93546462059021, 0.9149607419967651], \"Term\": [\"absolute\", \"accel\", \"acceleration\", \"access\", \"access\", \"access\", \"accident\", \"accidental\", \"acrv\", \"acsu\", \"actual\", \"add\", \"add\", \"add\", \"add\", \"address\", \"age\", \"agent\", \"agree\", \"agree\", \"agree\", \"alfa\", \"allegedly\", \"allow\", \"almost\", \"also\", \"also\", \"also\", \"amber\", \"amendment\", \"analogy\", \"analysis\", \"ann\", \"anybody\", \"anymore\", \"anyone\", \"anyone\", \"anyone\", \"anyone\", \"anything\", \"application\", \"appreciate\", \"appreciate\", \"appreciate\", \"apt\", \"arnstein\", \"article\", \"article\", \"article\", \"article\", \"article\", \"article\", \"article\", \"ask\", \"ask\", \"astrophysical\", \"atheist\", \"autodoubler\", \"automatic\", \"away\", \"awd\", \"axis\", \"background\", \"baker\", \"band\", \"bangkok\", \"bar\", \"barden\", \"be\", \"be\", \"be\", \"be\", \"be\", \"be\", \"be\", \"be\", \"be\", \"bear\", \"beemer\", \"behalf\", \"believe\", \"believe\", \"bet\", \"biblical\", \"bike\", \"bill\", \"binocular\", \"bit\", \"bit\", \"bit\", \"blank\", \"blender\", \"board\", \"board\", \"bogus\", \"bold\", \"boot\", \"brady\", \"brave\", \"bronze\", \"brother\", \"brown\", \"bug\", \"bumper\", \"bunch\", \"burst\", \"buy\", \"buy\", \"california\", \"call\", \"call\", \"call\", \"call\", \"camp\", \"camtec\", \"capability\", \"car\", \"car\", \"car\", \"careful\", \"carson\", \"case\", \"case\", \"case\", \"cassette\", \"caution\", \"cbw\", \"celica\", \"cerkoney\", \"child\", \"chip\", \"chip\", \"christ\", \"christian\", \"christianity\", \"circuit\", \"citizen\", \"class\", \"clean\", \"clock\", \"clock\", \"co\", \"code\", \"code\", \"college\", \"collin\", \"come\", \"come\", \"come\", \"come\", \"command\", \"company\", \"company\", \"competition\", \"complexity\", \"compress\", \"compression\", \"computer\", \"computer\", \"computer\", \"computrac\", \"concentration\", \"condition\", \"config\", \"configuration\", \"conservative\", \"consider\", \"consider\", \"consider\", \"consider\", \"consider\", \"consider\", \"contact\", \"contain\", \"control\", \"control\", \"control\", \"controller\", \"corrado\", \"correctly\", \"could\", \"could\", \"count\", \"create\", \"csd\", \"curious\", \"currently\", \"dan\", \"david\", \"david\", \"day\", \"day\", \"day\", \"decide\", \"decide\", \"deck\", \"decompress\", \"delete\", \"design\", \"design\", \"destructive\", \"detail\", \"devastation\", \"difference\", \"different\", \"different\", \"directive\", \"dirt\", \"disagree\", \"disease\", \"disk\", \"disk\", \"diskdoubler\", \"display\", \"distribution\", \"distribution\", \"distribution\", \"distribution\", \"distribution\", \"division\", \"division\", \"do\", \"do\", \"do\", \"do\", \"do\", \"do\", \"do\", \"do\", \"do\", \"dod\", \"door\", \"double\", \"double\", \"doug\", \"drive\", \"driving\", \"dryer\", \"duc\", \"ducati\", \"due\", \"dumb\", \"duster\", \"early\", \"east\", \"edit\", \"electronic\", \"else\", \"email\", \"email\", \"email\", \"email\", \"email\", \"engineering\", \"england\", \"enlighten\", \"enough\", \"entry\", \"equalizer\", \"error\", \"esdi\", \"establish\", \"ethnic\", \"eventually\", \"everylast\", \"exact\", \"example\", \"existant\", \"expand\", \"expansion\", \"expect\", \"expect\", \"experience\", \"expire\", \"external\", \"fade\", \"fail\", \"fair\", \"fair\", \"fair\", \"farm\", \"fast\", \"faster\", \"feel\", \"feel\", \"fekvh\", \"file\", \"file\", \"file\", \"fill\", \"final\", \"final\", \"final\", \"first\", \"first\", \"fixable\", \"flight\", \"floppy\", \"follow\", \"follow\", \"form\", \"forsale\", \"fort\", \"foxvog\", \"freeware\", \"friend\", \"front\", \"front\", \"full\", \"funky\", \"gas\", \"gas\", \"get\", \"get\", \"get\", \"get\", \"get\", \"ghost\", \"gist\", \"gmt\", \"go\", \"go\", \"go\", \"go\", \"god\", \"great\", \"great\", \"great\", \"green\", \"group\", \"gt\", \"gt\", \"guy\", \"guy\", \"hair\", \"hand\", \"hand\", \"hand\", \"handgun\", \"happen\", \"hard\", \"hard\", \"hard\", \"hard\", \"hardware\", \"harmony\", \"harris\", \"have\", \"have\", \"have\", \"have\", \"have\", \"have\", \"have\", \"head\", \"hear\", \"hear\", \"help\", \"help\", \"help\", \"hewlett\", \"high\", \"high\", \"high\", \"historian\", \"hold\", \"hole\", \"holocost\", \"honk\", \"hope\", \"hope\", \"host\", \"host\", \"host\", \"host\", \"host\", \"host\", \"host\", \"hpdesk\", \"hpfcmrc\", \"huge\", \"human\", \"humor\", \"icon\", \"icon\", \"idea\", \"ignore\", \"ill\", \"ill\", \"illinoi\", \"illinoi\", \"image\", \"image\", \"implementation\", \"imprison\", \"in\", \"inappropriate\", \"inc\", \"include\", \"include\", \"indicate\", \"individual\", \"info\", \"info\", \"info\", \"initially\", \"innc\", \"inquiry\", \"insert\", \"instal\", \"institute\", \"insurance\", \"insurance\", \"intent\", \"international\", \"interpretation\", \"introduce\", \"introduction\", \"investor\", \"iron\", \"irwin\", \"jame\", \"jap\", \"japan\", \"japanese\", \"jesus\", \"jew\", \"jew\", \"joe\", \"joe\", \"john\", \"jonathan\", \"joseph\", \"jsc\", \"keep\", \"keep\", \"kerr\", \"kill\", \"kill\", \"kind\", \"kind\", \"know\", \"know\", \"know\", \"know\", \"know\", \"know\", \"knowledge\", \"kuo\", \"kyanko\", \"lastly\", \"launch\", \"launch\", \"law\", \"lawrence\", \"leak\", \"leicester\", \"lerxst\", \"less\", \"let\", \"let\", \"level\", \"licensing\", \"lictor\", \"life\", \"life\", \"life\", \"liftoff\", \"line\", \"line\", \"line\", \"line\", \"line\", \"line\", \"line\", \"line\", \"line\", \"line\", \"line\", \"line\", \"list\", \"list\", \"list\", \"list\", \"little\", \"live\", \"live\", \"load\", \"load\", \"login\", \"look\", \"look\", \"look\", \"look\", \"look\", \"look\", \"lose\", \"lose\", \"lucky\", \"mac\", \"mac\", \"machine\", \"machine\", \"make\", \"make\", \"make\", \"make\", \"make\", \"make\", \"make\", \"male\", \"man\", \"man\", \"man\", \"mantis\", \"manual\", \"manually\", \"many\", \"many\", \"many\", \"marie\", \"mass\", \"mass_destruction\", \"massive\", \"mate\", \"mathew\", \"matic\", \"matter\", \"may\", \"may\", \"may\", \"may\", \"may\", \"may\", \"mb\", \"mb\", \"mcdowell\", \"mean\", \"mean\", \"mean\", \"meaning\", \"memory\", \"memory\", \"mention\", \"metaphor\", \"metaphysically\", \"mexico\", \"microscope\", \"mind\", \"minority\", \"mission\", \"mit\", \"mitsubishi\", \"modern\", \"modern\", \"module\", \"money\", \"monolux\", \"moral\", \"morality\", \"mose\", \"mountain\", \"move\", \"move\", \"move\", \"much\", \"much\", \"much\", \"much\", \"multiple\", \"munny\", \"mutilate\", \"name\", \"need\", \"needless\", \"neighbor\", \"neighborhood\", \"nerve\", \"network\", \"network\", \"network\", \"never\", \"never\", \"never\", \"new\", \"new\", \"new\", \"new\", \"new\", \"newsreader\", \"newsreader\", \"newsreader\", \"nice\", \"nice\", \"nice\", \"nntp_poste\", \"nntp_poste\", \"nntp_poste\", \"nntp_poste\", \"not\", \"not\", \"not\", \"not\", \"not\", \"not\", \"not\", \"not\", \"not\", \"nuance\", \"nuke\", \"number\", \"number\", \"number\", \"number\", \"number\", \"number\", \"observatory\", \"office\", \"office\", \"oil\", \"old\", \"old\", \"old\", \"opinion\", \"opinion\", \"opinion\", \"option\", \"orange\", \"orbit\", \"orbiter\", \"organization\", \"organization\", \"organization\", \"organization\", \"organization\", \"organization\", \"organization\", \"organization\", \"organization\", \"organization\", \"organization\", \"organization\", \"owner\", \"owner\", \"pack\", \"packard\", \"packet\", \"paint\", \"panel\", \"parameter\", \"parent\", \"parity\", \"park\", \"partly\", \"patriarch\", \"pay\", \"pellettiere\", \"people\", \"people\", \"people\", \"people\", \"performance\", \"personal\", \"play\", \"political\", \"poll\", \"pop\", \"porsche\", \"portable\", \"possibly\", \"power\", \"power\", \"powerbook\", \"pressure\", \"pretty\", \"pretty\", \"previously\", \"price\", \"price\", \"probably\", \"probably\", \"problem\", \"problem\", \"problem\", \"product\", \"production\", \"program\", \"protege\", \"provide\", \"purchase\", \"purdue\", \"purdue\", \"pusle\", \"quadrilateral\", \"question\", \"question\", \"question\", \"question\", \"question\", \"quite\", \"qxf\", \"range\", \"rat\", \"rate\", \"rate\", \"rate\", \"rd\", \"real\", \"real\", \"really\", \"really\", \"really\", \"reappear\", \"reasonable\", \"reasonable\", \"reasonable\", \"recently\", \"recommendation\", \"recompress\", \"record\", \"redesign\", \"regard\", \"religion\", \"reluctant\", \"require\", \"require\", \"responsible\", \"rest\", \"reword\", \"richardson\", \"right\", \"right\", \"right\", \"rod\", \"rude\", \"run\", \"run\", \"run\", \"rusnew\", \"rutledge\", \"ryan\", \"s\", \"s\", \"s\", \"s\", \"s\", \"s\", \"s\", \"sad\", \"sadducee\", \"sale\", \"salesman\", \"salon\", \"sarah\", \"sat\", \"say\", \"say\", \"say\", \"say\", \"say\", \"say\", \"scare\", \"sci\", \"scsi\", \"see\", \"see\", \"see\", \"see\", \"see\", \"seem\", \"seem\", \"seem\", \"seem\", \"seem\", \"seem\", \"semi\", \"serge\", \"service\", \"session\", \"shalimar\", \"shelley\", \"shop\", \"short\", \"shuttle\", \"shuttle\", \"si\", \"sigma\", \"silex\", \"single\", \"single\", \"sk\", \"small\", \"small\", \"small\", \"smithsonian\", \"solar\", \"somebody\", \"sorry\", \"space\", \"special\", \"specs\", \"speed\", \"speed\", \"speed\", \"sport\", \"sr\", \"ss\", \"ssd\", \"ssf\", \"stable\", \"stac\", \"stan\", \"standard\", \"standard\", \"state\", \"state\", \"station\", \"steam\", \"step\", \"stinky\", \"store\", \"street\", \"stuff\", \"subjectiveness\", \"suchlike\", \"summarize\", \"summary\", \"summary\", \"summary\", \"summary\", \"summary\", \"sun\", \"sunbeam\", \"support\", \"support\", \"support\", \"suppose\", \"suppose\", \"supra\", \"sure\", \"sure\", \"sure\", \"sure\", \"swear\", \"sweeper\", \"syntax\", \"system\", \"system\", \"system\", \"system\", \"take\", \"take\", \"take\", \"talon\", \"tank\", \"tape\", \"tavare\", \"team\", \"technology\", \"tell\", \"tell\", \"tell\", \"tellme\", \"telnet\", \"tend\", \"term\", \"term\", \"terminal\", \"thank\", \"thank\", \"thank\", \"thank\", \"thank\", \"thank\", \"theologically\", \"therefore\", \"thermocouple\", \"thing\", \"thing\", \"thing\", \"thing\", \"thing\", \"thing\", \"think\", \"think\", \"think\", \"think\", \"thought\", \"thousand\", \"ticket\", \"tiff\", \"time\", \"time\", \"time\", \"time\", \"tom\", \"tom\", \"top\", \"top\", \"top\", \"topic\", \"total\", \"town\", \"tran\", \"trial\", \"troubled\", \"try\", \"try\", \"try\", \"tuba\", \"turbo\", \"tx\", \"tybrin\", \"type\", \"umd\", \"unexpected\", \"university\", \"university\", \"university\", \"university\", \"university\", \"unix\", \"unknowable\", \"unlikely\", \"upgrade\", \"urbana\", \"usa\", \"usa\", \"usa\", \"usa\", \"use\", \"use\", \"use\", \"use\", \"use\", \"use\", \"utility\", \"utterance\", \"vaccum\", \"value\", \"vehicle\", \"verify\", \"view\", \"violation\", \"vw\", \"waivere\", \"wam\", \"want\", \"want\", \"want\", \"war\", \"warn\", \"water\", \"way\", \"way\", \"way\", \"weapon\", \"weitek\", \"well\", \"well\", \"well\", \"well\", \"where\", \"willis\", \"window\", \"winter\", \"wonder\", \"wonder\", \"work\", \"work\", \"work\", \"work\", \"worst\", \"worthless\", \"would\", \"would\", \"would\", \"would\", \"would\", \"would\", \"would\", \"would\", \"write\", \"write\", \"write\", \"write\", \"write\", \"write\", \"write\", \"wrong\", \"wrong\", \"wrong\", \"xhost\", \"yd\", \"year\", \"year\", \"year\", \"year\", \"year\", \"year\", \"year\", \"yet\", \"yhwh\", \"young\", \"zoom\", \"zyklon\"]}, \"R\": 30, \"lambda.step\": 0.01, \"plot.opts\": {\"xlab\": \"PC1\", \"ylab\": \"PC2\"}, \"topic.order\": [13, 17, 11, 18, 10, 20, 15, 12, 6, 5, 19, 14, 3, 4, 1, 8, 16, 9, 2, 7]};\n",
       "\n",
       "function LDAvis_load_lib(url, callback){\n",
       "  var s = document.createElement('script');\n",
       "  s.src = url;\n",
       "  s.async = true;\n",
       "  s.onreadystatechange = s.onload = callback;\n",
       "  s.onerror = function(){console.warn(\"failed to load library \" + url);};\n",
       "  document.getElementsByTagName(\"head\")[0].appendChild(s);\n",
       "}\n",
       "\n",
       "if(typeof(LDAvis) !== \"undefined\"){\n",
       "   // already loaded: just create the visualization\n",
       "   !function(LDAvis){\n",
       "       new LDAvis(\"#\" + \"ldavis_el7613349827409443671996386\", ldavis_el7613349827409443671996386_data);\n",
       "   }(LDAvis);\n",
       "}else if(typeof define === \"function\" && define.amd){\n",
       "   // require.js is available: use it to load d3/LDAvis\n",
       "   require.config({paths: {d3: \"https://cdnjs.cloudflare.com/ajax/libs/d3/3.5.5/d3.min\"}});\n",
       "   require([\"d3\"], function(d3){\n",
       "      window.d3 = d3;\n",
       "      LDAvis_load_lib(\"https://cdn.rawgit.com/bmabey/pyLDAvis/files/ldavis.v1.0.0.js\", function(){\n",
       "        new LDAvis(\"#\" + \"ldavis_el7613349827409443671996386\", ldavis_el7613349827409443671996386_data);\n",
       "      });\n",
       "    });\n",
       "}else{\n",
       "    // require.js not available: dynamically load d3 & LDAvis\n",
       "    LDAvis_load_lib(\"https://cdnjs.cloudflare.com/ajax/libs/d3/3.5.5/d3.min.js\", function(){\n",
       "         LDAvis_load_lib(\"https://cdn.rawgit.com/bmabey/pyLDAvis/files/ldavis.v1.0.0.js\", function(){\n",
       "                 new LDAvis(\"#\" + \"ldavis_el7613349827409443671996386\", ldavis_el7613349827409443671996386_data);\n",
       "            })\n",
       "         });\n",
       "}\n",
       "</script>"
      ],
      "text/plain": [
       "PreparedData(topic_coordinates=              x         y  topics  cluster       Freq\n",
       "topic                                                \n",
       "12    -0.227019  0.067517       1        1  27.593241\n",
       "16     0.190079  0.151791       2        1  21.953465\n",
       "10     0.065776 -0.221200       3        1   9.958546\n",
       "17    -0.046169 -0.091857       4        1   7.673302\n",
       "9      0.039464  0.014816       5        1   5.825302\n",
       "19    -0.091185  0.057918       6        1   5.270487\n",
       "14     0.014621 -0.079041       7        1   4.689174\n",
       "11    -0.042214 -0.010801       8        1   3.924805\n",
       "5      0.009567 -0.001253       9        1   3.797587\n",
       "4      0.016664  0.055421      10        1   3.707621\n",
       "18     0.049997  0.016473      11        1   2.637581\n",
       "13    -0.011127 -0.010224      12        1   2.483528\n",
       "2     -0.002067 -0.013463      13        1   0.382394\n",
       "3      0.003118  0.009554      14        1   0.015871\n",
       "0      0.005526  0.006996      15        1   0.015088\n",
       "7      0.005393  0.006865      16        1   0.014794\n",
       "15     0.005870  0.011230      17        1   0.014494\n",
       "8      0.005568  0.010550      18        1   0.014425\n",
       "1      0.002668  0.010328      19        1   0.014372\n",
       "6      0.005470  0.008381      20        1   0.013930, topic_info=     Category       Freq        Term      Total  loglift  logprob\n",
       "499   Default  28.000000        scsi  28.000000  30.0000  30.0000\n",
       "402   Default   9.000000      weapon   9.000000  29.0000  29.0000\n",
       "892   Default  15.000000      option  15.000000  28.0000  28.0000\n",
       "7     Default  19.000000         car  19.000000  27.0000  27.0000\n",
       "52    Default  29.000000        year  29.000000  26.0000  26.0000\n",
       "1243  Default  15.000000   insurance  15.000000  25.0000  25.0000\n",
       "533   Default   7.000000       board   7.000000  24.0000  24.0000\n",
       "92    Default  14.000000        rate  14.000000  23.0000  23.0000\n",
       "727   Default   6.000000      record   6.000000  22.0000  22.0000\n",
       "1135  Default  10.000000        tiff  10.000000  21.0000  21.0000\n",
       "368   Default  12.000000       power  12.000000  20.0000  20.0000\n",
       "160   Default  14.000000         may  14.000000  19.0000  19.0000\n",
       "164   Default   8.000000        much   8.000000  18.0000  18.0000\n",
       "934   Default   9.000000         ssf   9.000000  17.0000  17.0000\n",
       "880   Default   9.000000      module   9.000000  16.0000  16.0000\n",
       "706   Default   7.000000       moral   7.000000  15.0000  15.0000\n",
       "714   Default   6.000000         old   6.000000  14.0000  14.0000\n",
       "162   Default  11.000000          mb  11.000000  13.0000  13.0000\n",
       "403   Default  18.000000       would  18.000000  12.0000  12.0000\n",
       "116   Default  19.000000          be  19.000000  11.0000  11.0000\n",
       "55    Default   9.000000         add   9.000000  10.0000  10.0000\n",
       "831   Default   8.000000      flight   8.000000   9.0000   9.0000\n",
       "794   Default   8.000000  capability   8.000000   8.0000   8.0000\n",
       "142   Default  14.000000          go  14.000000   7.0000   7.0000\n",
       "253   Default  12.000000       write  12.000000   6.0000   6.0000\n",
       "57    Default  13.000000     article  13.000000   5.0000   5.0000\n",
       "641   Default   6.000000       child   6.000000   4.0000   4.0000\n",
       "717   Default   6.000000      parent   6.000000   3.0000   3.0000\n",
       "263   Default   7.000000        code   7.000000   2.0000   2.0000\n",
       "247   Default   8.000000      system   8.000000   1.0000   1.0000\n",
       "...       ...        ...         ...        ...      ...      ...\n",
       "742   Topic20   0.000335       swear   4.529913  -0.6324  -7.1954\n",
       "263   Topic20   0.000341        code   7.659555  -1.1416  -7.1793\n",
       "622   Topic20   0.000331    absolute   3.834465  -0.4785  -7.2082\n",
       "706   Topic20   0.000340       moral   7.813648  -1.1640  -7.1819\n",
       "707   Topic20   0.000331    morality   4.527295  -0.6434  -7.2069\n",
       "709   Topic20   0.000325    multiple   2.891303  -0.2130  -7.2250\n",
       "757   Topic20   0.000325        yhwh   2.886535  -0.2132  -7.2268\n",
       "52    Topic20   0.000348        year  29.796482  -2.4792  -7.1585\n",
       "690   Topic20   0.000329         jew   4.370025  -0.6166  -7.2156\n",
       "1243  Topic20   0.000337   insurance  15.994181  -1.8897  -7.1912\n",
       "116   Topic20   0.000338          be  19.413095  -2.0796  -7.1874\n",
       "7     Topic20   0.000338         car  19.958004  -2.1084  -7.1885\n",
       "699   Topic20   0.000332        live   9.407621  -1.3718  -7.2040\n",
       "664   Topic20   0.000324     example   2.894179  -0.2173  -7.2283\n",
       "241   Topic20   0.000324     require   2.863255  -0.2093  -7.2311\n",
       "652   Topic20   0.000326       david   4.614545  -0.6775  -7.2220\n",
       "20    Topic20   0.000332        know  10.437173  -1.4779  -7.2062\n",
       "727   Topic20   0.000327      record   6.083001  -0.9510  -7.2192\n",
       "92    Topic20   0.000330        rate  14.001543  -1.7758  -7.2104\n",
       "68    Topic20   0.000330          do  13.412954  -1.7348  -7.2123\n",
       "431   Topic20   0.000328       think   8.963494  -1.3365  -7.2170\n",
       "381   Topic20   0.000329         say  13.556836  -1.7466  -7.2135\n",
       "139   Topic20   0.000329         get  13.337318  -1.7313  -7.2144\n",
       "142   Topic20   0.000329          go  14.058960  -1.7848  -7.2152\n",
       "86    Topic20   0.000329         not  21.285103  -2.1977  -7.2134\n",
       "655   Topic20   0.000323   different   3.090133  -0.2879  -7.2334\n",
       "714   Topic20   0.000325         old   6.663095  -1.0487  -7.2258\n",
       "403   Topic20   0.000328       would  18.072212  -2.0366  -7.2160\n",
       "997   Topic20   0.000326        high   9.349119  -1.3843  -7.2228\n",
       "315   Topic20   0.000325        come   6.261398  -0.9876  -7.2269\n",
       "\n",
       "[1301 rows x 6 columns], token_table=      Topic      Freq          Term\n",
       "term                               \n",
       "622       3  0.782378      absolute\n",
       "583      12  1.057492         accel\n",
       "53        9  0.594813  acceleration\n",
       "108       4  0.281361        access\n",
       "108       5  0.281361        access\n",
       "108      11  0.562723        access\n",
       "1142      1  0.828396      accident\n",
       "299       5  0.865200    accidental\n",
       "775       2  0.984181          acrv\n",
       "964       8  0.935590          acsu\n",
       "437      12  1.055541        actual\n",
       "55        1  0.109888           add\n",
       "55        2  0.549438           add\n",
       "55        9  0.109888           add\n",
       "55       11  0.109888           add\n",
       "213       7  0.902270       address\n",
       "1145      1  0.837089           age\n",
       "1146      6  0.907741         agent\n",
       "300       2  0.366980         agree\n",
       "300       5  0.366980         agree\n",
       "300       6  0.366980         agree\n",
       "1151      6  0.918832          alfa\n",
       "301       5  0.865141     allegedly\n",
       "302       5  0.865074         allow\n",
       "1033      6  0.823529        almost\n",
       "531       1  0.604375          also\n",
       "531       2  0.302187          also\n",
       "531      10  0.151094          also\n",
       "214       7  0.902302         amber\n",
       "303       5  0.865155     amendment\n",
       "...     ...       ...           ...\n",
       "403       3  0.055334         would\n",
       "403       5  0.055334         would\n",
       "403       6  0.166001         would\n",
       "403      10  0.055334         would\n",
       "403      11  0.055334         would\n",
       "403      12  0.055334         would\n",
       "253       1  0.080263         write\n",
       "253       2  0.240789         write\n",
       "253       3  0.080263         write\n",
       "253       5  0.321051         write\n",
       "253       6  0.080263         write\n",
       "253       7  0.160526         write\n",
       "253      10  0.080263         write\n",
       "582       3  0.617604         wrong\n",
       "582      10  0.308802         wrong\n",
       "582      11  0.308802         wrong\n",
       "1424     11  1.024904         xhost\n",
       "1029      8  0.935626            yd\n",
       "52        1  0.805464          year\n",
       "52        2  0.033561          year\n",
       "52        4  0.033561          year\n",
       "52        5  0.033561          year\n",
       "52        6  0.067122          year\n",
       "52        8  0.033561          year\n",
       "52       10  0.033561          year\n",
       "298       7  0.903976           yet\n",
       "757       3  0.692872          yhwh\n",
       "758       3  0.799927         young\n",
       "1030      8  0.935465          zoom\n",
       "1083      6  0.914961        zyklon\n",
       "\n",
       "[1006 rows x 3 columns], R=30, lambda_step=0.01, plot_opts={'xlab': 'PC1', 'ylab': 'PC2'}, topic_order=[13, 17, 11, 18, 10, 20, 15, 12, 6, 5, 19, 14, 3, 4, 1, 8, 16, 9, 2, 7])"
      ]
     },
     "execution_count": 117,
     "metadata": {},
     "output_type": "execute_result"
    }
   ],
   "source": [
    "vis = pyLDAvis.gensim.prepare(lda_model, corpus, id2word)\n",
    "vis"
   ]
  },
  {
   "cell_type": "markdown",
   "metadata": {},
   "source": [
    "# References\n",
    "\n",
    "- https://www.machinelearningplus.com/nlp/topic-modeling-gensim-python/"
   ]
  },
  {
   "cell_type": "code",
   "execution_count": null,
   "metadata": {},
   "outputs": [],
   "source": []
  }
 ],
 "metadata": {
  "kernelspec": {
   "display_name": "Python 3",
   "language": "python",
   "name": "python3"
  },
  "language_info": {
   "codemirror_mode": {
    "name": "ipython",
    "version": 3
   },
   "file_extension": ".py",
   "mimetype": "text/x-python",
   "name": "python",
   "nbconvert_exporter": "python",
   "pygments_lexer": "ipython3",
   "version": "3.7.4"
  }
 },
 "nbformat": 4,
 "nbformat_minor": 2
}
