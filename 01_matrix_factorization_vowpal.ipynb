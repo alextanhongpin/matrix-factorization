{
 "cells": [
  {
   "cell_type": "markdown",
   "id": "bc665cff-351f-4b58-90f9-f086462a8085",
   "metadata": {},
   "source": [
    "# Matrix Factorization Example using VowpalWabbit\n",
    "\n",
    "Reference:\n",
    "https://github.com/VowpalWabbit/vowpal_wabbit/wiki/Matrix-factorization-example"
   ]
  },
  {
   "cell_type": "code",
   "execution_count": 3,
   "id": "d14f21e8-cfdb-4ab3-84a6-b312d7cea09e",
   "metadata": {
    "execution": {
     "iopub.execute_input": "2024-01-23T17:12:12.832568Z",
     "iopub.status.busy": "2024-01-23T17:12:12.831614Z",
     "iopub.status.idle": "2024-01-23T17:12:13.016672Z",
     "shell.execute_reply": "2024-01-23T17:12:13.009499Z",
     "shell.execute_reply.started": "2024-01-23T17:12:12.832334Z"
    },
    "tags": []
   },
   "outputs": [
    {
     "name": "stdout",
     "output_type": "stream",
     "text": [
      "File ml-100k.zip exists.\n",
      "Archive:  ml-100k.zip\n"
     ]
    }
   ],
   "source": [
    "!./mf-setup.sh"
   ]
  },
  {
   "cell_type": "code",
   "execution_count": 38,
   "id": "972915ca-b076-495c-ac60-f670a1ab1141",
   "metadata": {
    "execution": {
     "iopub.execute_input": "2024-01-23T17:57:22.109792Z",
     "iopub.status.busy": "2024-01-23T17:57:22.109025Z",
     "iopub.status.idle": "2024-01-23T17:58:06.395879Z",
     "shell.execute_reply": "2024-01-23T17:58:06.393105Z",
     "shell.execute_reply.started": "2024-01-23T17:57:22.109710Z"
    },
    "tags": []
   },
   "outputs": [
    {
     "name": "stdout",
     "output_type": "stream",
     "text": [
      "creating quadratic features for pairs: ui\n",
      "using l2 regularization = 0.001\n",
      "final_regressor = movielens.reg\n",
      "using cache_file = movielens.cache\n",
      "ignoring text input in favor of cache input\n",
      "num sources = 1\n",
      "Num weight bits = 18\n",
      "learning rate = 0.015\n",
      "initial_t = 1\n",
      "power_t = 0\n",
      "decay_learning_rate = 0.97\n",
      "Enabled learners: rank, scorer-identity, count_label\n",
      "Input label = SIMPLE\n",
      "Output pred = SCALAR\n",
      "average  since         example        example        current        current  current\n",
      "loss     last          counter         weight          label        predict features\n",
      "23.47829 23.47829            1            1.0         5.0000         0.1546       23\n",
      "15.52144 7.564596            2            2.0         3.0000         0.2496       23\n",
      "12.98887 10.45630            4            4.0         3.0000         0.3375       23\n",
      "11.25910 9.529338            8            8.0         1.0000         0.6490       23\n",
      "12.26689 13.27468           16           16.0         3.0000         1.1538       23\n",
      "8.234041 4.201188           32           32.0         2.0000         1.6854       23\n",
      "5.874644 3.515247           64           64.0         1.0000         2.7666       23\n",
      "3.985317 2.095991          128          128.0         4.0000         3.1239       23\n",
      "2.961340 1.937362          256          256.0         4.0000         2.3446       23\n",
      "2.442762 1.924185          512          512.0         5.0000         2.9704       23\n",
      "1.816145 1.189528         1024         1024.0         3.0000         3.6345       23\n",
      "1.634253 1.452361         2048         2048.0         3.0000         3.9241       23\n",
      "1.408795 1.183336         4096         4096.0         4.0000         3.6946       23\n",
      "1.225044 1.041293         8192         8192.0         5.0000         3.7049       23\n",
      "1.167822 1.110601        16384        16384.0         3.0000         3.2662       23\n",
      "1.089689 1.011556        32768        32768.0         2.0000         3.8134       23\n",
      "1.034541 0.979392        65536        65536.0         4.0000         4.1479       23\n",
      "0.984682 0.984682       131072       131072.0         3.0000         3.5838       23 h\n",
      "0.940430 0.896181       262144       262144.0         5.0000         3.4334       23 h\n",
      "0.905591 0.870752       524288       524288.0         4.0000         3.9650       23 h\n",
      "0.881551 0.857512      1048576      1048576.0         5.0000         4.0165       23 h\n",
      "\n",
      "finished run\n",
      "number of examples per pass = 81513\n",
      "passes used = 20\n",
      "weighted example sum = 1630260.000000\n",
      "weighted label sum = 5743160.000000\n",
      "average loss = 0.835310 h\n",
      "best constant = 3.522849\n",
      "total feature number = 37495980\n",
      "awk: write error on stdout\n",
      " input record number 5598, file \n",
      " source line number 1\n"
     ]
    }
   ],
   "source": [
    "!./mf-run.sh"
   ]
  },
  {
   "cell_type": "markdown",
   "id": "a36ec15e-8d83-4a6b-9436-e31eee326816",
   "metadata": {},
   "source": [
    "```\n",
    "creating quadratic features for pairs: ui\n",
    "only testing\n",
    "predictions = p_out\n",
    "using no cache\n",
    "Reading datafile = /dev/stdin\n",
    "num sources = 1\n",
    "Num weight bits = 18\n",
    "learning rate = 0.015\n",
    "initial_t = 1\n",
    "power_t = 0\n",
    "Enabled learners: rank, scorer-identity, count_label\n",
    "Input label = SIMPLE\n",
    "Output pred = SCALAR\n",
    "average  since         example        example        current        current  current\n",
    "loss     last          counter         weight          label        predict features\n",
    "\n",
    "finished run\n",
    "number of examples = 0\n",
    "weighted example sum = 0.000000\n",
    "weighted label sum = 0.000000\n",
    "average loss = n.a.\n",
    "total feature number = 0\n",
    "➜  matrix-factorization git:(master) ✗ ./mf-run.sh\n",
    "creating quadratic features for pairs: ui\n",
    "using l2 regularization = 0.001\n",
    "final_regressor = movielens.reg\n",
    "using cache_file = movielens.cache\n",
    "ignoring text input in favor of cache input\n",
    "num sources = 1\n",
    "Num weight bits = 18\n",
    "learning rate = 0.015\n",
    "initial_t = 1\n",
    "power_t = 0\n",
    "decay_learning_rate = 0.97\n",
    "Enabled learners: rank, scorer-identity, count_label\n",
    "Input label = SIMPLE\n",
    "Output pred = SCALAR\n",
    "average  since         example        example        current        current  current\n",
    "loss     last          counter         weight          label        predict features\n",
    "23.47829 23.47829            1            1.0         5.0000         0.1546       23\n",
    "15.52144 7.564596            2            2.0         3.0000         0.2496       23\n",
    "12.98887 10.45630            4            4.0         3.0000         0.3375       23\n",
    "11.25910 9.529338            8            8.0         1.0000         0.6490       23\n",
    "12.26689 13.27468           16           16.0         3.0000         1.1538       23\n",
    "8.234041 4.201188           32           32.0         2.0000         1.6854       23\n",
    "5.874644 3.515247           64           64.0         1.0000         2.7666       23\n",
    "3.985317 2.095991          128          128.0         4.0000         3.1239       23\n",
    "2.961340 1.937362          256          256.0         4.0000         2.3446       23\n",
    "2.442762 1.924185          512          512.0         5.0000         2.9704       23\n",
    "1.816145 1.189528         1024         1024.0         3.0000         3.6345       23\n",
    "1.634253 1.452361         2048         2048.0         3.0000         3.9241       23\n",
    "1.408795 1.183336         4096         4096.0         4.0000         3.6946       23\n",
    "1.225044 1.041293         8192         8192.0         5.0000         3.7049       23\n",
    "1.167822 1.110601        16384        16384.0         3.0000         3.2662       23\n",
    "1.089689 1.011556        32768        32768.0         2.0000         3.8134       23\n",
    "1.034541 0.979392        65536        65536.0         4.0000         4.1479       23\n",
    "0.984682 0.984682       131072       131072.0         3.0000         3.5838       23 h\n",
    "0.940430 0.896181       262144       262144.0         5.0000         3.4334       23 h\n",
    "0.905591 0.870752       524288       524288.0         4.0000         3.9650       23 h\n",
    "0.881551 0.857512      1048576      1048576.0         5.0000         4.0165       23 h\n",
    "\n",
    "finished run\n",
    "number of examples per pass = 81513\n",
    "passes used = 20\n",
    "weighted example sum = 1630260.000000\n",
    "weighted label sum = 5743160.000000\n",
    "average loss = 0.835310 h\n",
    "best constant = 3.522849\n",
    "total feature number = 37495980\n",
    "```"
   ]
  },
  {
   "cell_type": "code",
   "execution_count": 36,
   "id": "2c81624a-c102-4554-b2b9-b77de4a405c7",
   "metadata": {
    "execution": {
     "iopub.execute_input": "2024-01-23T17:50:51.391844Z",
     "iopub.status.busy": "2024-01-23T17:50:51.391356Z",
     "iopub.status.idle": "2024-01-23T17:50:54.852984Z",
     "shell.execute_reply": "2024-01-23T17:50:54.851879Z",
     "shell.execute_reply.started": "2024-01-23T17:50:51.391811Z"
    },
    "tags": []
   },
   "outputs": [
    {
     "name": "stdout",
     "output_type": "stream",
     "text": [
      "./mf-test.sh: line 5: ml-100k/ua.test: No such file or directory\n",
      "creating quadratic features for pairs: ui\n",
      "only testing\n",
      "predictions = p_out\n",
      "using no cache\n",
      "Reading datafile = /dev/stdin\n",
      "num sources = 1\n",
      "Num weight bits = 18\n",
      "learning rate = 0.015\n",
      "initial_t = 1\n",
      "power_t = 0\n",
      "Enabled learners: rank, scorer-identity, count_label\n",
      "Input label = SIMPLE\n",
      "Output pred = SCALAR\n",
      "average  since         example        example        current        current  current\n",
      "loss     last          counter         weight          label        predict features\n",
      "\n",
      "finished run\n",
      "number of examples = 0\n",
      "weighted example sum = 0.000000\n",
      "weighted label sum = 0.000000\n",
      "average loss = n.a.\n",
      "total feature number = 0\n"
     ]
    }
   ],
   "source": [
    "# This is not working somehow ...\n",
    "!./mf-test.sh"
   ]
  },
  {
   "cell_type": "code",
   "execution_count": 7,
   "id": "a23c1b73-879c-4c31-9307-bfde038f7819",
   "metadata": {
    "execution": {
     "iopub.execute_input": "2024-01-23T17:14:56.072285Z",
     "iopub.status.busy": "2024-01-23T17:14:56.069589Z",
     "iopub.status.idle": "2024-01-23T17:14:56.365319Z",
     "shell.execute_reply": "2024-01-23T17:14:56.364144Z",
     "shell.execute_reply.started": "2024-01-23T17:14:56.071722Z"
    },
    "tags": []
   },
   "outputs": [
    {
     "name": "stdout",
     "output_type": "stream",
     "text": [
      "1\t1\t5\t874965758\n",
      "1\t2\t3\t876893171\n",
      "1\t3\t4\t878542960\n",
      "1\t4\t3\t876893119\n",
      "1\t5\t3\t889751712\n",
      "1\t6\t5\t887431973\n",
      "1\t7\t4\t875071561\n",
      "1\t8\t1\t875072484\n",
      "1\t9\t5\t878543541\n",
      "1\t10\t3\t875693118\n"
     ]
    }
   ],
   "source": [
    "!head ./ml-100k/ua.base"
   ]
  },
  {
   "cell_type": "markdown",
   "id": "6f8994b2-80e4-49ce-8635-8e0f63273f0f",
   "metadata": {},
   "source": [
    "The data consist of (user, item, rating, date) events, where ratings are given on an (integer) scale of 1 to 5."
   ]
  },
  {
   "cell_type": "markdown",
   "id": "f007429e-2317-4959-a8cf-19f16250bc71",
   "metadata": {},
   "source": [
    "We format it into a vowpalwabbit-friendly format, where `u` is short for `user`, and `i` is short for `item`. The first column is the `rating`.\n",
    "\n",
    "```txt\n",
    "5 |u 1 |i 1\n",
    "3 |u 1 |i 2\n",
    "4 |u 1 |i 3\n",
    "3 |u 1 |i 4\n",
    "3 |u 1 |i 5\n",
    "5 |u 1 |i 6\n",
    "4 |u 1 |i 7\n",
    "1 |u 1 |i 8\n",
    "5 |u 1 |i 9\n",
    "3 |u 1 |i 10\n",
    "```"
   ]
  },
  {
   "cell_type": "code",
   "execution_count": 30,
   "id": "38e20807-5400-4ad5-8755-0b52d9c5c02c",
   "metadata": {
    "execution": {
     "iopub.execute_input": "2024-01-23T17:46:06.474784Z",
     "iopub.status.busy": "2024-01-23T17:46:06.473573Z",
     "iopub.status.idle": "2024-01-23T17:46:09.775940Z",
     "shell.execute_reply": "2024-01-23T17:46:09.774848Z",
     "shell.execute_reply.started": "2024-01-23T17:46:06.474742Z"
    },
    "tags": []
   },
   "outputs": [
    {
     "name": "stdout",
     "output_type": "stream",
     "text": [
      "creating quadratic features for pairs: ui\n",
      "only testing\n",
      "predictions = p_out\n",
      "using no cache\n",
      "Reading datafile = /dev/stdin\n",
      "num sources = 1\n",
      "Num weight bits = 18\n",
      "learning rate = 0.015\n",
      "initial_t = 1\n",
      "power_t = 0\n",
      "Enabled learners: rank, scorer-identity, count_label\n",
      "Input label = SIMPLE\n",
      "Output pred = SCALAR\n",
      "average  since         example        example        current        current  current\n",
      "loss     last          counter         weight          label        predict features\n",
      "\n",
      "finished run\n",
      "number of examples = 0\n",
      "weighted example sum = 0.000000\n",
      "weighted label sum = 0.000000\n",
      "average loss = n.a.\n",
      "total feature number = 0\n"
     ]
    }
   ],
   "source": [
    "!echo '5 |u 1 |i 1' | poetry run python -m vowpalwabbit /dev/stdin -i ./ml-100k/movielens.reg -t -p p_out"
   ]
  },
  {
   "cell_type": "code",
   "execution_count": 32,
   "id": "48a15c2f-ea84-4c80-97dd-34bfce052cde",
   "metadata": {
    "execution": {
     "iopub.execute_input": "2024-01-23T17:46:36.160921Z",
     "iopub.status.busy": "2024-01-23T17:46:36.160139Z",
     "iopub.status.idle": "2024-01-23T17:46:36.322867Z",
     "shell.execute_reply": "2024-01-23T17:46:36.321440Z",
     "shell.execute_reply.started": "2024-01-23T17:46:36.160868Z"
    },
    "tags": []
   },
   "outputs": [],
   "source": [
    "!cat ml-100k/p_out"
   ]
  },
  {
   "cell_type": "code",
   "execution_count": null,
   "id": "1778d14a-57f1-49d8-89ca-d2acf4a61f08",
   "metadata": {},
   "outputs": [],
   "source": []
  }
 ],
 "metadata": {
  "kernelspec": {
   "display_name": "Python 3 (ipykernel)",
   "language": "python",
   "name": "python3"
  },
  "language_info": {
   "codemirror_mode": {
    "name": "ipython",
    "version": 3
   },
   "file_extension": ".py",
   "mimetype": "text/x-python",
   "name": "python",
   "nbconvert_exporter": "python",
   "pygments_lexer": "ipython3",
   "version": "3.10.13"
  },
  "widgets": {
   "application/vnd.jupyter.widget-state+json": {
    "state": {},
    "version_major": 2,
    "version_minor": 0
   }
  }
 },
 "nbformat": 4,
 "nbformat_minor": 5
}
