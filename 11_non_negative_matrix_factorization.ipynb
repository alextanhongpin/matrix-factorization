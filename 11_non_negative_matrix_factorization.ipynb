{
 "cells": [
  {
   "cell_type": "code",
   "execution_count": 36,
   "id": "35435da5-a6d6-4c03-91d1-e8144f9dba18",
   "metadata": {
    "execution": {
     "iopub.execute_input": "2024-01-28T16:27:19.186991Z",
     "iopub.status.busy": "2024-01-28T16:27:19.185721Z",
     "iopub.status.idle": "2024-01-28T16:27:19.253055Z",
     "shell.execute_reply": "2024-01-28T16:27:19.249946Z",
     "shell.execute_reply.started": "2024-01-28T16:27:19.186941Z"
    },
    "tags": []
   },
   "outputs": [],
   "source": [
    "import matplotlib.pyplot as plt\n",
    "import numpy as np\n",
    "import pandas as pd\n",
    "import seaborn as sns\n",
    "from sklearn.decomposition import NMF\n",
    "\n",
    "sns.set_theme()"
   ]
  },
  {
   "cell_type": "code",
   "execution_count": 6,
   "id": "7442a486-1e21-47df-9cf7-a85c1e2bbeea",
   "metadata": {
    "execution": {
     "iopub.execute_input": "2024-01-28T16:14:21.434853Z",
     "iopub.status.busy": "2024-01-28T16:14:21.432220Z",
     "iopub.status.idle": "2024-01-28T16:14:21.514564Z",
     "shell.execute_reply": "2024-01-28T16:14:21.485595Z",
     "shell.execute_reply.started": "2024-01-28T16:14:21.434792Z"
    },
    "tags": []
   },
   "outputs": [],
   "source": [
    "X = np.array(\n",
    "    [[5, 3, 0, 1], [4, 0, 0, 1], [1, 1, 0, 5], [1, 0, 0, 4], [0, 1, 5, 4]],\n",
    "    dtype=np.float32,\n",
    ")\n",
    "\n",
    "model = NMF(n_components=3)\n",
    "W = model.fit_transform(X)\n",
    "H = model.components_"
   ]
  },
  {
   "cell_type": "code",
   "execution_count": 16,
   "id": "1efbe747-89e6-476e-a08a-31b724f9e295",
   "metadata": {
    "execution": {
     "iopub.execute_input": "2024-01-28T16:15:51.047087Z",
     "iopub.status.busy": "2024-01-28T16:15:51.045999Z",
     "iopub.status.idle": "2024-01-28T16:15:51.566301Z",
     "shell.execute_reply": "2024-01-28T16:15:51.565179Z",
     "shell.execute_reply.started": "2024-01-28T16:15:51.047023Z"
    },
    "tags": []
   },
   "outputs": [
    {
     "data": {
      "text/plain": [
       "<Axes: >"
      ]
     },
     "execution_count": 16,
     "metadata": {},
     "output_type": "execute_result"
    },
    {
     "data": {
      "image/png": "[encoded data removed]",
      "text/plain": [
       "<Figure size 640x480 with 2 Axes>"
      ]
     },
     "metadata": {},
     "output_type": "display_data"
    }
   ],
   "source": [
    "sns.heatmap(np.corrcoef(W @ H))"
   ]
  },
  {
   "cell_type": "code",
   "execution_count": 18,
   "id": "5abcd824-deb8-472f-9cc4-2cf77f5e4f03",
   "metadata": {
    "execution": {
     "iopub.execute_input": "2024-01-28T16:16:43.136460Z",
     "iopub.status.busy": "2024-01-28T16:16:43.135619Z",
     "iopub.status.idle": "2024-01-28T16:16:43.155068Z",
     "shell.execute_reply": "2024-01-28T16:16:43.153664Z",
     "shell.execute_reply.started": "2024-01-28T16:16:43.136406Z"
    },
    "tags": []
   },
   "outputs": [
    {
     "data": {
      "text/plain": [
       "array([[5.34, 2.14, 0.17, 1.01],\n",
       "       [3.46, 1.37, 0.  , 0.98],\n",
       "       [1.17, 0.56, 0.09, 5.01],\n",
       "       [0.85, 0.4 , 0.  , 3.99],\n",
       "       [0.  , 1.04, 4.99, 4.  ]], dtype=float32)"
      ]
     },
     "execution_count": 18,
     "metadata": {},
     "output_type": "execute_result"
    }
   ],
   "source": [
    "np.round(W @ H, 2)"
   ]
  },
  {
   "cell_type": "code",
   "execution_count": 19,
   "id": "bce38080-3983-49ed-973a-f8edb622193b",
   "metadata": {
    "execution": {
     "iopub.execute_input": "2024-01-28T16:16:45.644363Z",
     "iopub.status.busy": "2024-01-28T16:16:45.636655Z",
     "iopub.status.idle": "2024-01-28T16:16:45.690521Z",
     "shell.execute_reply": "2024-01-28T16:16:45.689064Z",
     "shell.execute_reply.started": "2024-01-28T16:16:45.644303Z"
    },
    "tags": []
   },
   "outputs": [
    {
     "data": {
      "text/plain": [
       "array([[5., 3., 0., 1.],\n",
       "       [4., 0., 0., 1.],\n",
       "       [1., 1., 0., 5.],\n",
       "       [1., 0., 0., 4.],\n",
       "       [0., 1., 5., 4.]], dtype=float32)"
      ]
     },
     "execution_count": 19,
     "metadata": {},
     "output_type": "execute_result"
    }
   ],
   "source": [
    "X"
   ]
  },
  {
   "cell_type": "markdown",
   "id": "5846be6f-4235-4d88-80f8-7f8d5353ec28",
   "metadata": {
    "execution": {
     "iopub.execute_input": "2024-01-28T16:16:51.147241Z",
     "iopub.status.busy": "2024-01-28T16:16:51.145987Z",
     "iopub.status.idle": "2024-01-28T16:16:51.262151Z",
     "shell.execute_reply": "2024-01-28T16:16:51.260613Z",
     "shell.execute_reply.started": "2024-01-28T16:16:51.147178Z"
    },
    "tags": []
   },
   "source": [
    "## Non-negative Matrix Factorization Recommender\n",
    "https://acme.byu.edu/00000179-af53-d74f-a3ff-bfdb224d0000/nmf-pdf"
   ]
  },
  {
   "cell_type": "code",
   "execution_count": 50,
   "id": "2921e3d7-e8f8-4dfb-a9b8-0386a9431a42",
   "metadata": {
    "execution": {
     "iopub.execute_input": "2024-01-28T16:30:52.118655Z",
     "iopub.status.busy": "2024-01-28T16:30:52.103171Z",
     "iopub.status.idle": "2024-01-28T16:30:52.447530Z",
     "shell.execute_reply": "2024-01-28T16:30:52.442095Z",
     "shell.execute_reply.started": "2024-01-28T16:30:52.118110Z"
    },
    "tags": []
   },
   "outputs": [
    {
     "data": {
      "text/html": [
       "<div>\n",
       "<style scoped>\n",
       "    .dataframe tbody tr th:only-of-type {\n",
       "        vertical-align: middle;\n",
       "    }\n",
       "\n",
       "    .dataframe tbody tr th {\n",
       "        vertical-align: top;\n",
       "    }\n",
       "\n",
       "    .dataframe thead th {\n",
       "        text-align: right;\n",
       "    }\n",
       "</style>\n",
       "<table border=\"1\" class=\"dataframe\">\n",
       "  <thead>\n",
       "    <tr style=\"text-align: right;\">\n",
       "      <th></th>\n",
       "      <th>John</th>\n",
       "      <th>Alice</th>\n",
       "      <th>Mary</th>\n",
       "      <th>Greg</th>\n",
       "      <th>Peter</th>\n",
       "      <th>Jennifer</th>\n",
       "    </tr>\n",
       "  </thead>\n",
       "  <tbody>\n",
       "    <tr>\n",
       "      <th>vegetables</th>\n",
       "      <td>0</td>\n",
       "      <td>1</td>\n",
       "      <td>0</td>\n",
       "      <td>1</td>\n",
       "      <td>2</td>\n",
       "      <td>2</td>\n",
       "    </tr>\n",
       "    <tr>\n",
       "      <th>fruits</th>\n",
       "      <td>2</td>\n",
       "      <td>3</td>\n",
       "      <td>1</td>\n",
       "      <td>1</td>\n",
       "      <td>2</td>\n",
       "      <td>2</td>\n",
       "    </tr>\n",
       "    <tr>\n",
       "      <th>sweets</th>\n",
       "      <td>1</td>\n",
       "      <td>1</td>\n",
       "      <td>1</td>\n",
       "      <td>0</td>\n",
       "      <td>1</td>\n",
       "      <td>1</td>\n",
       "    </tr>\n",
       "    <tr>\n",
       "      <th>bread</th>\n",
       "      <td>0</td>\n",
       "      <td>2</td>\n",
       "      <td>3</td>\n",
       "      <td>4</td>\n",
       "      <td>1</td>\n",
       "      <td>1</td>\n",
       "    </tr>\n",
       "    <tr>\n",
       "      <th>coffee</th>\n",
       "      <td>0</td>\n",
       "      <td>0</td>\n",
       "      <td>0</td>\n",
       "      <td>0</td>\n",
       "      <td>1</td>\n",
       "      <td>0</td>\n",
       "    </tr>\n",
       "  </tbody>\n",
       "</table>\n",
       "</div>"
      ],
      "text/plain": [
       "            John  Alice  Mary  Greg  Peter  Jennifer\n",
       "vegetables     0      1     0     1      2         2\n",
       "fruits         2      3     1     1      2         2\n",
       "sweets         1      1     1     0      1         1\n",
       "bread          0      2     3     4      1         1\n",
       "coffee         0      0     0     0      1         0"
      ]
     },
     "execution_count": 50,
     "metadata": {},
     "output_type": "execute_result"
    }
   ],
   "source": [
    "df = pd.DataFrame(\n",
    "    {\n",
    "        \"John\": [0, 2, 1, 0, 0],\n",
    "        \"Alice\": [1, 3, 1, 2, 0],\n",
    "        \"Mary\": [0, 1, 1, 3, 0],\n",
    "        \"Greg\": [1, 1, 0, 4, 0],\n",
    "        \"Peter\": [2, 2, 1, 1, 1],\n",
    "        \"Jennifer\": [2, 2, 1, 1, 0],\n",
    "    },\n",
    "    index=\"vegetables fruits sweets bread coffee\".split(),\n",
    ")\n",
    "df"
   ]
  },
  {
   "cell_type": "code",
   "execution_count": 53,
   "id": "163d2bcc-7799-4410-8dc2-76a5fe6d8632",
   "metadata": {
    "execution": {
     "iopub.execute_input": "2024-01-28T16:31:13.241089Z",
     "iopub.status.busy": "2024-01-28T16:31:13.238392Z",
     "iopub.status.idle": "2024-01-28T16:31:13.904759Z",
     "shell.execute_reply": "2024-01-28T16:31:13.903153Z",
     "shell.execute_reply.started": "2024-01-28T16:31:13.241045Z"
    },
    "tags": []
   },
   "outputs": [
    {
     "data": {
      "image/png": "[encoded data removed]",
      "text/plain": [
       "<Figure size 640x480 with 2 Axes>"
      ]
     },
     "metadata": {},
     "output_type": "display_data"
    }
   ],
   "source": [
    "sns.heatmap(df, annot=True)\n",
    "\n",
    "plt.yticks(rotation=0)\n",
    "pass"
   ]
  },
  {
   "cell_type": "code",
   "execution_count": 37,
   "id": "b43c1fe9-083f-41b2-b4d9-39211f7c523d",
   "metadata": {
    "execution": {
     "iopub.execute_input": "2024-01-28T16:27:23.079312Z",
     "iopub.status.busy": "2024-01-28T16:27:23.077555Z",
     "iopub.status.idle": "2024-01-28T16:27:23.099906Z",
     "shell.execute_reply": "2024-01-28T16:27:23.099033Z",
     "shell.execute_reply.started": "2024-01-28T16:27:23.079258Z"
    },
    "tags": []
   },
   "outputs": [],
   "source": [
    "model = NMF(n_components=3)\n",
    "W = model.fit_transform(df)\n",
    "H = model.components_"
   ]
  },
  {
   "cell_type": "code",
   "execution_count": 54,
   "id": "554745f9-1fb4-452b-822a-7a752836539c",
   "metadata": {
    "execution": {
     "iopub.execute_input": "2024-01-28T16:35:31.121120Z",
     "iopub.status.busy": "2024-01-28T16:35:31.110585Z",
     "iopub.status.idle": "2024-01-28T16:35:33.181642Z",
     "shell.execute_reply": "2024-01-28T16:35:33.177391Z",
     "shell.execute_reply.started": "2024-01-28T16:35:31.120914Z"
    },
    "tags": []
   },
   "outputs": [
    {
     "data": {
      "image/png": "[encoded data removed]",
      "text/plain": [
       "<Figure size 640x480 with 2 Axes>"
      ]
     },
     "metadata": {},
     "output_type": "display_data"
    }
   ],
   "source": [
    "sns.heatmap(\n",
    "    pd.DataFrame(\n",
    "        W, index=df.index, columns=[\"component 1\", \"component 2\", \"component 3\"]\n",
    "    ),\n",
    "    annot=True,\n",
    ")\n",
    "plt.yticks(rotation=0)\n",
    "pass"
   ]
  },
  {
   "cell_type": "markdown",
   "id": "941c3e05-8b87-4452-b9c4-339e82167a19",
   "metadata": {},
   "source": [
    "`W` represents how much each grocery feature contributes to each component; a higher weight means it's more important to that component."
   ]
  },
  {
   "cell_type": "code",
   "execution_count": 55,
   "id": "95b7f5cf-651a-4471-96c5-4b801ce84726",
   "metadata": {
    "execution": {
     "iopub.execute_input": "2024-01-28T16:36:46.826644Z",
     "iopub.status.busy": "2024-01-28T16:36:46.804762Z",
     "iopub.status.idle": "2024-01-28T16:36:47.702858Z",
     "shell.execute_reply": "2024-01-28T16:36:47.702026Z",
     "shell.execute_reply.started": "2024-01-28T16:36:46.826574Z"
    },
    "tags": []
   },
   "outputs": [
    {
     "data": {
      "text/html": [
       "<div>\n",
       "<style scoped>\n",
       "    .dataframe tbody tr th:only-of-type {\n",
       "        vertical-align: middle;\n",
       "    }\n",
       "\n",
       "    .dataframe tbody tr th {\n",
       "        vertical-align: top;\n",
       "    }\n",
       "\n",
       "    .dataframe thead th {\n",
       "        text-align: right;\n",
       "    }\n",
       "</style>\n",
       "<table border=\"1\" class=\"dataframe\">\n",
       "  <thead>\n",
       "    <tr style=\"text-align: right;\">\n",
       "      <th></th>\n",
       "      <th>John</th>\n",
       "      <th>Alice</th>\n",
       "      <th>Mary</th>\n",
       "      <th>Greg</th>\n",
       "      <th>Peter</th>\n",
       "      <th>Jennifer</th>\n",
       "    </tr>\n",
       "  </thead>\n",
       "  <tbody>\n",
       "    <tr>\n",
       "      <th>component 1</th>\n",
       "      <td>0.000000</td>\n",
       "      <td>2.434610</td>\n",
       "      <td>4.664494</td>\n",
       "      <td>5.577052</td>\n",
       "      <td>0.000000</td>\n",
       "      <td>0.157663</td>\n",
       "    </tr>\n",
       "    <tr>\n",
       "      <th>component 2</th>\n",
       "      <td>0.000000</td>\n",
       "      <td>0.871472</td>\n",
       "      <td>0.000000</td>\n",
       "      <td>0.846342</td>\n",
       "      <td>1.924870</td>\n",
       "      <td>1.735532</td>\n",
       "    </tr>\n",
       "    <tr>\n",
       "      <th>component 3</th>\n",
       "      <td>1.503022</td>\n",
       "      <td>1.712571</td>\n",
       "      <td>0.801863</td>\n",
       "      <td>0.151135</td>\n",
       "      <td>0.757168</td>\n",
       "      <td>0.827288</td>\n",
       "    </tr>\n",
       "  </tbody>\n",
       "</table>\n",
       "</div>"
      ],
      "text/plain": [
       "                 John     Alice      Mary      Greg     Peter  Jennifer\n",
       "component 1  0.000000  2.434610  4.664494  5.577052  0.000000  0.157663\n",
       "component 2  0.000000  0.871472  0.000000  0.846342  1.924870  1.735532\n",
       "component 3  1.503022  1.712571  0.801863  0.151135  0.757168  0.827288"
      ]
     },
     "execution_count": 56,
     "metadata": {},
     "output_type": "execute_result"
    }
   ],
   "source": [
    "sns.heatmap(\n",
    "    pd.DataFrame(\n",
    "        H, index=[\"component 1\", \"component 2\", \"component 3\"], columns=df.columns\n",
    "    ),\n",
    "    annot=True,\n",
    ")\n",
    "plt.yticks(rotation=0)\n",
    "pass"
   ]
  },
  {
   "cell_type": "markdown",
   "id": "71c8ed86-0ace-4f9f-b65d-3752f579a3c4",
   "metadata": {},
   "source": [
    "`H` is similar, except instead of showing how much each grocery category affects the components, it shows how much each person belongs to the comopnent, again with a higher weight indicating that the person belongs more in that component."
   ]
  },
  {
   "cell_type": "code",
   "execution_count": 49,
   "id": "ca1ed402-5a5b-423c-a665-82710e9fb3d2",
   "metadata": {
    "execution": {
     "iopub.execute_input": "2024-01-28T16:30:13.358761Z",
     "iopub.status.busy": "2024-01-28T16:30:13.354843Z",
     "iopub.status.idle": "2024-01-28T16:30:13.427933Z",
     "shell.execute_reply": "2024-01-28T16:30:13.426421Z",
     "shell.execute_reply.started": "2024-01-28T16:30:13.358693Z"
    },
    "tags": []
   },
   "outputs": [
    {
     "data": {
      "text/html": [
       "<div>\n",
       "<style scoped>\n",
       "    .dataframe tbody tr th:only-of-type {\n",
       "        vertical-align: middle;\n",
       "    }\n",
       "\n",
       "    .dataframe tbody tr th {\n",
       "        vertical-align: top;\n",
       "    }\n",
       "\n",
       "    .dataframe thead th {\n",
       "        text-align: right;\n",
       "    }\n",
       "</style>\n",
       "<table border=\"1\" class=\"dataframe\">\n",
       "  <thead>\n",
       "    <tr style=\"text-align: right;\">\n",
       "      <th></th>\n",
       "      <th>John</th>\n",
       "      <th>Alice</th>\n",
       "      <th>Mary</th>\n",
       "      <th>Greg</th>\n",
       "      <th>Peter</th>\n",
       "      <th>Jennifer</th>\n",
       "    </tr>\n",
       "  </thead>\n",
       "  <tbody>\n",
       "    <tr>\n",
       "      <th>vegetables</th>\n",
       "      <td>0.00</td>\n",
       "      <td>0.98</td>\n",
       "      <td>0.04</td>\n",
       "      <td>0.98</td>\n",
       "      <td>2.11</td>\n",
       "      <td>1.90</td>\n",
       "    </tr>\n",
       "    <tr>\n",
       "      <th>fruits</th>\n",
       "      <td>2.00</td>\n",
       "      <td>2.84</td>\n",
       "      <td>1.23</td>\n",
       "      <td>0.87</td>\n",
       "      <td>2.07</td>\n",
       "      <td>2.06</td>\n",
       "    </tr>\n",
       "    <tr>\n",
       "      <th>sweets</th>\n",
       "      <td>1.01</td>\n",
       "      <td>1.31</td>\n",
       "      <td>0.54</td>\n",
       "      <td>0.26</td>\n",
       "      <td>0.86</td>\n",
       "      <td>0.87</td>\n",
       "    </tr>\n",
       "    <tr>\n",
       "      <th>bread</th>\n",
       "      <td>0.00</td>\n",
       "      <td>2.01</td>\n",
       "      <td>2.99</td>\n",
       "      <td>4.01</td>\n",
       "      <td>0.99</td>\n",
       "      <td>1.00</td>\n",
       "    </tr>\n",
       "    <tr>\n",
       "      <th>coffee</th>\n",
       "      <td>0.00</td>\n",
       "      <td>0.20</td>\n",
       "      <td>0.00</td>\n",
       "      <td>0.20</td>\n",
       "      <td>0.45</td>\n",
       "      <td>0.41</td>\n",
       "    </tr>\n",
       "  </tbody>\n",
       "</table>\n",
       "</div>"
      ],
      "text/plain": [
       "            John  Alice  Mary  Greg  Peter  Jennifer\n",
       "vegetables  0.00   0.98  0.04  0.98   2.11      1.90\n",
       "fruits      2.00   2.84  1.23  0.87   2.07      2.06\n",
       "sweets      1.01   1.31  0.54  0.26   0.86      0.87\n",
       "bread       0.00   2.01  2.99  4.01   0.99      1.00\n",
       "coffee      0.00   0.20  0.00  0.20   0.45      0.41"
      ]
     },
     "execution_count": 49,
     "metadata": {},
     "output_type": "execute_result"
    }
   ],
   "source": [
    "pd.DataFrame(W @ H, index=df.index, columns=df.columns).round(2)"
   ]
  },
  {
   "cell_type": "code",
   "execution_count": 47,
   "id": "6869bbe1-86ff-4bbd-9542-8875cc0d978a",
   "metadata": {
    "execution": {
     "iopub.execute_input": "2024-01-28T16:29:50.936393Z",
     "iopub.status.busy": "2024-01-28T16:29:50.935884Z",
     "iopub.status.idle": "2024-01-28T16:29:50.961243Z",
     "shell.execute_reply": "2024-01-28T16:29:50.958704Z",
     "shell.execute_reply.started": "2024-01-28T16:29:50.936363Z"
    },
    "tags": []
   },
   "outputs": [
    {
     "data": {
      "text/html": [
       "<div>\n",
       "<style scoped>\n",
       "    .dataframe tbody tr th:only-of-type {\n",
       "        vertical-align: middle;\n",
       "    }\n",
       "\n",
       "    .dataframe tbody tr th {\n",
       "        vertical-align: top;\n",
       "    }\n",
       "\n",
       "    .dataframe thead th {\n",
       "        text-align: right;\n",
       "    }\n",
       "</style>\n",
       "<table border=\"1\" class=\"dataframe\">\n",
       "  <thead>\n",
       "    <tr style=\"text-align: right;\">\n",
       "      <th></th>\n",
       "      <th>John</th>\n",
       "      <th>Alice</th>\n",
       "      <th>Mary</th>\n",
       "      <th>Greg</th>\n",
       "      <th>Peter</th>\n",
       "      <th>Jennifer</th>\n",
       "    </tr>\n",
       "  </thead>\n",
       "  <tbody>\n",
       "    <tr>\n",
       "      <th>vegetables</th>\n",
       "      <td>0</td>\n",
       "      <td>1</td>\n",
       "      <td>0</td>\n",
       "      <td>1</td>\n",
       "      <td>2</td>\n",
       "      <td>2</td>\n",
       "    </tr>\n",
       "    <tr>\n",
       "      <th>fruits</th>\n",
       "      <td>2</td>\n",
       "      <td>3</td>\n",
       "      <td>1</td>\n",
       "      <td>1</td>\n",
       "      <td>2</td>\n",
       "      <td>2</td>\n",
       "    </tr>\n",
       "    <tr>\n",
       "      <th>sweets</th>\n",
       "      <td>1</td>\n",
       "      <td>1</td>\n",
       "      <td>1</td>\n",
       "      <td>0</td>\n",
       "      <td>1</td>\n",
       "      <td>1</td>\n",
       "    </tr>\n",
       "    <tr>\n",
       "      <th>bread</th>\n",
       "      <td>0</td>\n",
       "      <td>2</td>\n",
       "      <td>3</td>\n",
       "      <td>4</td>\n",
       "      <td>1</td>\n",
       "      <td>1</td>\n",
       "    </tr>\n",
       "    <tr>\n",
       "      <th>coffee</th>\n",
       "      <td>0</td>\n",
       "      <td>0</td>\n",
       "      <td>0</td>\n",
       "      <td>0</td>\n",
       "      <td>1</td>\n",
       "      <td>0</td>\n",
       "    </tr>\n",
       "  </tbody>\n",
       "</table>\n",
       "</div>"
      ],
      "text/plain": [
       "            John  Alice  Mary  Greg  Peter  Jennifer\n",
       "vegetables     0      1     0     1      2         2\n",
       "fruits         2      3     1     1      2         2\n",
       "sweets         1      1     1     0      1         1\n",
       "bread          0      2     3     4      1         1\n",
       "coffee         0      0     0     0      1         0"
      ]
     },
     "execution_count": 47,
     "metadata": {},
     "output_type": "execute_result"
    }
   ],
   "source": [
    "df"
   ]
  }
 ],
 "metadata": {
  "kernelspec": {
   "display_name": "Python 3 (ipykernel)",
   "language": "python",
   "name": "python3"
  },
  "language_info": {
   "codemirror_mode": {
    "name": "ipython",
    "version": 3
   },
   "file_extension": ".py",
   "mimetype": "text/x-python",
   "name": "python",
   "nbconvert_exporter": "python",
   "pygments_lexer": "ipython3",
   "version": "3.10.13"
  },
  "widgets": {
   "application/vnd.jupyter.widget-state+json": {
    "state": {},
    "version_major": 2,
    "version_minor": 0
   }
  }
 },
 "nbformat": 4,
 "nbformat_minor": 5
}
