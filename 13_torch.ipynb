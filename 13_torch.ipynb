{
 "cells": [
  {
   "cell_type": "markdown",
   "id": "90e82506-3828-49fa-9a98-872cc9965d5f",
   "metadata": {},
   "source": [
    "## Matrix Factorization\n",
    "\n",
    "https://blog.fastforwardlabs.com/2018/04/10/pytorch-for-recommenders-101.html"
   ]
  },
  {
   "cell_type": "code",
   "execution_count": 66,
   "id": "85d2ec71-a862-4a29-a80e-0a52e82e2589",
   "metadata": {
    "execution": {
     "iopub.execute_input": "2024-02-12T09:49:29.858935Z",
     "iopub.status.busy": "2024-02-12T09:49:29.857284Z",
     "iopub.status.idle": "2024-02-12T09:49:29.927103Z",
     "shell.execute_reply": "2024-02-12T09:49:29.915280Z",
     "shell.execute_reply.started": "2024-02-12T09:49:29.858873Z"
    },
    "tags": []
   },
   "outputs": [
    {
     "data": {
      "text/plain": [
       "array([[5., 3., 0., 1.],\n",
       "       [4., 0., 0., 1.],\n",
       "       [1., 1., 0., 5.],\n",
       "       [1., 0., 0., 4.],\n",
       "       [0., 1., 5., 4.]])"
      ]
     },
     "execution_count": 66,
     "metadata": {},
     "output_type": "execute_result"
    }
   ],
   "source": [
    "import numpy as np\n",
    "\n",
    "ratings = np.array(\n",
    "    [[5, 3, 0, 1], [4, 0, 0, 1], [1, 1, 0, 5], [1, 0, 0, 4], [0, 1, 5, 4]], dtype=float\n",
    ")\n",
    "ratings"
   ]
  },
  {
   "cell_type": "code",
   "execution_count": 99,
   "id": "d5246630-0703-4d3b-9802-31711493cab4",
   "metadata": {
    "execution": {
     "iopub.execute_input": "2024-02-12T09:52:47.132341Z",
     "iopub.status.busy": "2024-02-12T09:52:47.129602Z",
     "iopub.status.idle": "2024-02-12T09:52:47.150636Z",
     "shell.execute_reply": "2024-02-12T09:52:47.149770Z",
     "shell.execute_reply.started": "2024-02-12T09:52:47.132277Z"
    },
    "tags": []
   },
   "outputs": [],
   "source": [
    "import torch\n",
    "from torch.autograd import Variable\n",
    "\n",
    "\n",
    "class MatrixFactorization(torch.nn.Module):\n",
    "    def __init__(self, n_users, n_items, n_factors=3):\n",
    "        super().__init__()\n",
    "\n",
    "        self.user_factors = torch.nn.Embedding(n_users, n_factors, sparse=True)\n",
    "        self.item_factors = torch.nn.Embedding(n_items, n_factors, sparse=True)\n",
    "\n",
    "    def forward(self, user, item):\n",
    "        return (self.user_factors(user) * self.item_factors(item)).sum(1)\n",
    "\n",
    "    def predict(self, user, item):\n",
    "        return self.forward(user, item)"
   ]
  },
  {
   "cell_type": "code",
   "execution_count": 130,
   "id": "d174f7d2-476e-4e56-8fbf-ef447b329f17",
   "metadata": {
    "execution": {
     "iopub.execute_input": "2024-02-12T09:55:57.949209Z",
     "iopub.status.busy": "2024-02-12T09:55:57.947238Z",
     "iopub.status.idle": "2024-02-12T09:56:00.763412Z",
     "shell.execute_reply": "2024-02-12T09:56:00.762240Z",
     "shell.execute_reply.started": "2024-02-12T09:55:57.949127Z"
    },
    "tags": []
   },
   "outputs": [],
   "source": [
    "n_users = len(ratings)\n",
    "n_items = len(ratings[0])\n",
    "model = MatrixFactorization(n_users, n_items, n_factors=3)\n",
    "loss_fn = torch.nn.MSELoss()\n",
    "optimizer = torch.optim.SGD(model.parameters(), lr=1e-3)\n",
    "\n",
    "for i in range(500):\n",
    "    done = False\n",
    "    for user, item in zip(*ratings.nonzero()):\n",
    "        # get user, item and rating data\n",
    "        rating = Variable(torch.FloatTensor([ratings[user, item]]))\n",
    "        user = Variable(torch.LongTensor([int(user)]))\n",
    "        item = Variable(torch.LongTensor([int(item)]))\n",
    "\n",
    "        # predict\n",
    "        prediction = model(user, item)\n",
    "        loss = loss_fn(prediction, rating)\n",
    "        optimizer.zero_grad()\n",
    "\n",
    "        # backpropagate\n",
    "        loss.backward()\n",
    "\n",
    "        # update weights\n",
    "        optimizer.step()"
   ]
  },
  {
   "cell_type": "code",
   "execution_count": 131,
   "id": "a32d2829-c0a4-45f2-8aa6-392f53bd6216",
   "metadata": {
    "execution": {
     "iopub.execute_input": "2024-02-12T09:56:00.765498Z",
     "iopub.status.busy": "2024-02-12T09:56:00.765177Z",
     "iopub.status.idle": "2024-02-12T09:56:00.803741Z",
     "shell.execute_reply": "2024-02-12T09:56:00.795878Z",
     "shell.execute_reply.started": "2024-02-12T09:56:00.765473Z"
    },
    "tags": []
   },
   "outputs": [
    {
     "data": {
      "text/plain": [
       "array([[ 5.03,  2.9 ,  3.15,  1.01],\n",
       "       [ 4.  , -2.1 , -1.68,  1.02],\n",
       "       [ 0.97,  1.12,  5.62,  4.94],\n",
       "       [ 1.01,  0.21,  3.79,  3.97],\n",
       "       [-0.94,  0.95,  4.93,  4.11]])"
      ]
     },
     "execution_count": 131,
     "metadata": {},
     "output_type": "execute_result"
    }
   ],
   "source": [
    "predicted_ratings = np.zeros((n_users, n_items))\n",
    "for u in range(n_users):\n",
    "    for i in range(n_items):\n",
    "        predicted_ratings[u, i] = model.predict(\n",
    "            torch.LongTensor([u]), torch.LongTensor([i])\n",
    "        )\n",
    "np.round(predicted_ratings, 2)"
   ]
  },
  {
   "cell_type": "code",
   "execution_count": 126,
   "id": "9b7830a2-d2e9-45b9-886b-9562b7fe3763",
   "metadata": {
    "execution": {
     "iopub.execute_input": "2024-02-12T09:55:37.659970Z",
     "iopub.status.busy": "2024-02-12T09:55:37.659516Z",
     "iopub.status.idle": "2024-02-12T09:55:37.671057Z",
     "shell.execute_reply": "2024-02-12T09:55:37.668513Z",
     "shell.execute_reply.started": "2024-02-12T09:55:37.659936Z"
    },
    "tags": []
   },
   "outputs": [
    {
     "data": {
      "text/plain": [
       "array([[5., 3., 0., 1.],\n",
       "       [4., 0., 0., 1.],\n",
       "       [1., 1., 0., 5.],\n",
       "       [1., 0., 0., 4.],\n",
       "       [0., 1., 5., 4.]])"
      ]
     },
     "execution_count": 126,
     "metadata": {},
     "output_type": "execute_result"
    }
   ],
   "source": [
    "np.round(ratings, 2)"
   ]
  },
  {
   "cell_type": "markdown",
   "id": "cdaa1138-f7f5-494c-bffd-e5cf3278b408",
   "metadata": {},
   "source": [
    "## Dense Feedforward Neural Network"
   ]
  },
  {
   "cell_type": "code",
   "execution_count": 137,
   "id": "46462655-d2c5-4824-a5e8-f8c8a382f493",
   "metadata": {
    "execution": {
     "iopub.execute_input": "2024-02-12T11:22:15.943232Z",
     "iopub.status.busy": "2024-02-12T11:22:15.942812Z",
     "iopub.status.idle": "2024-02-12T11:22:15.978999Z",
     "shell.execute_reply": "2024-02-12T11:22:15.958886Z",
     "shell.execute_reply.started": "2024-02-12T11:22:15.943201Z"
    },
    "tags": []
   },
   "outputs": [],
   "source": [
    "import torch\n",
    "import torch.nn.functional as F\n",
    "from torch.autograd import Variable\n",
    "\n",
    "\n",
    "class DenseNet(torch.nn.Module):\n",
    "    def __init__(self, n_users, n_items, n_factors, H1, D_out):\n",
    "        super().__init__()\n",
    "        self.user_factors = torch.nn.Embedding(n_users, n_factors)\n",
    "        self.item_factors = torch.nn.Embedding(n_items, n_factors)\n",
    "        self.linear1 = torch.nn.Linear(n_factors * 2, H1)\n",
    "        self.linear2 = torch.nn.Linear(H1, D_out)\n",
    "\n",
    "    def forward(self, users, items):\n",
    "        users_embedding = self.user_factors(users)\n",
    "        items_embedding = self.item_factors(items)\n",
    "        # Concatenate users and items embeddings to form input.\n",
    "        X = torch.cat([users_embedding, items_embedding], 1)\n",
    "        h1_relu = F.relu(self.linear1(X))\n",
    "        output_scores = self.linear2(h1_relu)\n",
    "        return output_scores\n",
    "\n",
    "    def predict(self, users, items):\n",
    "        output_scores = self.forward(users, items)\n",
    "        return output_scores"
   ]
  },
  {
   "cell_type": "code",
   "execution_count": 152,
   "id": "7b426b64-1554-43db-a560-5ea8c00a5614",
   "metadata": {
    "execution": {
     "iopub.execute_input": "2024-02-12T11:23:56.969772Z",
     "iopub.status.busy": "2024-02-12T11:23:56.965439Z",
     "iopub.status.idle": "2024-02-12T11:24:01.869375Z",
     "shell.execute_reply": "2024-02-12T11:24:01.868017Z",
     "shell.execute_reply.started": "2024-02-12T11:23:56.969644Z"
    },
    "tags": []
   },
   "outputs": [],
   "source": [
    "n_users = len(ratings)\n",
    "n_items = len(ratings[0])\n",
    "n_factors = 3\n",
    "H1 = 16\n",
    "D_out = 1\n",
    "model = DenseNet(n_users, n_items, n_factors, H1, D_out)\n",
    "loss_fn = torch.nn.MSELoss()\n",
    "optimizer = torch.optim.SGD(model.parameters(), lr=1e-3)\n",
    "\n",
    "for i in range(500):\n",
    "    done = False\n",
    "    for user, item in zip(*ratings.nonzero()):\n",
    "        # get user, item and rating data\n",
    "        rating = Variable(torch.FloatTensor([ratings[user, item]]))\n",
    "        user = Variable(torch.LongTensor([int(user)]))\n",
    "        item = Variable(torch.LongTensor([int(item)]))\n",
    "\n",
    "        # predict\n",
    "        prediction = model(user, item)\n",
    "        loss = loss_fn(prediction, rating)\n",
    "        optimizer.zero_grad()\n",
    "\n",
    "        # backpropagate\n",
    "        loss.backward()\n",
    "\n",
    "        # update weights\n",
    "        optimizer.step()"
   ]
  },
  {
   "cell_type": "code",
   "execution_count": 153,
   "id": "f96ac0c1-8501-4ca6-bedd-c400f45ff40b",
   "metadata": {
    "execution": {
     "iopub.execute_input": "2024-02-12T11:24:01.873046Z",
     "iopub.status.busy": "2024-02-12T11:24:01.872610Z",
     "iopub.status.idle": "2024-02-12T11:24:01.943287Z",
     "shell.execute_reply": "2024-02-12T11:24:01.915365Z",
     "shell.execute_reply.started": "2024-02-12T11:24:01.873005Z"
    },
    "tags": []
   },
   "outputs": [
    {
     "data": {
      "text/plain": [
       "array([[4.97, 3.01, 5.25, 1.05],\n",
       "       [4.01, 2.54, 4.42, 0.99],\n",
       "       [1.01, 1.  , 1.13, 5.02],\n",
       "       [1.  , 0.94, 1.49, 3.96],\n",
       "       [3.89, 0.99, 5.01, 4.01]])"
      ]
     },
     "execution_count": 153,
     "metadata": {},
     "output_type": "execute_result"
    }
   ],
   "source": [
    "predicted_ratings = np.zeros((n_users, n_items))\n",
    "for u in range(n_users):\n",
    "    for i in range(n_items):\n",
    "        predicted_ratings[u, i] = model.predict(\n",
    "            torch.LongTensor([u]), torch.LongTensor([i])\n",
    "        )\n",
    "np.round(predicted_ratings, 2)"
   ]
  },
  {
   "cell_type": "code",
   "execution_count": 154,
   "id": "ee08d995-8c9e-45b9-9257-f50600e6f11b",
   "metadata": {
    "execution": {
     "iopub.execute_input": "2024-02-12T11:24:01.951707Z",
     "iopub.status.busy": "2024-02-12T11:24:01.948688Z",
     "iopub.status.idle": "2024-02-12T11:24:02.007162Z",
     "shell.execute_reply": "2024-02-12T11:24:02.005658Z",
     "shell.execute_reply.started": "2024-02-12T11:24:01.951644Z"
    },
    "tags": []
   },
   "outputs": [
    {
     "data": {
      "text/plain": [
       "array([[5., 3., 0., 1.],\n",
       "       [4., 0., 0., 1.],\n",
       "       [1., 1., 0., 5.],\n",
       "       [1., 0., 0., 4.],\n",
       "       [0., 1., 5., 4.]])"
      ]
     },
     "execution_count": 154,
     "metadata": {},
     "output_type": "execute_result"
    }
   ],
   "source": [
    "np.round(ratings, 2)"
   ]
  },
  {
   "cell_type": "code",
   "execution_count": 160,
   "id": "f91922db-fe55-4f96-82b3-b61e83d71342",
   "metadata": {
    "execution": {
     "iopub.execute_input": "2024-02-12T11:25:31.540688Z",
     "iopub.status.busy": "2024-02-12T11:25:31.539989Z",
     "iopub.status.idle": "2024-02-12T11:25:31.561988Z",
     "shell.execute_reply": "2024-02-12T11:25:31.561132Z",
     "shell.execute_reply.started": "2024-02-12T11:25:31.540616Z"
    },
    "tags": []
   },
   "outputs": [
    {
     "data": {
      "text/plain": [
       "tensor(0.0005)"
      ]
     },
     "execution_count": 160,
     "metadata": {},
     "output_type": "execute_result"
    }
   ],
   "source": [
    "loss_fn(\n",
    "    torch.Tensor(predicted_ratings[ratings.nonzero()]),\n",
    "    torch.Tensor(ratings[ratings.nonzero()]),\n",
    ")"
   ]
  }
 ],
 "metadata": {
  "kernelspec": {
   "display_name": "Python 3 (ipykernel)",
   "language": "python",
   "name": "python3"
  },
  "language_info": {
   "codemirror_mode": {
    "name": "ipython",
    "version": 3
   },
   "file_extension": ".py",
   "mimetype": "text/x-python",
   "name": "python",
   "nbconvert_exporter": "python",
   "pygments_lexer": "ipython3",
   "version": "3.10.13"
  },
  "widgets": {
   "application/vnd.jupyter.widget-state+json": {
    "state": {},
    "version_major": 2,
    "version_minor": 0
   }
  }
 },
 "nbformat": 4,
 "nbformat_minor": 5
}
